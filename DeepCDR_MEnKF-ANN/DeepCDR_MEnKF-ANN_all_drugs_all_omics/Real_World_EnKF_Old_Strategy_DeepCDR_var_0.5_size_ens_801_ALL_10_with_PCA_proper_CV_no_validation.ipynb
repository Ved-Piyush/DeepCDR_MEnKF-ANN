{
 "cells": [
  {
   "cell_type": "code",
   "execution_count": 1,
   "id": "d7ab5bf3",
   "metadata": {},
   "outputs": [],
   "source": [
    "import pandas as pd\n",
    "from tqdm import tqdm\n",
    "# import gensim\n",
    "import os\n",
    "os.environ['TF_CPP_MIN_LOG_LEVEL'] = '3' \n",
    "from joblib import Parallel, delayed\n",
    "import sys\n",
    "from scipy.stats import norm"
   ]
  },
  {
   "cell_type": "code",
   "execution_count": 2,
   "id": "36084258",
   "metadata": {},
   "outputs": [
    {
     "name": "stdout",
     "output_type": "stream",
     "text": [
      "No GPU found\n"
     ]
    }
   ],
   "source": [
    "# Seed value\n",
    "# Apparently you may use different seed values at each stage\n",
    "seed_value= 42\n",
    "\n",
    "# 1. Set the `PYTHONHASHSEED` environment variable at a fixed value\n",
    "import os\n",
    "os.environ['PYTHONHASHSEED']=str(seed_value)\n",
    "\n",
    "# 2. Set the `python` built-in pseudo-random generator at a fixed value\n",
    "import random\n",
    "random.seed(seed_value)\n",
    "\n",
    "# 3. Set the `numpy` pseudo-random generator at a fixed value\n",
    "import numpy as np\n",
    "np.random.seed(seed_value)\n",
    "\n",
    "# # 4. Set the `tensorflow` pseudo-random generator at a fixed value\n",
    "import tensorflow as tf\n",
    "os.environ['CUDA_VISIBLE_DEVICES'] = '-1'\n",
    "\n",
    "if tf.test.gpu_device_name():\n",
    "    print('GPU found')\n",
    "else:\n",
    "    print(\"No GPU found\")\n",
    "# tf.config.set_visible_devices([], 'GPU')\n",
    "\n",
    "from tqdm.notebook import tqdm\n",
    "tf.random.set_seed(seed_value)\n",
    "import multiprocessing\n"
   ]
  },
  {
   "cell_type": "code",
   "execution_count": 3,
   "id": "e036b858",
   "metadata": {},
   "outputs": [],
   "source": [
    "import matplotlib.pyplot as plt\n",
    "\n",
    "import pickle"
   ]
  },
  {
   "cell_type": "code",
   "execution_count": 4,
   "id": "a1221543-b1fd-4225-91c9-1f372ac315e3",
   "metadata": {},
   "outputs": [],
   "source": [
    "path = os.getcwd() + \"//dataset_1\""
   ]
  },
  {
   "cell_type": "code",
   "execution_count": 5,
   "id": "6dd7d977-20bc-4012-a710-291b706cf0a2",
   "metadata": {},
   "outputs": [],
   "source": [
    "# ## read in all the drug features\n",
    "# ## for train test and valid\n",
    "train_drugs = np.load(path + \"//\" + \"train_drug.npy\")"
   ]
  },
  {
   "cell_type": "code",
   "execution_count": 6,
   "id": "d8ad0799-99d9-435f-923d-a77cebe3986e",
   "metadata": {},
   "outputs": [],
   "source": [
    "idxs = list(set(range(0, train_drugs.shape[1])).difference(range(30,60)))"
   ]
  },
  {
   "cell_type": "code",
   "execution_count": 7,
   "id": "62c9e28e-57e1-4989-9377-779597ab9187",
   "metadata": {},
   "outputs": [],
   "source": [
    "train_omics = np.load(path + \"//\" + \"train_omics.npy\")[:, idxs]"
   ]
  },
  {
   "cell_type": "code",
   "execution_count": 8,
   "id": "44ebb88c-545f-4e3f-b770-a2217cf4151c",
   "metadata": {},
   "outputs": [
    {
     "data": {
      "text/plain": [
       "(500, 60)"
      ]
     },
     "execution_count": 8,
     "metadata": {},
     "output_type": "execute_result"
    }
   ],
   "source": [
    "train_omics.shape"
   ]
  },
  {
   "cell_type": "code",
   "execution_count": 9,
   "id": "bf5e1d3d-dd3c-45fb-a82b-4195c53d6243",
   "metadata": {},
   "outputs": [],
   "source": [
    "train_omics1 = np.load(path + \"//\" + \"train_omics.npy\")"
   ]
  },
  {
   "cell_type": "code",
   "execution_count": 10,
   "id": "76624ecc-8bb7-4e52-b95d-1a01cecacb5b",
   "metadata": {},
   "outputs": [],
   "source": [
    "def ann(hidden = 10, input_shape = 60): \n",
    "    input_layer = tf.keras.layers.Input(shape = (input_shape))\n",
    "    hidden_layer = tf.keras.layers.Dense(hidden)\n",
    "    hidden_output = hidden_layer(input_layer)\n",
    "    pred_layer = tf.keras.layers.Dense(1)\n",
    "    pred_output = pred_layer(hidden_output)\n",
    "#     pred_output = tf.keras.layers.Activation(\"softmax\")(pred_output)\n",
    "    model = tf.keras.models.Model(input_layer, pred_output)\n",
    "    return model"
   ]
  },
  {
   "cell_type": "code",
   "execution_count": 11,
   "id": "b8153ea5-cefc-4075-994d-c51461505e8b",
   "metadata": {},
   "outputs": [],
   "source": [
    "# X_train_word2vec = train_drugs"
   ]
  },
  {
   "cell_type": "code",
   "execution_count": 12,
   "id": "95a7d5f5-e03c-4de4-8bea-d4821cc7209d",
   "metadata": {},
   "outputs": [],
   "source": [
    "h1, h2 = 16,16"
   ]
  },
  {
   "cell_type": "code",
   "execution_count": 13,
   "id": "b2ff179a-2c64-4bae-bfd5-3ce7f4b40fb5",
   "metadata": {},
   "outputs": [],
   "source": [
    "\n",
    "\n",
    "ann_15 = ann(h1)\n",
    "\n",
    "\n",
    "# In[35]:\n",
    "\n",
    "\n",
    "# ann_15.summary()\n",
    "\n",
    "\n",
    "# In[36]:\n",
    "\n"
   ]
  },
  {
   "cell_type": "code",
   "execution_count": 14,
   "id": "0bf5144e-59f2-413e-af30-39407819094c",
   "metadata": {},
   "outputs": [
    {
     "name": "stdout",
     "output_type": "stream",
     "text": [
      "Model: \"model\"\n",
      "_________________________________________________________________\n",
      " Layer (type)                Output Shape              Param #   \n",
      "=================================================================\n",
      " input_1 (InputLayer)        [(None, 60)]              0         \n",
      "                                                                 \n",
      " dense (Dense)               (None, 16)                976       \n",
      "                                                                 \n",
      " dense_1 (Dense)             (None, 1)                 17        \n",
      "                                                                 \n",
      "=================================================================\n",
      "Total params: 993\n",
      "Trainable params: 993\n",
      "Non-trainable params: 0\n",
      "_________________________________________________________________\n"
     ]
    }
   ],
   "source": [
    "ann_15.summary()"
   ]
  },
  {
   "cell_type": "code",
   "execution_count": 15,
   "id": "a9c45b5a-9f13-4fd9-b90c-ed94e069b9cc",
   "metadata": {},
   "outputs": [],
   "source": [
    "# X_train_word2vec = train_omics"
   ]
  },
  {
   "cell_type": "code",
   "execution_count": 16,
   "id": "bce5668e-a895-47b4-8f1c-6e5d1fd3c92b",
   "metadata": {},
   "outputs": [],
   "source": [
    "ann_20 = ann(h2, 60)\n",
    "\n",
    "\n",
    "\n",
    "# ann_20.summary()\n",
    "\n"
   ]
  },
  {
   "cell_type": "code",
   "execution_count": 17,
   "id": "6a41f8b5",
   "metadata": {},
   "outputs": [],
   "source": [
    "total_weights_1 = ann_15.count_params()"
   ]
  },
  {
   "cell_type": "code",
   "execution_count": 18,
   "id": "0721ea37",
   "metadata": {},
   "outputs": [],
   "source": [
    "total_weights_2 = ann_20.count_params()"
   ]
  },
  {
   "cell_type": "code",
   "execution_count": 19,
   "id": "4b2ed894",
   "metadata": {},
   "outputs": [],
   "source": [
    "total_weights = total_weights_1 + total_weights_2 + 1 "
   ]
  },
  {
   "cell_type": "code",
   "execution_count": 20,
   "id": "999f5e96",
   "metadata": {},
   "outputs": [
    {
     "data": {
      "text/plain": [
       "1987"
      ]
     },
     "execution_count": 20,
     "metadata": {},
     "output_type": "execute_result"
    }
   ],
   "source": [
    "total_weights"
   ]
  },
  {
   "cell_type": "code",
   "execution_count": 21,
   "id": "feb2ef89",
   "metadata": {},
   "outputs": [],
   "source": [
    "## batch size\n",
    "batch_size = 128"
   ]
  },
  {
   "cell_type": "code",
   "execution_count": 22,
   "id": "4eea8c8e",
   "metadata": {},
   "outputs": [],
   "source": [
    "# var_weights = 0.08\n",
    "# var_targets = 0.08"
   ]
  },
  {
   "cell_type": "code",
   "execution_count": 23,
   "id": "9b49ba9c",
   "metadata": {},
   "outputs": [],
   "source": [
    "from scipy.stats import multivariate_normal as mvn"
   ]
  },
  {
   "cell_type": "code",
   "execution_count": 24,
   "id": "7a60a350",
   "metadata": {},
   "outputs": [],
   "source": [
    "from scipy.stats import invgamma, norm"
   ]
  },
  {
   "cell_type": "code",
   "execution_count": 25,
   "id": "bd888262",
   "metadata": {},
   "outputs": [],
   "source": [
    "from tqdm.notebook import tqdm"
   ]
  },
  {
   "cell_type": "code",
   "execution_count": 26,
   "id": "c3355c48",
   "metadata": {},
   "outputs": [],
   "source": [
    "threshold = 5"
   ]
  },
  {
   "cell_type": "code",
   "execution_count": 27,
   "id": "b1ce82b7",
   "metadata": {},
   "outputs": [],
   "source": [
    "import random"
   ]
  },
  {
   "cell_type": "code",
   "execution_count": 28,
   "id": "7425ecc5",
   "metadata": {},
   "outputs": [],
   "source": [
    "lr = 0.1"
   ]
  },
  {
   "cell_type": "code",
   "execution_count": 29,
   "id": "b7959ab1",
   "metadata": {},
   "outputs": [],
   "source": [
    "import numpy as np"
   ]
  },
  {
   "cell_type": "code",
   "execution_count": 30,
   "id": "1db4063f",
   "metadata": {},
   "outputs": [],
   "source": [
    "weights_ann_1 = ann_15.get_weights()\n",
    "weights_ann_2 = ann_20.get_weights()"
   ]
  },
  {
   "cell_type": "code",
   "execution_count": 31,
   "id": "43a211df",
   "metadata": {},
   "outputs": [],
   "source": [
    "def get_targets_with_weights(batch_data, batch_data1, initial_ensembles, log_sigma_points_1): \n",
    "\n",
    "    n_hidden_1 = len(weights_ann_1[0].ravel())\n",
    "\n",
    "    hidden_weights_1 = initial_ensembles[:,:n_hidden_1].reshape( size_ens, batch_data.shape[1], h1)\n",
    "\n",
    "    \n",
    "    hidden_output_1 = np.einsum('ij,kjl->kil', batch_data, hidden_weights_1)\n",
    "\n",
    "    \n",
    "    hidden_layer_bias_1 = initial_ensembles[:,n_hidden_1:(n_hidden_1 + h1)].reshape(size_ens, 1,  h1)\n",
    "\n",
    "\n",
    "\n",
    "    hidden_output_1 = hidden_output_1 + hidden_layer_bias_1\n",
    "\n",
    "    n_pred_weights_1 = len(weights_ann_1[2].ravel())\n",
    "\n",
    "    output_weights_1 = initial_ensembles[:,(n_hidden_1 + h1):(n_hidden_1 + h1 + n_pred_weights_1) ].reshape(size_ens, h1, 1)\n",
    "\n",
    "    output_1 = np.einsum('ijk,ikl->ijl', hidden_output_1, output_weights_1)\n",
    "\n",
    "\n",
    "    output_layer_bias_1 = initial_ensembles[:,(n_hidden_1 + h1 + n_pred_weights_1):(n_hidden_1 + h1 + n_pred_weights_1 + 1)].reshape(size_ens, 1, 1)\n",
    "\n",
    "\n",
    "\n",
    "    final_output_1 = output_1 + output_layer_bias_1\n",
    "\n",
    "    n_hidden_2 = len(weights_ann_2[0].ravel())\n",
    "\n",
    "    initial_ensembles_1 = initial_ensembles.copy()[:, total_weights_1:(total_weights_1+ total_weights_2)]\n",
    "    \n",
    "    # print(batch_data1.shape[1])\n",
    "    \n",
    "    \n",
    "    hidden_weights_2 = initial_ensembles_1[:,:n_hidden_2].reshape(size_ens, batch_data1.shape[1], h2)\n",
    "\n",
    "\n",
    "\n",
    "    hidden_output_2 = np.einsum('ij,kjl->kil', batch_data1, hidden_weights_2)\n",
    "\n",
    "    hidden_layer_bias_2 = initial_ensembles[:,n_hidden_2:(n_hidden_2 + h2)].reshape(size_ens, 1,  h2)\n",
    "\n",
    "    hidden_output_2 = hidden_output_2+ hidden_layer_bias_2\n",
    "\n",
    "    n_pred_weights_2 = len(weights_ann_2[2].ravel())\n",
    "\n",
    "    output_weights_2 = initial_ensembles_1[:,(n_hidden_2 + h2):(n_hidden_2 + h2 + n_pred_weights_2) ].reshape(size_ens, h2, 1)\n",
    "\n",
    "\n",
    "    output_2 = np.einsum('ijk,ikl->ijl', hidden_output_2, output_weights_2)\n",
    "\n",
    "\n",
    "    output_layer_bias_2 = initial_ensembles_1[:,(n_hidden_2 + h2 + n_pred_weights_2):(n_hidden_2 + h2 + n_pred_weights_2 + 1)].reshape(size_ens, 1, 1)\n",
    "\n",
    "\n",
    "    final_output_2 = output_2 + output_layer_bias_2\n",
    "\n",
    "\n",
    "    weights_1 = initial_ensembles[:, :total_weights_1]\n",
    "\n",
    "    weights_2 = initial_ensembles[:, total_weights_1:(total_weights_1 + total_weights_2)]\n",
    "\n",
    "\n",
    "    avg_weights = initial_ensembles[:, -1].reshape(-1,1)\n",
    "\n",
    "    avg_weights_sig = expit(avg_weights)\n",
    "    \n",
    "    avg_weights_sig = avg_weights_sig.reshape(avg_weights_sig.shape[0], 1, avg_weights_sig.shape[1])\n",
    "    \n",
    "    complement_weights_sig = 1 - expit(avg_weights)\n",
    "    \n",
    "    complement_weights_sig = complement_weights_sig.reshape(complement_weights_sig.shape[0], 1, complement_weights_sig.shape[1])\n",
    "\n",
    "    final_output_1 = final_output_1*complement_weights_sig\n",
    "    \n",
    "    final_output_2 = final_output_2*avg_weights_sig\n",
    "    \n",
    "    output_1_ravel = final_output_1.reshape(size_ens, final_output_1.shape[1]*final_output_1.shape[2])\n",
    "\n",
    "    output_2_ravel = final_output_2.reshape(size_ens, final_output_2.shape[1]*final_output_2.shape[2])\n",
    "\n",
    "\n",
    "    output_1_ravel = output_1_ravel\n",
    "\n",
    "    output_2_ravel = output_2_ravel\n",
    "\n",
    "\n",
    "\n",
    "    weights_1_add = np.zeros((size_ens, (total_weights_2 - total_weights_1)))\n",
    "\n",
    "\n",
    "\n",
    "    weights_1 = np.hstack((weights_1, weights_1_add))\n",
    "    \n",
    "\n",
    "\n",
    "    stack_1 = np.hstack((output_1_ravel, weights_1, np.repeat(0, size_ens).reshape(-1,1), np.repeat(0, size_ens).reshape(-1,1)))\n",
    "\n",
    "\n",
    "\n",
    "    \n",
    "    stack_2 = np.hstack((output_2_ravel, weights_2, avg_weights, log_sigma_points_1))\n",
    "\n",
    "    \n",
    "    initial_aug_state = np.hstack((stack_1, stack_2)) \n",
    "    \n",
    "\n",
    "    return initial_aug_state , output_1_ravel, output_2_ravel, log_sigma_points_1\n",
    "\n"
   ]
  },
  {
   "cell_type": "code",
   "execution_count": 32,
   "id": "4e3ef6e6",
   "metadata": {},
   "outputs": [],
   "source": [
    "import time"
   ]
  },
  {
   "cell_type": "code",
   "execution_count": 33,
   "id": "0eabfdd4",
   "metadata": {},
   "outputs": [],
   "source": [
    "from scipy.stats import multivariate_normal as mvn"
   ]
  },
  {
   "cell_type": "code",
   "execution_count": 34,
   "id": "b982682f",
   "metadata": {},
   "outputs": [],
   "source": [
    "var_weights =1"
   ]
  },
  {
   "cell_type": "code",
   "execution_count": 35,
   "id": "10d77915",
   "metadata": {},
   "outputs": [],
   "source": [
    "from scipy.stats import multivariate_normal as mvn"
   ]
  },
  {
   "cell_type": "code",
   "execution_count": 36,
   "id": "a2a6de67",
   "metadata": {},
   "outputs": [],
   "source": [
    "reduction = 15\n",
    "# reduction = 10"
   ]
  },
  {
   "cell_type": "code",
   "execution_count": 37,
   "id": "471e3306",
   "metadata": {},
   "outputs": [],
   "source": [
    "shape_needed = total_weights//reduction"
   ]
  },
  {
   "cell_type": "code",
   "execution_count": 38,
   "id": "63796187",
   "metadata": {},
   "outputs": [],
   "source": [
    "size_ens = shape_needed"
   ]
  },
  {
   "cell_type": "code",
   "execution_count": 39,
   "id": "6aee42b8",
   "metadata": {},
   "outputs": [],
   "source": [
    "size_ens = int(size_ens)"
   ]
  },
  {
   "cell_type": "code",
   "execution_count": 40,
   "id": "bc234219",
   "metadata": {},
   "outputs": [
    {
     "data": {
      "text/plain": [
       "132"
      ]
     },
     "execution_count": 40,
     "metadata": {},
     "output_type": "execute_result"
    }
   ],
   "source": [
    "size_ens"
   ]
  },
  {
   "cell_type": "code",
   "execution_count": 41,
   "id": "ebeb0869-7f0b-4f21-be63-0234896af39f",
   "metadata": {},
   "outputs": [],
   "source": [
    "# train_fudged_probs"
   ]
  },
  {
   "cell_type": "code",
   "execution_count": 42,
   "id": "23d87ffe",
   "metadata": {},
   "outputs": [],
   "source": [
    "import matplotlib.pyplot as plt"
   ]
  },
  {
   "cell_type": "code",
   "execution_count": 43,
   "id": "f5427e43",
   "metadata": {},
   "outputs": [],
   "source": [
    "from scipy.special import expit"
   ]
  },
  {
   "cell_type": "code",
   "execution_count": 44,
   "id": "be0ee1ec",
   "metadata": {},
   "outputs": [],
   "source": [
    "# catch1[0][0]"
   ]
  },
  {
   "cell_type": "code",
   "execution_count": 45,
   "id": "fb492324",
   "metadata": {},
   "outputs": [],
   "source": [
    "# catch_train_logits_second[0]"
   ]
  },
  {
   "cell_type": "code",
   "execution_count": 45,
   "id": "0c2dbaec-3249-404a-9971-c2fc17f68356",
   "metadata": {},
   "outputs": [],
   "source": [
    "from datetime import datetime"
   ]
  },
  {
   "cell_type": "code",
   "execution_count": 46,
   "id": "9cf12935",
   "metadata": {},
   "outputs": [],
   "source": [
    "def expit(x):\n",
    "    \"\"\"Compute softmax values for each sets of scores in x.\"\"\"\n",
    "#     e_x = np.exp(x - np.max(x))\n",
    "    return 1 / (1 + np.exp(-x))"
   ]
  },
  {
   "cell_type": "code",
   "execution_count": 47,
   "id": "ef051014",
   "metadata": {},
   "outputs": [],
   "source": [
    "from scipy.stats import gamma"
   ]
  },
  {
   "cell_type": "code",
   "execution_count": 48,
   "id": "1969c78b-c105-482a-a957-e81329037a09",
   "metadata": {},
   "outputs": [],
   "source": [
    "use_cores = multiprocessing.cpu_count()-1"
   ]
  },
  {
   "cell_type": "code",
   "execution_count": 49,
   "id": "6a062f7f",
   "metadata": {},
   "outputs": [
    {
     "data": {
      "text/plain": [
       "47"
      ]
     },
     "execution_count": 49,
     "metadata": {},
     "output_type": "execute_result"
    }
   ],
   "source": [
    "use_cores"
   ]
  },
  {
   "cell_type": "code",
   "execution_count": 50,
   "id": "881d1612-f98f-4df6-89b0-90bd2e97de4f",
   "metadata": {},
   "outputs": [],
   "source": [
    "from datetime import datetime"
   ]
  },
  {
   "cell_type": "code",
   "execution_count": 51,
   "id": "ac0108fa-359e-4d88-ba02-776a6f19b906",
   "metadata": {},
   "outputs": [],
   "source": [
    "from sklearn.metrics import mean_squared_error"
   ]
  },
  {
   "cell_type": "code",
   "execution_count": 52,
   "id": "6cd29e03-d778-4eeb-98b5-de815840cb5c",
   "metadata": {},
   "outputs": [],
   "source": [
    "import random"
   ]
  },
  {
   "cell_type": "code",
   "execution_count": 53,
   "id": "fa106e5e-7f8f-4620-9a16-43194267fcdc",
   "metadata": {},
   "outputs": [],
   "source": [
    "gamma_param = 500"
   ]
  },
  {
   "cell_type": "code",
   "execution_count": 54,
   "id": "cc0be1b1",
   "metadata": {},
   "outputs": [],
   "source": [
    "from scipy import stats"
   ]
  },
  {
   "cell_type": "code",
   "execution_count": 55,
   "id": "b49d0934-faa0-428b-8dc7-e53323a26372",
   "metadata": {},
   "outputs": [],
   "source": [
    "from scipy.stats import pearsonr"
   ]
  },
  {
   "cell_type": "code",
   "execution_count": 56,
   "id": "32c8a131-8350-4278-bdfe-b582314c2e41",
   "metadata": {},
   "outputs": [],
   "source": [
    "var_targetsw = 0.02"
   ]
  },
  {
   "cell_type": "code",
   "execution_count": 57,
   "id": "0d5734d0-e75c-436e-bdea-6d5c8223754a",
   "metadata": {},
   "outputs": [],
   "source": [
    "from sklearn.model_selection import train_test_split"
   ]
  },
  {
   "cell_type": "code",
   "execution_count": 58,
   "id": "25586772-a3e4-4d5e-b745-6495023e37d5",
   "metadata": {},
   "outputs": [],
   "source": [
    "from sklearn.model_selection import KFold"
   ]
  },
  {
   "cell_type": "code",
   "execution_count": 59,
   "id": "68cd3014-27c9-4679-ad04-2460dc740124",
   "metadata": {},
   "outputs": [],
   "source": [
    "# train_drugs.shape"
   ]
  },
  {
   "cell_type": "code",
   "execution_count": 60,
   "id": "75c12e9a-898a-45db-9ee2-eb652adfbee1",
   "metadata": {},
   "outputs": [],
   "source": [
    "def rep_one_real_world(train_ids_f, test_ids_f): \n",
    "    catch_1 = []\n",
    "    catch_2 = []\n",
    "    catch_3 = []\n",
    "    catch_4 = []\n",
    "    catch_5 = []\n",
    "#     from scipy.special import expit\n",
    "    patience_smaller = 0\n",
    "    patience_uns = 0\n",
    "    \n",
    "    \n",
    "    best_train_mae = 100000\n",
    "    \n",
    "    best_train_width = 100000\n",
    "\n",
    "        \n",
    "    X_train_logits_unshuffled = y_train.reshape(-1,1)[train_ids_f,:]\n",
    "    train_size = X_train_logits_unshuffled.shape[0]\n",
    "    \n",
    "    random_idx = list(random.sample(range(0,train_size), k = int(0.1667*train_size)))\n",
    "#     X_train_logits = catch_train_logits_second[idx]\n",
    "    \n",
    "    not_random_idx = list(set(range(0,train_size)).difference(random_idx))\n",
    "    \n",
    "    X_train_logits_unshuffled1 = X_train_logits_unshuffled[not_random_idx, :]\n",
    "    X_valid_logits = X_train_logits_unshuffled[random_idx,:]\n",
    "    X_test_logits = y_train.reshape(-1,1)[test_ids_f,:]\n",
    "    \n",
    "    ## create training batch chunks\n",
    "    train_idx = list(range(0, len(X_train_logits_unshuffled1)))\n",
    "    batch_chunks = [train_idx[i:i+batch_size] for i in range(0,len(X_train_logits_unshuffled1),batch_size)]\n",
    "\n",
    "    ## generate some augmented variable for iteration 0\n",
    "    initial_aug_state_mean = np.repeat(0, total_weights)\n",
    "    initial_aug_state_mean = initial_aug_state_mean.reshape(-1,1)\n",
    "\n",
    "    initial_aug_state_cov = var_weights*np.identity((total_weights))\n",
    "    initial_ensembles = mvn(initial_aug_state_mean.reshape(initial_aug_state_mean.shape[0],), initial_aug_state_cov).rvs(size = size_ens)\n",
    "\n",
    "    exit_iter_no_thresh = 0\n",
    "    log_sigma_points_1 = (np.log(gamma(gamma_param, scale = 1/100).rvs(size_ens))).reshape(size_ens, 1)\n",
    "    \n",
    "\n",
    "#     y_train = catch_train_labels_second[idx]\n",
    "\n",
    "#     y_valid = catch_valid_labels_second[idx]\n",
    "\n",
    "#     y_test = catch_test_labels_second[idx]\n",
    "    \n",
    "    \n",
    "    train_lstm = train_drugs[train_ids_f,:]\n",
    "    # valid_lstm = train_lstm[random_idx,:]\n",
    "    # train_lstm1 = train_lstm[not_random_idx,:]\n",
    "    # valid_word2vec = catch[idx][7].iloc[catch_valid_idxes[idx],:].reset_index(drop = True)\n",
    "    test_lstm = train_drugs[test_ids_f,:]\n",
    "\n",
    "    pca = PCA(n_components=train_omics.shape[1])\n",
    "    train_lstm = pca.fit_transform(train_lstm)\n",
    "    # valid_lstm = pca.transform(valid_lstm)\n",
    "    test_lstm = pca.transform(test_lstm)\n",
    "    \n",
    "    # print(train_lstm.shape)\n",
    "\n",
    "    train_doc2vec = train_omics[train_ids_f,:]\n",
    "    # valid_doc2vec = train_doc2vec[random_idx,:]\n",
    "    # train_doc2vec1 = train_doc2vec[not_random_idx,:]\n",
    "    # valid_word2vec = catch[idx][7].iloc[catch_valid_idxes[idx],:].reset_index(drop = True)\n",
    "    test_doc2vec = train_omics[test_ids_f,:]\n",
    "    \n",
    "    \n",
    "\n",
    "    \n",
    "    # train_valid_lstm = (train_lstm)\n",
    "    # train_valid_doc2vec = (train_doc2vec)\n",
    "    \n",
    "    # print(train_valid_lstm.shape)\n",
    "\n",
    "    \n",
    "    \n",
    "    best_coverage_train = 0\n",
    "    \n",
    "    start = datetime.now()\n",
    "    \n",
    "    for iter1 in range(0,500):\n",
    "        random_idx = random.sample(range(0,train_lstm.shape[0]), train_lstm.shape[0])\n",
    "        train_valid_lstm =train_lstm[random_idx, :]\n",
    "        train_valid_doc2vec = train_doc2vec[random_idx, :]\n",
    "        X_train_logits = X_train_logits_unshuffled[random_idx, :]\n",
    "\n",
    "        for batch_idx in batch_chunks:\n",
    "            \n",
    "            batch_data = train_valid_lstm[batch_idx,:]\n",
    "            # print(batch_data.shape)\n",
    "            batch_data1 = train_valid_doc2vec[batch_idx,:]\n",
    "            # print(batch_data1.shape)\n",
    "            batch_targets = X_train_logits[batch_idx,:]\n",
    "            \n",
    "            # print(batch_targets.shape)\n",
    "            \n",
    "            # batch_targets = batch_targets.ravel().reshape(-1,1)\n",
    "\n",
    "            column_mod_2_shape = total_weights_2 + batch_data.shape[0]*1 + 1 + 1\n",
    "        \n",
    "            H_t = np.hstack((np.identity(batch_targets.shape[0]), np.zeros((batch_targets.shape[0], column_mod_2_shape-batch_targets.shape[0]))))\n",
    "            \n",
    "            \n",
    "            \n",
    "            \n",
    "            current_aug_state, column_mod_1, column_mod_2, log_sigma_points_1 = get_targets_with_weights(batch_data1, batch_data, initial_ensembles, log_sigma_points_1)\n",
    "            \n",
    "            # print(current_aug_state.shape)\n",
    "            \n",
    "            \n",
    "            var_targets_vec = np.log(1 + np.exp(log_sigma_points_1))\n",
    "            \n",
    "            var_targets_vec = var_targets_vec\n",
    "            \n",
    "            # current_aug_state_var = np.cov(current_aug_state.T) + inflation_factor*np.identity(current_aug_state.shape[1])\n",
    "            \n",
    "            current_aug_state_var = np.cov(current_aug_state.T) \n",
    "            \n",
    "            G_t = np.array([1 , 1]).reshape(-1,1)\n",
    "            \n",
    "            scirpt_H_t = np.kron(G_t.T, H_t)\n",
    "            \n",
    "            temp1 = current_aug_state_var@scirpt_H_t.T\n",
    "            \n",
    "            temp2 = scirpt_H_t@current_aug_state_var@scirpt_H_t.T\n",
    "\n",
    "            R_t1 = var_targetsw*np.identity(current_aug_state.shape[1])\n",
    "            \n",
    "            measurement_error1 = mvn(np.repeat(0,current_aug_state.shape[1]), R_t1).rvs(current_aug_state.shape[0])\n",
    "        \n",
    "            for ensemble_idx in range(0, current_aug_state.shape[0]):\n",
    "                \n",
    "                var_targets1 = var_targets_vec[ensemble_idx,:]\n",
    "                \n",
    "                R_t = var_targets1*np.identity(batch_targets.shape[0])\n",
    "            \n",
    "                measurement_error = mvn(np.repeat(0,batch_targets.shape[0]), var_targets1*np.identity(batch_targets.shape[0])).rvs(1).reshape(-1,1)\n",
    "            \n",
    "                target_current = batch_targets + measurement_error\n",
    "                \n",
    "                # print(target_current.shape)\n",
    "                \n",
    "                K_t = temp1@np.linalg.inv(temp2 + R_t)\n",
    "                \n",
    "                # print(K_t.shape)\n",
    "\n",
    "                current_aug_state[ensemble_idx,:] = current_aug_state[ensemble_idx,:] +(K_t@(target_current -scirpt_H_t@current_aug_state[ensemble_idx,:].reshape(-1,1))).reshape(current_aug_state.shape[1],)\n",
    "                \n",
    "                current_aug_state[ensemble_idx,:] = current_aug_state[ensemble_idx,:] + measurement_error1[ensemble_idx,:]\n",
    "\n",
    "            weights_ann_1 = current_aug_state[:,batch_targets.shape[0]:(batch_targets.shape[0] + total_weights_1)]      \n",
    "\n",
    "            weights_ann_2 = current_aug_state[:,-(total_weights_2+1):-2]    \n",
    "\n",
    "            initial_ensembles = np.hstack((weights_ann_1, weights_ann_2, current_aug_state[:,-2].reshape(-1,1)))\n",
    "            \n",
    "            log_sigma_points_1 = current_aug_state[:,-1].reshape(-1,1)\n",
    "               \n",
    "            avg_betas = expit(current_aug_state[:,-2])\n",
    "        \n",
    "            complement = 1-avg_betas\n",
    "\n",
    "#             current_aug_state1, column_mod_11, column_mod_21, log_sigma_points_1 = get_targets_with_weights(valid_doc2vec, valid_lstm, initial_ensembles, log_sigma_points_1)\n",
    "            \n",
    "#             initial_targets = column_mod_11 + column_mod_21\n",
    "            \n",
    "            \n",
    "#             initial_targets = initial_targets.reshape(size_ens, valid_lstm.shape[0],1)\n",
    "            \n",
    "#             initial_targets_train = initial_targets\n",
    "            \n",
    "#             initial_targets_train_mean = initial_targets_train.mean(0)\n",
    "            \n",
    "#             li = np.percentile(initial_targets_train, axis = 0, q = (2.5, 97.5))[0,:,:]\n",
    "            \n",
    "#             ui = np.percentile(initial_targets_train, axis = 0, q = (2.5, 97.5))[1,:,:]\n",
    "            \n",
    "#             width = ui - li\n",
    "            \n",
    "#             avg_width_valid = np.mean(width)\n",
    "            \n",
    "#             # interim = np.vstack((catch_train_probs[idx] , catch_valid_probs[idx] ))\n",
    "        \n",
    "#             interim = (X_valid_logits)\n",
    "            \n",
    "#             ind = (interim >= li) & (interim <= ui)\n",
    "            \n",
    "#             coverage_valid= np.mean(ind.ravel())  \n",
    "            \n",
    "#             valid_mae = np.sqrt(mean_squared_error(interim, initial_targets_train_mean))\n",
    "            \n",
    "#             stats_pearson_valid = stats.pearsonr(interim.reshape(interim.shape[0],),\n",
    "#                                            initial_targets_train_mean.reshape(initial_targets_train_mean.shape[0],))\n",
    "\n",
    "            current_aug_state1, column_mod_11, column_mod_21, log_sigma_points_1 = get_targets_with_weights(train_doc2vec, train_lstm, initial_ensembles, log_sigma_points_1)\n",
    "            \n",
    "            initial_targets = column_mod_11 + column_mod_21\n",
    "            \n",
    "            \n",
    "            initial_targets = initial_targets.reshape(size_ens, train_lstm.shape[0],1)\n",
    "            \n",
    "            initial_targets_train = initial_targets\n",
    "            \n",
    "            initial_targets_train_mean = initial_targets_train.mean(0)\n",
    "            \n",
    "            li = np.percentile(initial_targets_train, axis = 0, q = (2.5, 97.5))[0,:,:]\n",
    "            \n",
    "            ui = np.percentile(initial_targets_train, axis = 0, q = (2.5, 97.5))[1,:,:]\n",
    "            \n",
    "            width = ui - li\n",
    "            \n",
    "            avg_width_train = np.mean(width)\n",
    "            \n",
    "            # interim = np.vstack((catch_train_probs[idx] , catch_valid_probs[idx] ))\n",
    "        \n",
    "            interim = (X_train_logits_unshuffled)\n",
    "            \n",
    "            ind = (interim >= li) & (interim <= ui)\n",
    "            \n",
    "            coverage_train= np.mean(ind.ravel())  \n",
    "            \n",
    "            train_mae = np.sqrt(mean_squared_error(interim, initial_targets_train_mean))\n",
    "            \n",
    "            # plt.scatter(interim, initial_targets_train_mean)\n",
    "            # plt.show()\n",
    "            \n",
    "            stats_pearson_train = stats.pearsonr(interim.reshape(interim.shape[0],),\n",
    "                                           initial_targets_train_mean.reshape(initial_targets_train_mean.shape[0],))\n",
    "\n",
    "            # train_mae = np.sqrt(np.mean(np.abs(interim.ravel() - initial_targets_train_mean.ravel())**2))\n",
    "        \n",
    "            current_aug_state1, column_mod_11, column_mod_21, log_sigma_points_1 = get_targets_with_weights(test_doc2vec, test_lstm, initial_ensembles, log_sigma_points_1)\n",
    "            \n",
    "            initial_targets = column_mod_11 + column_mod_21\n",
    "            \n",
    "            initial_targets = initial_targets.reshape(size_ens, test_lstm.shape[0],1)\n",
    "            \n",
    "            initial_targets_test = initial_targets\n",
    "            \n",
    "            # initial_targets_softmax = expit(initial_targets)    \n",
    "            \n",
    "            initial_targets_test_mean = initial_targets_test.mean(0)\n",
    "            \n",
    "            li = np.percentile(initial_targets_test, axis = 0, q = (2.5, 97.5))[0,:,:]\n",
    "            \n",
    "            ui = np.percentile(initial_targets_test, axis = 0, q = (2.5, 97.5))[1,:,:]\n",
    "            \n",
    "            width = ui - li\n",
    "            \n",
    "            avg_width = np.mean(width)\n",
    "            \n",
    "            catch_test_probs = (X_test_logits)\n",
    "            \n",
    "            ind_test = (catch_test_probs >= li) & (catch_test_probs <= ui)\n",
    "                        \n",
    "            coverage_test = np.mean(ind_test.ravel())    \n",
    "\n",
    "            \n",
    "            test_mae = np.sqrt(mean_squared_error(catch_test_probs, initial_targets_test_mean))\n",
    "\n",
    "            stats_pearson = stats.pearsonr(catch_test_probs.reshape(catch_test_probs.shape[0],),\n",
    "                                           initial_targets_test_mean.reshape(initial_targets_test_mean.shape[0],))\n",
    "\n",
    "              \n",
    "            \n",
    "            if  train_mae < best_train_mae: \n",
    "                patience = 0\n",
    "                best_train_mae = train_mae\n",
    "                # best_valid_mae = valid_mae\n",
    "                best_test_mae = test_mae\n",
    "                exit_iter_no_thresh = iter1\n",
    "                best_test_preds = initial_targets_test\n",
    "                patience_smaller = 0\n",
    "                best_train_coverage = coverage_train\n",
    "                # best_valid_coverage = coverage_valid\n",
    "                best_test_coverage = coverage_test\n",
    "                best_train_width = avg_width_train\n",
    "                # best_valid_width = avg_width_valid\n",
    "                best_test_width = avg_width\n",
    "                best_drugs_weight = np.mean(complement)\n",
    "                best_r_test = stats_pearson[0]\n",
    "                best_r_train = stats_pearson_train[0]\n",
    "                # best_r_valid = stats_pearson_valid[0]\n",
    "                best_initial_ensembles = initial_ensembles\n",
    "                best_log_sigma_points_1 = log_sigma_points_1\n",
    "                best_initial_targets_test_mean = initial_targets_test_mean\n",
    "                best_li = li\n",
    "                best_ui = ui\n",
    "            else:\n",
    "                patience += 1\n",
    "                \n",
    "#             print(\"epoch \"+ str(iter1))\n",
    "#             print(\"patience \"+ str(patience))\n",
    "#             print(\"train mae is \" + str(train_mae))\n",
    "#             # print(\"valid mae is \" + str(valid_mae))\n",
    "#             print(\"test mae is \" + str(test_mae))\n",
    "        \n",
    "#             print(\"train coverage is \"+ str(coverage_train))\n",
    "#             # print(\"valid coverage is \"+ str(coverage_valid))\n",
    "#             print(\"test coverage is \"+ str(coverage_test))\n",
    "            \n",
    "#             print(\"train width is \" + str(avg_width_train))\n",
    "#             # print(\"valid width is \" + str(avg_width_valid))  \n",
    "#             print(\"test width is \" + str(avg_width))\n",
    "            \n",
    "#             print(\"drugs weight is \" + str(np.mean(complement)))\n",
    "#             print(\"pearson r train is \" + str(stats_pearson_train[0]))\n",
    "#             # print(\"pearson r valid is \" + str(stats_pearson_valid[0]))\n",
    "#             print(\"pearson r test is \" + str(stats_pearson[0]))\n",
    "            \n",
    "            \n",
    "                \n",
    "            if patience >= threshold: \n",
    "                break\n",
    "                \n",
    "        if patience >= threshold: \n",
    "                break\n",
    "            \n",
    "    \n",
    "    # print(best_valid_mae, best_valid_coverage, best_valid_width,best_r_valid, flush = True)\n",
    "    print(best_test_mae, best_test_coverage, best_test_width,best_r_test, flush = True)\n",
    "    end = datetime.now()\n",
    "    total = (end- start)\n",
    "    time_taken = total.seconds/60.0\n",
    "    return best_train_mae, best_test_mae, best_train_coverage, best_test_coverage,  \\\n",
    "    best_train_width , best_test_width,  best_drugs_weight, best_r_train, best_r_test, exit_iter_no_thresh, time_taken, best_initial_ensembles, best_log_sigma_points_1, [X_test_logits.tolist(), best_initial_targets_test_mean.tolist()], [best_li.tolist(), best_ui.tolist()]\n",
    "        \n",
    "    # print(\"something went awry\", flush = True)"
   ]
  },
  {
   "cell_type": "code",
   "execution_count": 61,
   "id": "605540da-2ad3-4d18-b8a4-93dd7c052f20",
   "metadata": {},
   "outputs": [],
   "source": [
    "threshold = 10"
   ]
  },
  {
   "cell_type": "code",
   "execution_count": 62,
   "id": "138d0228-17b7-4019-9abe-458206e8a7df",
   "metadata": {},
   "outputs": [],
   "source": [
    "# cutoff_threshold = 30"
   ]
  },
  {
   "cell_type": "code",
   "execution_count": 63,
   "id": "857196a6-5937-4318-97f8-d19c183afe5c",
   "metadata": {},
   "outputs": [],
   "source": [
    "# plt.hist(y_train)\n",
    "# plt.show()"
   ]
  },
  {
   "cell_type": "code",
   "execution_count": 64,
   "id": "4dcabe4b-76ae-4302-8ada-218067cc7588",
   "metadata": {},
   "outputs": [],
   "source": [
    "batch_size = 512"
   ]
  },
  {
   "cell_type": "code",
   "execution_count": 65,
   "id": "92d32533",
   "metadata": {},
   "outputs": [],
   "source": [
    "path = os.getcwd() + \"//dataset_\" + str(0 + 1) + \"/\"\n",
    "train_drugs_1 = np.load(path + \"//\" + \"train_drug.npy\")\n",
    "valid_drugs_1 = np.load(path + \"//\" + \"valid_drug.npy\")\n",
    "test_drugs_1 = np.load(path + \"//\" + \"test_drug.npy\")\n",
    "\n",
    "## read in all the omics features\n",
    "## for train test and valid\n",
    "train_omics_1 = np.load(path + \"//\" + \"train_omics.npy\")[:, idxs]\n",
    "valid_omics_1 = np.load(path + \"//\" + \"valid_omics.npy\")[:, idxs]\n",
    "test_omics_1 = np.load(path + \"//\" + \"test_omics.npy\")[:, idxs]\n",
    "\n",
    "## read in all the labels \n",
    "## for train test and valid\n",
    "y_train_1 = np.load(path + \"//\" + \"train_y.npy\").reshape(-1,1)\n",
    "y_valid_1 = np.load(path + \"//\" + \"valid_y.npy\").reshape(-1,1)\n",
    "y_test_1 = np.load(path + \"//\" + \"test_y.npy\").reshape(-1,1)"
   ]
  },
  {
   "cell_type": "code",
   "execution_count": 66,
   "id": "74304c41",
   "metadata": {},
   "outputs": [],
   "source": [
    "path = os.getcwd() + \"//dataset_\" + str(1 + 1) + \"/\"\n",
    "train_drugs_2 = np.load(path + \"//\" + \"train_drug.npy\")\n",
    "valid_drugs_2 = np.load(path + \"//\" + \"valid_drug.npy\")\n",
    "test_drugs_2 = np.load(path + \"//\" + \"test_drug.npy\")\n",
    "\n",
    "## read in all the omics features\n",
    "## for train test and valid\n",
    "train_omics_2 = np.load(path + \"//\" + \"train_omics.npy\")[:, idxs]\n",
    "valid_omics_2 = np.load(path + \"//\" + \"valid_omics.npy\")[:, idxs]\n",
    "test_omics_2 = np.load(path + \"//\" + \"test_omics.npy\")[:, idxs]\n",
    "\n",
    "## read in all the labels \n",
    "## for train test and valid\n",
    "y_train_2 = np.load(path + \"//\" + \"train_y.npy\").reshape(-1,1)\n",
    "y_valid_2 = np.load(path + \"//\" + \"valid_y.npy\").reshape(-1,1)\n",
    "y_test_2 = np.load(path + \"//\" + \"test_y.npy\").reshape(-1,1)"
   ]
  },
  {
   "cell_type": "code",
   "execution_count": 67,
   "id": "6c420480",
   "metadata": {},
   "outputs": [],
   "source": [
    "path = os.getcwd() + \"//dataset_\" + str(1 + 2) + \"/\"\n",
    "train_drugs_3 = np.load(path + \"//\" + \"train_drug.npy\")\n",
    "valid_drugs_3 = np.load(path + \"//\" + \"valid_drug.npy\")\n",
    "test_drugs_3 = np.load(path + \"//\" + \"test_drug.npy\")\n",
    "\n",
    "## read in all the omics features\n",
    "## for train test and valid\n",
    "train_omics_3 = np.load(path + \"//\" + \"train_omics.npy\")[:, idxs]\n",
    "valid_omics_3 = np.load(path + \"//\" + \"valid_omics.npy\")[:, idxs]\n",
    "test_omics_3 = np.load(path + \"//\" + \"test_omics.npy\")[:, idxs]\n",
    "\n",
    "## read in all the labels \n",
    "## for train test and valid\n",
    "y_train_3 = np.load(path + \"//\" + \"train_y.npy\").reshape(-1,1)\n",
    "y_valid_3 = np.load(path + \"//\" + \"valid_y.npy\").reshape(-1,1)\n",
    "y_test_3 = np.load(path + \"//\" + \"test_y.npy\").reshape(-1,1)"
   ]
  },
  {
   "cell_type": "code",
   "execution_count": 68,
   "id": "a3d03182-10e0-47bd-a563-8e2cb8c5c9ad",
   "metadata": {},
   "outputs": [],
   "source": [
    "path = os.getcwd() + \"//dataset_\" + str(1 + 3) + \"/\"\n",
    "train_drugs_4 = np.load(path + \"//\" + \"train_drug.npy\")\n",
    "valid_drugs_4 = np.load(path + \"//\" + \"valid_drug.npy\")\n",
    "test_drugs_4 = np.load(path + \"//\" + \"test_drug.npy\")\n",
    "\n",
    "## read in all the omics features\n",
    "## for train test and valid\n",
    "train_omics_4 = np.load(path + \"//\" + \"train_omics.npy\")[:, idxs]\n",
    "valid_omics_4 = np.load(path + \"//\" + \"valid_omics.npy\")[:, idxs]\n",
    "test_omics_4 = np.load(path + \"//\" + \"test_omics.npy\")[:, idxs]\n",
    "\n",
    "## read in all the labels \n",
    "## for train test and valid\n",
    "y_train_4 = np.load(path + \"//\" + \"train_y.npy\").reshape(-1,1)\n",
    "y_valid_4 = np.load(path + \"//\" + \"valid_y.npy\").reshape(-1,1)\n",
    "y_test_4 = np.load(path + \"//\" + \"test_y.npy\").reshape(-1,1)"
   ]
  },
  {
   "cell_type": "code",
   "execution_count": 69,
   "id": "dab2c9ea-d68c-4cd3-988e-ce4b1fcd8b62",
   "metadata": {},
   "outputs": [],
   "source": [
    "path = os.getcwd() + \"//dataset_\" + str(1 + 4) + \"/\"\n",
    "train_drugs_5 = np.load(path + \"//\" + \"train_drug.npy\")\n",
    "valid_drugs_5 = np.load(path + \"//\" + \"valid_drug.npy\")\n",
    "test_drugs_5 = np.load(path + \"//\" + \"test_drug.npy\")\n",
    "\n",
    "## read in all the omics features\n",
    "## for train test and valid\n",
    "train_omics_5 = np.load(path + \"//\" + \"train_omics.npy\")[:, idxs]\n",
    "valid_omics_5 = np.load(path + \"//\" + \"valid_omics.npy\")[:, idxs]\n",
    "test_omics_5 = np.load(path + \"//\" + \"test_omics.npy\")[:, idxs]\n",
    "\n",
    "## read in all the labels \n",
    "## for train test and valid\n",
    "y_train_5 = np.load(path + \"//\" + \"train_y.npy\").reshape(-1,1)\n",
    "y_valid_5 = np.load(path + \"//\" + \"valid_y.npy\").reshape(-1,1)\n",
    "y_test_5 = np.load(path + \"//\" + \"test_y.npy\").reshape(-1,1)"
   ]
  },
  {
   "cell_type": "code",
   "execution_count": 70,
   "id": "60de9400-054f-4c6f-b9bf-5c140d111922",
   "metadata": {},
   "outputs": [],
   "source": [
    "path = os.getcwd() + \"//dataset_\" + str(1 + 5) + \"/\"\n",
    "train_drugs_6 = np.load(path + \"//\" + \"train_drug.npy\")\n",
    "valid_drugs_6 = np.load(path + \"//\" + \"valid_drug.npy\")\n",
    "test_drugs_6 = np.load(path + \"//\" + \"test_drug.npy\")\n",
    "\n",
    "## read in all the omics features\n",
    "## for train test and valid\n",
    "train_omics_6 = np.load(path + \"//\" + \"train_omics.npy\")[:, idxs]\n",
    "valid_omics_6 = np.load(path + \"//\" + \"valid_omics.npy\")[:, idxs]\n",
    "test_omics_6 = np.load(path + \"//\" + \"test_omics.npy\")[:, idxs]\n",
    "\n",
    "## read in all the labels \n",
    "## for train test and valid\n",
    "y_train_6 = np.load(path + \"//\" + \"train_y.npy\").reshape(-1,1)\n",
    "y_valid_6 = np.load(path + \"//\" + \"valid_y.npy\").reshape(-1,1)\n",
    "y_test_6 = np.load(path + \"//\" + \"test_y.npy\").reshape(-1,1)"
   ]
  },
  {
   "cell_type": "code",
   "execution_count": 71,
   "id": "01085f95-be78-4685-8658-d137a95c386b",
   "metadata": {},
   "outputs": [],
   "source": [
    "path = os.getcwd() + \"//dataset_\" + str(1 + 6) + \"/\"\n",
    "train_drugs_7 = np.load(path + \"//\" + \"train_drug.npy\")\n",
    "valid_drugs_7 = np.load(path + \"//\" + \"valid_drug.npy\")\n",
    "test_drugs_7 = np.load(path + \"//\" + \"test_drug.npy\")\n",
    "\n",
    "## read in all the omics features\n",
    "## for train test and valid\n",
    "train_omics_7 = np.load(path + \"//\" + \"train_omics.npy\")[:, idxs]\n",
    "valid_omics_7 = np.load(path + \"//\" + \"valid_omics.npy\")[:, idxs]\n",
    "test_omics_7 = np.load(path + \"//\" + \"test_omics.npy\")[:, idxs]\n",
    "\n",
    "## read in all the labels \n",
    "## for train test and valid\n",
    "y_train_7 = np.load(path + \"//\" + \"train_y.npy\").reshape(-1,1)\n",
    "y_valid_7 = np.load(path + \"//\" + \"valid_y.npy\").reshape(-1,1)\n",
    "y_test_7 = np.load(path + \"//\" + \"test_y.npy\").reshape(-1,1)"
   ]
  },
  {
   "cell_type": "code",
   "execution_count": 72,
   "id": "96d9ba42-4eaa-4faf-8831-f083c4b684bc",
   "metadata": {},
   "outputs": [],
   "source": [
    "path = os.getcwd() + \"//dataset_\" + str(1 + 7) + \"/\"\n",
    "train_drugs_8 = np.load(path + \"//\" + \"train_drug.npy\")\n",
    "valid_drugs_8 = np.load(path + \"//\" + \"valid_drug.npy\")\n",
    "test_drugs_8 = np.load(path + \"//\" + \"test_drug.npy\")\n",
    "\n",
    "## read in all the omics features\n",
    "## for train test and valid\n",
    "train_omics_8 = np.load(path + \"//\" + \"train_omics.npy\")[:, idxs]\n",
    "valid_omics_8 = np.load(path + \"//\" + \"valid_omics.npy\")[:, idxs]\n",
    "test_omics_8 = np.load(path + \"//\" + \"test_omics.npy\")[:, idxs]\n",
    "\n",
    "## read in all the labels \n",
    "## for train test and valid\n",
    "y_train_8 = np.load(path + \"//\" + \"train_y.npy\").reshape(-1,1)\n",
    "y_valid_8 = np.load(path + \"//\" + \"valid_y.npy\").reshape(-1,1)\n",
    "y_test_8 = np.load(path + \"//\" + \"test_y.npy\").reshape(-1,1)"
   ]
  },
  {
   "cell_type": "code",
   "execution_count": 73,
   "id": "35b41e3c-839e-49ae-ade7-6d06f78a2efa",
   "metadata": {},
   "outputs": [],
   "source": [
    "path = os.getcwd() + \"//dataset_\" + str(1 + 8) + \"/\"\n",
    "train_drugs_9 = np.load(path + \"//\" + \"train_drug.npy\")\n",
    "valid_drugs_9 = np.load(path + \"//\" + \"valid_drug.npy\")\n",
    "test_drugs_9 = np.load(path + \"//\" + \"test_drug.npy\")\n",
    "\n",
    "## read in all the omics features\n",
    "## for train test and valid\n",
    "train_omics_9 = np.load(path + \"//\" + \"train_omics.npy\")[:, idxs]\n",
    "valid_omics_9 = np.load(path + \"//\" + \"valid_omics.npy\")[:, idxs]\n",
    "test_omics_9 = np.load(path + \"//\" + \"test_omics.npy\")[:, idxs]\n",
    "\n",
    "## read in all the labels \n",
    "## for train test and valid\n",
    "y_train_9 = np.load(path + \"//\" + \"train_y.npy\").reshape(-1,1)\n",
    "y_valid_9 = np.load(path + \"//\" + \"valid_y.npy\").reshape(-1,1)\n",
    "y_test_9 = np.load(path + \"//\" + \"test_y.npy\").reshape(-1,1)"
   ]
  },
  {
   "cell_type": "code",
   "execution_count": 74,
   "id": "c978fd4f-96bf-4539-93ab-25db3c1fe9c6",
   "metadata": {},
   "outputs": [],
   "source": [
    "path = os.getcwd() + \"//dataset_\" + str(1 + 9) + \"/\"\n",
    "train_drugs_10 = np.load(path + \"//\" + \"train_drug.npy\")\n",
    "valid_drugs_10 = np.load(path + \"//\" + \"valid_drug.npy\")\n",
    "test_drugs_10 = np.load(path + \"//\" + \"test_drug.npy\")\n",
    "\n",
    "## read in all the omics features\n",
    "## for train test and valid\n",
    "train_omics_10 = np.load(path + \"//\" + \"train_omics.npy\")[:, idxs]\n",
    "valid_omics_10 = np.load(path + \"//\" + \"valid_omics.npy\")[:, idxs]\n",
    "test_omics_10 = np.load(path + \"//\" + \"test_omics.npy\")[:, idxs]\n",
    "\n",
    "## read in all the labels \n",
    "## for train test and valid\n",
    "y_train_10 = np.load(path + \"//\" + \"train_y.npy\").reshape(-1,1)\n",
    "y_valid_10 = np.load(path + \"//\" + \"valid_y.npy\").reshape(-1,1)\n",
    "y_test_10 = np.load(path + \"//\" + \"test_y.npy\").reshape(-1,1)"
   ]
  },
  {
   "cell_type": "code",
   "execution_count": 75,
   "id": "f89552db",
   "metadata": {},
   "outputs": [],
   "source": [
    "train_drugs = np.vstack((train_drugs_1,train_drugs_2, train_drugs_3, train_drugs_4,train_drugs_5, train_drugs_6,\n",
    "                        train_drugs_7,train_drugs_8, train_drugs_9, train_drugs_10))"
   ]
  },
  {
   "cell_type": "code",
   "execution_count": 76,
   "id": "53a1a9dd",
   "metadata": {},
   "outputs": [],
   "source": [
    "train_omics = np.vstack((train_omics_1,train_omics_2, train_omics_3, train_omics_4,train_omics_5, train_omics_6, \n",
    "                        train_omics_7,train_omics_8, train_omics_9, train_omics_10))"
   ]
  },
  {
   "cell_type": "code",
   "execution_count": 77,
   "id": "6109ef8f",
   "metadata": {},
   "outputs": [],
   "source": [
    "valid_drugs = np.vstack((valid_drugs_1,valid_drugs_2, valid_drugs_3, valid_drugs_4,valid_drugs_5, valid_drugs_6,\n",
    "                        valid_drugs_7,valid_drugs_8, valid_drugs_9, valid_drugs_10))"
   ]
  },
  {
   "cell_type": "code",
   "execution_count": 78,
   "id": "ee6a314b",
   "metadata": {},
   "outputs": [],
   "source": [
    "valid_omics = np.vstack((valid_omics_1,valid_omics_2, valid_omics_3, valid_omics_4,valid_omics_5, valid_omics_6, \n",
    "                        valid_omics_7,valid_omics_8, valid_omics_9, valid_omics_10))"
   ]
  },
  {
   "cell_type": "code",
   "execution_count": 79,
   "id": "aa4c619e",
   "metadata": {},
   "outputs": [],
   "source": [
    "test_drugs = np.vstack((test_drugs_1,test_drugs_2, test_drugs_3, test_drugs_4,test_drugs_5, test_drugs_6,\n",
    "                        test_drugs_7,test_drugs_8, test_drugs_9, test_drugs_10))"
   ]
  },
  {
   "cell_type": "code",
   "execution_count": 80,
   "id": "7cb991db",
   "metadata": {},
   "outputs": [],
   "source": [
    "test_omics = np.vstack((test_omics_1,test_omics_2, test_omics_3, test_omics_4,test_omics_5, test_omics_6, \n",
    "                        test_omics_7,test_omics_8, test_omics_9, test_omics_10))"
   ]
  },
  {
   "cell_type": "code",
   "execution_count": 81,
   "id": "ef15b625-871e-4df8-a9a0-b96fe788e232",
   "metadata": {},
   "outputs": [
    {
     "data": {
      "text/plain": [
       "(1000, 60)"
      ]
     },
     "execution_count": 81,
     "metadata": {},
     "output_type": "execute_result"
    }
   ],
   "source": [
    "test_omics.shape"
   ]
  },
  {
   "cell_type": "code",
   "execution_count": 82,
   "id": "61aaaf32",
   "metadata": {},
   "outputs": [],
   "source": [
    "y_train = np.vstack((y_train_1,y_train_2, y_train_3, y_train_4,y_train_5, y_train_6, y_train_7,y_train_8, y_train_9, y_train_10))"
   ]
  },
  {
   "cell_type": "code",
   "execution_count": 83,
   "id": "605c897e",
   "metadata": {},
   "outputs": [],
   "source": [
    "y_valid = np.vstack((y_valid_1,y_valid_2, y_valid_3, y_valid_4,y_valid_5, y_valid_6, y_valid_7,y_valid_8, y_valid_9, y_valid_10))"
   ]
  },
  {
   "cell_type": "code",
   "execution_count": 84,
   "id": "3b04c7b3",
   "metadata": {},
   "outputs": [],
   "source": [
    "y_test = np.vstack((y_test_1,y_test_2, y_test_3, y_test_4,y_test_5, y_test_6, y_test_7,y_test_8, y_test_9, y_test_10))"
   ]
  },
  {
   "cell_type": "code",
   "execution_count": 85,
   "id": "a8a1c655-5f69-4a25-8ab8-184e2329c559",
   "metadata": {},
   "outputs": [
    {
     "data": {
      "text/plain": [
       "(5000, 1)"
      ]
     },
     "execution_count": 85,
     "metadata": {},
     "output_type": "execute_result"
    }
   ],
   "source": [
    "y_train.shape"
   ]
  },
  {
   "cell_type": "code",
   "execution_count": 86,
   "id": "a55c1f26-9b6e-4898-a7dd-3854baaa0c39",
   "metadata": {},
   "outputs": [
    {
     "data": {
      "text/plain": [
       "(1000, 1)"
      ]
     },
     "execution_count": 86,
     "metadata": {},
     "output_type": "execute_result"
    }
   ],
   "source": [
    "y_valid.shape"
   ]
  },
  {
   "cell_type": "code",
   "execution_count": 87,
   "id": "5f2606c4-35ad-49ed-a7c7-7eee6d70d44a",
   "metadata": {},
   "outputs": [
    {
     "data": {
      "text/plain": [
       "(1000, 1)"
      ]
     },
     "execution_count": 87,
     "metadata": {},
     "output_type": "execute_result"
    }
   ],
   "source": [
    "y_test.shape"
   ]
  },
  {
   "cell_type": "code",
   "execution_count": 88,
   "id": "1350b5d2-36dd-4183-a736-6bfcf791b8cd",
   "metadata": {},
   "outputs": [],
   "source": [
    "from sklearn.decomposition import PCA"
   ]
  },
  {
   "cell_type": "code",
   "execution_count": 89,
   "id": "ef77119b-108f-4cbc-9e3c-0c9972979cf4",
   "metadata": {},
   "outputs": [],
   "source": [
    "train_drugs = np.vstack((train_drugs, valid_drugs, test_drugs))"
   ]
  },
  {
   "cell_type": "code",
   "execution_count": 90,
   "id": "324df85d-1949-4601-84a8-94ba8d9ebaf5",
   "metadata": {},
   "outputs": [],
   "source": [
    "train_omics = np.vstack((train_omics, valid_omics, test_omics))"
   ]
  },
  {
   "cell_type": "code",
   "execution_count": 91,
   "id": "0b6e75d3-8aaf-40b9-83e3-cd6db755593b",
   "metadata": {},
   "outputs": [
    {
     "data": {
      "text/plain": [
       "(7000, 60)"
      ]
     },
     "execution_count": 91,
     "metadata": {},
     "output_type": "execute_result"
    }
   ],
   "source": [
    "train_omics.shape"
   ]
  },
  {
   "cell_type": "code",
   "execution_count": 92,
   "id": "6dc5aa28-e4b6-427a-9093-8652616492b4",
   "metadata": {},
   "outputs": [],
   "source": [
    "y_train = np.vstack((y_train, y_valid, y_test))"
   ]
  },
  {
   "cell_type": "code",
   "execution_count": 93,
   "id": "061ba995-00f3-4938-8704-88948590f0ab",
   "metadata": {},
   "outputs": [
    {
     "data": {
      "text/plain": [
       "(7000, 90)"
      ]
     },
     "execution_count": 93,
     "metadata": {},
     "output_type": "execute_result"
    }
   ],
   "source": [
    "train_drugs.shape"
   ]
  },
  {
   "cell_type": "code",
   "execution_count": 94,
   "id": "526f6443-759a-403e-a328-003748db18ac",
   "metadata": {},
   "outputs": [
    {
     "data": {
      "text/plain": [
       "(7000, 1)"
      ]
     },
     "execution_count": 94,
     "metadata": {},
     "output_type": "execute_result"
    }
   ],
   "source": [
    "y_train.shape"
   ]
  },
  {
   "cell_type": "code",
   "execution_count": 95,
   "id": "eaf86d19-7156-4fd6-b0c1-03602def9bc4",
   "metadata": {},
   "outputs": [],
   "source": [
    "kf = KFold(n_splits = 7, random_state=42, shuffle = True)"
   ]
  },
  {
   "cell_type": "code",
   "execution_count": 96,
   "id": "44cb30d0-e303-4cf7-971a-241a3096db57",
   "metadata": {},
   "outputs": [
    {
     "data": {
      "text/plain": [
       "7"
      ]
     },
     "execution_count": 96,
     "metadata": {},
     "output_type": "execute_result"
    }
   ],
   "source": [
    "kf.get_n_splits(train_drugs)"
   ]
  },
  {
   "cell_type": "code",
   "execution_count": 97,
   "id": "9aa09d7e-e5e9-4133-aa48-c2c01665701d",
   "metadata": {},
   "outputs": [],
   "source": [
    "# kf_inner = KFold(n_splits = 6, random_state=42, shuffle = True)"
   ]
  },
  {
   "cell_type": "code",
   "execution_count": 98,
   "id": "5aaafa0d-b60c-4d6e-a82c-c6eff65a4cc8",
   "metadata": {},
   "outputs": [],
   "source": [
    "# len(train_index)"
   ]
  },
  {
   "cell_type": "code",
   "execution_count": 99,
   "id": "bcacb8d9-2af5-4a54-88b8-82fe1f5546c7",
   "metadata": {},
   "outputs": [],
   "source": [
    "train_ids = []\n",
    "# valid_ids = []\n",
    "test_ids = []\n",
    "# test_ids = []\n",
    "for i, (train_index, test_index) in enumerate(kf.split(train_drugs)): \n",
    "    train_ids.append(train_index)\n",
    "    test_ids.append(test_index)"
   ]
  },
  {
   "cell_type": "code",
   "execution_count": 100,
   "id": "a4e3c21a-918d-42ec-86e0-c2c83da3e697",
   "metadata": {},
   "outputs": [],
   "source": [
    "# len(test_ids[0])"
   ]
  },
  {
   "cell_type": "code",
   "execution_count": 101,
   "id": "155b9297-712b-4430-bf27-d1a08dd17d98",
   "metadata": {},
   "outputs": [],
   "source": [
    "# batch_size = 1000"
   ]
  },
  {
   "cell_type": "code",
   "execution_count": 102,
   "id": "11fbf1b9-7df8-431f-8197-cb4cb7367b07",
   "metadata": {},
   "outputs": [],
   "source": [
    "# train_idx = list(range(0, len(y_train)))\n",
    "# batch_chunks_train = [train_idx[i:i+batch_size] for i in range(0,len(y_train),batch_size)]"
   ]
  },
  {
   "cell_type": "code",
   "execution_count": 103,
   "id": "efc508be-9b33-4596-99e8-3019fab6d909",
   "metadata": {},
   "outputs": [],
   "source": [
    "# np.max(batch_chunks_train[0])"
   ]
  },
  {
   "cell_type": "code",
   "execution_count": 104,
   "id": "4fbd52c5-78b1-4433-9ff9-0507f140a99b",
   "metadata": {},
   "outputs": [],
   "source": [
    "# batch_size = 200\n",
    "# valid_idx = list(range(0, len(y_valid)))\n",
    "# batch_chunks_valid = [valid_idx[i:i+batch_size] for i in range(0,len(y_valid),batch_size)]"
   ]
  },
  {
   "cell_type": "code",
   "execution_count": 105,
   "id": "c79960f9-0840-45cc-8771-1e2b9f79255d",
   "metadata": {},
   "outputs": [],
   "source": [
    "# len(batch_chunks_valid)"
   ]
  },
  {
   "cell_type": "code",
   "execution_count": 106,
   "id": "d51e6e4a-813f-4f99-abad-c540283ab2ba",
   "metadata": {},
   "outputs": [],
   "source": [
    "# train_ids"
   ]
  },
  {
   "cell_type": "code",
   "execution_count": 107,
   "id": "835d8e43-017f-45b4-a42a-f4bb88c052fd",
   "metadata": {},
   "outputs": [],
   "source": [
    "# best_train_mae, best_test_mae, best_train_coverage, best_test_coverage,  \\\n",
    "#     best_train_width , best_test_width,  best_drugs_weight, best_r_train, best_r_test, exit_iter_no_thresh, time_taken, best_initial_ensembles, best_log_sigma_points_1 = rep_one_real_world(train_ids[4], test_ids[4])"
   ]
  },
  {
   "cell_type": "code",
   "execution_count": 108,
   "id": "72568e2d-bb4d-4b75-b133-57a26a359814",
   "metadata": {},
   "outputs": [],
   "source": [
    "# test_actual_preds[0].shape"
   ]
  },
  {
   "cell_type": "code",
   "execution_count": 109,
   "id": "03d6db30-5931-4841-beeb-8c7169e0704c",
   "metadata": {},
   "outputs": [],
   "source": [
    "# len(test_actual_preds)"
   ]
  },
  {
   "cell_type": "code",
   "execution_count": 110,
   "id": "6f8981ee-053b-44e7-b05b-c3fc788b12db",
   "metadata": {},
   "outputs": [],
   "source": [
    "# test_actual_preds, best_li_ui"
   ]
  },
  {
   "cell_type": "code",
   "execution_count": 111,
   "id": "5e4a1add-dfd1-4092-8ce3-1cdc491fc6a1",
   "metadata": {},
   "outputs": [],
   "source": [
    "from joblib import Parallel, delayed"
   ]
  },
  {
   "cell_type": "code",
   "execution_count": 112,
   "id": "f1126d3c-2377-428e-a8b1-6a849b16828f",
   "metadata": {},
   "outputs": [],
   "source": [
    "# test_actual_preds[:5]"
   ]
  },
  {
   "cell_type": "code",
   "execution_count": 113,
   "id": "0737ad8b-a1ba-41fe-90cb-d570a7d29a29",
   "metadata": {},
   "outputs": [],
   "source": [
    "# best_li_ui[0]"
   ]
  },
  {
   "cell_type": "code",
   "execution_count": null,
   "id": "f5796dcd-701f-468f-85d1-13ec45f5fcbc",
   "metadata": {},
   "outputs": [],
   "source": []
  },
  {
   "cell_type": "code",
   "execution_count": 114,
   "id": "0f8af807-7147-4bb1-a651-e5c64ad9889c",
   "metadata": {},
   "outputs": [
    {
     "name": "stderr",
     "output_type": "stream",
     "text": [
      "[Parallel(n_jobs=6)]: Using backend LokyBackend with 6 concurrent workers.\n"
     ]
    },
    {
     "name": "stdout",
     "output_type": "stream",
     "text": [
      "1.4532858974655665 0.947 5.974641248844046 0.7176909613477908\n",
      "1.460832379809133 0.944 5.985172725405859 0.7428479710029587\n"
     ]
    },
    {
     "name": "stderr",
     "output_type": "stream",
     "text": [
      "[Parallel(n_jobs=6)]: Done   2 out of   7 | elapsed: 11.1min remaining: 27.9min\n"
     ]
    },
    {
     "name": "stdout",
     "output_type": "stream",
     "text": [
      "1.4471665006204073 0.949 6.387023786033993 0.7597563684764174\n"
     ]
    },
    {
     "name": "stderr",
     "output_type": "stream",
     "text": [
      "[Parallel(n_jobs=6)]: Done   3 out of   7 | elapsed: 11.8min remaining: 15.8min\n"
     ]
    },
    {
     "name": "stdout",
     "output_type": "stream",
     "text": [
      "1.3197078512771334 0.981 6.581917264907009 0.7803438142029241\n"
     ]
    },
    {
     "name": "stderr",
     "output_type": "stream",
     "text": [
      "[Parallel(n_jobs=6)]: Done   4 out of   7 | elapsed: 15.5min remaining: 11.6min\n"
     ]
    },
    {
     "name": "stdout",
     "output_type": "stream",
     "text": [
      "1.362274171985263 0.976 6.970861636460089 0.7866682039622053\n"
     ]
    },
    {
     "name": "stderr",
     "output_type": "stream",
     "text": [
      "[Parallel(n_jobs=6)]: Done   5 out of   7 | elapsed: 15.8min remaining:  6.3min\n"
     ]
    },
    {
     "name": "stdout",
     "output_type": "stream",
     "text": [
      "1.4350886838065195 0.972 6.611738815267696 0.6998135278457589\n",
      "1.4012868669835803 0.961 6.340147446950798 0.7353514197086622\n"
     ]
    },
    {
     "name": "stderr",
     "output_type": "stream",
     "text": [
      "[Parallel(n_jobs=6)]: Done   7 out of   7 | elapsed: 19.9min remaining:    0.0s\n",
      "[Parallel(n_jobs=6)]: Done   7 out of   7 | elapsed: 19.9min finished\n"
     ]
    }
   ],
   "source": [
    "catch = Parallel(n_jobs = 6, backend = \"loky\", verbose = 8)(delayed(rep_one_real_world)(train_ids[i], test_ids[i]) for i in range(0,kf.get_n_splits(train_drugs)))"
   ]
  },
  {
   "cell_type": "code",
   "execution_count": 115,
   "id": "d6784f03-c726-4b0e-9d06-63d28b8dcf02",
   "metadata": {},
   "outputs": [],
   "source": [
    "with open(\"Preds_Mutation_Methylation_with_PCA_proper_CV_no_valid\" + \".pkl\", 'wb') as f:\n",
    "    pickle.dump(catch, f)"
   ]
  },
  {
   "cell_type": "code",
   "execution_count": 116,
   "id": "d1f7bd56-f7ce-417f-a186-0dba799fa59f",
   "metadata": {},
   "outputs": [],
   "source": [
    "with open(\"Preds_Mutation_Methylation_with_PCA_proper_CV_no_valid\" + \".pkl\", 'rb') as f:\n",
    "    catch = pickle.load(f)"
   ]
  },
  {
   "cell_type": "code",
   "execution_count": 117,
   "id": "cfab788b-6557-4725-8726-9f0fd85770c8",
   "metadata": {},
   "outputs": [],
   "source": [
    "catch_df = pd.DataFrame(catch).iloc[:,:9]"
   ]
  },
  {
   "cell_type": "code",
   "execution_count": 118,
   "id": "3618be7e-e24a-4261-a2b5-5c25211266dd",
   "metadata": {},
   "outputs": [],
   "source": [
    "catch_df.columns = ['best_train_mae', 'best_test_mae', 'best_train_coverage', 'best_test_coverage',  \\\n",
    "    'best_train_width' , 'best_test_width',  'best_drugs_weight', 'best_r_train', 'best_r_test']"
   ]
  },
  {
   "cell_type": "code",
   "execution_count": 119,
   "id": "75057773-997e-485c-913d-cb7e6161ae7f",
   "metadata": {},
   "outputs": [
    {
     "data": {
      "text/html": [
       "<div>\n",
       "<style scoped>\n",
       "    .dataframe tbody tr th:only-of-type {\n",
       "        vertical-align: middle;\n",
       "    }\n",
       "\n",
       "    .dataframe tbody tr th {\n",
       "        vertical-align: top;\n",
       "    }\n",
       "\n",
       "    .dataframe thead th {\n",
       "        text-align: right;\n",
       "    }\n",
       "</style>\n",
       "<table border=\"1\" class=\"dataframe\">\n",
       "  <thead>\n",
       "    <tr style=\"text-align: right;\">\n",
       "      <th></th>\n",
       "      <th>best_train_mae</th>\n",
       "      <th>best_test_mae</th>\n",
       "      <th>best_train_coverage</th>\n",
       "      <th>best_test_coverage</th>\n",
       "      <th>best_train_width</th>\n",
       "      <th>best_test_width</th>\n",
       "      <th>best_drugs_weight</th>\n",
       "      <th>best_r_train</th>\n",
       "      <th>best_r_test</th>\n",
       "    </tr>\n",
       "  </thead>\n",
       "  <tbody>\n",
       "    <tr>\n",
       "      <th>0</th>\n",
       "      <td>1.390881</td>\n",
       "      <td>1.447167</td>\n",
       "      <td>0.968167</td>\n",
       "      <td>0.949</td>\n",
       "      <td>6.345708</td>\n",
       "      <td>6.387024</td>\n",
       "      <td>0.415224</td>\n",
       "      <td>0.762639</td>\n",
       "      <td>0.759756</td>\n",
       "    </tr>\n",
       "    <tr>\n",
       "      <th>1</th>\n",
       "      <td>1.522694</td>\n",
       "      <td>1.453286</td>\n",
       "      <td>0.934667</td>\n",
       "      <td>0.947</td>\n",
       "      <td>5.968620</td>\n",
       "      <td>5.974641</td>\n",
       "      <td>0.326629</td>\n",
       "      <td>0.695631</td>\n",
       "      <td>0.717691</td>\n",
       "    </tr>\n",
       "    <tr>\n",
       "      <th>2</th>\n",
       "      <td>1.377060</td>\n",
       "      <td>1.435089</td>\n",
       "      <td>0.972500</td>\n",
       "      <td>0.972</td>\n",
       "      <td>6.725057</td>\n",
       "      <td>6.611739</td>\n",
       "      <td>0.473443</td>\n",
       "      <td>0.763550</td>\n",
       "      <td>0.699814</td>\n",
       "    </tr>\n",
       "    <tr>\n",
       "      <th>3</th>\n",
       "      <td>1.347022</td>\n",
       "      <td>1.362274</td>\n",
       "      <td>0.977833</td>\n",
       "      <td>0.976</td>\n",
       "      <td>6.967695</td>\n",
       "      <td>6.970862</td>\n",
       "      <td>0.483475</td>\n",
       "      <td>0.769081</td>\n",
       "      <td>0.786668</td>\n",
       "    </tr>\n",
       "    <tr>\n",
       "      <th>4</th>\n",
       "      <td>1.428854</td>\n",
       "      <td>1.460832</td>\n",
       "      <td>0.950500</td>\n",
       "      <td>0.944</td>\n",
       "      <td>5.994666</td>\n",
       "      <td>5.985173</td>\n",
       "      <td>0.409641</td>\n",
       "      <td>0.733808</td>\n",
       "      <td>0.742848</td>\n",
       "    </tr>\n",
       "  </tbody>\n",
       "</table>\n",
       "</div>"
      ],
      "text/plain": [
       "   best_train_mae  best_test_mae  best_train_coverage  best_test_coverage   \n",
       "0        1.390881       1.447167             0.968167               0.949  \\\n",
       "1        1.522694       1.453286             0.934667               0.947   \n",
       "2        1.377060       1.435089             0.972500               0.972   \n",
       "3        1.347022       1.362274             0.977833               0.976   \n",
       "4        1.428854       1.460832             0.950500               0.944   \n",
       "\n",
       "   best_train_width  best_test_width  best_drugs_weight  best_r_train   \n",
       "0          6.345708         6.387024           0.415224      0.762639  \\\n",
       "1          5.968620         5.974641           0.326629      0.695631   \n",
       "2          6.725057         6.611739           0.473443      0.763550   \n",
       "3          6.967695         6.970862           0.483475      0.769081   \n",
       "4          5.994666         5.985173           0.409641      0.733808   \n",
       "\n",
       "   best_r_test  \n",
       "0     0.759756  \n",
       "1     0.717691  \n",
       "2     0.699814  \n",
       "3     0.786668  \n",
       "4     0.742848  "
      ]
     },
     "execution_count": 119,
     "metadata": {},
     "output_type": "execute_result"
    }
   ],
   "source": [
    "catch_df.head()"
   ]
  },
  {
   "cell_type": "code",
   "execution_count": 120,
   "id": "ba988f7f-d38b-44e0-a31f-9851b5f12900",
   "metadata": {},
   "outputs": [],
   "source": [
    "catch_df['best_drugs_weight'] = 1 - catch_df['best_drugs_weight']"
   ]
  },
  {
   "cell_type": "code",
   "execution_count": 121,
   "id": "1ad9fb9a-71d7-453f-9eca-84e8ee7e11a2",
   "metadata": {},
   "outputs": [
    {
     "data": {
      "text/plain": [
       "best_train_mae         1.404697\n",
       "best_test_mae          1.411377\n",
       "best_train_coverage    0.962952\n",
       "best_test_coverage     0.961429\n",
       "best_train_width       6.402099\n",
       "best_test_width        6.407358\n",
       "best_drugs_weight      0.564956\n",
       "best_r_train           0.749704\n",
       "best_r_test            0.746067\n",
       "dtype: float64"
      ]
     },
     "execution_count": 121,
     "metadata": {},
     "output_type": "execute_result"
    }
   ],
   "source": [
    "catch_df.mean()"
   ]
  },
  {
   "cell_type": "code",
   "execution_count": 122,
   "id": "90ce27df-65b3-4d71-8230-f5d083e70c22",
   "metadata": {},
   "outputs": [],
   "source": [
    "# pca = PCA(n_components = test_omics.shape[1])\n",
    "# pca.fit(train_drugs)"
   ]
  },
  {
   "cell_type": "code",
   "execution_count": 123,
   "id": "571ff7a1-4088-40c7-9fd7-a97e74c96f83",
   "metadata": {},
   "outputs": [],
   "source": [
    "# test_drugs = pca.transform(test_drugs)"
   ]
  },
  {
   "cell_type": "code",
   "execution_count": 124,
   "id": "494d5ae5-5e7a-4e2b-b470-4b71b369345a",
   "metadata": {},
   "outputs": [],
   "source": [
    "# test_drugs.shape"
   ]
  },
  {
   "cell_type": "code",
   "execution_count": 125,
   "id": "ad1480a7-ea4d-4046-aee7-2eb00c324076",
   "metadata": {},
   "outputs": [],
   "source": [
    "preds_test_catch = []\n",
    "test_catch = []\n",
    "li_catch = []\n",
    "ui_catch = []\n",
    "for i in range(0,6):\n",
    "    preds = catch[i][-2][1]\n",
    "    actual = catch[i][-2][0]\n",
    "    preds_test_catch.append(preds)\n",
    "    test_catch.append(actual)\n",
    "#     best_log_sigma_points_1 = catch[i][-3]\n",
    "#     current_aug_state1, column_mod_11, column_mod_21, log_sigma_points_1 = get_targets_with_weights(test_omics, test_drugs, params, best_log_sigma_points_1)\n",
    "            \n",
    "#     initial_targets_test = column_mod_11 + column_mod_21\n",
    "            \n",
    "#     initial_targets_test = initial_targets_test.reshape(size_ens, test_omics.shape[0],1)\n",
    "            \n",
    "#     initial_targets_test_mean = initial_targets_test.mean(0)\n",
    "    \n",
    "    # preds_test_catch.append(preds)\n",
    "    \n",
    "    li = catch[i][-1][0]\n",
    "    li_catch.append(li)\n",
    "            \n",
    "    ui = catch[i][-1][1]\n",
    "    ui_catch.append(ui)\n",
    "            \n",
    "#     width = ui - li\n",
    "            \n",
    "#     avg_width = np.mean(width)"
   ]
  },
  {
   "cell_type": "code",
   "execution_count": 126,
   "id": "80d409df-f7ea-457c-8328-c4a8dd2a1384",
   "metadata": {},
   "outputs": [],
   "source": [
    "preds_test_catch = [inner for item in preds_test_catch for inner in item]"
   ]
  },
  {
   "cell_type": "code",
   "execution_count": 127,
   "id": "d87e80d2-b7c8-422f-ae01-8a8090e1703c",
   "metadata": {},
   "outputs": [],
   "source": [
    "test_catch = [inner for item in test_catch for inner in item]"
   ]
  },
  {
   "cell_type": "code",
   "execution_count": 128,
   "id": "fb71411d-6e3b-44d3-94bb-7d8dc7cba206",
   "metadata": {},
   "outputs": [],
   "source": [
    "li_catch =  [inner for item in li_catch for inner in item]"
   ]
  },
  {
   "cell_type": "code",
   "execution_count": 129,
   "id": "a8dbeab3-5fd7-4b5e-b31b-b8cad9facdf1",
   "metadata": {},
   "outputs": [],
   "source": [
    "ui_catch =  [inner for item in ui_catch for inner in item]"
   ]
  },
  {
   "cell_type": "code",
   "execution_count": 130,
   "id": "37e9c72d-01e9-4e3c-a4cb-c4c398f9c399",
   "metadata": {},
   "outputs": [],
   "source": [
    "# avg_width"
   ]
  },
  {
   "cell_type": "code",
   "execution_count": 131,
   "id": "8f961636-d73f-4641-8ac9-8bfdaef5fae1",
   "metadata": {},
   "outputs": [],
   "source": [
    "# y_test_preds = np.array(preds_test_catch).mean(0)"
   ]
  },
  {
   "cell_type": "code",
   "execution_count": 132,
   "id": "5fd644b6-40c2-4a51-926e-6b8fca198cb0",
   "metadata": {},
   "outputs": [],
   "source": [
    "# y_test_preds.shape"
   ]
  },
  {
   "cell_type": "code",
   "execution_count": 133,
   "id": "09037b75-8196-43bb-a5fa-29b7e5a1e7a3",
   "metadata": {},
   "outputs": [],
   "source": [
    "li = np.array(li_catch).reshape(-1,1)"
   ]
  },
  {
   "cell_type": "code",
   "execution_count": 134,
   "id": "a975b57a-c977-41d0-b252-23ccb3f92fee",
   "metadata": {},
   "outputs": [],
   "source": [
    "ui = np.array(ui_catch).reshape(-1,1)"
   ]
  },
  {
   "cell_type": "code",
   "execution_count": 135,
   "id": "ad48f74e-1ad5-44f8-92c6-afd517ce780b",
   "metadata": {},
   "outputs": [],
   "source": [
    "y_test = np.array(test_catch).reshape(-1,1)"
   ]
  },
  {
   "cell_type": "code",
   "execution_count": 136,
   "id": "2f000a96-87e8-4b54-b2ae-45892def9283",
   "metadata": {},
   "outputs": [],
   "source": [
    "ind_test = (y_test >= li) & (y_test <= ui)"
   ]
  },
  {
   "cell_type": "code",
   "execution_count": 137,
   "id": "00efb167-ad08-4238-a845-f0747182476e",
   "metadata": {},
   "outputs": [],
   "source": [
    "# ind_test.mean()"
   ]
  },
  {
   "cell_type": "code",
   "execution_count": 138,
   "id": "e1abdd63-5e07-4925-8c43-e270fe3d4991",
   "metadata": {},
   "outputs": [],
   "source": [
    "width = np.array(ui_catch) - np.array(li_catch)"
   ]
  },
  {
   "cell_type": "code",
   "execution_count": 139,
   "id": "3225935b-d507-473c-bb48-4f4743faeee9",
   "metadata": {},
   "outputs": [
    {
     "data": {
      "text/plain": [
       "6.418559246153115"
      ]
     },
     "execution_count": 139,
     "metadata": {},
     "output_type": "execute_result"
    }
   ],
   "source": [
    "np.mean(width)"
   ]
  },
  {
   "cell_type": "code",
   "execution_count": 140,
   "id": "029d43c4-12ae-4078-9c3a-8abec730f283",
   "metadata": {},
   "outputs": [],
   "source": [
    "y_test_preds = np.array(preds_test_catch).reshape(-1,1)"
   ]
  },
  {
   "cell_type": "code",
   "execution_count": 141,
   "id": "abd47b50-cf3a-4048-aa42-b7381f357421",
   "metadata": {},
   "outputs": [],
   "source": [
    "y_test = np.array(test_catch).reshape(-1,1)"
   ]
  },
  {
   "cell_type": "code",
   "execution_count": 142,
   "id": "b8fca8fd-e5bf-4ded-bf2b-d17ccb0fc39f",
   "metadata": {},
   "outputs": [
    {
     "data": {
      "text/plain": [
       "1.414052172832813"
      ]
     },
     "execution_count": 142,
     "metadata": {},
     "output_type": "execute_result"
    }
   ],
   "source": [
    "np.sqrt(mean_squared_error(y_test, y_test_preds))"
   ]
  },
  {
   "cell_type": "code",
   "execution_count": 143,
   "id": "84a13ba4-0ec0-495a-98d7-79b79a6fcbf0",
   "metadata": {},
   "outputs": [
    {
     "data": {
      "text/plain": [
       "0.7469477829514723"
      ]
     },
     "execution_count": 143,
     "metadata": {},
     "output_type": "execute_result"
    }
   ],
   "source": [
    "pearsonr(y_test[:,0], y_test_preds[:,0])[0]"
   ]
  },
  {
   "cell_type": "code",
   "execution_count": 144,
   "id": "c86c8bcb-5150-47e4-8387-99d188263c66",
   "metadata": {},
   "outputs": [
    {
     "data": {
      "image/png": "[encoded data removed]",
      "text/plain": [
       "<Figure size 640x480 with 1 Axes>"
      ]
     },
     "metadata": {},
     "output_type": "display_data"
    }
   ],
   "source": [
    "fig  = plt.figure()\n",
    "plt.scatter(y_test[:,0], y_test_preds[:,0], alpha = 0.2)\n",
    "plt.axline((0,0), slope = 1, c = \"black\", linewidth = 3)\n",
    "plt.xlabel(\"Observed Log IC50\", fontweight = \"bold\", fontsize = 15)\n",
    "plt.ylabel(\"MEnKF-ANN Predicted Log IC50\", fontweight = \"bold\", fontsize = 15)\n",
    "plt.xticks(fontsize = 15, fontweight = \"bold\")\n",
    "plt.yticks(fontsize = 15, fontweight = \"bold\")\n",
    "fig.savefig('Plots/Scatter_Test_With_PCA_proper_CV_no_valid.pdf', bbox_inches='tight', format = \"pdf\")\n",
    "fig.savefig('Plots/Scatter_Test_With_PCA_proper_CV_no_valid.png', bbox_inches='tight')\n",
    "plt.show()"
   ]
  },
  {
   "cell_type": "code",
   "execution_count": 145,
   "id": "f421979d-9a9f-4b36-b1a0-b818dc5f9193",
   "metadata": {},
   "outputs": [],
   "source": [
    "# ui"
   ]
  },
  {
   "cell_type": "code",
   "execution_count": 146,
   "id": "b06e776f-a5a7-4bce-81c2-31e171c3cd2b",
   "metadata": {},
   "outputs": [],
   "source": [
    "# current_aug_state1, column_mod_11, column_mod_21, log_sigma_points_1 = get_targets_with_weights(test_omics, test_drugs, best_initial_ensembles, best_log_sigma_points_1)\n",
    "            \n",
    "# initial_targets = column_mod_11 + column_mod_21\n",
    "            \n",
    "# initial_targets = initial_targets.reshape(size_ens, test_omics.shape[0],1)\n",
    "            \n",
    "# initial_targets_test = initial_targets"
   ]
  },
  {
   "cell_type": "code",
   "execution_count": 147,
   "id": "cea92bf9-1992-4f0e-8b1f-62a0ed8ed4d2",
   "metadata": {},
   "outputs": [],
   "source": [
    "# # initial_targets_softmax = expit(initial_targets)    \n",
    "            \n",
    "# initial_targets_test_mean = initial_targets_test.mean(0)\n",
    "            \n",
    "# li = np.percentile(initial_targets_test, axis = 0, q = (2.5, 97.5))[0,:,:]\n",
    "            \n",
    "# ui = np.percentile(initial_targets_test, axis = 0, q = (2.5, 97.5))[1,:,:]\n",
    "            \n",
    "# width = ui - li\n",
    "            \n",
    "# avg_width = np.mean(width)\n",
    "            \n",
    "# catch_test_probs = (y_test)\n",
    "            \n",
    "# ind_test = (catch_test_probs >= li) & (catch_test_probs <= ui)\n",
    "                        \n",
    "# coverage_test = np.mean(ind_test.ravel())    \n",
    "\n",
    "            \n",
    "# test_mae = np.sqrt(mean_squared_error(catch_test_probs, initial_targets_test_mean))\n",
    "\n",
    "# stats_pearson = stats.pearsonr(catch_test_probs.reshape(catch_test_probs.shape[0],),\n",
    "#                                            initial_targets_test_mean.reshape(initial_targets_test_mean.shape[0]))"
   ]
  },
  {
   "cell_type": "code",
   "execution_count": 148,
   "id": "7e03b7d8-504b-4fd2-bc7b-b8bac7a2bb00",
   "metadata": {},
   "outputs": [],
   "source": [
    "# stats_pearson"
   ]
  },
  {
   "cell_type": "code",
   "execution_count": 149,
   "id": "3c950c80-c06d-42f5-938a-699658ddee4d",
   "metadata": {},
   "outputs": [],
   "source": [
    "# string = \"Real_World_EnKF_DeepCDR_\" + \"Neurons_\" + str(h1)  + \"_Gamma_\" +  str(gamma_param) +  \"_var_weights_\" + str(var_weights) + \"_num_ens_\" + str(size_ens)"
   ]
  },
  {
   "cell_type": "code",
   "execution_count": 150,
   "id": "c54e559f-315e-4d51-a113-effe6695dc01",
   "metadata": {},
   "outputs": [],
   "source": [
    "# string = \"First_Three_Real_World_EnKF_DeepCDR_\" + \"Neurons_\" + str(h1)  + \"_Gamma_\" +  str(gamma_param) +  \"_var_weights_\" + str(var_weights) + \"_num_ens_\" + str(size_ens)"
   ]
  },
  {
   "cell_type": "code",
   "execution_count": 151,
   "id": "4213b5a0-b128-4d90-8eaf-ef7058c2e38b",
   "metadata": {},
   "outputs": [],
   "source": [
    "# string"
   ]
  },
  {
   "cell_type": "code",
   "execution_count": 152,
   "id": "01d8448d",
   "metadata": {},
   "outputs": [],
   "source": [
    "# catch_coverages = [best_train_mae, best_valid_mae, best_test_mae, best_train_coverage, best_test_coverage, best_valid_coverage, best_test_coverage, \\\n",
    "#     best_train_width, best_valid_width , best_test_width, best_drugs_weight, best_r_train, best_r_valid, best_r, exit_iter_no_thresh, time_taken, best_initial_ensembles, best_log_sigma_points_1]"
   ]
  },
  {
   "cell_type": "code",
   "execution_count": 153,
   "id": "cb1027fa-cc7a-4adf-8a6a-db23a1d6323d",
   "metadata": {},
   "outputs": [],
   "source": [
    "# best_train_mae, best_valid_mae, best_test_mae, best_train_coverage, best_test_coverage, best_valid_coverage, best_test_coverage, \\\n",
    "#     best_train_width, best_valid_width , best_test_width, (1-best_drugs_weight), best_r_train, best_r_valid, best_r, exit_iter_no_thresh, time_taken, best_initial_ensembles, best_log_sigma_points_1"
   ]
  },
  {
   "cell_type": "code",
   "execution_count": 154,
   "id": "3e0f11d9-de11-4880-be84-4340352ce23c",
   "metadata": {},
   "outputs": [],
   "source": [
    "# with open(\"Preds_Mutation_Methylation\" + \".pkl\", 'wb') as f:\n",
    "#     pickle.dump(catch_coverages, f)"
   ]
  },
  {
   "cell_type": "code",
   "execution_count": 155,
   "id": "f80681cc-ed49-44c9-9373-52944bc8d658",
   "metadata": {},
   "outputs": [],
   "source": [
    "# fig  = plt.figure()\n",
    "# plt.scatter(y_test, initial_targets_test_mean, alpha = 0.5)\n",
    "# plt.axline((0,0), slope = 1, c = \"black\", linewidth = 3)\n",
    "# plt.xlabel(\"Observed Log IC50\", fontweight = \"bold\", fontsize = 15)\n",
    "# plt.ylabel(\"MEnKF-ANN Predicted Log IC50\", fontweight = \"bold\", fontsize = 15)\n",
    "# plt.xticks(fontsize = 15, fontweight = \"bold\")\n",
    "# plt.yticks(fontsize = 15, fontweight = \"bold\")\n",
    "# fig.savefig('Plots/Avg_Smile_Weight_Tajectory.pdf', bbox_inches='tight', format = \"pdf\")\n",
    "# fig.savefig('Plots/Avg_Smile_Weight_Tajectory.png', bbox_inches='tight')\n",
    "# plt.show()"
   ]
  },
  {
   "cell_type": "code",
   "execution_count": 156,
   "id": "1e8200e5-b784-49c8-9ae9-fd7ee5a2e71d",
   "metadata": {},
   "outputs": [],
   "source": [
    "# catch_coverages"
   ]
  },
  {
   "cell_type": "code",
   "execution_count": 157,
   "id": "d0f27b29",
   "metadata": {},
   "outputs": [],
   "source": [
    "# catch_coverages"
   ]
  },
  {
   "cell_type": "code",
   "execution_count": 158,
   "id": "647980a7-9ae3-4c5c-b25c-2e37b6a84679",
   "metadata": {},
   "outputs": [],
   "source": [
    "# check = pd.DataFrame(catch_coverages[:10])"
   ]
  },
  {
   "cell_type": "code",
   "execution_count": 159,
   "id": "e061792a-e589-486e-b8d2-336622f6bf34",
   "metadata": {},
   "outputs": [],
   "source": [
    "# check"
   ]
  },
  {
   "cell_type": "code",
   "execution_count": 160,
   "id": "fa101efc-351b-4645-87a3-f008abf1ff3d",
   "metadata": {},
   "outputs": [],
   "source": [
    "# check"
   ]
  },
  {
   "cell_type": "code",
   "execution_count": 161,
   "id": "77536655-0afd-4976-980a-fa7a28b55201",
   "metadata": {},
   "outputs": [],
   "source": [
    "# check.columns = [\"train_mae\", \"test_mae\", \"avg_ci_width_train\", \"avg_ci_width_test\", \"avg_lstm_weight\", \"exit_iter\", \"exit_status\"]"
   ]
  },
  {
   "cell_type": "code",
   "execution_count": 162,
   "id": "cd8cefbd-9076-469e-a5dc-dc4637846308",
   "metadata": {},
   "outputs": [],
   "source": [
    "# check = check.T\n"
   ]
  },
  {
   "cell_type": "code",
   "execution_count": 163,
   "id": "8596dfc5",
   "metadata": {},
   "outputs": [],
   "source": [
    "# check"
   ]
  },
  {
   "cell_type": "code",
   "execution_count": 164,
   "id": "4fc1dcac-24b2-45e7-ae4c-e55eca90a6c6",
   "metadata": {},
   "outputs": [],
   "source": [
    "# check.columns = [\"train_mae\", \"test_mae\", \"train_coverage\", \"train_width\", \"test_coverage\", \"test_width\", \"exit_iter\", \"time_taken\", \"avg_width_alginate\"]"
   ]
  },
  {
   "cell_type": "code",
   "execution_count": 165,
   "id": "dc699633-60c4-4774-93ef-e90160803672",
   "metadata": {},
   "outputs": [],
   "source": [
    "# check.columns = [\"train_mae\", \"test_mae\", \"train_coverage\", \"train_width\", \"test_coverage\", \"test_width\", \"drug_weight\" , \"pearson_correlation\" ,\"exit_iter\", \"time_taken\"]"
   ]
  },
  {
   "cell_type": "code",
   "execution_count": 166,
   "id": "4089a2ab-43f9-4e24-a7ed-add7bdc14156",
   "metadata": {},
   "outputs": [],
   "source": [
    "# true_preds = [inner for item in true_preds for inner in item]"
   ]
  },
  {
   "cell_type": "code",
   "execution_count": 167,
   "id": "65492b8d-d7e4-4375-8577-d79a633680b7",
   "metadata": {},
   "outputs": [],
   "source": [
    "# enkf_preds = [inner for item in enkf_preds for inner in item]"
   ]
  },
  {
   "cell_type": "code",
   "execution_count": 168,
   "id": "19776731-14c7-43c3-bd48-163aa67e2c76",
   "metadata": {},
   "outputs": [],
   "source": [
    "# np.mean(np.abs(np.array(true_preds)-np.array(enkf_preds)))"
   ]
  },
  {
   "cell_type": "code",
   "execution_count": 169,
   "id": "1ebada74-6fe8-4f58-a939-87ca7399aef8",
   "metadata": {},
   "outputs": [],
   "source": [
    "# plt.scatter(enkf_preds,true_preds, alpha=0.5)\n",
    "# plt.xlabel(\"EnKF Predictions\", fontsize = 15, fontweight = \"bold\")\n",
    "# plt.ylabel(\"LSTM Predictions\", fontsize = 15, fontweight = \"bold\")\n",
    "# plt.xticks( fontsize = 10, fontweight = \"bold\")\n",
    "# plt.yticks( fontsize = 10, fontweight = \"bold\")\n",
    "# plt.axline((0, 0), slope=1)\n",
    "# plt.show()"
   ]
  },
  {
   "cell_type": "code",
   "execution_count": 170,
   "id": "dd706672-8fd1-4f54-88a2-d377f1b2d7d3",
   "metadata": {},
   "outputs": [],
   "source": [
    "# cur_idx = 0"
   ]
  },
  {
   "cell_type": "code",
   "execution_count": 171,
   "id": "ead27b05-299e-49dc-bb97-236a18cd05e5",
   "metadata": {},
   "outputs": [],
   "source": [
    "# catch_preds = []\n",
    "# for i in range(0, catch_coverages[cur_idx][-1].shape[1]):\n",
    "#     enkf_preds = catch_coverages[cur_idx][-1][:,i,:]\n",
    "#     enkf_preds_df = pd.DataFrame(enkf_preds)\n",
    "#     enkf_preds_df[\"Test_Sample_ID\"] = i \n",
    "#     enkf_preds_df.columns = [\"EnKF_Preds\", \"Test_Sample_ID\"]\n",
    "#     catch_preds.append(enkf_preds_df)"
   ]
  },
  {
   "cell_type": "code",
   "execution_count": 172,
   "id": "76f88a3c-8152-4b54-8eea-761701d7b7cc",
   "metadata": {},
   "outputs": [],
   "source": [
    "# catch_preds_df = pd.concat(catch_preds)"
   ]
  },
  {
   "cell_type": "code",
   "execution_count": 173,
   "id": "6614c144-29c3-451d-a6c6-a624aa4096a1",
   "metadata": {},
   "outputs": [],
   "source": [
    "# import seaborn as sns"
   ]
  },
  {
   "cell_type": "code",
   "execution_count": 174,
   "id": "45f52dcf-cc5b-4af0-b495-9c0601729154",
   "metadata": {},
   "outputs": [],
   "source": [
    "# filtered_df = expit(catch1[cur_idx][2])"
   ]
  },
  {
   "cell_type": "code",
   "execution_count": 175,
   "id": "51405252-c830-4c95-90d8-e42cffcae59b",
   "metadata": {},
   "outputs": [],
   "source": [
    "# # plt.figure(figsize = (10,10))\n",
    "# fig = sns.boxplot(catch_preds_df, x=\"Test_Sample_ID\", y=\"EnKF_Preds\", showfliers=False)\n",
    "# plt.scatter(range(0, filtered_df.shape[0]), filtered_df, c = \"black\", s = 50)\n",
    "# plt.xlabel(\"Test Sample ID\", fontsize = 15, fontweight = \"bold\")\n",
    "# plt.ylabel(\"EnKF Predictions\", fontsize = 15, fontweight = \"bold\")\n",
    "# plt.xticks(fontsize = 10, fontweight = \"bold\")\n",
    "# plt.yticks(fontsize = 10, fontweight = \"bold\")\n",
    "# plt.show()"
   ]
  },
  {
   "cell_type": "code",
   "execution_count": 176,
   "id": "ab4ef63f-a716-4006-8923-39df160647d8",
   "metadata": {},
   "outputs": [],
   "source": [
    "# ids = [i for i in range(0, filtered_df.shape[0]) if filtered_df[i] < 0.5]\n",
    "# ids_more = [i for i in range(0, filtered_df.shape[0]) if filtered_df[i] > 0.5]"
   ]
  },
  {
   "cell_type": "code",
   "execution_count": 177,
   "id": "0976b8bc-6faa-4c8e-a9d1-3b666d9435e0",
   "metadata": {},
   "outputs": [],
   "source": [
    "# catch_preds_df.groupby(\"Test_Sample_ID\").quantile(q = [0.025, 0.975])"
   ]
  },
  {
   "cell_type": "code",
   "execution_count": 178,
   "id": "64886e1a-d858-4ea8-9cc4-51ab0b072286",
   "metadata": {},
   "outputs": [],
   "source": [
    "# catch_preds_df_filtered = catch_preds_df[catch_preds_df[\"Test_Sample_ID\"].isin(ids_more)]"
   ]
  },
  {
   "cell_type": "code",
   "execution_count": 179,
   "id": "6ecec8de-d825-4191-9f35-705382466d97",
   "metadata": {},
   "outputs": [],
   "source": [
    "# filtered_true = filtered_df[ids_more,:]"
   ]
  },
  {
   "cell_type": "code",
   "execution_count": 180,
   "id": "860a9f6b-a286-4855-8530-2c2d71d08737",
   "metadata": {},
   "outputs": [],
   "source": [
    "# # plt.figure(figsize = (10,10))\n",
    "# fig = sns.boxplot(catch_preds_df_filtered, x=\"Test_Sample_ID\", y=\"EnKF_Preds\", showfliers=False)\n",
    "# plt.scatter(range(0, filtered_true.shape[0]), filtered_true, c = \"black\", s = 50)\n",
    "# plt.xlabel(\"Test Sample ID\", fontsize = 15, fontweight = \"bold\")\n",
    "# plt.ylabel(\"EnKF Predictions\", fontsize = 15, fontweight = \"bold\")\n",
    "# plt.xticks(fontsize = 10, fontweight = \"bold\")\n",
    "# plt.yticks(fontsize = 10, fontweight = \"bold\")\n",
    "# plt.show()"
   ]
  },
  {
   "cell_type": "code",
   "execution_count": 181,
   "id": "ec177a9b-74aa-4458-a88e-a8b1ab1deff6",
   "metadata": {},
   "outputs": [],
   "source": [
    "# catch_preds_df_filtered = catch_preds_df[catch_preds_df[\"Test_Sample_ID\"].isin(ids)]\n",
    "# filtered_true = filtered_df[ids,:]\n",
    "# # plt.figure(figsize = (10,10))\n",
    "# fig = sns.boxplot(catch_preds_df_filtered, x=\"Test_Sample_ID\", y=\"EnKF_Preds\", showfliers=False)\n",
    "# plt.scatter(range(0, filtered_true.shape[0]), filtered_true, c = \"black\")\n",
    "# plt.xlabel(\"Test Sample ID\", fontsize = 15, fontweight = \"bold\")\n",
    "# plt.ylabel(\"EnKF Predictions\", fontsize = 15, fontweight = \"bold\")\n",
    "# plt.xticks(fontsize = 10, fontweight = \"bold\")\n",
    "# plt.yticks(fontsize = 10, fontweight = \"bold\")\n",
    "# plt.show()\n",
    "# # plt.ylim((0.9,1.0))"
   ]
  }
 ],
 "metadata": {
  "kernelspec": {
   "display_name": "enkf",
   "language": "python",
   "name": "enkf"
  },
  "language_info": {
   "codemirror_mode": {
    "name": "ipython",
    "version": 3
   },
   "file_extension": ".py",
   "mimetype": "text/x-python",
   "name": "python",
   "nbconvert_exporter": "python",
   "pygments_lexer": "ipython3",
   "version": "3.11.3"
  }
 },
 "nbformat": 4,
 "nbformat_minor": 5
}
