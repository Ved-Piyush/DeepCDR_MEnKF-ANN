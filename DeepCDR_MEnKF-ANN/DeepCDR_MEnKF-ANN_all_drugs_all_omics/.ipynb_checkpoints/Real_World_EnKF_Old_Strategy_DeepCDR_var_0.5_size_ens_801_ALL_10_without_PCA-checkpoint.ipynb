{
 "cells": [
  {
   "cell_type": "code",
   "execution_count": 1,
   "id": "d7ab5bf3",
   "metadata": {},
   "outputs": [],
   "source": [
    "import pandas as pd\n",
    "from tqdm import tqdm\n",
    "# import gensim\n",
    "import os\n",
    "os.environ['TF_CPP_MIN_LOG_LEVEL'] = '3' \n",
    "# os.chdir(r\"D://Proposal_Defense//Simulations\")\n",
    "# from Utils.Script_utils import get_data_splits, first_LSTM_training, get_data_splits_old_algo\n",
    "from joblib import Parallel, delayed\n",
    "import sys\n",
    "from scipy.stats import norm"
   ]
  },
  {
   "cell_type": "code",
   "execution_count": 2,
   "id": "36084258",
   "metadata": {},
   "outputs": [
    {
     "name": "stdout",
     "output_type": "stream",
     "text": [
      "No GPU found\n"
     ]
    }
   ],
   "source": [
    "# Seed value\n",
    "# Apparently you may use different seed values at each stage\n",
    "seed_value= 42\n",
    "\n",
    "# 1. Set the `PYTHONHASHSEED` environment variable at a fixed value\n",
    "import os\n",
    "os.environ['PYTHONHASHSEED']=str(seed_value)\n",
    "\n",
    "# 2. Set the `python` built-in pseudo-random generator at a fixed value\n",
    "import random\n",
    "random.seed(seed_value)\n",
    "\n",
    "# 3. Set the `numpy` pseudo-random generator at a fixed value\n",
    "import numpy as np\n",
    "np.random.seed(seed_value)\n",
    "\n",
    "# # 4. Set the `tensorflow` pseudo-random generator at a fixed value\n",
    "import tensorflow as tf\n",
    "os.environ['CUDA_VISIBLE_DEVICES'] = '-1'\n",
    "\n",
    "if tf.test.gpu_device_name():\n",
    "    print('GPU found')\n",
    "else:\n",
    "    print(\"No GPU found\")\n",
    "# tf.config.set_visible_devices([], 'GPU')\n",
    "\n",
    "from tqdm.notebook import tqdm\n",
    "tf.random.set_seed(seed_value)\n",
    "import multiprocessing\n",
    "# for later versions: \n",
    "# tf.compat.v1.set_random_seed(seed_value)\n",
    "\n",
    "# 5. Configure a new global `tensorflow` session\n",
    "# from keras import backend as K\n",
    "# session_conf = tf.compat.v1.ConfigProto(intra_op_parallelism_threads=1, inter_op_parallelism_threads=1)\n",
    "# sess = tf.compat.v1.Session(graph=tf.compat.v1.get_default_graph(), config=session_conf)\n",
    "# K.set_session(sess)"
   ]
  },
  {
   "cell_type": "code",
   "execution_count": 3,
   "id": "e036b858",
   "metadata": {},
   "outputs": [],
   "source": [
    "import matplotlib.pyplot as plt\n",
    "\n",
    "import pickle"
   ]
  },
  {
   "cell_type": "code",
   "execution_count": 4,
   "id": "7aba28b2-8ac3-4f34-90cd-f89214f63110",
   "metadata": {},
   "outputs": [],
   "source": [
    "# data[\"high_level_substr\"].value_counts()"
   ]
  },
  {
   "cell_type": "code",
   "execution_count": 5,
   "id": "a0db48ca-0165-40d8-9bdc-2dcc0bd77efe",
   "metadata": {},
   "outputs": [],
   "source": [
    "# alginate_doc2vec_vecs"
   ]
  },
  {
   "cell_type": "code",
   "execution_count": 6,
   "id": "d02c4f20-faf2-4e10-86f6-9ca8a295b770",
   "metadata": {},
   "outputs": [],
   "source": [
    "# data[\"high_level_substr\"].value_counts()"
   ]
  },
  {
   "cell_type": "code",
   "execution_count": 7,
   "id": "a1221543-b1fd-4225-91c9-1f372ac315e3",
   "metadata": {},
   "outputs": [],
   "source": [
    "path = os.getcwd() + \"//dataset_1\""
   ]
  },
  {
   "cell_type": "code",
   "execution_count": 8,
   "id": "6dd7d977-20bc-4012-a710-291b706cf0a2",
   "metadata": {},
   "outputs": [],
   "source": [
    "# ## read in all the drug features\n",
    "# ## for train test and valid\n",
    "train_drugs = np.load(path + \"//\" + \"train_drug.npy\")\n",
    "# valid_drugs = np.load(path + \"//\" + \"valid_drug.npy\")\n",
    "# test_drugs = np.load(path + \"//\" + \"test_drug.npy\")"
   ]
  },
  {
   "cell_type": "code",
   "execution_count": 9,
   "id": "d8ad0799-99d9-435f-923d-a77cebe3986e",
   "metadata": {},
   "outputs": [],
   "source": [
    "idxs = list(set(range(0, train_drugs.shape[1])).difference(range(30,60)))"
   ]
  },
  {
   "cell_type": "code",
   "execution_count": 10,
   "id": "62c9e28e-57e1-4989-9377-779597ab9187",
   "metadata": {},
   "outputs": [],
   "source": [
    "# ## read in all the omics features\n",
    "# ## for train test and valid\n",
    "train_omics = np.load(path + \"//\" + \"train_omics.npy\")[:, idxs]\n",
    "# valid_omics = np.load(path + \"//\" + \"valid_omics.npy\")\n",
    "# test_omics = np.load(path + \"//\" + \"test_omics.npy\")"
   ]
  },
  {
   "cell_type": "code",
   "execution_count": 11,
   "id": "44ebb88c-545f-4e3f-b770-a2217cf4151c",
   "metadata": {},
   "outputs": [
    {
     "data": {
      "text/plain": [
       "(500, 60)"
      ]
     },
     "execution_count": 11,
     "metadata": {},
     "output_type": "execute_result"
    }
   ],
   "source": [
    "train_omics.shape"
   ]
  },
  {
   "cell_type": "code",
   "execution_count": 12,
   "id": "bf5e1d3d-dd3c-45fb-a82b-4195c53d6243",
   "metadata": {},
   "outputs": [],
   "source": [
    "train_omics1 = np.load(path + \"//\" + \"train_omics.npy\")"
   ]
  },
  {
   "cell_type": "code",
   "execution_count": 13,
   "id": "7eddc33a-3569-4beb-a34b-6f70533a55db",
   "metadata": {},
   "outputs": [],
   "source": [
    "# train_omics1.sum(0)"
   ]
  },
  {
   "cell_type": "code",
   "execution_count": 14,
   "id": "650a3031-0121-4457-8d37-ed9cc74ab1d4",
   "metadata": {},
   "outputs": [],
   "source": [
    "# ## read in all the labels \n",
    "# ## for train test and valid\n",
    "# y_train = np.load(path + \"//\" + \"train_y.npy\")\n",
    "# y_valid = np.load(path + \"//\" + \"valid_y.npy\")\n",
    "# y_test = np.load(path + \"//\" + \"test_y.npy\")"
   ]
  },
  {
   "cell_type": "code",
   "execution_count": 15,
   "id": "16b2eaeb-68be-4fd1-83c6-e87eee1090b7",
   "metadata": {},
   "outputs": [],
   "source": [
    "# train_drugs.shape"
   ]
  },
  {
   "cell_type": "code",
   "execution_count": 16,
   "id": "959e7a79-da91-43f9-9fbe-f4c3a3f4c859",
   "metadata": {},
   "outputs": [],
   "source": [
    "# valid_drugs.shape"
   ]
  },
  {
   "cell_type": "code",
   "execution_count": 17,
   "id": "05b71c4c-55c5-44d2-8248-aca4318bfd8a",
   "metadata": {},
   "outputs": [],
   "source": [
    "# test_drugs.shape"
   ]
  },
  {
   "cell_type": "code",
   "execution_count": 18,
   "id": "4da7a93c-628e-48cb-9d2b-215a4803423d",
   "metadata": {},
   "outputs": [],
   "source": [
    "# y_train.shape"
   ]
  },
  {
   "cell_type": "code",
   "execution_count": 19,
   "id": "9fc3d495-3915-4a91-808b-a33d74336cb3",
   "metadata": {},
   "outputs": [],
   "source": [
    "# y_valid.shape"
   ]
  },
  {
   "cell_type": "code",
   "execution_count": 20,
   "id": "d8454584-dc3b-47b8-8fec-edd993cca409",
   "metadata": {},
   "outputs": [],
   "source": [
    "# y_test.shape"
   ]
  },
  {
   "cell_type": "code",
   "execution_count": 21,
   "id": "76624ecc-8bb7-4e52-b95d-1a01cecacb5b",
   "metadata": {},
   "outputs": [],
   "source": [
    "def ann(hidden = 10, input_shape = 60): \n",
    "    input_layer = tf.keras.layers.Input(shape = (input_shape))\n",
    "    hidden_layer = tf.keras.layers.Dense(hidden)\n",
    "    hidden_output = hidden_layer(input_layer)\n",
    "    pred_layer = tf.keras.layers.Dense(1)\n",
    "    pred_output = pred_layer(hidden_output)\n",
    "#     pred_output = tf.keras.layers.Activation(\"softmax\")(pred_output)\n",
    "    model = tf.keras.models.Model(input_layer, pred_output)\n",
    "    return model"
   ]
  },
  {
   "cell_type": "code",
   "execution_count": 22,
   "id": "b8153ea5-cefc-4075-994d-c51461505e8b",
   "metadata": {},
   "outputs": [],
   "source": [
    "# X_train_word2vec = train_drugs"
   ]
  },
  {
   "cell_type": "code",
   "execution_count": 23,
   "id": "95a7d5f5-e03c-4de4-8bea-d4821cc7209d",
   "metadata": {},
   "outputs": [],
   "source": [
    "h1, h2 = 16,16"
   ]
  },
  {
   "cell_type": "code",
   "execution_count": 24,
   "id": "b2ff179a-2c64-4bae-bfd5-3ce7f4b40fb5",
   "metadata": {},
   "outputs": [],
   "source": [
    "\n",
    "\n",
    "ann_15 = ann(h1)\n",
    "\n",
    "\n",
    "# In[35]:\n",
    "\n",
    "\n",
    "# ann_15.summary()\n",
    "\n",
    "\n",
    "# In[36]:\n",
    "\n"
   ]
  },
  {
   "cell_type": "code",
   "execution_count": 25,
   "id": "0bf5144e-59f2-413e-af30-39407819094c",
   "metadata": {},
   "outputs": [
    {
     "name": "stdout",
     "output_type": "stream",
     "text": [
      "Model: \"model\"\n",
      "_________________________________________________________________\n",
      " Layer (type)                Output Shape              Param #   \n",
      "=================================================================\n",
      " input_1 (InputLayer)        [(None, 60)]              0         \n",
      "                                                                 \n",
      " dense (Dense)               (None, 16)                976       \n",
      "                                                                 \n",
      " dense_1 (Dense)             (None, 1)                 17        \n",
      "                                                                 \n",
      "=================================================================\n",
      "Total params: 993\n",
      "Trainable params: 993\n",
      "Non-trainable params: 0\n",
      "_________________________________________________________________\n"
     ]
    }
   ],
   "source": [
    "ann_15.summary()"
   ]
  },
  {
   "cell_type": "code",
   "execution_count": 26,
   "id": "a9c45b5a-9f13-4fd9-b90c-ed94e069b9cc",
   "metadata": {},
   "outputs": [],
   "source": [
    "# X_train_word2vec = train_omics"
   ]
  },
  {
   "cell_type": "code",
   "execution_count": 27,
   "id": "bce5668e-a895-47b4-8f1c-6e5d1fd3c92b",
   "metadata": {},
   "outputs": [],
   "source": [
    "ann_20 = ann(h2, 90)\n",
    "\n",
    "\n",
    "\n",
    "# ann_20.summary()\n",
    "\n"
   ]
  },
  {
   "cell_type": "code",
   "execution_count": 28,
   "id": "6a41f8b5",
   "metadata": {},
   "outputs": [],
   "source": [
    "total_weights_1 = ann_15.count_params()"
   ]
  },
  {
   "cell_type": "code",
   "execution_count": 29,
   "id": "0721ea37",
   "metadata": {},
   "outputs": [],
   "source": [
    "total_weights_2 = ann_20.count_params()"
   ]
  },
  {
   "cell_type": "code",
   "execution_count": 30,
   "id": "4b2ed894",
   "metadata": {},
   "outputs": [],
   "source": [
    "total_weights = total_weights_1 + total_weights_2 + 1 "
   ]
  },
  {
   "cell_type": "code",
   "execution_count": 31,
   "id": "999f5e96",
   "metadata": {},
   "outputs": [
    {
     "data": {
      "text/plain": [
       "2467"
      ]
     },
     "execution_count": 31,
     "metadata": {},
     "output_type": "execute_result"
    }
   ],
   "source": [
    "total_weights"
   ]
  },
  {
   "cell_type": "code",
   "execution_count": 32,
   "id": "feb2ef89",
   "metadata": {},
   "outputs": [],
   "source": [
    "## batch size\n",
    "batch_size = 128"
   ]
  },
  {
   "cell_type": "code",
   "execution_count": 33,
   "id": "4eea8c8e",
   "metadata": {},
   "outputs": [],
   "source": [
    "# var_weights = 0.08\n",
    "# var_targets = 0.08"
   ]
  },
  {
   "cell_type": "code",
   "execution_count": 34,
   "id": "9b49ba9c",
   "metadata": {},
   "outputs": [],
   "source": [
    "from scipy.stats import multivariate_normal as mvn"
   ]
  },
  {
   "cell_type": "code",
   "execution_count": 35,
   "id": "7a60a350",
   "metadata": {},
   "outputs": [],
   "source": [
    "from scipy.stats import invgamma, norm"
   ]
  },
  {
   "cell_type": "code",
   "execution_count": 36,
   "id": "bd888262",
   "metadata": {},
   "outputs": [],
   "source": [
    "from tqdm.notebook import tqdm"
   ]
  },
  {
   "cell_type": "code",
   "execution_count": 37,
   "id": "c3355c48",
   "metadata": {},
   "outputs": [],
   "source": [
    "threshold = 5"
   ]
  },
  {
   "cell_type": "code",
   "execution_count": 38,
   "id": "b1ce82b7",
   "metadata": {},
   "outputs": [],
   "source": [
    "import random"
   ]
  },
  {
   "cell_type": "code",
   "execution_count": 39,
   "id": "7425ecc5",
   "metadata": {},
   "outputs": [],
   "source": [
    "lr = 0.1"
   ]
  },
  {
   "cell_type": "code",
   "execution_count": 40,
   "id": "b7959ab1",
   "metadata": {},
   "outputs": [],
   "source": [
    "import numpy as np"
   ]
  },
  {
   "cell_type": "code",
   "execution_count": 41,
   "id": "1db4063f",
   "metadata": {},
   "outputs": [],
   "source": [
    "weights_ann_1 = ann_15.get_weights()\n",
    "weights_ann_2 = ann_20.get_weights()"
   ]
  },
  {
   "cell_type": "code",
   "execution_count": 42,
   "id": "43a211df",
   "metadata": {},
   "outputs": [],
   "source": [
    "def get_targets_with_weights(batch_data, batch_data1, initial_ensembles, log_sigma_points_1): \n",
    "\n",
    "    n_hidden_1 = len(weights_ann_1[0].ravel())\n",
    "\n",
    "    hidden_weights_1 = initial_ensembles[:,:n_hidden_1].reshape( size_ens, batch_data.shape[1], h1)\n",
    "\n",
    "    \n",
    "    hidden_output_1 = np.einsum('ij,kjl->kil', batch_data, hidden_weights_1)\n",
    "\n",
    "    \n",
    "    hidden_layer_bias_1 = initial_ensembles[:,n_hidden_1:(n_hidden_1 + h1)].reshape(size_ens, 1,  h1)\n",
    "\n",
    "\n",
    "\n",
    "    hidden_output_1 = hidden_output_1 + hidden_layer_bias_1\n",
    "\n",
    "    n_pred_weights_1 = len(weights_ann_1[2].ravel())\n",
    "\n",
    "    output_weights_1 = initial_ensembles[:,(n_hidden_1 + h1):(n_hidden_1 + h1 + n_pred_weights_1) ].reshape(size_ens, h1, 1)\n",
    "\n",
    "    output_1 = np.einsum('ijk,ikl->ijl', hidden_output_1, output_weights_1)\n",
    "\n",
    "\n",
    "    output_layer_bias_1 = initial_ensembles[:,(n_hidden_1 + h1 + n_pred_weights_1):(n_hidden_1 + h1 + n_pred_weights_1 + 1)].reshape(size_ens, 1, 1)\n",
    "\n",
    "\n",
    "\n",
    "    final_output_1 = output_1 + output_layer_bias_1\n",
    "\n",
    "    n_hidden_2 = len(weights_ann_2[0].ravel())\n",
    "\n",
    "    initial_ensembles_1 = initial_ensembles.copy()[:, total_weights_1:(total_weights_1+ total_weights_2)]\n",
    "\n",
    "    hidden_weights_2 = initial_ensembles_1[:,:n_hidden_2].reshape(size_ens, batch_data1.shape[1], h2)\n",
    "\n",
    "\n",
    "\n",
    "    hidden_output_2 = np.einsum('ij,kjl->kil', batch_data1, hidden_weights_2)\n",
    "\n",
    "    hidden_layer_bias_2 = initial_ensembles[:,n_hidden_2:(n_hidden_2 + h2)].reshape(size_ens, 1,  h2)\n",
    "\n",
    "    hidden_output_2 = hidden_output_2+ hidden_layer_bias_2\n",
    "\n",
    "    n_pred_weights_2 = len(weights_ann_2[2].ravel())\n",
    "\n",
    "    output_weights_2 = initial_ensembles_1[:,(n_hidden_2 + h2):(n_hidden_2 + h2 + n_pred_weights_2) ].reshape(size_ens, h2, 1)\n",
    "\n",
    "\n",
    "    output_2 = np.einsum('ijk,ikl->ijl', hidden_output_2, output_weights_2)\n",
    "\n",
    "\n",
    "    output_layer_bias_2 = initial_ensembles_1[:,(n_hidden_2 + h2 + n_pred_weights_2):(n_hidden_2 + h2 + n_pred_weights_2 + 1)].reshape(size_ens, 1, 1)\n",
    "\n",
    "\n",
    "    final_output_2 = output_2 + output_layer_bias_2\n",
    "\n",
    "\n",
    "    weights_1 = initial_ensembles[:, :total_weights_1]\n",
    "\n",
    "    weights_2 = initial_ensembles[:, total_weights_1:(total_weights_1 + total_weights_2)]\n",
    "\n",
    "\n",
    "    avg_weights = initial_ensembles[:, -1].reshape(-1,1)\n",
    "\n",
    "    avg_weights_sig = expit(avg_weights)\n",
    "    \n",
    "    avg_weights_sig = avg_weights_sig.reshape(avg_weights_sig.shape[0], 1, avg_weights_sig.shape[1])\n",
    "    \n",
    "    complement_weights_sig = 1 - expit(avg_weights)\n",
    "    \n",
    "    complement_weights_sig = complement_weights_sig.reshape(complement_weights_sig.shape[0], 1, complement_weights_sig.shape[1])\n",
    "\n",
    "    final_output_1 = final_output_1*complement_weights_sig\n",
    "    \n",
    "    final_output_2 = final_output_2*avg_weights_sig\n",
    "    \n",
    "    output_1_ravel = final_output_1.reshape(size_ens, final_output_1.shape[1]*final_output_1.shape[2])\n",
    "\n",
    "    output_2_ravel = final_output_2.reshape(size_ens, final_output_2.shape[1]*final_output_2.shape[2])\n",
    "\n",
    "\n",
    "    output_1_ravel = output_1_ravel\n",
    "\n",
    "    output_2_ravel = output_2_ravel\n",
    "\n",
    "\n",
    "\n",
    "    weights_1_add = np.zeros((size_ens, (total_weights_2 - total_weights_1)))\n",
    "\n",
    "\n",
    "\n",
    "    weights_1 = np.hstack((weights_1, weights_1_add))\n",
    "    \n",
    "\n",
    "\n",
    "    stack_1 = np.hstack((output_1_ravel, weights_1, np.repeat(0, size_ens).reshape(-1,1), np.repeat(0, size_ens).reshape(-1,1)))\n",
    "\n",
    "\n",
    "\n",
    "    \n",
    "    stack_2 = np.hstack((output_2_ravel, weights_2, avg_weights, log_sigma_points_1))\n",
    "\n",
    "    \n",
    "    initial_aug_state = np.hstack((stack_1, stack_2)) \n",
    "    \n",
    "\n",
    "    return initial_aug_state , output_1_ravel, output_2_ravel, log_sigma_points_1\n",
    "\n"
   ]
  },
  {
   "cell_type": "code",
   "execution_count": 43,
   "id": "4e3ef6e6",
   "metadata": {},
   "outputs": [],
   "source": [
    "import time"
   ]
  },
  {
   "cell_type": "code",
   "execution_count": 44,
   "id": "0eabfdd4",
   "metadata": {},
   "outputs": [],
   "source": [
    "from scipy.stats import multivariate_normal as mvn"
   ]
  },
  {
   "cell_type": "code",
   "execution_count": 45,
   "id": "b982682f",
   "metadata": {},
   "outputs": [],
   "source": [
    "var_weights =1\n",
    "# var_weights_vec = 4\n",
    "# var_targets = 0.04\n",
    "# var_weights = 2"
   ]
  },
  {
   "cell_type": "code",
   "execution_count": 46,
   "id": "10d77915",
   "metadata": {},
   "outputs": [],
   "source": [
    "from scipy.stats import multivariate_normal as mvn"
   ]
  },
  {
   "cell_type": "code",
   "execution_count": 47,
   "id": "a2a6de67",
   "metadata": {},
   "outputs": [],
   "source": [
    "reduction = 15\n",
    "# reduction = 10"
   ]
  },
  {
   "cell_type": "code",
   "execution_count": 48,
   "id": "471e3306",
   "metadata": {},
   "outputs": [],
   "source": [
    "shape_needed = (total_weights + 2*batch_size*1 + 1 + (total_weights_2 - total_weights_1))//reduction"
   ]
  },
  {
   "cell_type": "code",
   "execution_count": 49,
   "id": "63796187",
   "metadata": {},
   "outputs": [],
   "source": [
    "size_ens = shape_needed"
   ]
  },
  {
   "cell_type": "code",
   "execution_count": 50,
   "id": "6aee42b8",
   "metadata": {},
   "outputs": [],
   "source": [
    "size_ens = int(size_ens)"
   ]
  },
  {
   "cell_type": "code",
   "execution_count": 51,
   "id": "bc234219",
   "metadata": {},
   "outputs": [
    {
     "data": {
      "text/plain": [
       "213"
      ]
     },
     "execution_count": 51,
     "metadata": {},
     "output_type": "execute_result"
    }
   ],
   "source": [
    "size_ens"
   ]
  },
  {
   "cell_type": "code",
   "execution_count": 52,
   "id": "ebeb0869-7f0b-4f21-be63-0234896af39f",
   "metadata": {},
   "outputs": [],
   "source": [
    "# train_fudged_probs"
   ]
  },
  {
   "cell_type": "code",
   "execution_count": 53,
   "id": "23d87ffe",
   "metadata": {},
   "outputs": [],
   "source": [
    "import matplotlib.pyplot as plt"
   ]
  },
  {
   "cell_type": "code",
   "execution_count": 54,
   "id": "f5427e43",
   "metadata": {},
   "outputs": [],
   "source": [
    "from scipy.special import expit"
   ]
  },
  {
   "cell_type": "code",
   "execution_count": 55,
   "id": "be0ee1ec",
   "metadata": {},
   "outputs": [],
   "source": [
    "# catch1[0][0]"
   ]
  },
  {
   "cell_type": "code",
   "execution_count": 56,
   "id": "fb492324",
   "metadata": {},
   "outputs": [],
   "source": [
    "# catch_train_logits_second[0]"
   ]
  },
  {
   "cell_type": "code",
   "execution_count": 57,
   "id": "0c2dbaec-3249-404a-9971-c2fc17f68356",
   "metadata": {},
   "outputs": [],
   "source": [
    "from datetime import datetime"
   ]
  },
  {
   "cell_type": "code",
   "execution_count": 58,
   "id": "9cf12935",
   "metadata": {},
   "outputs": [],
   "source": [
    "def expit(x):\n",
    "    \"\"\"Compute softmax values for each sets of scores in x.\"\"\"\n",
    "#     e_x = np.exp(x - np.max(x))\n",
    "    return 1 / (1 + np.exp(-x))"
   ]
  },
  {
   "cell_type": "code",
   "execution_count": 59,
   "id": "ef051014",
   "metadata": {},
   "outputs": [],
   "source": [
    "from scipy.stats import gamma"
   ]
  },
  {
   "cell_type": "code",
   "execution_count": 60,
   "id": "07cb7b8c-4634-46e7-ab75-e865c7116995",
   "metadata": {},
   "outputs": [],
   "source": [
    "# second_lstm[0]"
   ]
  },
  {
   "cell_type": "code",
   "execution_count": 61,
   "id": "5f0e5cb1-4067-46ba-9399-ca30548a10e1",
   "metadata": {},
   "outputs": [],
   "source": [
    "# reduction = 8\n",
    "# var_weights = 1"
   ]
  },
  {
   "cell_type": "code",
   "execution_count": 62,
   "id": "197043a4-b420-4e3b-beaf-699cd7c3db6b",
   "metadata": {},
   "outputs": [],
   "source": [
    "# cur_idx = 16\n",
    "# np.log(catch_test_probs[cur_idx]/(1-catch_test_probs[cur_idx]))"
   ]
  },
  {
   "cell_type": "code",
   "execution_count": 63,
   "id": "5ae6c226-20d1-4a84-ab7b-5c5295748826",
   "metadata": {},
   "outputs": [],
   "source": [
    "# catch_preds_df"
   ]
  },
  {
   "cell_type": "code",
   "execution_count": 64,
   "id": "75f0d45e-6b06-4e9a-8997-5217ab99ebde",
   "metadata": {},
   "outputs": [],
   "source": [
    "# ids = [i for i in range(0, catch_test_probs[cur_idx].shape[0]) if catch_test_probs[cur_idx][i] < 0.5]\n",
    "# ids_more = [i for i in range(0, catch_test_probs[cur_idx].shape[0]) if catch_test_probs[cur_idx][i] > 0.5]"
   ]
  },
  {
   "cell_type": "code",
   "execution_count": 65,
   "id": "7f15dc9d-a59f-4ef8-b93a-8244896352c5",
   "metadata": {},
   "outputs": [],
   "source": [
    "# ids_more"
   ]
  },
  {
   "cell_type": "code",
   "execution_count": 66,
   "id": "1cebfd75-9077-4677-a4f7-05c09ac9f2de",
   "metadata": {},
   "outputs": [],
   "source": [
    "# import plotly.express as px"
   ]
  },
  {
   "cell_type": "code",
   "execution_count": 67,
   "id": "22ee79ea-e013-4f80-920e-10e2aeb0eb6b",
   "metadata": {},
   "outputs": [],
   "source": [
    "# import seaborn as sns"
   ]
  },
  {
   "cell_type": "code",
   "execution_count": 68,
   "id": "1969c78b-c105-482a-a957-e81329037a09",
   "metadata": {},
   "outputs": [],
   "source": [
    "use_cores = multiprocessing.cpu_count()-1"
   ]
  },
  {
   "cell_type": "code",
   "execution_count": 69,
   "id": "6a062f7f",
   "metadata": {},
   "outputs": [
    {
     "data": {
      "text/plain": [
       "47"
      ]
     },
     "execution_count": 69,
     "metadata": {},
     "output_type": "execute_result"
    }
   ],
   "source": [
    "use_cores"
   ]
  },
  {
   "cell_type": "code",
   "execution_count": 70,
   "id": "e5e25a8d-c51c-4c1d-9589-5b3b01f267e7",
   "metadata": {},
   "outputs": [],
   "source": [
    "# use_cores = 15"
   ]
  },
  {
   "cell_type": "code",
   "execution_count": 71,
   "id": "b9d651b2-15fa-4542-84ab-106c958569cc",
   "metadata": {},
   "outputs": [],
   "source": [
    "# with open('first_lstm_with_doc2vec_lstm_var_0.0001_real_world.pkl', 'rb') as f:\n",
    "#     first_lstm = pickle.load(f)  "
   ]
  },
  {
   "cell_type": "code",
   "execution_count": 72,
   "id": "2f12bf17-643b-4c5b-a2b0-d1f59b99557e",
   "metadata": {},
   "outputs": [],
   "source": [
    "# threshold = 200\n",
    "# cutoff_threshold = 70"
   ]
  },
  {
   "cell_type": "code",
   "execution_count": 73,
   "id": "407034e6-5a33-4332-b56c-f85cd2377b1c",
   "metadata": {},
   "outputs": [],
   "source": [
    "# catch1 = first_lstm"
   ]
  },
  {
   "cell_type": "code",
   "execution_count": 74,
   "id": "e343ffb7-87d1-4974-a13f-d9a26c8a0530",
   "metadata": {},
   "outputs": [],
   "source": [
    "# catch1[0]"
   ]
  },
  {
   "cell_type": "code",
   "execution_count": 75,
   "id": "881d1612-f98f-4df6-89b0-90bd2e97de4f",
   "metadata": {},
   "outputs": [],
   "source": [
    "from datetime import datetime"
   ]
  },
  {
   "cell_type": "code",
   "execution_count": 76,
   "id": "b48eef68-6ec3-4209-a725-e35ab84df90e",
   "metadata": {},
   "outputs": [],
   "source": [
    "# y_train.shape"
   ]
  },
  {
   "cell_type": "code",
   "execution_count": 77,
   "id": "855a536b-0f7a-4066-8a38-124a19b9f591",
   "metadata": {},
   "outputs": [],
   "source": [
    "# batch_size = 64"
   ]
  },
  {
   "cell_type": "code",
   "execution_count": 78,
   "id": "ac0108fa-359e-4d88-ba02-776a6f19b906",
   "metadata": {},
   "outputs": [],
   "source": [
    "from sklearn.metrics import mean_squared_error"
   ]
  },
  {
   "cell_type": "code",
   "execution_count": 79,
   "id": "6cd29e03-d778-4eeb-98b5-de815840cb5c",
   "metadata": {},
   "outputs": [],
   "source": [
    "import random"
   ]
  },
  {
   "cell_type": "code",
   "execution_count": 80,
   "id": "fa106e5e-7f8f-4620-9a16-43194267fcdc",
   "metadata": {},
   "outputs": [],
   "source": [
    "gamma_param = 500"
   ]
  },
  {
   "cell_type": "code",
   "execution_count": 81,
   "id": "cc0be1b1",
   "metadata": {},
   "outputs": [],
   "source": [
    "from scipy import stats"
   ]
  },
  {
   "cell_type": "code",
   "execution_count": 82,
   "id": "b49d0934-faa0-428b-8dc7-e53323a26372",
   "metadata": {},
   "outputs": [],
   "source": [
    "from scipy.stats import pearsonr"
   ]
  },
  {
   "cell_type": "code",
   "execution_count": 83,
   "id": "32c8a131-8350-4278-bdfe-b582314c2e41",
   "metadata": {},
   "outputs": [],
   "source": [
    "var_targetsw = 0.02"
   ]
  },
  {
   "cell_type": "code",
   "execution_count": 84,
   "id": "0d5734d0-e75c-436e-bdea-6d5c8223754a",
   "metadata": {},
   "outputs": [],
   "source": [
    "from sklearn.model_selection import train_test_split"
   ]
  },
  {
   "cell_type": "code",
   "execution_count": 85,
   "id": "25586772-a3e4-4d5e-b745-6495023e37d5",
   "metadata": {},
   "outputs": [],
   "source": [
    "from sklearn.model_selection import KFold"
   ]
  },
  {
   "cell_type": "code",
   "execution_count": 86,
   "id": "75c12e9a-898a-45db-9ee2-eb652adfbee1",
   "metadata": {},
   "outputs": [],
   "source": [
    "def rep_one_real_world(train_ids_f, valid_ids_f): \n",
    "    catch_1 = []\n",
    "    catch_2 = []\n",
    "    catch_3 = []\n",
    "    catch_4 = []\n",
    "    catch_5 = []\n",
    "#     from scipy.special import expit\n",
    "    patience_smaller = 0\n",
    "    patience_uns = 0\n",
    "    \n",
    "    \n",
    "    best_train_mae = 100000\n",
    "    \n",
    "    best_train_width = 100000\n",
    "\n",
    "        \n",
    "    X_train_logits_unshuffled = y_train.reshape(-1,1)[train_ids_f,:]\n",
    "#     X_train_logits = catch_train_logits_second[idx]\n",
    "    \n",
    "    X_valid_logits = y_train.reshape(-1,1)[valid_ids_f,:]\n",
    "    X_test_logits = y_test.reshape(-1,1)\n",
    "    \n",
    "    ## create training batch chunks\n",
    "    train_idx = list(range(0, len(X_train_logits_unshuffled)))\n",
    "    batch_chunks = [train_idx[i:i+batch_size] for i in range(0,len(X_train_logits_unshuffled),batch_size)]\n",
    "\n",
    "    ## generate some augmented variable for iteration 0\n",
    "    initial_aug_state_mean = np.repeat(0, total_weights)\n",
    "    initial_aug_state_mean = initial_aug_state_mean.reshape(-1,1)\n",
    "\n",
    "    initial_aug_state_cov = var_weights*np.identity((total_weights))\n",
    "    initial_ensembles = mvn(initial_aug_state_mean.reshape(initial_aug_state_mean.shape[0],), initial_aug_state_cov).rvs(size = size_ens)\n",
    "\n",
    "    exit_iter_no_thresh = 0\n",
    "    log_sigma_points_1 = (np.log(gamma(gamma_param, scale = 1/100).rvs(size_ens))).reshape(size_ens, 1)\n",
    "    \n",
    "\n",
    "#     y_train = catch_train_labels_second[idx]\n",
    "\n",
    "#     y_valid = catch_valid_labels_second[idx]\n",
    "\n",
    "#     y_test = catch_test_labels_second[idx]\n",
    "    \n",
    "    \n",
    "    train_lstm = train_drugs[train_ids_f,:]\n",
    "    valid_lstm = train_drugs[valid_ids_f,:]\n",
    "    # valid_word2vec = catch[idx][7].iloc[catch_valid_idxes[idx],:].reset_index(drop = True)\n",
    "    test_lstm = test_drugs\n",
    "\n",
    "    # pca = PCA(n_components=train_omics[train_ids_f,:].shape[1])\n",
    "    # train_lstm = pca.fit_transform(train_lstm)\n",
    "    # valid_lstm = pca.transform(valid_lstm)\n",
    "    # test_lstm = pca.transform(test_lstm)\n",
    "\n",
    "    train_doc2vec = train_omics[train_ids_f,:]\n",
    "    valid_doc2vec = train_omics[valid_ids_f,:]\n",
    "    # valid_word2vec = catch[idx][7].iloc[catch_valid_idxes[idx],:].reset_index(drop = True)\n",
    "    test_doc2vec = test_omics\n",
    "    \n",
    "    \n",
    "\n",
    "    \n",
    "    # train_valid_lstm = (train_lstm)\n",
    "    # train_valid_doc2vec = (train_doc2vec)\n",
    "    \n",
    "    # print(train_valid_lstm.shape)\n",
    "\n",
    "    \n",
    "    \n",
    "    best_coverage_train = 0\n",
    "    \n",
    "    start = datetime.now()\n",
    "    \n",
    "    for iter1 in range(0,500):\n",
    "        random_idx = random.sample(range(train_lstm.shape[0]), train_lstm.shape[0])\n",
    "        train_valid_lstm =train_lstm[random_idx, :]\n",
    "        train_valid_doc2vec = train_doc2vec[random_idx, :]\n",
    "        X_train_logits = X_train_logits_unshuffled[random_idx, :]\n",
    "\n",
    "        for batch_idx in batch_chunks:\n",
    "            \n",
    "            batch_data = train_valid_lstm[batch_idx,:]\n",
    "            # print(batch_data.shape)\n",
    "            batch_data1 = train_valid_doc2vec[batch_idx,:]\n",
    "            # print(batch_data.shape)\n",
    "            batch_targets = X_train_logits[batch_idx,:]\n",
    "            \n",
    "            # print(batch_targets.shape)\n",
    "            \n",
    "            # batch_targets = batch_targets.ravel().reshape(-1,1)\n",
    "\n",
    "            column_mod_2_shape = total_weights_2 + batch_data.shape[0]*1 + 1 + 1\n",
    "        \n",
    "            H_t = np.hstack((np.identity(batch_targets.shape[0]), np.zeros((batch_targets.shape[0], column_mod_2_shape-batch_targets.shape[0]))))\n",
    "\n",
    "            current_aug_state, column_mod_1, column_mod_2, log_sigma_points_1 = get_targets_with_weights(batch_data1, batch_data, initial_ensembles, log_sigma_points_1)\n",
    "            \n",
    "            # print(current_aug_state.shape)\n",
    "            \n",
    "            \n",
    "            var_targets_vec = np.log(1 + np.exp(log_sigma_points_1))\n",
    "            \n",
    "            var_targets_vec = var_targets_vec\n",
    "            \n",
    "            # current_aug_state_var = np.cov(current_aug_state.T) + inflation_factor*np.identity(current_aug_state.shape[1])\n",
    "            \n",
    "            current_aug_state_var = np.cov(current_aug_state.T) \n",
    "            \n",
    "            G_t = np.array([1 , 1]).reshape(-1,1)\n",
    "            \n",
    "            scirpt_H_t = np.kron(G_t.T, H_t)\n",
    "            \n",
    "            temp1 = current_aug_state_var@scirpt_H_t.T\n",
    "            \n",
    "            temp2 = scirpt_H_t@current_aug_state_var@scirpt_H_t.T\n",
    "\n",
    "            R_t1 = var_targetsw*np.identity(current_aug_state.shape[1])\n",
    "            \n",
    "            measurement_error1 = mvn(np.repeat(0,current_aug_state.shape[1]), R_t1).rvs(current_aug_state.shape[0])\n",
    "        \n",
    "            for ensemble_idx in range(0, current_aug_state.shape[0]):\n",
    "                \n",
    "                var_targets1 = var_targets_vec[ensemble_idx,:]\n",
    "                \n",
    "                R_t = var_targets1*np.identity(batch_targets.shape[0])\n",
    "            \n",
    "                measurement_error = mvn(np.repeat(0,batch_targets.shape[0]), var_targets1*np.identity(batch_targets.shape[0])).rvs(1).reshape(-1,1)\n",
    "            \n",
    "                target_current = batch_targets + measurement_error\n",
    "                \n",
    "                # print(target_current.shape)\n",
    "                \n",
    "                K_t = temp1@np.linalg.inv(temp2 + R_t)\n",
    "                \n",
    "                # print(K_t.shape)\n",
    "\n",
    "                current_aug_state[ensemble_idx,:] = current_aug_state[ensemble_idx,:] +(K_t@(target_current -scirpt_H_t@current_aug_state[ensemble_idx,:].reshape(-1,1))).reshape(current_aug_state.shape[1],)\n",
    "                \n",
    "                current_aug_state[ensemble_idx,:] = current_aug_state[ensemble_idx,:] + measurement_error1[ensemble_idx,:]\n",
    "\n",
    "            weights_ann_1 = current_aug_state[:,batch_targets.shape[0]:(batch_targets.shape[0] + total_weights_1)]      \n",
    "\n",
    "            weights_ann_2 = current_aug_state[:,-(total_weights_2+1):-2]    \n",
    "\n",
    "            initial_ensembles = np.hstack((weights_ann_1, weights_ann_2, current_aug_state[:,-2].reshape(-1,1)))\n",
    "            \n",
    "            log_sigma_points_1 = current_aug_state[:,-1].reshape(-1,1)\n",
    "               \n",
    "            avg_betas = expit(current_aug_state[:,-2])\n",
    "        \n",
    "            complement = 1-avg_betas\n",
    "\n",
    "            current_aug_state1, column_mod_11, column_mod_21, log_sigma_points_1 = get_targets_with_weights(valid_doc2vec, valid_lstm, initial_ensembles, log_sigma_points_1)\n",
    "            \n",
    "            initial_targets = column_mod_11 + column_mod_21\n",
    "            \n",
    "            \n",
    "            initial_targets = initial_targets.reshape(size_ens, valid_lstm.shape[0],1)\n",
    "            \n",
    "            initial_targets_train = initial_targets\n",
    "            \n",
    "            initial_targets_train_mean = initial_targets_train.mean(0)\n",
    "            \n",
    "            li = np.percentile(initial_targets_train, axis = 0, q = (2.5, 97.5))[0,:,:]\n",
    "            \n",
    "            ui = np.percentile(initial_targets_train, axis = 0, q = (2.5, 97.5))[1,:,:]\n",
    "            \n",
    "            width = ui - li\n",
    "            \n",
    "            avg_width_valid = np.mean(width)\n",
    "            \n",
    "            # interim = np.vstack((catch_train_probs[idx] , catch_valid_probs[idx] ))\n",
    "        \n",
    "            interim = (X_valid_logits)\n",
    "            \n",
    "            ind = (interim >= li) & (interim <= ui)\n",
    "            \n",
    "            coverage_valid= np.mean(ind.ravel())  \n",
    "            \n",
    "            valid_mae = np.sqrt(mean_squared_error(interim, initial_targets_train_mean))\n",
    "            \n",
    "            stats_pearson_valid = stats.pearsonr(interim.reshape(interim.shape[0],),\n",
    "                                           initial_targets_train_mean.reshape(initial_targets_train_mean.shape[0],))\n",
    "\n",
    "            current_aug_state1, column_mod_11, column_mod_21, log_sigma_points_1 = get_targets_with_weights(train_doc2vec, train_lstm, initial_ensembles, log_sigma_points_1)\n",
    "            \n",
    "            initial_targets = column_mod_11 + column_mod_21\n",
    "            \n",
    "            \n",
    "            initial_targets = initial_targets.reshape(size_ens, train_lstm.shape[0],1)\n",
    "            \n",
    "            initial_targets_train = initial_targets\n",
    "            \n",
    "            initial_targets_train_mean = initial_targets_train.mean(0)\n",
    "            \n",
    "            li = np.percentile(initial_targets_train, axis = 0, q = (2.5, 97.5))[0,:,:]\n",
    "            \n",
    "            ui = np.percentile(initial_targets_train, axis = 0, q = (2.5, 97.5))[1,:,:]\n",
    "            \n",
    "            width = ui - li\n",
    "            \n",
    "            avg_width_train = np.mean(width)\n",
    "            \n",
    "            # interim = np.vstack((catch_train_probs[idx] , catch_valid_probs[idx] ))\n",
    "        \n",
    "            interim = (X_train_logits_unshuffled)\n",
    "            \n",
    "            ind = (interim >= li) & (interim <= ui)\n",
    "            \n",
    "            coverage_train= np.mean(ind.ravel())  \n",
    "            \n",
    "            train_mae = np.sqrt(mean_squared_error(interim, initial_targets_train_mean))\n",
    "            \n",
    "            # plt.scatter(interim, initial_targets_train_mean)\n",
    "            # plt.show()\n",
    "            \n",
    "            stats_pearson_train = stats.pearsonr(interim.reshape(interim.shape[0],),\n",
    "                                           initial_targets_train_mean.reshape(initial_targets_train_mean.shape[0],))\n",
    "\n",
    "            # train_mae = np.sqrt(np.mean(np.abs(interim.ravel() - initial_targets_train_mean.ravel())**2))\n",
    "        \n",
    "            current_aug_state1, column_mod_11, column_mod_21, log_sigma_points_1 = get_targets_with_weights(test_doc2vec, test_lstm, initial_ensembles, log_sigma_points_1)\n",
    "            \n",
    "            initial_targets = column_mod_11 + column_mod_21\n",
    "            \n",
    "            initial_targets = initial_targets.reshape(size_ens, test_lstm.shape[0],1)\n",
    "            \n",
    "            initial_targets_test = initial_targets\n",
    "            \n",
    "            # initial_targets_softmax = expit(initial_targets)    \n",
    "            \n",
    "            initial_targets_test_mean = initial_targets_test.mean(0)\n",
    "            \n",
    "            li = np.percentile(initial_targets_test, axis = 0, q = (2.5, 97.5))[0,:,:]\n",
    "            \n",
    "            ui = np.percentile(initial_targets_test, axis = 0, q = (2.5, 97.5))[1,:,:]\n",
    "            \n",
    "            width = ui - li\n",
    "            \n",
    "            avg_width = np.mean(width)\n",
    "            \n",
    "            catch_test_probs = (X_test_logits)\n",
    "            \n",
    "            ind_test = (catch_test_probs >= li) & (catch_test_probs <= ui)\n",
    "                        \n",
    "            coverage_test = np.mean(ind_test.ravel())    \n",
    "\n",
    "            \n",
    "            test_mae = np.sqrt(mean_squared_error(catch_test_probs, initial_targets_test_mean))\n",
    "\n",
    "            stats_pearson = stats.pearsonr(catch_test_probs.reshape(catch_test_probs.shape[0],),\n",
    "                                           initial_targets_test_mean.reshape(initial_targets_test_mean.shape[0],))\n",
    "\n",
    "              \n",
    "            \n",
    "            if train_mae < best_train_mae: \n",
    "                patience = 0\n",
    "                best_train_mae = train_mae\n",
    "                best_valid_mae = valid_mae\n",
    "                best_test_mae = test_mae\n",
    "                exit_iter_no_thresh = iter1\n",
    "                best_test_preds = initial_targets_test\n",
    "                patience_smaller = 0\n",
    "                best_train_coverage = coverage_train\n",
    "                best_valid_coverage = coverage_valid\n",
    "                best_test_coverage = coverage_test\n",
    "                best_train_width = avg_width_train\n",
    "                best_valid_width = avg_width_valid\n",
    "                best_test_width = avg_width\n",
    "                best_drugs_weight = np.mean(complement)\n",
    "                best_r_test = stats_pearson[0]\n",
    "                best_r_train = stats_pearson_train[0]\n",
    "                best_r_valid = stats_pearson_valid[0]\n",
    "                best_initial_ensembles = initial_ensembles\n",
    "                best_log_sigma_points_1 = log_sigma_points_1\n",
    "            else:\n",
    "                patience += 1\n",
    "                \n",
    "#             print(\"epoch \"+ str(iter1))\n",
    "#             print(\"patience \"+ str(patience))\n",
    "#             print(\"train mae is \" + str(train_mae))\n",
    "#             print(\"valid mae is \" + str(valid_mae))\n",
    "#             print(\"test mae is \" + str(test_mae))\n",
    "        \n",
    "#             print(\"train coverage is \"+ str(coverage_train))\n",
    "#             print(\"valid coverage is \"+ str(coverage_valid))\n",
    "#             print(\"test coverage is \"+ str(coverage_test))\n",
    "            \n",
    "#             print(\"train width is \" + str(avg_width_train))\n",
    "#             print(\"valid width is \" + str(avg_width_valid))  \n",
    "#             print(\"test width is \" + str(avg_width))\n",
    "            \n",
    "#             print(\"drugs weight is \" + str(np.mean(complement)))\n",
    "#             print(\"pearson r train is \" + str(stats_pearson_train[0]))\n",
    "#             print(\"pearson r valid is \" + str(stats_pearson_valid[0]))\n",
    "#             print(\"pearson r test is \" + str(stats_pearson[0]))\n",
    "            \n",
    "            \n",
    "                \n",
    "            if patience >= threshold: \n",
    "                break\n",
    "                \n",
    "        if patience >= threshold: \n",
    "                break\n",
    "            \n",
    "    \n",
    "    print(best_valid_mae, best_valid_coverage, best_valid_width,best_r_valid, flush = True)\n",
    "    print(best_test_mae, best_test_coverage, best_test_width,best_r_test, flush = True)\n",
    "    end = datetime.now()\n",
    "    total = (end- start)\n",
    "    time_taken = total.seconds/60.0\n",
    "    return best_train_mae, best_valid_mae, best_test_mae, best_train_coverage, best_valid_coverage, best_test_coverage,  \\\n",
    "    best_train_width, best_valid_width , best_test_width,  best_drugs_weight, best_r_train, best_r_valid, best_r_test, exit_iter_no_thresh, time_taken, best_initial_ensembles, best_log_sigma_points_1\n",
    "        \n",
    "    # print(\"something went awry\", flush = True)"
   ]
  },
  {
   "cell_type": "code",
   "execution_count": 87,
   "id": "605540da-2ad3-4d18-b8a4-93dd7c052f20",
   "metadata": {},
   "outputs": [],
   "source": [
    "threshold = 10"
   ]
  },
  {
   "cell_type": "code",
   "execution_count": 88,
   "id": "138d0228-17b7-4019-9abe-458206e8a7df",
   "metadata": {},
   "outputs": [],
   "source": [
    "# cutoff_threshold = 30"
   ]
  },
  {
   "cell_type": "code",
   "execution_count": 89,
   "id": "857196a6-5937-4318-97f8-d19c183afe5c",
   "metadata": {},
   "outputs": [],
   "source": [
    "# plt.hist(y_train)\n",
    "# plt.show()"
   ]
  },
  {
   "cell_type": "code",
   "execution_count": 90,
   "id": "4dcabe4b-76ae-4302-8ada-218067cc7588",
   "metadata": {},
   "outputs": [],
   "source": [
    "batch_size = 512"
   ]
  },
  {
   "cell_type": "code",
   "execution_count": 91,
   "id": "92d32533",
   "metadata": {},
   "outputs": [],
   "source": [
    "path = os.getcwd() + \"//dataset_\" + str(0 + 1) + \"/\"\n",
    "train_drugs_1 = np.load(path + \"//\" + \"train_drug.npy\")\n",
    "valid_drugs_1 = np.load(path + \"//\" + \"valid_drug.npy\")\n",
    "test_drugs_1 = np.load(path + \"//\" + \"test_drug.npy\")\n",
    "\n",
    "## read in all the omics features\n",
    "## for train test and valid\n",
    "train_omics_1 = np.load(path + \"//\" + \"train_omics.npy\")[:, idxs]\n",
    "valid_omics_1 = np.load(path + \"//\" + \"valid_omics.npy\")[:, idxs]\n",
    "test_omics_1 = np.load(path + \"//\" + \"test_omics.npy\")[:, idxs]\n",
    "\n",
    "## read in all the labels \n",
    "## for train test and valid\n",
    "y_train_1 = np.load(path + \"//\" + \"train_y.npy\").reshape(-1,1)\n",
    "y_valid_1 = np.load(path + \"//\" + \"valid_y.npy\").reshape(-1,1)\n",
    "y_test_1 = np.load(path + \"//\" + \"test_y.npy\").reshape(-1,1)"
   ]
  },
  {
   "cell_type": "code",
   "execution_count": 92,
   "id": "74304c41",
   "metadata": {},
   "outputs": [],
   "source": [
    "path = os.getcwd() + \"//dataset_\" + str(1 + 1) + \"/\"\n",
    "train_drugs_2 = np.load(path + \"//\" + \"train_drug.npy\")\n",
    "valid_drugs_2 = np.load(path + \"//\" + \"valid_drug.npy\")\n",
    "test_drugs_2 = np.load(path + \"//\" + \"test_drug.npy\")\n",
    "\n",
    "## read in all the omics features\n",
    "## for train test and valid\n",
    "train_omics_2 = np.load(path + \"//\" + \"train_omics.npy\")[:, idxs]\n",
    "valid_omics_2 = np.load(path + \"//\" + \"valid_omics.npy\")[:, idxs]\n",
    "test_omics_2 = np.load(path + \"//\" + \"test_omics.npy\")[:, idxs]\n",
    "\n",
    "## read in all the labels \n",
    "## for train test and valid\n",
    "y_train_2 = np.load(path + \"//\" + \"train_y.npy\").reshape(-1,1)\n",
    "y_valid_2 = np.load(path + \"//\" + \"valid_y.npy\").reshape(-1,1)\n",
    "y_test_2 = np.load(path + \"//\" + \"test_y.npy\").reshape(-1,1)"
   ]
  },
  {
   "cell_type": "code",
   "execution_count": 93,
   "id": "6c420480",
   "metadata": {},
   "outputs": [],
   "source": [
    "path = os.getcwd() + \"//dataset_\" + str(1 + 2) + \"/\"\n",
    "train_drugs_3 = np.load(path + \"//\" + \"train_drug.npy\")\n",
    "valid_drugs_3 = np.load(path + \"//\" + \"valid_drug.npy\")\n",
    "test_drugs_3 = np.load(path + \"//\" + \"test_drug.npy\")\n",
    "\n",
    "## read in all the omics features\n",
    "## for train test and valid\n",
    "train_omics_3 = np.load(path + \"//\" + \"train_omics.npy\")[:, idxs]\n",
    "valid_omics_3 = np.load(path + \"//\" + \"valid_omics.npy\")[:, idxs]\n",
    "test_omics_3 = np.load(path + \"//\" + \"test_omics.npy\")[:, idxs]\n",
    "\n",
    "## read in all the labels \n",
    "## for train test and valid\n",
    "y_train_3 = np.load(path + \"//\" + \"train_y.npy\").reshape(-1,1)\n",
    "y_valid_3 = np.load(path + \"//\" + \"valid_y.npy\").reshape(-1,1)\n",
    "y_test_3 = np.load(path + \"//\" + \"test_y.npy\").reshape(-1,1)"
   ]
  },
  {
   "cell_type": "code",
   "execution_count": 94,
   "id": "a3d03182-10e0-47bd-a563-8e2cb8c5c9ad",
   "metadata": {},
   "outputs": [],
   "source": [
    "path = os.getcwd() + \"//dataset_\" + str(1 + 3) + \"/\"\n",
    "train_drugs_4 = np.load(path + \"//\" + \"train_drug.npy\")\n",
    "valid_drugs_4 = np.load(path + \"//\" + \"valid_drug.npy\")\n",
    "test_drugs_4 = np.load(path + \"//\" + \"test_drug.npy\")\n",
    "\n",
    "## read in all the omics features\n",
    "## for train test and valid\n",
    "train_omics_4 = np.load(path + \"//\" + \"train_omics.npy\")[:, idxs]\n",
    "valid_omics_4 = np.load(path + \"//\" + \"valid_omics.npy\")[:, idxs]\n",
    "test_omics_4 = np.load(path + \"//\" + \"test_omics.npy\")[:, idxs]\n",
    "\n",
    "## read in all the labels \n",
    "## for train test and valid\n",
    "y_train_4 = np.load(path + \"//\" + \"train_y.npy\").reshape(-1,1)\n",
    "y_valid_4 = np.load(path + \"//\" + \"valid_y.npy\").reshape(-1,1)\n",
    "y_test_4 = np.load(path + \"//\" + \"test_y.npy\").reshape(-1,1)"
   ]
  },
  {
   "cell_type": "code",
   "execution_count": 95,
   "id": "dab2c9ea-d68c-4cd3-988e-ce4b1fcd8b62",
   "metadata": {},
   "outputs": [],
   "source": [
    "path = os.getcwd() + \"//dataset_\" + str(1 + 4) + \"/\"\n",
    "train_drugs_5 = np.load(path + \"//\" + \"train_drug.npy\")\n",
    "valid_drugs_5 = np.load(path + \"//\" + \"valid_drug.npy\")\n",
    "test_drugs_5 = np.load(path + \"//\" + \"test_drug.npy\")\n",
    "\n",
    "## read in all the omics features\n",
    "## for train test and valid\n",
    "train_omics_5 = np.load(path + \"//\" + \"train_omics.npy\")[:, idxs]\n",
    "valid_omics_5 = np.load(path + \"//\" + \"valid_omics.npy\")[:, idxs]\n",
    "test_omics_5 = np.load(path + \"//\" + \"test_omics.npy\")[:, idxs]\n",
    "\n",
    "## read in all the labels \n",
    "## for train test and valid\n",
    "y_train_5 = np.load(path + \"//\" + \"train_y.npy\").reshape(-1,1)\n",
    "y_valid_5 = np.load(path + \"//\" + \"valid_y.npy\").reshape(-1,1)\n",
    "y_test_5 = np.load(path + \"//\" + \"test_y.npy\").reshape(-1,1)"
   ]
  },
  {
   "cell_type": "code",
   "execution_count": 96,
   "id": "60de9400-054f-4c6f-b9bf-5c140d111922",
   "metadata": {},
   "outputs": [],
   "source": [
    "path = os.getcwd() + \"//dataset_\" + str(1 + 5) + \"/\"\n",
    "train_drugs_6 = np.load(path + \"//\" + \"train_drug.npy\")\n",
    "valid_drugs_6 = np.load(path + \"//\" + \"valid_drug.npy\")\n",
    "test_drugs_6 = np.load(path + \"//\" + \"test_drug.npy\")\n",
    "\n",
    "## read in all the omics features\n",
    "## for train test and valid\n",
    "train_omics_6 = np.load(path + \"//\" + \"train_omics.npy\")[:, idxs]\n",
    "valid_omics_6 = np.load(path + \"//\" + \"valid_omics.npy\")[:, idxs]\n",
    "test_omics_6 = np.load(path + \"//\" + \"test_omics.npy\")[:, idxs]\n",
    "\n",
    "## read in all the labels \n",
    "## for train test and valid\n",
    "y_train_6 = np.load(path + \"//\" + \"train_y.npy\").reshape(-1,1)\n",
    "y_valid_6 = np.load(path + \"//\" + \"valid_y.npy\").reshape(-1,1)\n",
    "y_test_6 = np.load(path + \"//\" + \"test_y.npy\").reshape(-1,1)"
   ]
  },
  {
   "cell_type": "code",
   "execution_count": 97,
   "id": "01085f95-be78-4685-8658-d137a95c386b",
   "metadata": {},
   "outputs": [],
   "source": [
    "path = os.getcwd() + \"//dataset_\" + str(1 + 6) + \"/\"\n",
    "train_drugs_7 = np.load(path + \"//\" + \"train_drug.npy\")\n",
    "valid_drugs_7 = np.load(path + \"//\" + \"valid_drug.npy\")\n",
    "test_drugs_7 = np.load(path + \"//\" + \"test_drug.npy\")\n",
    "\n",
    "## read in all the omics features\n",
    "## for train test and valid\n",
    "train_omics_7 = np.load(path + \"//\" + \"train_omics.npy\")[:, idxs]\n",
    "valid_omics_7 = np.load(path + \"//\" + \"valid_omics.npy\")[:, idxs]\n",
    "test_omics_7 = np.load(path + \"//\" + \"test_omics.npy\")[:, idxs]\n",
    "\n",
    "## read in all the labels \n",
    "## for train test and valid\n",
    "y_train_7 = np.load(path + \"//\" + \"train_y.npy\").reshape(-1,1)\n",
    "y_valid_7 = np.load(path + \"//\" + \"valid_y.npy\").reshape(-1,1)\n",
    "y_test_7 = np.load(path + \"//\" + \"test_y.npy\").reshape(-1,1)"
   ]
  },
  {
   "cell_type": "code",
   "execution_count": 98,
   "id": "96d9ba42-4eaa-4faf-8831-f083c4b684bc",
   "metadata": {},
   "outputs": [],
   "source": [
    "path = os.getcwd() + \"//dataset_\" + str(1 + 7) + \"/\"\n",
    "train_drugs_8 = np.load(path + \"//\" + \"train_drug.npy\")\n",
    "valid_drugs_8 = np.load(path + \"//\" + \"valid_drug.npy\")\n",
    "test_drugs_8 = np.load(path + \"//\" + \"test_drug.npy\")\n",
    "\n",
    "## read in all the omics features\n",
    "## for train test and valid\n",
    "train_omics_8 = np.load(path + \"//\" + \"train_omics.npy\")[:, idxs]\n",
    "valid_omics_8 = np.load(path + \"//\" + \"valid_omics.npy\")[:, idxs]\n",
    "test_omics_8 = np.load(path + \"//\" + \"test_omics.npy\")[:, idxs]\n",
    "\n",
    "## read in all the labels \n",
    "## for train test and valid\n",
    "y_train_8 = np.load(path + \"//\" + \"train_y.npy\").reshape(-1,1)\n",
    "y_valid_8 = np.load(path + \"//\" + \"valid_y.npy\").reshape(-1,1)\n",
    "y_test_8 = np.load(path + \"//\" + \"test_y.npy\").reshape(-1,1)"
   ]
  },
  {
   "cell_type": "code",
   "execution_count": 99,
   "id": "35b41e3c-839e-49ae-ade7-6d06f78a2efa",
   "metadata": {},
   "outputs": [],
   "source": [
    "path = os.getcwd() + \"//dataset_\" + str(1 + 8) + \"/\"\n",
    "train_drugs_9 = np.load(path + \"//\" + \"train_drug.npy\")\n",
    "valid_drugs_9 = np.load(path + \"//\" + \"valid_drug.npy\")\n",
    "test_drugs_9 = np.load(path + \"//\" + \"test_drug.npy\")\n",
    "\n",
    "## read in all the omics features\n",
    "## for train test and valid\n",
    "train_omics_9 = np.load(path + \"//\" + \"train_omics.npy\")[:, idxs]\n",
    "valid_omics_9 = np.load(path + \"//\" + \"valid_omics.npy\")[:, idxs]\n",
    "test_omics_9 = np.load(path + \"//\" + \"test_omics.npy\")[:, idxs]\n",
    "\n",
    "## read in all the labels \n",
    "## for train test and valid\n",
    "y_train_9 = np.load(path + \"//\" + \"train_y.npy\").reshape(-1,1)\n",
    "y_valid_9 = np.load(path + \"//\" + \"valid_y.npy\").reshape(-1,1)\n",
    "y_test_9 = np.load(path + \"//\" + \"test_y.npy\").reshape(-1,1)"
   ]
  },
  {
   "cell_type": "code",
   "execution_count": 100,
   "id": "c978fd4f-96bf-4539-93ab-25db3c1fe9c6",
   "metadata": {},
   "outputs": [],
   "source": [
    "path = os.getcwd() + \"//dataset_\" + str(1 + 9) + \"/\"\n",
    "train_drugs_10 = np.load(path + \"//\" + \"train_drug.npy\")\n",
    "valid_drugs_10 = np.load(path + \"//\" + \"valid_drug.npy\")\n",
    "test_drugs_10 = np.load(path + \"//\" + \"test_drug.npy\")\n",
    "\n",
    "## read in all the omics features\n",
    "## for train test and valid\n",
    "train_omics_10 = np.load(path + \"//\" + \"train_omics.npy\")[:, idxs]\n",
    "valid_omics_10 = np.load(path + \"//\" + \"valid_omics.npy\")[:, idxs]\n",
    "test_omics_10 = np.load(path + \"//\" + \"test_omics.npy\")[:, idxs]\n",
    "\n",
    "## read in all the labels \n",
    "## for train test and valid\n",
    "y_train_10 = np.load(path + \"//\" + \"train_y.npy\").reshape(-1,1)\n",
    "y_valid_10 = np.load(path + \"//\" + \"valid_y.npy\").reshape(-1,1)\n",
    "y_test_10 = np.load(path + \"//\" + \"test_y.npy\").reshape(-1,1)"
   ]
  },
  {
   "cell_type": "code",
   "execution_count": 101,
   "id": "f89552db",
   "metadata": {},
   "outputs": [],
   "source": [
    "train_drugs = np.vstack((train_drugs_1,train_drugs_2, train_drugs_3, train_drugs_4,train_drugs_5, train_drugs_6,\n",
    "                        train_drugs_7,train_drugs_8, train_drugs_9, train_drugs_10))"
   ]
  },
  {
   "cell_type": "code",
   "execution_count": 102,
   "id": "53a1a9dd",
   "metadata": {},
   "outputs": [],
   "source": [
    "train_omics = np.vstack((train_omics_1,train_omics_2, train_omics_3, train_omics_4,train_omics_5, train_omics_6, \n",
    "                        train_omics_7,train_omics_8, train_omics_9, train_omics_10))"
   ]
  },
  {
   "cell_type": "code",
   "execution_count": 103,
   "id": "6109ef8f",
   "metadata": {},
   "outputs": [],
   "source": [
    "valid_drugs = np.vstack((valid_drugs_1,valid_drugs_2, valid_drugs_3, valid_drugs_4,valid_drugs_5, valid_drugs_6,\n",
    "                        valid_drugs_7,valid_drugs_8, valid_drugs_9, valid_drugs_10))"
   ]
  },
  {
   "cell_type": "code",
   "execution_count": 104,
   "id": "ee6a314b",
   "metadata": {},
   "outputs": [],
   "source": [
    "valid_omics = np.vstack((valid_omics_1,valid_omics_2, valid_omics_3, valid_omics_4,valid_omics_5, valid_omics_6, \n",
    "                        valid_omics_7,valid_omics_8, valid_omics_9, valid_omics_10))"
   ]
  },
  {
   "cell_type": "code",
   "execution_count": 185,
   "id": "aa4c619e",
   "metadata": {},
   "outputs": [],
   "source": [
    "test_drugs = np.vstack((test_drugs_1,test_drugs_2, test_drugs_3, test_drugs_4,test_drugs_5, test_drugs_6,\n",
    "                        test_drugs_7,test_drugs_8, test_drugs_9, test_drugs_10))"
   ]
  },
  {
   "cell_type": "code",
   "execution_count": 184,
   "id": "7cb991db",
   "metadata": {},
   "outputs": [],
   "source": [
    "test_omics = np.vstack((test_omics_1,test_omics_2, test_omics_3, test_omics_4,test_omics_5, test_omics_6, \n",
    "                        test_omics_7,test_omics_8, test_omics_9, test_omics_10))"
   ]
  },
  {
   "cell_type": "code",
   "execution_count": 107,
   "id": "ef15b625-871e-4df8-a9a0-b96fe788e232",
   "metadata": {},
   "outputs": [
    {
     "data": {
      "text/plain": [
       "(1000, 60)"
      ]
     },
     "execution_count": 107,
     "metadata": {},
     "output_type": "execute_result"
    }
   ],
   "source": [
    "test_omics.shape"
   ]
  },
  {
   "cell_type": "code",
   "execution_count": 108,
   "id": "61aaaf32",
   "metadata": {},
   "outputs": [],
   "source": [
    "y_train = np.vstack((y_train_1,y_train_2, y_train_3, y_train_4,y_train_5, y_train_6, y_train_7,y_train_8, y_train_9, y_train_10))"
   ]
  },
  {
   "cell_type": "code",
   "execution_count": 109,
   "id": "605c897e",
   "metadata": {},
   "outputs": [],
   "source": [
    "y_valid = np.vstack((y_valid_1,y_valid_2, y_valid_3, y_valid_4,y_valid_5, y_valid_6, y_valid_7,y_valid_8, y_valid_9, y_valid_10))"
   ]
  },
  {
   "cell_type": "code",
   "execution_count": 110,
   "id": "3b04c7b3",
   "metadata": {},
   "outputs": [],
   "source": [
    "y_test = np.vstack((y_test_1,y_test_2, y_test_3, y_test_4,y_test_5, y_test_6, y_test_7,y_test_8, y_test_9, y_test_10))"
   ]
  },
  {
   "cell_type": "code",
   "execution_count": 111,
   "id": "a8a1c655-5f69-4a25-8ab8-184e2329c559",
   "metadata": {},
   "outputs": [
    {
     "data": {
      "text/plain": [
       "(5000, 1)"
      ]
     },
     "execution_count": 111,
     "metadata": {},
     "output_type": "execute_result"
    }
   ],
   "source": [
    "y_train.shape"
   ]
  },
  {
   "cell_type": "code",
   "execution_count": 112,
   "id": "a55c1f26-9b6e-4898-a7dd-3854baaa0c39",
   "metadata": {},
   "outputs": [
    {
     "data": {
      "text/plain": [
       "(1000, 1)"
      ]
     },
     "execution_count": 112,
     "metadata": {},
     "output_type": "execute_result"
    }
   ],
   "source": [
    "y_valid.shape"
   ]
  },
  {
   "cell_type": "code",
   "execution_count": 113,
   "id": "5f2606c4-35ad-49ed-a7c7-7eee6d70d44a",
   "metadata": {},
   "outputs": [
    {
     "data": {
      "text/plain": [
       "(1000, 1)"
      ]
     },
     "execution_count": 113,
     "metadata": {},
     "output_type": "execute_result"
    }
   ],
   "source": [
    "y_test.shape"
   ]
  },
  {
   "cell_type": "code",
   "execution_count": 114,
   "id": "1350b5d2-36dd-4183-a736-6bfcf791b8cd",
   "metadata": {},
   "outputs": [],
   "source": [
    "from sklearn.decomposition import PCA"
   ]
  },
  {
   "cell_type": "code",
   "execution_count": 115,
   "id": "684364b1-4afd-4034-8af1-25d5faf0c64e",
   "metadata": {},
   "outputs": [],
   "source": [
    "# pca = PCA(n_components=test_omics.shape[1])"
   ]
  },
  {
   "cell_type": "code",
   "execution_count": 116,
   "id": "0f5b0d00-d618-4720-b179-6521dc249474",
   "metadata": {},
   "outputs": [],
   "source": [
    "# train_drugs.shape"
   ]
  },
  {
   "cell_type": "code",
   "execution_count": 117,
   "id": "273b033b-95a5-4527-b1c1-b5bb3214b56d",
   "metadata": {},
   "outputs": [],
   "source": [
    "# valid_drugs.shape"
   ]
  },
  {
   "cell_type": "code",
   "execution_count": 118,
   "id": "22495cd7-44af-4f45-8614-9760f56619aa",
   "metadata": {},
   "outputs": [],
   "source": [
    "# train_drugs.shape"
   ]
  },
  {
   "cell_type": "code",
   "execution_count": 119,
   "id": "ef77119b-108f-4cbc-9e3c-0c9972979cf4",
   "metadata": {},
   "outputs": [],
   "source": [
    "train_drugs = np.vstack((train_drugs, valid_drugs))"
   ]
  },
  {
   "cell_type": "code",
   "execution_count": 120,
   "id": "324df85d-1949-4601-84a8-94ba8d9ebaf5",
   "metadata": {},
   "outputs": [],
   "source": [
    "train_omics = np.vstack((train_omics, valid_omics))"
   ]
  },
  {
   "cell_type": "code",
   "execution_count": 121,
   "id": "0b6e75d3-8aaf-40b9-83e3-cd6db755593b",
   "metadata": {},
   "outputs": [
    {
     "data": {
      "text/plain": [
       "(6000, 60)"
      ]
     },
     "execution_count": 121,
     "metadata": {},
     "output_type": "execute_result"
    }
   ],
   "source": [
    "train_omics.shape"
   ]
  },
  {
   "cell_type": "code",
   "execution_count": 122,
   "id": "6dc5aa28-e4b6-427a-9093-8652616492b4",
   "metadata": {},
   "outputs": [],
   "source": [
    "y_train = np.vstack((y_train, y_valid))"
   ]
  },
  {
   "cell_type": "code",
   "execution_count": 123,
   "id": "061ba995-00f3-4938-8704-88948590f0ab",
   "metadata": {},
   "outputs": [
    {
     "data": {
      "text/plain": [
       "(6000, 90)"
      ]
     },
     "execution_count": 123,
     "metadata": {},
     "output_type": "execute_result"
    }
   ],
   "source": [
    "train_drugs.shape"
   ]
  },
  {
   "cell_type": "code",
   "execution_count": 124,
   "id": "526f6443-759a-403e-a328-003748db18ac",
   "metadata": {},
   "outputs": [
    {
     "data": {
      "text/plain": [
       "(6000, 1)"
      ]
     },
     "execution_count": 124,
     "metadata": {},
     "output_type": "execute_result"
    }
   ],
   "source": [
    "y_train.shape"
   ]
  },
  {
   "cell_type": "code",
   "execution_count": 125,
   "id": "eaf86d19-7156-4fd6-b0c1-03602def9bc4",
   "metadata": {},
   "outputs": [],
   "source": [
    "kf = KFold(n_splits = 6, random_state=42, shuffle = True)"
   ]
  },
  {
   "cell_type": "code",
   "execution_count": 126,
   "id": "44cb30d0-e303-4cf7-971a-241a3096db57",
   "metadata": {},
   "outputs": [
    {
     "data": {
      "text/plain": [
       "6"
      ]
     },
     "execution_count": 126,
     "metadata": {},
     "output_type": "execute_result"
    }
   ],
   "source": [
    "kf.get_n_splits(train_drugs)"
   ]
  },
  {
   "cell_type": "code",
   "execution_count": 127,
   "id": "bcacb8d9-2af5-4a54-88b8-82fe1f5546c7",
   "metadata": {},
   "outputs": [],
   "source": [
    "train_ids = []\n",
    "valid_ids = []\n",
    "for i, (train_index, valid_index) in enumerate(kf.split(train_drugs)): \n",
    "    train_ids.append(train_index)\n",
    "    valid_ids.append(valid_index)"
   ]
  },
  {
   "cell_type": "code",
   "execution_count": 128,
   "id": "a4e3c21a-918d-42ec-86e0-c2c83da3e697",
   "metadata": {},
   "outputs": [
    {
     "data": {
      "text/plain": [
       "6"
      ]
     },
     "execution_count": 128,
     "metadata": {},
     "output_type": "execute_result"
    }
   ],
   "source": [
    "len(valid_ids)"
   ]
  },
  {
   "cell_type": "code",
   "execution_count": 129,
   "id": "155b9297-712b-4430-bf27-d1a08dd17d98",
   "metadata": {},
   "outputs": [],
   "source": [
    "# batch_size = 1000"
   ]
  },
  {
   "cell_type": "code",
   "execution_count": 130,
   "id": "11fbf1b9-7df8-431f-8197-cb4cb7367b07",
   "metadata": {},
   "outputs": [],
   "source": [
    "# train_idx = list(range(0, len(y_train)))\n",
    "# batch_chunks_train = [train_idx[i:i+batch_size] for i in range(0,len(y_train),batch_size)]"
   ]
  },
  {
   "cell_type": "code",
   "execution_count": 131,
   "id": "efc508be-9b33-4596-99e8-3019fab6d909",
   "metadata": {},
   "outputs": [],
   "source": [
    "# np.max(batch_chunks_train[0])"
   ]
  },
  {
   "cell_type": "code",
   "execution_count": 132,
   "id": "4fbd52c5-78b1-4433-9ff9-0507f140a99b",
   "metadata": {},
   "outputs": [],
   "source": [
    "# batch_size = 200\n",
    "# valid_idx = list(range(0, len(y_valid)))\n",
    "# batch_chunks_valid = [valid_idx[i:i+batch_size] for i in range(0,len(y_valid),batch_size)]"
   ]
  },
  {
   "cell_type": "code",
   "execution_count": 133,
   "id": "c79960f9-0840-45cc-8771-1e2b9f79255d",
   "metadata": {},
   "outputs": [],
   "source": [
    "# len(batch_chunks_valid)"
   ]
  },
  {
   "cell_type": "code",
   "execution_count": 134,
   "id": "d51e6e4a-813f-4f99-abad-c540283ab2ba",
   "metadata": {},
   "outputs": [],
   "source": [
    "# train_ids"
   ]
  },
  {
   "cell_type": "code",
   "execution_count": 135,
   "id": "ff556eb2-07c7-4164-880c-214bfb96918b",
   "metadata": {},
   "outputs": [],
   "source": [
    "# best_train_mae, best_valid_mae, best_test_mae, best_train_coverage, best_valid_coverage, best_test_coverage,  \\\n",
    "#     best_train_width, best_valid_width , best_test_width,  best_drugs_weight, best_r_train, best_r_valid, best_r_test, exit_iter_no_thresh, time_taken, best_initial_ensembles, best_log_sigma_points_1 = rep_one_real_world(train_ids[4], valid_ids[4])"
   ]
  },
  {
   "cell_type": "code",
   "execution_count": 136,
   "id": "8dd1d201-5b25-4912-b862-c7e03193590b",
   "metadata": {},
   "outputs": [],
   "source": [
    "# best_train_mae, best_valid_mae, best_test_mae, best_train_coverage, best_valid_coverage, best_test_coverage,  \\\n",
    "#     best_train_width, best_valid_width , best_test_width,  best_drugs_weight, best_r_train, best_r_valid, best_r_test, exit_iter_no_thresh, time_taken, best_initial_ensembles, best_log_sigma_points_1"
   ]
  },
  {
   "cell_type": "code",
   "execution_count": 137,
   "id": "5e4a1add-dfd1-4092-8ce3-1cdc491fc6a1",
   "metadata": {},
   "outputs": [],
   "source": [
    "from joblib import Parallel, delayed"
   ]
  },
  {
   "cell_type": "code",
   "execution_count": 138,
   "id": "0f8af807-7147-4bb1-a651-e5c64ad9889c",
   "metadata": {},
   "outputs": [
    {
     "name": "stderr",
     "output_type": "stream",
     "text": [
      "[Parallel(n_jobs=6)]: Using backend LokyBackend with 6 concurrent workers.\n"
     ]
    },
    {
     "name": "stdout",
     "output_type": "stream",
     "text": [
      "1.3854223960258139 0.968 6.133001554325099 0.759101416815372\n",
      "1.3971844151491646 0.959 6.079607163011648 0.768806049812296\n",
      "1.4247650757197026 0.969 6.288581791158241 0.7283652441077372\n",
      "1.3936568593492846 0.959 6.197084542036216 0.7673338420694743\n"
     ]
    },
    {
     "name": "stderr",
     "output_type": "stream",
     "text": [
      "[Parallel(n_jobs=6)]: Done   2 out of   6 | elapsed: 24.0min remaining: 48.0min\n"
     ]
    },
    {
     "name": "stdout",
     "output_type": "stream",
     "text": [
      "1.350155609988035 0.97 6.2571219025799465 0.7889042946105558\n",
      "1.3980912377497523 0.955 6.142820132039865 0.7690041060279958\n"
     ]
    },
    {
     "name": "stderr",
     "output_type": "stream",
     "text": [
      "[Parallel(n_jobs=6)]: Done   3 out of   6 | elapsed: 26.9min remaining: 26.9min\n"
     ]
    },
    {
     "name": "stdout",
     "output_type": "stream",
     "text": [
      "1.4276869753496424 0.966 6.19201848547827 0.7395751956284613\n",
      "1.4462992644904675 0.959 6.166786204288011 0.7469991237474148\n"
     ]
    },
    {
     "name": "stderr",
     "output_type": "stream",
     "text": [
      "[Parallel(n_jobs=6)]: Done   4 out of   6 | elapsed: 29.4min remaining: 14.7min\n"
     ]
    },
    {
     "name": "stdout",
     "output_type": "stream",
     "text": [
      "1.297779142711512 0.972 6.326307071917376 0.782791666318018\n",
      "1.3505973249864511 0.968 6.3859684258856655 0.7825730864697445\n",
      "1.3019678043711136 0.968 6.3587199160249925 0.779993810396323\n",
      "1.3622886855618863 0.959 6.4517776277699035 0.7782000608970069\n"
     ]
    },
    {
     "name": "stderr",
     "output_type": "stream",
     "text": [
      "[Parallel(n_jobs=6)]: Done   6 out of   6 | elapsed: 35.6min remaining:    0.0s\n",
      "[Parallel(n_jobs=6)]: Done   6 out of   6 | elapsed: 35.6min finished\n"
     ]
    }
   ],
   "source": [
    "catch = Parallel(n_jobs = 6, backend = \"loky\", verbose = 8)(delayed(rep_one_real_world)(train_ids[i], valid_ids[i]) for i in range(0,6))"
   ]
  },
  {
   "cell_type": "code",
   "execution_count": 139,
   "id": "d99f2e8c-66e6-44f4-975a-e846de7c00b2",
   "metadata": {},
   "outputs": [],
   "source": [
    "with open(\"Preds_Mutation_Methylation_without_PCA\" + \".pkl\", 'wb') as f:\n",
    "    pickle.dump(catch, f)"
   ]
  },
  {
   "cell_type": "code",
   "execution_count": 140,
   "id": "e7a5075d-33c2-4071-b065-7a1ee993f713",
   "metadata": {},
   "outputs": [],
   "source": [
    "with open(\"Preds_Mutation_Methylation_without_PCA\" + \".pkl\", 'wb') as f:\n",
    "    pickle.dump(catch, f)"
   ]
  },
  {
   "cell_type": "code",
   "execution_count": 177,
   "id": "0de0130c-8ebf-4b07-9749-a44c414784cb",
   "metadata": {},
   "outputs": [],
   "source": [
    "catch_df = pd.DataFrame(catch).iloc[:,:13]"
   ]
  },
  {
   "cell_type": "code",
   "execution_count": 178,
   "id": "8a273c1e-ab89-46d6-8c22-3b45abe4ebd3",
   "metadata": {},
   "outputs": [],
   "source": [
    "catch_df.columns = ['best_train_mae', 'best_valid_mae', 'best_test_mae', 'best_train_coverage', 'best_valid_coverage', 'best_test_coverage',  \\\n",
    "    'best_train_width', 'best_valid_width' , 'best_test_width',  'best_drugs_weight', 'best_r_train', 'best_r_valid', 'best_r_test']"
   ]
  },
  {
   "cell_type": "code",
   "execution_count": 179,
   "id": "04646d02-ea2f-4acb-8a7d-77aa387f66cf",
   "metadata": {},
   "outputs": [
    {
     "data": {
      "text/plain": [
       "best_train_mae         1.354537\n",
       "best_valid_mae         1.364630\n",
       "best_test_mae          1.391353\n",
       "best_train_coverage    0.968900\n",
       "best_valid_coverage    0.968833\n",
       "best_test_coverage     0.959833\n",
       "best_train_width       6.258082\n",
       "best_valid_width       6.259292\n",
       "best_test_width        6.237341\n",
       "best_drugs_weight      0.457522\n",
       "best_r_train           0.767070\n",
       "best_r_valid           0.763122\n",
       "best_r_test            0.768819\n",
       "dtype: float64"
      ]
     },
     "execution_count": 179,
     "metadata": {},
     "output_type": "execute_result"
    }
   ],
   "source": [
    "catch_df.mean()"
   ]
  },
  {
   "cell_type": "code",
   "execution_count": 180,
   "id": "b027075d-b48b-41f9-ada4-2637f0794e18",
   "metadata": {},
   "outputs": [],
   "source": [
    "from sklearn.decomposition import PCA"
   ]
  },
  {
   "cell_type": "code",
   "execution_count": 181,
   "id": "ef7377ed-1890-47ff-99e6-008a29919283",
   "metadata": {},
   "outputs": [
    {
     "data": {
      "text/html": [
       "<style>#sk-container-id-1 {color: black;background-color: white;}#sk-container-id-1 pre{padding: 0;}#sk-container-id-1 div.sk-toggleable {background-color: white;}#sk-container-id-1 label.sk-toggleable__label {cursor: pointer;display: block;width: 100%;margin-bottom: 0;padding: 0.3em;box-sizing: border-box;text-align: center;}#sk-container-id-1 label.sk-toggleable__label-arrow:before {content: \"▸\";float: left;margin-right: 0.25em;color: #696969;}#sk-container-id-1 label.sk-toggleable__label-arrow:hover:before {color: black;}#sk-container-id-1 div.sk-estimator:hover label.sk-toggleable__label-arrow:before {color: black;}#sk-container-id-1 div.sk-toggleable__content {max-height: 0;max-width: 0;overflow: hidden;text-align: left;background-color: #f0f8ff;}#sk-container-id-1 div.sk-toggleable__content pre {margin: 0.2em;color: black;border-radius: 0.25em;background-color: #f0f8ff;}#sk-container-id-1 input.sk-toggleable__control:checked~div.sk-toggleable__content {max-height: 200px;max-width: 100%;overflow: auto;}#sk-container-id-1 input.sk-toggleable__control:checked~label.sk-toggleable__label-arrow:before {content: \"▾\";}#sk-container-id-1 div.sk-estimator input.sk-toggleable__control:checked~label.sk-toggleable__label {background-color: #d4ebff;}#sk-container-id-1 div.sk-label input.sk-toggleable__control:checked~label.sk-toggleable__label {background-color: #d4ebff;}#sk-container-id-1 input.sk-hidden--visually {border: 0;clip: rect(1px 1px 1px 1px);clip: rect(1px, 1px, 1px, 1px);height: 1px;margin: -1px;overflow: hidden;padding: 0;position: absolute;width: 1px;}#sk-container-id-1 div.sk-estimator {font-family: monospace;background-color: #f0f8ff;border: 1px dotted black;border-radius: 0.25em;box-sizing: border-box;margin-bottom: 0.5em;}#sk-container-id-1 div.sk-estimator:hover {background-color: #d4ebff;}#sk-container-id-1 div.sk-parallel-item::after {content: \"\";width: 100%;border-bottom: 1px solid gray;flex-grow: 1;}#sk-container-id-1 div.sk-label:hover label.sk-toggleable__label {background-color: #d4ebff;}#sk-container-id-1 div.sk-serial::before {content: \"\";position: absolute;border-left: 1px solid gray;box-sizing: border-box;top: 0;bottom: 0;left: 50%;z-index: 0;}#sk-container-id-1 div.sk-serial {display: flex;flex-direction: column;align-items: center;background-color: white;padding-right: 0.2em;padding-left: 0.2em;position: relative;}#sk-container-id-1 div.sk-item {position: relative;z-index: 1;}#sk-container-id-1 div.sk-parallel {display: flex;align-items: stretch;justify-content: center;background-color: white;position: relative;}#sk-container-id-1 div.sk-item::before, #sk-container-id-1 div.sk-parallel-item::before {content: \"\";position: absolute;border-left: 1px solid gray;box-sizing: border-box;top: 0;bottom: 0;left: 50%;z-index: -1;}#sk-container-id-1 div.sk-parallel-item {display: flex;flex-direction: column;z-index: 1;position: relative;background-color: white;}#sk-container-id-1 div.sk-parallel-item:first-child::after {align-self: flex-end;width: 50%;}#sk-container-id-1 div.sk-parallel-item:last-child::after {align-self: flex-start;width: 50%;}#sk-container-id-1 div.sk-parallel-item:only-child::after {width: 0;}#sk-container-id-1 div.sk-dashed-wrapped {border: 1px dashed gray;margin: 0 0.4em 0.5em 0.4em;box-sizing: border-box;padding-bottom: 0.4em;background-color: white;}#sk-container-id-1 div.sk-label label {font-family: monospace;font-weight: bold;display: inline-block;line-height: 1.2em;}#sk-container-id-1 div.sk-label-container {text-align: center;}#sk-container-id-1 div.sk-container {/* jupyter's `normalize.less` sets `[hidden] { display: none; }` but bootstrap.min.css set `[hidden] { display: none !important; }` so we also need the `!important` here to be able to override the default hidden behavior on the sphinx rendered scikit-learn.org. See: https://github.com/scikit-learn/scikit-learn/issues/21755 */display: inline-block !important;position: relative;}#sk-container-id-1 div.sk-text-repr-fallback {display: none;}</style><div id=\"sk-container-id-1\" class=\"sk-top-container\"><div class=\"sk-text-repr-fallback\"><pre>PCA(n_components=60)</pre><b>In a Jupyter environment, please rerun this cell to show the HTML representation or trust the notebook. <br />On GitHub, the HTML representation is unable to render, please try loading this page with nbviewer.org.</b></div><div class=\"sk-container\" hidden><div class=\"sk-item\"><div class=\"sk-estimator sk-toggleable\"><input class=\"sk-toggleable__control sk-hidden--visually\" id=\"sk-estimator-id-1\" type=\"checkbox\" checked><label for=\"sk-estimator-id-1\" class=\"sk-toggleable__label sk-toggleable__label-arrow\">PCA</label><div class=\"sk-toggleable__content\"><pre>PCA(n_components=60)</pre></div></div></div></div></div>"
      ],
      "text/plain": [
       "PCA(n_components=60)"
      ]
     },
     "execution_count": 181,
     "metadata": {},
     "output_type": "execute_result"
    }
   ],
   "source": [
    "# pca = PCA(n_components = test_omics.shape[1])\n",
    "# pca.fit(train_drugs)"
   ]
  },
  {
   "cell_type": "code",
   "execution_count": 182,
   "id": "305f06c8-e816-4719-b5c1-ed93337f7eff",
   "metadata": {},
   "outputs": [],
   "source": [
    "test_drugs = pca.transform(test_drugs)"
   ]
  },
  {
   "cell_type": "code",
   "execution_count": 186,
   "id": "f6403088-68d1-4434-ae7c-bbdebaeb1bbe",
   "metadata": {},
   "outputs": [],
   "source": [
    "preds_test_catch = []\n",
    "li_catch = []\n",
    "ui_catch = []\n",
    "for i in range(0,6):\n",
    "    params = catch[i][-2]\n",
    "    best_log_sigma_points_1 = catch[i][-1]\n",
    "    current_aug_state1, column_mod_11, column_mod_21, log_sigma_points_1 = get_targets_with_weights(test_omics, test_drugs, params, best_log_sigma_points_1)\n",
    "            \n",
    "    initial_targets_test = column_mod_11 + column_mod_21\n",
    "            \n",
    "    initial_targets_test = initial_targets_test.reshape(size_ens, test_omics.shape[0],1)\n",
    "            \n",
    "    initial_targets_test_mean = initial_targets_test.mean(0)\n",
    "    \n",
    "    preds_test_catch.append(initial_targets_test_mean)\n",
    "    \n",
    "    li = np.percentile(initial_targets_test, axis = 0, q = (2.5, 97.5))[0,:,:]\n",
    "    li_catch.append(li)\n",
    "            \n",
    "    ui = np.percentile(initial_targets_test, axis = 0, q = (2.5, 97.5))[1,:,:]\n",
    "    ui_catch.append(ui)\n",
    "            \n",
    "#     width = ui - li\n",
    "            \n",
    "#     avg_width = np.mean(width)"
   ]
  },
  {
   "cell_type": "code",
   "execution_count": 187,
   "id": "36fca9e4-8321-45a3-b210-8e0d9c922dd4",
   "metadata": {},
   "outputs": [],
   "source": [
    "y_test_preds = np.array(preds_test_catch).mean(0)"
   ]
  },
  {
   "cell_type": "code",
   "execution_count": 188,
   "id": "1b0546aa-00d9-4733-819b-750f7df38673",
   "metadata": {},
   "outputs": [],
   "source": [
    "li = np.array(li_catch).mean(0)"
   ]
  },
  {
   "cell_type": "code",
   "execution_count": 189,
   "id": "c6599064-9a63-4570-9594-fb3c3fb0825e",
   "metadata": {},
   "outputs": [],
   "source": [
    "ui = np.array(ui_catch).mean(0)"
   ]
  },
  {
   "cell_type": "code",
   "execution_count": 190,
   "id": "f072c312-c89c-4e0d-aeb7-c1ebcd905f4a",
   "metadata": {},
   "outputs": [],
   "source": [
    "ind_test = (y_test >= li) & (y_test <= ui)"
   ]
  },
  {
   "cell_type": "code",
   "execution_count": 191,
   "id": "81e9d1b2-6470-4d29-9980-a2766570a558",
   "metadata": {},
   "outputs": [
    {
     "data": {
      "text/plain": [
       "0.969"
      ]
     },
     "execution_count": 191,
     "metadata": {},
     "output_type": "execute_result"
    }
   ],
   "source": [
    "ind_test.mean()"
   ]
  },
  {
   "cell_type": "code",
   "execution_count": 192,
   "id": "55ae4fb5-6875-441c-80d6-73b78b974483",
   "metadata": {},
   "outputs": [],
   "source": [
    "width = ui - li"
   ]
  },
  {
   "cell_type": "code",
   "execution_count": 193,
   "id": "20431d60-4221-4335-a94b-c22f5324a34b",
   "metadata": {},
   "outputs": [
    {
     "data": {
      "text/plain": [
       "6.237340682505218"
      ]
     },
     "execution_count": 193,
     "metadata": {},
     "output_type": "execute_result"
    }
   ],
   "source": [
    "np.mean(width)"
   ]
  },
  {
   "cell_type": "code",
   "execution_count": 194,
   "id": "c9f70424-2e01-4d93-8bf8-32bbcbe33024",
   "metadata": {},
   "outputs": [
    {
     "data": {
      "text/plain": [
       "1.3363497677421412"
      ]
     },
     "execution_count": 194,
     "metadata": {},
     "output_type": "execute_result"
    }
   ],
   "source": [
    "np.sqrt(mean_squared_error(y_test, y_test_preds))"
   ]
  },
  {
   "cell_type": "code",
   "execution_count": 195,
   "id": "965411c3-e434-4576-91bf-0fcab36b5944",
   "metadata": {},
   "outputs": [
    {
     "data": {
      "text/plain": [
       "0.7882471999675247"
      ]
     },
     "execution_count": 195,
     "metadata": {},
     "output_type": "execute_result"
    }
   ],
   "source": [
    "pearsonr(y_test[:,0], y_test_preds[:,0])[0]"
   ]
  },
  {
   "cell_type": "code",
   "execution_count": 196,
   "id": "619a58c1-dcf7-4e35-9d04-2664694f19a2",
   "metadata": {},
   "outputs": [
    {
     "data": {
      "image/png": "[encoded data removed]",
      "text/plain": [
       "<Figure size 640x480 with 1 Axes>"
      ]
     },
     "metadata": {},
     "output_type": "display_data"
    }
   ],
   "source": [
    "fig  = plt.figure()\n",
    "plt.scatter(y_test[:,0], y_test_preds[:,0], alpha = 0.5)\n",
    "plt.axline((0,0), slope = 1, c = \"black\", linewidth = 3)\n",
    "plt.xlabel(\"Observed Log IC50\", fontweight = \"bold\", fontsize = 15)\n",
    "plt.ylabel(\"MEnKF-ANN Predicted Log IC50\", fontweight = \"bold\", fontsize = 15)\n",
    "plt.xticks(fontsize = 15, fontweight = \"bold\")\n",
    "plt.yticks(fontsize = 15, fontweight = \"bold\")\n",
    "fig.savefig('Plots/Scatter_Test_Without_PCA.pdf', bbox_inches='tight', format = \"pdf\")\n",
    "fig.savefig('Plots/Scatter_Test_Without_PCA.png', bbox_inches='tight')\n",
    "plt.show()"
   ]
  },
  {
   "cell_type": "code",
   "execution_count": 141,
   "id": "b06e776f-a5a7-4bce-81c2-31e171c3cd2b",
   "metadata": {},
   "outputs": [],
   "source": [
    "# current_aug_state1, column_mod_11, column_mod_21, log_sigma_points_1 = get_targets_with_weights(test_omics, test_drugs, best_initial_ensembles, best_log_sigma_points_1)\n",
    "            \n",
    "# initial_targets = column_mod_11 + column_mod_21\n",
    "            \n",
    "# initial_targets = initial_targets.reshape(size_ens, test_omics.shape[0],1)\n",
    "            \n",
    "# initial_targets_test = initial_targets"
   ]
  },
  {
   "cell_type": "code",
   "execution_count": 142,
   "id": "cea92bf9-1992-4f0e-8b1f-62a0ed8ed4d2",
   "metadata": {},
   "outputs": [],
   "source": [
    "# # initial_targets_softmax = expit(initial_targets)    \n",
    "            \n",
    "# initial_targets_test_mean = initial_targets_test.mean(0)\n",
    "            \n",
    "# li = np.percentile(initial_targets_test, axis = 0, q = (2.5, 97.5))[0,:,:]\n",
    "            \n",
    "# ui = np.percentile(initial_targets_test, axis = 0, q = (2.5, 97.5))[1,:,:]\n",
    "            \n",
    "# width = ui - li\n",
    "            \n",
    "# avg_width = np.mean(width)\n",
    "            \n",
    "# catch_test_probs = (y_test)\n",
    "            \n",
    "# ind_test = (catch_test_probs >= li) & (catch_test_probs <= ui)\n",
    "                        \n",
    "# coverage_test = np.mean(ind_test.ravel())    \n",
    "\n",
    "            \n",
    "# test_mae = np.sqrt(mean_squared_error(catch_test_probs, initial_targets_test_mean))\n",
    "\n",
    "# stats_pearson = stats.pearsonr(catch_test_probs.reshape(catch_test_probs.shape[0],),\n",
    "#                                            initial_targets_test_mean.reshape(initial_targets_test_mean.shape[0]))"
   ]
  },
  {
   "cell_type": "code",
   "execution_count": 143,
   "id": "7e03b7d8-504b-4fd2-bc7b-b8bac7a2bb00",
   "metadata": {},
   "outputs": [],
   "source": [
    "# stats_pearson"
   ]
  },
  {
   "cell_type": "code",
   "execution_count": 144,
   "id": "3c950c80-c06d-42f5-938a-699658ddee4d",
   "metadata": {},
   "outputs": [],
   "source": [
    "# string = \"Real_World_EnKF_DeepCDR_\" + \"Neurons_\" + str(h1)  + \"_Gamma_\" +  str(gamma_param) +  \"_var_weights_\" + str(var_weights) + \"_num_ens_\" + str(size_ens)"
   ]
  },
  {
   "cell_type": "code",
   "execution_count": 145,
   "id": "c54e559f-315e-4d51-a113-effe6695dc01",
   "metadata": {},
   "outputs": [],
   "source": [
    "# string = \"First_Three_Real_World_EnKF_DeepCDR_\" + \"Neurons_\" + str(h1)  + \"_Gamma_\" +  str(gamma_param) +  \"_var_weights_\" + str(var_weights) + \"_num_ens_\" + str(size_ens)"
   ]
  },
  {
   "cell_type": "code",
   "execution_count": 146,
   "id": "4213b5a0-b128-4d90-8eaf-ef7058c2e38b",
   "metadata": {},
   "outputs": [],
   "source": [
    "# string"
   ]
  },
  {
   "cell_type": "code",
   "execution_count": 147,
   "id": "01d8448d",
   "metadata": {},
   "outputs": [],
   "source": [
    "# catch_coverages = [best_train_mae, best_valid_mae, best_test_mae, best_train_coverage, best_test_coverage, best_valid_coverage, best_test_coverage, \\\n",
    "#     best_train_width, best_valid_width , best_test_width, best_drugs_weight, best_r_train, best_r_valid, best_r, exit_iter_no_thresh, time_taken, best_initial_ensembles, best_log_sigma_points_1]"
   ]
  },
  {
   "cell_type": "code",
   "execution_count": 148,
   "id": "cb1027fa-cc7a-4adf-8a6a-db23a1d6323d",
   "metadata": {},
   "outputs": [],
   "source": [
    "# best_train_mae, best_valid_mae, best_test_mae, best_train_coverage, best_test_coverage, best_valid_coverage, best_test_coverage, \\\n",
    "#     best_train_width, best_valid_width , best_test_width, (1-best_drugs_weight), best_r_train, best_r_valid, best_r, exit_iter_no_thresh, time_taken, best_initial_ensembles, best_log_sigma_points_1"
   ]
  },
  {
   "cell_type": "code",
   "execution_count": 149,
   "id": "3e0f11d9-de11-4880-be84-4340352ce23c",
   "metadata": {},
   "outputs": [],
   "source": [
    "# with open(\"Preds_Mutation_Methylation\" + \".pkl\", 'wb') as f:\n",
    "#     pickle.dump(catch_coverages, f)"
   ]
  },
  {
   "cell_type": "code",
   "execution_count": 150,
   "id": "f80681cc-ed49-44c9-9373-52944bc8d658",
   "metadata": {},
   "outputs": [],
   "source": [
    "# fig  = plt.figure()\n",
    "# plt.scatter(y_test, initial_targets_test_mean, alpha = 0.5)\n",
    "# plt.axline((0,0), slope = 1, c = \"black\", linewidth = 3)\n",
    "# plt.xlabel(\"Observed Log IC50\", fontweight = \"bold\", fontsize = 15)\n",
    "# plt.ylabel(\"MEnKF-ANN Predicted Log IC50\", fontweight = \"bold\", fontsize = 15)\n",
    "# plt.xticks(fontsize = 15, fontweight = \"bold\")\n",
    "# plt.yticks(fontsize = 15, fontweight = \"bold\")\n",
    "# fig.savefig('Plots/Avg_Smile_Weight_Tajectory.pdf', bbox_inches='tight', format = \"pdf\")\n",
    "# fig.savefig('Plots/Avg_Smile_Weight_Tajectory.png', bbox_inches='tight')\n",
    "# plt.show()"
   ]
  },
  {
   "cell_type": "code",
   "execution_count": 151,
   "id": "1e8200e5-b784-49c8-9ae9-fd7ee5a2e71d",
   "metadata": {},
   "outputs": [],
   "source": [
    "# catch_coverages"
   ]
  },
  {
   "cell_type": "code",
   "execution_count": 152,
   "id": "d0f27b29",
   "metadata": {},
   "outputs": [],
   "source": [
    "# catch_coverages"
   ]
  },
  {
   "cell_type": "code",
   "execution_count": 153,
   "id": "647980a7-9ae3-4c5c-b25c-2e37b6a84679",
   "metadata": {},
   "outputs": [],
   "source": [
    "# check = pd.DataFrame(catch_coverages[:10])"
   ]
  },
  {
   "cell_type": "code",
   "execution_count": 154,
   "id": "e061792a-e589-486e-b8d2-336622f6bf34",
   "metadata": {},
   "outputs": [],
   "source": [
    "# check"
   ]
  },
  {
   "cell_type": "code",
   "execution_count": 155,
   "id": "fa101efc-351b-4645-87a3-f008abf1ff3d",
   "metadata": {},
   "outputs": [],
   "source": [
    "# check"
   ]
  },
  {
   "cell_type": "code",
   "execution_count": 156,
   "id": "77536655-0afd-4976-980a-fa7a28b55201",
   "metadata": {},
   "outputs": [],
   "source": [
    "# check.columns = [\"train_mae\", \"test_mae\", \"avg_ci_width_train\", \"avg_ci_width_test\", \"avg_lstm_weight\", \"exit_iter\", \"exit_status\"]"
   ]
  },
  {
   "cell_type": "code",
   "execution_count": 157,
   "id": "cd8cefbd-9076-469e-a5dc-dc4637846308",
   "metadata": {},
   "outputs": [],
   "source": [
    "# check = check.T\n"
   ]
  },
  {
   "cell_type": "code",
   "execution_count": 158,
   "id": "8596dfc5",
   "metadata": {},
   "outputs": [],
   "source": [
    "# check"
   ]
  },
  {
   "cell_type": "code",
   "execution_count": 159,
   "id": "4fc1dcac-24b2-45e7-ae4c-e55eca90a6c6",
   "metadata": {},
   "outputs": [],
   "source": [
    "# check.columns = [\"train_mae\", \"test_mae\", \"train_coverage\", \"train_width\", \"test_coverage\", \"test_width\", \"exit_iter\", \"time_taken\", \"avg_width_alginate\"]"
   ]
  },
  {
   "cell_type": "code",
   "execution_count": 160,
   "id": "dc699633-60c4-4774-93ef-e90160803672",
   "metadata": {},
   "outputs": [],
   "source": [
    "# check.columns = [\"train_mae\", \"test_mae\", \"train_coverage\", \"train_width\", \"test_coverage\", \"test_width\", \"drug_weight\" , \"pearson_correlation\" ,\"exit_iter\", \"time_taken\"]"
   ]
  },
  {
   "cell_type": "code",
   "execution_count": 161,
   "id": "4089a2ab-43f9-4e24-a7ed-add7bdc14156",
   "metadata": {},
   "outputs": [],
   "source": [
    "# true_preds = [inner for item in true_preds for inner in item]"
   ]
  },
  {
   "cell_type": "code",
   "execution_count": 162,
   "id": "65492b8d-d7e4-4375-8577-d79a633680b7",
   "metadata": {},
   "outputs": [],
   "source": [
    "# enkf_preds = [inner for item in enkf_preds for inner in item]"
   ]
  },
  {
   "cell_type": "code",
   "execution_count": 163,
   "id": "19776731-14c7-43c3-bd48-163aa67e2c76",
   "metadata": {},
   "outputs": [],
   "source": [
    "# np.mean(np.abs(np.array(true_preds)-np.array(enkf_preds)))"
   ]
  },
  {
   "cell_type": "code",
   "execution_count": 164,
   "id": "1ebada74-6fe8-4f58-a939-87ca7399aef8",
   "metadata": {},
   "outputs": [],
   "source": [
    "# plt.scatter(enkf_preds,true_preds, alpha=0.5)\n",
    "# plt.xlabel(\"EnKF Predictions\", fontsize = 15, fontweight = \"bold\")\n",
    "# plt.ylabel(\"LSTM Predictions\", fontsize = 15, fontweight = \"bold\")\n",
    "# plt.xticks( fontsize = 10, fontweight = \"bold\")\n",
    "# plt.yticks( fontsize = 10, fontweight = \"bold\")\n",
    "# plt.axline((0, 0), slope=1)\n",
    "# plt.show()"
   ]
  },
  {
   "cell_type": "code",
   "execution_count": 165,
   "id": "dd706672-8fd1-4f54-88a2-d377f1b2d7d3",
   "metadata": {},
   "outputs": [],
   "source": [
    "# cur_idx = 0"
   ]
  },
  {
   "cell_type": "code",
   "execution_count": 166,
   "id": "ead27b05-299e-49dc-bb97-236a18cd05e5",
   "metadata": {},
   "outputs": [],
   "source": [
    "# catch_preds = []\n",
    "# for i in range(0, catch_coverages[cur_idx][-1].shape[1]):\n",
    "#     enkf_preds = catch_coverages[cur_idx][-1][:,i,:]\n",
    "#     enkf_preds_df = pd.DataFrame(enkf_preds)\n",
    "#     enkf_preds_df[\"Test_Sample_ID\"] = i \n",
    "#     enkf_preds_df.columns = [\"EnKF_Preds\", \"Test_Sample_ID\"]\n",
    "#     catch_preds.append(enkf_preds_df)"
   ]
  },
  {
   "cell_type": "code",
   "execution_count": 167,
   "id": "76f88a3c-8152-4b54-8eea-761701d7b7cc",
   "metadata": {},
   "outputs": [],
   "source": [
    "# catch_preds_df = pd.concat(catch_preds)"
   ]
  },
  {
   "cell_type": "code",
   "execution_count": 168,
   "id": "6614c144-29c3-451d-a6c6-a624aa4096a1",
   "metadata": {},
   "outputs": [],
   "source": [
    "# import seaborn as sns"
   ]
  },
  {
   "cell_type": "code",
   "execution_count": 169,
   "id": "45f52dcf-cc5b-4af0-b495-9c0601729154",
   "metadata": {},
   "outputs": [],
   "source": [
    "# filtered_df = expit(catch1[cur_idx][2])"
   ]
  },
  {
   "cell_type": "code",
   "execution_count": 170,
   "id": "51405252-c830-4c95-90d8-e42cffcae59b",
   "metadata": {},
   "outputs": [],
   "source": [
    "# # plt.figure(figsize = (10,10))\n",
    "# fig = sns.boxplot(catch_preds_df, x=\"Test_Sample_ID\", y=\"EnKF_Preds\", showfliers=False)\n",
    "# plt.scatter(range(0, filtered_df.shape[0]), filtered_df, c = \"black\", s = 50)\n",
    "# plt.xlabel(\"Test Sample ID\", fontsize = 15, fontweight = \"bold\")\n",
    "# plt.ylabel(\"EnKF Predictions\", fontsize = 15, fontweight = \"bold\")\n",
    "# plt.xticks(fontsize = 10, fontweight = \"bold\")\n",
    "# plt.yticks(fontsize = 10, fontweight = \"bold\")\n",
    "# plt.show()"
   ]
  },
  {
   "cell_type": "code",
   "execution_count": 171,
   "id": "ab4ef63f-a716-4006-8923-39df160647d8",
   "metadata": {},
   "outputs": [],
   "source": [
    "# ids = [i for i in range(0, filtered_df.shape[0]) if filtered_df[i] < 0.5]\n",
    "# ids_more = [i for i in range(0, filtered_df.shape[0]) if filtered_df[i] > 0.5]"
   ]
  },
  {
   "cell_type": "code",
   "execution_count": 172,
   "id": "0976b8bc-6faa-4c8e-a9d1-3b666d9435e0",
   "metadata": {},
   "outputs": [],
   "source": [
    "# catch_preds_df.groupby(\"Test_Sample_ID\").quantile(q = [0.025, 0.975])"
   ]
  },
  {
   "cell_type": "code",
   "execution_count": 173,
   "id": "64886e1a-d858-4ea8-9cc4-51ab0b072286",
   "metadata": {},
   "outputs": [],
   "source": [
    "# catch_preds_df_filtered = catch_preds_df[catch_preds_df[\"Test_Sample_ID\"].isin(ids_more)]"
   ]
  },
  {
   "cell_type": "code",
   "execution_count": 174,
   "id": "6ecec8de-d825-4191-9f35-705382466d97",
   "metadata": {},
   "outputs": [],
   "source": [
    "# filtered_true = filtered_df[ids_more,:]"
   ]
  },
  {
   "cell_type": "code",
   "execution_count": 175,
   "id": "860a9f6b-a286-4855-8530-2c2d71d08737",
   "metadata": {},
   "outputs": [],
   "source": [
    "# # plt.figure(figsize = (10,10))\n",
    "# fig = sns.boxplot(catch_preds_df_filtered, x=\"Test_Sample_ID\", y=\"EnKF_Preds\", showfliers=False)\n",
    "# plt.scatter(range(0, filtered_true.shape[0]), filtered_true, c = \"black\", s = 50)\n",
    "# plt.xlabel(\"Test Sample ID\", fontsize = 15, fontweight = \"bold\")\n",
    "# plt.ylabel(\"EnKF Predictions\", fontsize = 15, fontweight = \"bold\")\n",
    "# plt.xticks(fontsize = 10, fontweight = \"bold\")\n",
    "# plt.yticks(fontsize = 10, fontweight = \"bold\")\n",
    "# plt.show()"
   ]
  },
  {
   "cell_type": "code",
   "execution_count": 176,
   "id": "ec177a9b-74aa-4458-a88e-a8b1ab1deff6",
   "metadata": {},
   "outputs": [],
   "source": [
    "# catch_preds_df_filtered = catch_preds_df[catch_preds_df[\"Test_Sample_ID\"].isin(ids)]\n",
    "# filtered_true = filtered_df[ids,:]\n",
    "# # plt.figure(figsize = (10,10))\n",
    "# fig = sns.boxplot(catch_preds_df_filtered, x=\"Test_Sample_ID\", y=\"EnKF_Preds\", showfliers=False)\n",
    "# plt.scatter(range(0, filtered_true.shape[0]), filtered_true, c = \"black\")\n",
    "# plt.xlabel(\"Test Sample ID\", fontsize = 15, fontweight = \"bold\")\n",
    "# plt.ylabel(\"EnKF Predictions\", fontsize = 15, fontweight = \"bold\")\n",
    "# plt.xticks(fontsize = 10, fontweight = \"bold\")\n",
    "# plt.yticks(fontsize = 10, fontweight = \"bold\")\n",
    "# plt.show()\n",
    "# # plt.ylim((0.9,1.0))"
   ]
  }
 ],
 "metadata": {
  "kernelspec": {
   "display_name": "enkf",
   "language": "python",
   "name": "enkf"
  },
  "language_info": {
   "codemirror_mode": {
    "name": "ipython",
    "version": 3
   },
   "file_extension": ".py",
   "mimetype": "text/x-python",
   "name": "python",
   "nbconvert_exporter": "python",
   "pygments_lexer": "ipython3",
   "version": "3.11.3"
  }
 },
 "nbformat": 4,
 "nbformat_minor": 5
}
