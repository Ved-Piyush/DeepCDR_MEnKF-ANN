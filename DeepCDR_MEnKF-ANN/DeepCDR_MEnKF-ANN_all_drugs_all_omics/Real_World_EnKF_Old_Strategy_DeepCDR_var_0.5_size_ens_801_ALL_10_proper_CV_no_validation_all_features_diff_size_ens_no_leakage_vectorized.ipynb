{
 "cells": [
  {
   "cell_type": "code",
   "execution_count": 1,
   "id": "d7ab5bf3",
   "metadata": {},
   "outputs": [],
   "source": [
    "import pandas as pd\n",
    "from tqdm import tqdm\n",
    "# import gensim\n",
    "import os\n",
    "os.environ['TF_CPP_MIN_LOG_LEVEL'] = '3' \n",
    "from joblib import Parallel, delayed\n",
    "import sys\n",
    "from scipy.stats import norm"
   ]
  },
  {
   "cell_type": "code",
   "execution_count": 2,
   "id": "36084258",
   "metadata": {},
   "outputs": [
    {
     "name": "stdout",
     "output_type": "stream",
     "text": [
      "No GPU found\n"
     ]
    }
   ],
   "source": [
    "# Seed value\n",
    "# Apparently you may use different seed values at each stage\n",
    "seed_value= 42\n",
    "\n",
    "# 1. Set the `PYTHONHASHSEED` environment variable at a fixed value\n",
    "import os\n",
    "os.environ['PYTHONHASHSEED']=str(seed_value)\n",
    "\n",
    "# 2. Set the `python` built-in pseudo-random generator at a fixed value\n",
    "import random\n",
    "random.seed(seed_value)\n",
    "\n",
    "# 3. Set the `numpy` pseudo-random generator at a fixed value\n",
    "import numpy as np\n",
    "np.random.seed(seed_value)\n",
    "\n",
    "# # 4. Set the `tensorflow` pseudo-random generator at a fixed value\n",
    "import tensorflow as tf\n",
    "os.environ['CUDA_VISIBLE_DEVICES'] = '-1'\n",
    "\n",
    "if tf.test.gpu_device_name():\n",
    "    print('GPU found')\n",
    "else:\n",
    "    print(\"No GPU found\")\n",
    "# tf.config.set_visible_devices([], 'GPU')\n",
    "\n",
    "from tqdm.notebook import tqdm\n",
    "tf.random.set_seed(seed_value)\n",
    "import multiprocessing\n"
   ]
  },
  {
   "cell_type": "code",
   "execution_count": 3,
   "id": "e036b858",
   "metadata": {},
   "outputs": [],
   "source": [
    "import matplotlib.pyplot as plt\n",
    "\n",
    "import pickle"
   ]
  },
  {
   "cell_type": "code",
   "execution_count": 4,
   "id": "a1221543-b1fd-4225-91c9-1f372ac315e3",
   "metadata": {},
   "outputs": [],
   "source": [
    "path = os.getcwd() + \"//dataset_1\""
   ]
  },
  {
   "cell_type": "code",
   "execution_count": 5,
   "id": "76624ecc-8bb7-4e52-b95d-1a01cecacb5b",
   "metadata": {},
   "outputs": [],
   "source": [
    "def ann(hidden = 10, input_shape = 90): \n",
    "    input_layer = tf.keras.layers.Input(shape = (input_shape))\n",
    "    hidden_layer = tf.keras.layers.Dense(hidden)\n",
    "    hidden_output = hidden_layer(input_layer)\n",
    "    pred_layer = tf.keras.layers.Dense(1)\n",
    "    pred_output = pred_layer(hidden_output)\n",
    "#     pred_output = tf.keras.layers.Activation(\"softmax\")(pred_output)\n",
    "    model = tf.keras.models.Model(input_layer, pred_output)\n",
    "    return model"
   ]
  },
  {
   "cell_type": "code",
   "execution_count": 6,
   "id": "b8153ea5-cefc-4075-994d-c51461505e8b",
   "metadata": {},
   "outputs": [],
   "source": [
    "# X_train_word2vec = train_drugs"
   ]
  },
  {
   "cell_type": "code",
   "execution_count": 7,
   "id": "95a7d5f5-e03c-4de4-8bea-d4821cc7209d",
   "metadata": {},
   "outputs": [],
   "source": [
    "h1, h2 = 16,16"
   ]
  },
  {
   "cell_type": "code",
   "execution_count": 8,
   "id": "b2ff179a-2c64-4bae-bfd5-3ce7f4b40fb5",
   "metadata": {},
   "outputs": [],
   "source": [
    "\n",
    "\n",
    "ann_15 = ann(h1)\n",
    "\n",
    "\n",
    "# In[35]:\n",
    "\n",
    "\n",
    "# ann_15.summary()\n",
    "\n",
    "\n",
    "# In[36]:\n",
    "\n"
   ]
  },
  {
   "cell_type": "code",
   "execution_count": 9,
   "id": "0bf5144e-59f2-413e-af30-39407819094c",
   "metadata": {},
   "outputs": [
    {
     "name": "stdout",
     "output_type": "stream",
     "text": [
      "Model: \"model\"\n",
      "_________________________________________________________________\n",
      " Layer (type)                Output Shape              Param #   \n",
      "=================================================================\n",
      " input_1 (InputLayer)        [(None, 90)]              0         \n",
      "                                                                 \n",
      " dense (Dense)               (None, 16)                1456      \n",
      "                                                                 \n",
      " dense_1 (Dense)             (None, 1)                 17        \n",
      "                                                                 \n",
      "=================================================================\n",
      "Total params: 1,473\n",
      "Trainable params: 1,473\n",
      "Non-trainable params: 0\n",
      "_________________________________________________________________\n"
     ]
    }
   ],
   "source": [
    "ann_15.summary()"
   ]
  },
  {
   "cell_type": "code",
   "execution_count": 10,
   "id": "a9c45b5a-9f13-4fd9-b90c-ed94e069b9cc",
   "metadata": {},
   "outputs": [],
   "source": [
    "# X_train_word2vec = train_omics"
   ]
  },
  {
   "cell_type": "code",
   "execution_count": 11,
   "id": "bce5668e-a895-47b4-8f1c-6e5d1fd3c92b",
   "metadata": {},
   "outputs": [],
   "source": [
    "ann_20 = ann(h2, 90)\n",
    "\n",
    "\n",
    "\n",
    "# ann_20.summary()\n",
    "\n"
   ]
  },
  {
   "cell_type": "code",
   "execution_count": 12,
   "id": "6a41f8b5",
   "metadata": {},
   "outputs": [],
   "source": [
    "total_weights_1 = ann_15.count_params()"
   ]
  },
  {
   "cell_type": "code",
   "execution_count": 13,
   "id": "0721ea37",
   "metadata": {},
   "outputs": [],
   "source": [
    "total_weights_2 = ann_20.count_params()"
   ]
  },
  {
   "cell_type": "code",
   "execution_count": 14,
   "id": "4b2ed894",
   "metadata": {},
   "outputs": [],
   "source": [
    "total_weights = total_weights_1 + total_weights_2 + 1 "
   ]
  },
  {
   "cell_type": "code",
   "execution_count": 15,
   "id": "999f5e96",
   "metadata": {},
   "outputs": [
    {
     "data": {
      "text/plain": [
       "2947"
      ]
     },
     "execution_count": 15,
     "metadata": {},
     "output_type": "execute_result"
    }
   ],
   "source": [
    "total_weights"
   ]
  },
  {
   "cell_type": "code",
   "execution_count": 16,
   "id": "feb2ef89",
   "metadata": {},
   "outputs": [],
   "source": [
    "## batch size\n",
    "batch_size = 128"
   ]
  },
  {
   "cell_type": "code",
   "execution_count": 17,
   "id": "4eea8c8e",
   "metadata": {},
   "outputs": [],
   "source": [
    "# var_weights = 0.08\n",
    "# var_targets = 0.08"
   ]
  },
  {
   "cell_type": "code",
   "execution_count": 18,
   "id": "9b49ba9c",
   "metadata": {},
   "outputs": [],
   "source": [
    "from scipy.stats import multivariate_normal as mvn"
   ]
  },
  {
   "cell_type": "code",
   "execution_count": 19,
   "id": "7a60a350",
   "metadata": {},
   "outputs": [],
   "source": [
    "from scipy.stats import invgamma, norm"
   ]
  },
  {
   "cell_type": "code",
   "execution_count": 20,
   "id": "bd888262",
   "metadata": {},
   "outputs": [],
   "source": [
    "from tqdm.notebook import tqdm"
   ]
  },
  {
   "cell_type": "code",
   "execution_count": 21,
   "id": "c3355c48",
   "metadata": {},
   "outputs": [],
   "source": [
    "threshold = 5"
   ]
  },
  {
   "cell_type": "code",
   "execution_count": 22,
   "id": "b1ce82b7",
   "metadata": {},
   "outputs": [],
   "source": [
    "import random"
   ]
  },
  {
   "cell_type": "code",
   "execution_count": 23,
   "id": "7425ecc5",
   "metadata": {},
   "outputs": [],
   "source": [
    "lr = 0.1"
   ]
  },
  {
   "cell_type": "code",
   "execution_count": 24,
   "id": "b7959ab1",
   "metadata": {},
   "outputs": [],
   "source": [
    "import numpy as np"
   ]
  },
  {
   "cell_type": "code",
   "execution_count": 25,
   "id": "1db4063f",
   "metadata": {},
   "outputs": [],
   "source": [
    "weights_ann_1 = ann_15.get_weights()\n",
    "weights_ann_2 = ann_20.get_weights()"
   ]
  },
  {
   "cell_type": "code",
   "execution_count": 26,
   "id": "43a211df",
   "metadata": {},
   "outputs": [],
   "source": [
    "def get_targets_with_weights(batch_data, batch_data1, initial_ensembles, log_sigma_points_1, size_ens): \n",
    "\n",
    "    n_hidden_1 = len(weights_ann_1[0].ravel())\n",
    "\n",
    "    hidden_weights_1 = initial_ensembles[:,:n_hidden_1].reshape( size_ens, batch_data.shape[1], h1)\n",
    "\n",
    "    \n",
    "    hidden_output_1 = np.einsum('ij,kjl->kil', batch_data, hidden_weights_1)\n",
    "\n",
    "    \n",
    "    hidden_layer_bias_1 = initial_ensembles[:,n_hidden_1:(n_hidden_1 + h1)].reshape(size_ens, 1,  h1)\n",
    "\n",
    "\n",
    "\n",
    "    hidden_output_1 = hidden_output_1 + hidden_layer_bias_1\n",
    "\n",
    "    n_pred_weights_1 = len(weights_ann_1[2].ravel())\n",
    "\n",
    "    output_weights_1 = initial_ensembles[:,(n_hidden_1 + h1):(n_hidden_1 + h1 + n_pred_weights_1) ].reshape(size_ens, h1, 1)\n",
    "\n",
    "    output_1 = np.einsum('ijk,ikl->ijl', hidden_output_1, output_weights_1)\n",
    "\n",
    "\n",
    "    output_layer_bias_1 = initial_ensembles[:,(n_hidden_1 + h1 + n_pred_weights_1):(n_hidden_1 + h1 + n_pred_weights_1 + 1)].reshape(size_ens, 1, 1)\n",
    "\n",
    "\n",
    "\n",
    "    final_output_1 = output_1 + output_layer_bias_1\n",
    "\n",
    "    n_hidden_2 = len(weights_ann_2[0].ravel())\n",
    "\n",
    "    initial_ensembles_1 = initial_ensembles.copy()[:, total_weights_1:(total_weights_1+ total_weights_2)]\n",
    "    \n",
    "    # print(batch_data1.shape[1])\n",
    "    \n",
    "    \n",
    "    hidden_weights_2 = initial_ensembles_1[:,:n_hidden_2].reshape(size_ens, batch_data1.shape[1], h2)\n",
    "\n",
    "\n",
    "\n",
    "    hidden_output_2 = np.einsum('ij,kjl->kil', batch_data1, hidden_weights_2)\n",
    "\n",
    "    hidden_layer_bias_2 = initial_ensembles[:,n_hidden_2:(n_hidden_2 + h2)].reshape(size_ens, 1,  h2)\n",
    "\n",
    "    hidden_output_2 = hidden_output_2+ hidden_layer_bias_2\n",
    "\n",
    "    n_pred_weights_2 = len(weights_ann_2[2].ravel())\n",
    "\n",
    "    output_weights_2 = initial_ensembles_1[:,(n_hidden_2 + h2):(n_hidden_2 + h2 + n_pred_weights_2) ].reshape(size_ens, h2, 1)\n",
    "\n",
    "\n",
    "    output_2 = np.einsum('ijk,ikl->ijl', hidden_output_2, output_weights_2)\n",
    "\n",
    "\n",
    "    output_layer_bias_2 = initial_ensembles_1[:,(n_hidden_2 + h2 + n_pred_weights_2):(n_hidden_2 + h2 + n_pred_weights_2 + 1)].reshape(size_ens, 1, 1)\n",
    "\n",
    "\n",
    "    final_output_2 = output_2 + output_layer_bias_2\n",
    "\n",
    "\n",
    "    weights_1 = initial_ensembles[:, :total_weights_1]\n",
    "\n",
    "    weights_2 = initial_ensembles[:, total_weights_1:(total_weights_1 + total_weights_2)]\n",
    "\n",
    "\n",
    "    avg_weights = initial_ensembles[:, -1].reshape(-1,1)\n",
    "\n",
    "    avg_weights_sig = expit(avg_weights)\n",
    "    \n",
    "    avg_weights_sig = avg_weights_sig.reshape(avg_weights_sig.shape[0], 1, avg_weights_sig.shape[1])\n",
    "    \n",
    "    complement_weights_sig = 1 - expit(avg_weights)\n",
    "    \n",
    "    complement_weights_sig = complement_weights_sig.reshape(complement_weights_sig.shape[0], 1, complement_weights_sig.shape[1])\n",
    "\n",
    "    final_output_1 = final_output_1*complement_weights_sig\n",
    "    \n",
    "    final_output_2 = final_output_2*avg_weights_sig\n",
    "    \n",
    "    output_1_ravel = final_output_1.reshape(size_ens, final_output_1.shape[1]*final_output_1.shape[2])\n",
    "\n",
    "    output_2_ravel = final_output_2.reshape(size_ens, final_output_2.shape[1]*final_output_2.shape[2])\n",
    "\n",
    "\n",
    "    output_1_ravel = output_1_ravel\n",
    "\n",
    "    output_2_ravel = output_2_ravel\n",
    "\n",
    "\n",
    "\n",
    "    weights_1_add = np.zeros((size_ens, (total_weights_2 - total_weights_1)))\n",
    "\n",
    "\n",
    "\n",
    "    weights_1 = np.hstack((weights_1, weights_1_add))\n",
    "    \n",
    "\n",
    "\n",
    "    stack_1 = np.hstack((output_1_ravel, weights_1, np.repeat(0, size_ens).reshape(-1,1), np.repeat(0, size_ens).reshape(-1,1)))\n",
    "\n",
    "\n",
    "\n",
    "    \n",
    "    stack_2 = np.hstack((output_2_ravel, weights_2, avg_weights, log_sigma_points_1))\n",
    "\n",
    "    \n",
    "    initial_aug_state = np.hstack((stack_1, stack_2)) \n",
    "    \n",
    "\n",
    "    return initial_aug_state , output_1_ravel, output_2_ravel, log_sigma_points_1\n",
    "\n"
   ]
  },
  {
   "cell_type": "code",
   "execution_count": 27,
   "id": "4e3ef6e6",
   "metadata": {},
   "outputs": [],
   "source": [
    "import time"
   ]
  },
  {
   "cell_type": "code",
   "execution_count": 28,
   "id": "0eabfdd4",
   "metadata": {},
   "outputs": [],
   "source": [
    "from scipy.stats import multivariate_normal as mvn"
   ]
  },
  {
   "cell_type": "code",
   "execution_count": 29,
   "id": "10d77915",
   "metadata": {},
   "outputs": [],
   "source": [
    "from scipy.stats import multivariate_normal as mvn"
   ]
  },
  {
   "cell_type": "code",
   "execution_count": 30,
   "id": "ebeb0869-7f0b-4f21-be63-0234896af39f",
   "metadata": {},
   "outputs": [],
   "source": [
    "# train_fudged_probs"
   ]
  },
  {
   "cell_type": "code",
   "execution_count": 31,
   "id": "23d87ffe",
   "metadata": {},
   "outputs": [],
   "source": [
    "import matplotlib.pyplot as plt"
   ]
  },
  {
   "cell_type": "code",
   "execution_count": 32,
   "id": "f5427e43",
   "metadata": {},
   "outputs": [],
   "source": [
    "from scipy.special import expit"
   ]
  },
  {
   "cell_type": "code",
   "execution_count": 33,
   "id": "be0ee1ec",
   "metadata": {},
   "outputs": [],
   "source": [
    "# catch1[0][0]"
   ]
  },
  {
   "cell_type": "code",
   "execution_count": 34,
   "id": "fb492324",
   "metadata": {},
   "outputs": [],
   "source": [
    "# catch_train_logits_second[0]"
   ]
  },
  {
   "cell_type": "code",
   "execution_count": 35,
   "id": "0c2dbaec-3249-404a-9971-c2fc17f68356",
   "metadata": {},
   "outputs": [],
   "source": [
    "from datetime import datetime"
   ]
  },
  {
   "cell_type": "code",
   "execution_count": 36,
   "id": "9cf12935",
   "metadata": {},
   "outputs": [],
   "source": [
    "def expit(x):\n",
    "    \"\"\"Compute softmax values for each sets of scores in x.\"\"\"\n",
    "#     e_x = np.exp(x - np.max(x))\n",
    "    return 1 / (1 + np.exp(-x))"
   ]
  },
  {
   "cell_type": "code",
   "execution_count": 37,
   "id": "ef051014",
   "metadata": {},
   "outputs": [],
   "source": [
    "from scipy.stats import gamma"
   ]
  },
  {
   "cell_type": "code",
   "execution_count": 38,
   "id": "1969c78b-c105-482a-a957-e81329037a09",
   "metadata": {},
   "outputs": [],
   "source": [
    "use_cores = multiprocessing.cpu_count()-1"
   ]
  },
  {
   "cell_type": "code",
   "execution_count": 39,
   "id": "6a062f7f",
   "metadata": {},
   "outputs": [
    {
     "data": {
      "text/plain": [
       "47"
      ]
     },
     "execution_count": 39,
     "metadata": {},
     "output_type": "execute_result"
    }
   ],
   "source": [
    "use_cores"
   ]
  },
  {
   "cell_type": "code",
   "execution_count": 40,
   "id": "881d1612-f98f-4df6-89b0-90bd2e97de4f",
   "metadata": {},
   "outputs": [],
   "source": [
    "from datetime import datetime"
   ]
  },
  {
   "cell_type": "code",
   "execution_count": 41,
   "id": "ac0108fa-359e-4d88-ba02-776a6f19b906",
   "metadata": {},
   "outputs": [],
   "source": [
    "from sklearn.metrics import mean_squared_error"
   ]
  },
  {
   "cell_type": "code",
   "execution_count": 42,
   "id": "6cd29e03-d778-4eeb-98b5-de815840cb5c",
   "metadata": {},
   "outputs": [],
   "source": [
    "import random"
   ]
  },
  {
   "cell_type": "code",
   "execution_count": 43,
   "id": "cc0be1b1",
   "metadata": {},
   "outputs": [],
   "source": [
    "from scipy import stats"
   ]
  },
  {
   "cell_type": "code",
   "execution_count": 44,
   "id": "b49d0934-faa0-428b-8dc7-e53323a26372",
   "metadata": {},
   "outputs": [],
   "source": [
    "from scipy.stats import pearsonr"
   ]
  },
  {
   "cell_type": "code",
   "execution_count": 45,
   "id": "0d5734d0-e75c-436e-bdea-6d5c8223754a",
   "metadata": {},
   "outputs": [],
   "source": [
    "from sklearn.model_selection import train_test_split"
   ]
  },
  {
   "cell_type": "code",
   "execution_count": 46,
   "id": "25586772-a3e4-4d5e-b745-6495023e37d5",
   "metadata": {},
   "outputs": [],
   "source": [
    "from sklearn.model_selection import KFold"
   ]
  },
  {
   "cell_type": "code",
   "execution_count": 47,
   "id": "516ae86c-6a46-4d98-9f6b-3eb93f6441de",
   "metadata": {},
   "outputs": [],
   "source": [
    "with open(\"..//..//Data//untouched_all_embs_five_fold.pickle\", \"rb\") as f:\n",
    "    catch_main = pickle.load(f)"
   ]
  },
  {
   "cell_type": "code",
   "execution_count": 48,
   "id": "7163a1c0-3cf4-4d58-942b-0d4c7d5b0b63",
   "metadata": {},
   "outputs": [
    {
     "data": {
      "text/plain": [
       "(800, 100)"
      ]
     },
     "execution_count": 48,
     "metadata": {},
     "output_type": "execute_result"
    }
   ],
   "source": [
    "# catch_main[0][0][0].shape"
   ]
  },
  {
   "cell_type": "code",
   "execution_count": 52,
   "id": "570b3079-bb88-42fe-8174-fdced06c4121",
   "metadata": {},
   "outputs": [],
   "source": [
    "# catch_main[0][1][1].shape"
   ]
  },
  {
   "cell_type": "code",
   "execution_count": 284,
   "id": "1350b5d2-36dd-4183-a736-6bfcf791b8cd",
   "metadata": {},
   "outputs": [],
   "source": [
    "from sklearn.decomposition import PCA"
   ]
  },
  {
   "cell_type": "code",
   "execution_count": 285,
   "id": "4f8d32b6-51e4-49c4-b379-86f7dabb2e11",
   "metadata": {},
   "outputs": [],
   "source": [
    "# var_weights =1.0\n",
    "# gamma_param = 100\n",
    "# var_targetsw = 0.0005\n",
    "# reduction = 15\n",
    "# shape_needed = total_weights//reduction\n",
    "# # size_ens = 196\n",
    "# size_ens = int(shape_needed)\n",
    "# batch_size = 1024\n",
    "# threshold = 15"
   ]
  },
  {
   "cell_type": "code",
   "execution_count": 286,
   "id": "5792f373-c29f-4339-aac6-3a4c66748587",
   "metadata": {},
   "outputs": [],
   "source": [
    "#     item = catch_main[0]\n",
    "#     a1, a2 = item[0], item[1]\n",
    "#     train_drugs_emb, train_gen_expr_emb, train_dna_methyl_emb, train_gen_mut_emb, train_y = a1\n",
    "#     test_drugs_emb, test_gen_expr_emb, test_dna_methyl_emb, test_gen_mut_emb, test_y = a2\n",
    "#     train_rmse = []\n",
    "#     test_rmse = []\n",
    "#     train_cov = []\n",
    "#     test_cov = []\n",
    "#     train_p = []\n",
    "#     test_p = []\n",
    "#     train_width = []\n",
    "#     test_width = []\n",
    "# #     from scipy.special import expit\n",
    "#     patience_smaller = 0\n",
    "#     patience_uns = 0\n",
    "    \n",
    "#     print(\"Size_Ens is \" + str(size_ens), flush = True)\n",
    "    \n",
    "#     best_train_mae = 100000\n",
    "    \n",
    "#     best_train_width = 100000\n",
    "\n",
    "        \n",
    "#     X_train_logits_unshuffled = train_y.reshape(-1,1)\n",
    "#     train_size = X_train_logits_unshuffled.shape[0]\n",
    "\n",
    "#     X_test_logits = test_y.reshape(-1,1)\n",
    "    \n",
    "#     ## create training batch chunks\n",
    "#     train_idx = list(range(0, len(X_train_logits_unshuffled)))\n",
    "#     batch_chunks = [train_idx[i:i+batch_size] for i in range(0,len(X_train_logits_unshuffled),batch_size)]\n",
    "\n",
    "#     ## generate some augmented variable for iteration 0\n",
    "#     initial_aug_state_mean = np.repeat(0, total_weights)\n",
    "#     initial_aug_state_mean = initial_aug_state_mean.reshape(-1,1)\n",
    "\n",
    "#     initial_aug_state_cov = var_weights*np.identity((total_weights))\n",
    "#     initial_ensembles = mvn(initial_aug_state_mean.reshape(initial_aug_state_mean.shape[0],), initial_aug_state_cov).rvs(size = size_ens)\n",
    "\n",
    "#     exit_iter_no_thresh = 0\n",
    "#     log_sigma_points_1 = (np.log(gamma(gamma_param, scale = 1/100).rvs(size_ens))).reshape(size_ens, 1)\n",
    "    \n",
    "    \n",
    "#     train_lstm = train_drugs_emb\n",
    "\n",
    "#     test_lstm = test_drugs_emb\n",
    "\n",
    "#     pca = PCA(n_components=size_drugs)\n",
    "#     train_lstm = pca.fit_transform(train_lstm)\n",
    "#     # valid_lstm = pca.transform(valid_lstm)\n",
    "#     test_lstm = pca.transform(test_lstm)\n",
    "    \n",
    "#     # print(train_lstm.shape)\n",
    "\n",
    "#     train_doc2vec_gen_expr = train_gen_expr_emb\n",
    "#     test_doc2vec_gen_expr = test_gen_expr_emb\n",
    "    \n",
    "#     pca = PCA(n_components=size_omics)\n",
    "#     train_doc2vec_gen_expr = pca.fit_transform(train_doc2vec_gen_expr)\n",
    "#     test_doc2vec_gen_expr = pca.transform(test_doc2vec_gen_expr)\n",
    "    \n",
    "#     train_doc2vec_gen_mut = train_gen_mut_emb\n",
    "#     test_doc2vec_gen_mut = test_gen_mut_emb\n",
    "    \n",
    "#     pca = PCA(n_components=size_omics)\n",
    "#     train_doc2vec_gen_mut = pca.fit_transform(train_doc2vec_gen_mut)\n",
    "#     test_doc2vec_gen_mut = pca.transform(test_doc2vec_gen_mut)\n",
    "    \n",
    "#     train_doc2vec_dna_methyl = train_dna_methyl_emb\n",
    "#     test_doc2vec_dna_methyl = test_dna_methyl_emb\n",
    "    \n",
    "#     pca = PCA(n_components=size_omics)\n",
    "#     train_doc2vec_dna_methyl = pca.fit_transform(train_doc2vec_dna_methyl)\n",
    "#     test_doc2vec_dna_methyl = pca.transform(test_doc2vec_dna_methyl)\n",
    "    \n",
    "#     train_drugs = train_lstm\n",
    "    \n",
    "#     test_drugs = test_lstm\n",
    "    \n",
    "#     train_omics = np.hstack((train_doc2vec_gen_expr, train_doc2vec_gen_mut, train_doc2vec_dna_methyl))\n",
    "\n",
    "#     test_omics = np.hstack((test_doc2vec_gen_expr, test_doc2vec_gen_mut, test_doc2vec_dna_methyl))\n",
    "    \n",
    "    \n",
    "#     train_lstm = train_drugs\n",
    "#     test_lstm = test_drugs\n",
    "    \n",
    "#     train_doc2vec = train_omics\n",
    "#     test_doc2vec = test_omics\n",
    "    \n",
    "#     best_coverage_train = 0\n",
    "    \n",
    "#     start = datetime.now()\n",
    "    \n",
    "#     for iter1 in range(0,1):\n",
    "#         random_idx = random.sample(range(0,train_lstm.shape[0]), train_lstm.shape[0])\n",
    "#         train_valid_lstm =train_lstm[random_idx, :]\n",
    "#         train_valid_doc2vec = train_doc2vec[random_idx, :]\n",
    "#         X_train_logits = X_train_logits_unshuffled[random_idx, :]\n",
    "\n",
    "#         for batch_idx in batch_chunks:\n",
    "            \n",
    "#             batch_data = train_valid_lstm[batch_idx,:]\n",
    "#             # print(batch_data.shape)\n",
    "#             batch_data1 = train_valid_doc2vec[batch_idx,:]\n",
    "#             # print(batch_data1.shape)\n",
    "#             batch_targets = X_train_logits[batch_idx,:]\n",
    "            \n",
    "#             # print(batch_targets.shape)\n",
    "            \n",
    "#             # batch_targets = batch_targets.ravel().reshape(-1,1)\n",
    "\n",
    "#             column_mod_2_shape = total_weights_2 + batch_data.shape[0]*1 + 1 + 1\n",
    "        \n",
    "#             H_t = np.hstack((np.identity(batch_targets.shape[0]), np.zeros((batch_targets.shape[0], column_mod_2_shape-batch_targets.shape[0]))))\n",
    "            \n",
    "            \n",
    "            \n",
    "            \n",
    "#             current_aug_state, column_mod_1, column_mod_2, log_sigma_points_1 = get_targets_with_weights(batch_data1, batch_data, initial_ensembles, log_sigma_points_1, size_ens)\n",
    "            \n",
    "#             # print(current_aug_state.shape)\n",
    "            \n",
    "            \n",
    "#             var_targets_vec = np.log(1 + np.exp(log_sigma_points_1))\n",
    "            \n",
    "#             var_targets_vec = var_targets_vec\n",
    "            \n",
    "#             # current_aug_state_var = np.cov(current_aug_state.T) + inflation_factor*np.identity(current_aug_state.shape[1])\n",
    "            \n",
    "#             current_aug_state_var = np.cov(current_aug_state.T) \n",
    "            \n",
    "#             G_t = np.array([1 , 1]).reshape(-1,1)\n",
    "            \n",
    "#             scirpt_H_t = np.kron(G_t.T, H_t)\n",
    "            \n",
    "#             temp1 = current_aug_state_var@scirpt_H_t.T\n",
    "            \n",
    "#             temp2 = scirpt_H_t@current_aug_state_var@scirpt_H_t.T\n",
    "\n",
    "#             R_t1 = var_targetsw*np.identity(current_aug_state.shape[1])\n",
    "            \n",
    "#             measurement_error1 = mvn(np.repeat(0,current_aug_state.shape[1]), R_t1).rvs(current_aug_state.shape[0])\n",
    "            \n",
    "#             # print(\"done\")\n",
    "            \n",
    "#             R_t_batch = var_targets_vec.reshape(var_targets_vec.shape[0],1,1)*np.identity(batch_targets.shape[0])\n",
    "#             measurement_error = mvn(np.repeat(0,batch_targets.shape[0]), R_t_batch.mean(0)).rvs(size_ens)\n",
    "#             target_current = batch_targets.reshape(1,-1) + measurement_error\n",
    "#             temp2 = np.dstack([temp2]*size_ens).T\n",
    "#             K_t = temp1@np.linalg.inv(temp2 + R_t_batch)\n",
    "#             current_aug_state = current_aug_state + ((K_t@np.expand_dims((target_current -(scirpt_H_t@current_aug_state.T).T),-1))[:,:,0])\n",
    "#             current_aug_state = current_aug_state + measurement_error1"
   ]
  },
  {
   "cell_type": "code",
   "execution_count": 292,
   "id": "7ce24ad0-fb33-48cc-9111-b87c993695e2",
   "metadata": {},
   "outputs": [],
   "source": [
    "def rep_one_real_world(idx, size_ens, size_drugs = 90, size_omics = 30): \n",
    "    item = catch_main[idx]\n",
    "    a1, a2 = item[0], item[1]\n",
    "    train_drugs_emb, train_gen_expr_emb, train_dna_methyl_emb, train_gen_mut_emb, train_y = a1\n",
    "    test_drugs_emb, test_gen_expr_emb, test_dna_methyl_emb, test_gen_mut_emb, test_y = a2\n",
    "    train_rmse = []\n",
    "    test_rmse = []\n",
    "    train_cov = []\n",
    "    test_cov = []\n",
    "    train_p = []\n",
    "    test_p = []\n",
    "    train_width = []\n",
    "    test_width = []\n",
    "#     from scipy.special import expit\n",
    "    patience_smaller = 0\n",
    "    patience_uns = 0\n",
    "    \n",
    "    print(\"Size_Ens is \" + str(size_ens), flush = True)\n",
    "    \n",
    "    best_train_mae = 100000\n",
    "    \n",
    "    best_train_width = 100000\n",
    "\n",
    "        \n",
    "    X_train_logits_unshuffled = train_y.reshape(-1,1)\n",
    "    train_size = X_train_logits_unshuffled.shape[0]\n",
    "\n",
    "    X_test_logits = test_y.reshape(-1,1)\n",
    "    \n",
    "    ## create training batch chunks\n",
    "    train_idx = list(range(0, len(X_train_logits_unshuffled)))\n",
    "    batch_chunks = [train_idx[i:i+batch_size] for i in range(0,len(X_train_logits_unshuffled),batch_size)]\n",
    "\n",
    "    ## generate some augmented variable for iteration 0\n",
    "    initial_aug_state_mean = np.repeat(0, total_weights)\n",
    "    initial_aug_state_mean = initial_aug_state_mean.reshape(-1,1)\n",
    "\n",
    "    initial_aug_state_cov = var_weights*np.identity((total_weights))\n",
    "    initial_ensembles = mvn(initial_aug_state_mean.reshape(initial_aug_state_mean.shape[0],), initial_aug_state_cov).rvs(size = size_ens)\n",
    "\n",
    "    exit_iter_no_thresh = 0\n",
    "    log_sigma_points_1 = (np.log(gamma(gamma_param, scale = 1/100).rvs(size_ens))).reshape(size_ens, 1)\n",
    "    \n",
    "    \n",
    "    train_lstm = train_drugs_emb\n",
    "\n",
    "    test_lstm = test_drugs_emb\n",
    "\n",
    "    pca = PCA(n_components=size_drugs)\n",
    "    train_lstm = pca.fit_transform(train_lstm)\n",
    "    # valid_lstm = pca.transform(valid_lstm)\n",
    "    test_lstm = pca.transform(test_lstm)\n",
    "    \n",
    "    # print(train_lstm.shape)\n",
    "\n",
    "    train_doc2vec_gen_expr = train_gen_expr_emb\n",
    "    test_doc2vec_gen_expr = test_gen_expr_emb\n",
    "    \n",
    "    pca = PCA(n_components=size_omics)\n",
    "    train_doc2vec_gen_expr = pca.fit_transform(train_doc2vec_gen_expr)\n",
    "    test_doc2vec_gen_expr = pca.transform(test_doc2vec_gen_expr)\n",
    "    \n",
    "    train_doc2vec_gen_mut = train_gen_mut_emb\n",
    "    test_doc2vec_gen_mut = test_gen_mut_emb\n",
    "    \n",
    "    pca = PCA(n_components=size_omics)\n",
    "    train_doc2vec_gen_mut = pca.fit_transform(train_doc2vec_gen_mut)\n",
    "    test_doc2vec_gen_mut = pca.transform(test_doc2vec_gen_mut)\n",
    "    \n",
    "    train_doc2vec_dna_methyl = train_dna_methyl_emb\n",
    "    test_doc2vec_dna_methyl = test_dna_methyl_emb\n",
    "    \n",
    "    pca = PCA(n_components=size_omics)\n",
    "    train_doc2vec_dna_methyl = pca.fit_transform(train_doc2vec_dna_methyl)\n",
    "    test_doc2vec_dna_methyl = pca.transform(test_doc2vec_dna_methyl)\n",
    "    \n",
    "    train_drugs = train_lstm\n",
    "    \n",
    "    test_drugs = test_lstm\n",
    "    \n",
    "    train_omics = np.hstack((train_doc2vec_gen_expr, train_doc2vec_gen_mut, train_doc2vec_dna_methyl))\n",
    "\n",
    "    test_omics = np.hstack((test_doc2vec_gen_expr, test_doc2vec_gen_mut, test_doc2vec_dna_methyl))\n",
    "    \n",
    "    \n",
    "    train_lstm = train_drugs\n",
    "    test_lstm = test_drugs\n",
    "    \n",
    "    train_doc2vec = train_omics\n",
    "    test_doc2vec = test_omics\n",
    "    \n",
    "    best_coverage_train = 0\n",
    "    \n",
    "    start = datetime.now()\n",
    "    \n",
    "    for iter1 in range(0,500):\n",
    "        random_idx = random.sample(range(0,train_lstm.shape[0]), train_lstm.shape[0])\n",
    "        train_valid_lstm =train_lstm[random_idx, :]\n",
    "        train_valid_doc2vec = train_doc2vec[random_idx, :]\n",
    "        X_train_logits = X_train_logits_unshuffled[random_idx, :]\n",
    "        \n",
    "        \n",
    "        \n",
    "        for batch_idx in batch_chunks:\n",
    "            start_inner = datetime.now()\n",
    "            batch_data = train_valid_lstm[batch_idx,:]\n",
    "            # print(batch_data.shape)\n",
    "            batch_data1 = train_valid_doc2vec[batch_idx,:]\n",
    "            # print(batch_data1.shape)\n",
    "            batch_targets = X_train_logits[batch_idx,:]\n",
    "            \n",
    "            # print(batch_targets.shape)\n",
    "            \n",
    "            # batch_targets = batch_targets.ravel().reshape(-1,1)\n",
    "\n",
    "            column_mod_2_shape = total_weights_2 + batch_data.shape[0]*1 + 1 + 1\n",
    "        \n",
    "            H_t = np.hstack((np.identity(batch_targets.shape[0]), np.zeros((batch_targets.shape[0], column_mod_2_shape-batch_targets.shape[0]))))\n",
    "            \n",
    "            \n",
    "            \n",
    "            \n",
    "            current_aug_state, column_mod_1, column_mod_2, log_sigma_points_1 = get_targets_with_weights(batch_data1, batch_data, initial_ensembles, log_sigma_points_1, size_ens)\n",
    "            \n",
    "            # print(current_aug_state.shape)\n",
    "            \n",
    "            \n",
    "            var_targets_vec = np.log(1 + np.exp(log_sigma_points_1))\n",
    "            \n",
    "            var_targets_vec = var_targets_vec\n",
    "            \n",
    "            # current_aug_state_var = np.cov(current_aug_state.T) + inflation_factor*np.identity(current_aug_state.shape[1])\n",
    "            \n",
    "            current_aug_state_var = np.cov(current_aug_state.T) \n",
    "            \n",
    "            G_t = np.array([1 , 1]).reshape(-1,1)\n",
    "            \n",
    "            scirpt_H_t = np.kron(G_t.T, H_t)\n",
    "            \n",
    "            temp1 = current_aug_state_var@scirpt_H_t.T\n",
    "            \n",
    "            temp2 = scirpt_H_t@current_aug_state_var@scirpt_H_t.T\n",
    "\n",
    "            R_t1 = var_targetsw*np.identity(current_aug_state.shape[1])\n",
    "            \n",
    "            measurement_error1 = mvn(np.repeat(0,current_aug_state.shape[1]), R_t1).rvs(current_aug_state.shape[0])\n",
    "            \n",
    "            R_t_batch = var_targets_vec.reshape(var_targets_vec.shape[0],1,1)*np.identity(batch_targets.shape[0])\n",
    "            measurement_error = mvn(np.repeat(0,batch_targets.shape[0]), R_t_batch.mean(0)).rvs(size_ens)\n",
    "            target_current = batch_targets.reshape(1,-1) + measurement_error\n",
    "            temp2 = np.dstack([temp2]*size_ens).T\n",
    "            K_t = temp1@np.linalg.inv(temp2 + R_t_batch)\n",
    "            current_aug_state = current_aug_state + ((K_t@np.expand_dims((target_current -(scirpt_H_t@current_aug_state.T).T),-1))[:,:,0])\n",
    "            current_aug_state = current_aug_state + measurement_error1\n",
    "\n",
    "            weights_ann_1 = current_aug_state[:,batch_targets.shape[0]:(batch_targets.shape[0] + total_weights_1)]      \n",
    "\n",
    "            weights_ann_2 = current_aug_state[:,-(total_weights_2+1):-2]    \n",
    "\n",
    "            initial_ensembles = np.hstack((weights_ann_1, weights_ann_2, current_aug_state[:,-2].reshape(-1,1)))\n",
    "            \n",
    "            log_sigma_points_1 = current_aug_state[:,-1].reshape(-1,1)\n",
    "               \n",
    "            avg_betas = expit(current_aug_state[:,-2])\n",
    "        \n",
    "            complement = 1-avg_betas\n",
    "\n",
    "\n",
    "            current_aug_state1, column_mod_11, column_mod_21, log_sigma_points_1 = get_targets_with_weights(train_doc2vec, train_lstm, initial_ensembles, log_sigma_points_1, size_ens)\n",
    "            \n",
    "            initial_targets = column_mod_11 + column_mod_21\n",
    "            \n",
    "            \n",
    "            initial_targets = initial_targets.reshape(size_ens, train_lstm.shape[0],1)\n",
    "            \n",
    "            initial_targets_train = initial_targets\n",
    "            \n",
    "            initial_targets_train_mean = initial_targets_train.mean(0)\n",
    "            \n",
    "            li = np.percentile(initial_targets_train, axis = 0, q = (2.5, 97.5))[0,:,:]\n",
    "            \n",
    "            ui = np.percentile(initial_targets_train, axis = 0, q = (2.5, 97.5))[1,:,:]\n",
    "            \n",
    "            width = ui - li\n",
    "            \n",
    "            avg_width_train = np.mean(width)\n",
    "            \n",
    "            # interim = np.vstack((catch_train_probs[idx] , catch_valid_probs[idx] ))\n",
    "        \n",
    "            interim = (X_train_logits_unshuffled)\n",
    "            \n",
    "            ind = (interim >= li) & (interim <= ui)\n",
    "            \n",
    "            coverage_train= np.mean(ind.ravel())  \n",
    "            \n",
    "            train_mae = np.sqrt(mean_squared_error(interim, initial_targets_train_mean))\n",
    "            \n",
    "            # plt.scatter(interim, initial_targets_train_mean)\n",
    "            # plt.show()\n",
    "            \n",
    "            stats_pearson_train = stats.pearsonr(interim.reshape(interim.shape[0],),\n",
    "                                           initial_targets_train_mean.reshape(initial_targets_train_mean.shape[0],))\n",
    "\n",
    "            # train_mae = np.sqrt(np.mean(np.abs(interim.ravel() - initial_targets_train_mean.ravel())**2))\n",
    "        \n",
    "            current_aug_state1, column_mod_11, column_mod_21, log_sigma_points_1 = get_targets_with_weights(test_doc2vec, test_lstm, initial_ensembles, log_sigma_points_1, size_ens)\n",
    "            \n",
    "            initial_targets = column_mod_11 + column_mod_21\n",
    "            \n",
    "            initial_targets = initial_targets.reshape(size_ens, test_lstm.shape[0],1)\n",
    "            \n",
    "            initial_targets_test = initial_targets\n",
    "            \n",
    "            # initial_targets_softmax = expit(initial_targets)    \n",
    "            \n",
    "            initial_targets_test_mean = initial_targets_test.mean(0)\n",
    "            \n",
    "            li = np.percentile(initial_targets_test, axis = 0, q = (2.5, 97.5))[0,:,:]\n",
    "            \n",
    "            ui = np.percentile(initial_targets_test, axis = 0, q = (2.5, 97.5))[1,:,:]\n",
    "            \n",
    "            width = ui - li\n",
    "            \n",
    "            avg_width = np.mean(width)\n",
    "            \n",
    "            catch_test_probs = (X_test_logits)\n",
    "            \n",
    "            ind_test = (catch_test_probs >= li) & (catch_test_probs <= ui)\n",
    "                        \n",
    "            coverage_test = np.mean(ind_test.ravel())    \n",
    "\n",
    "            \n",
    "            test_mae = np.sqrt(mean_squared_error(catch_test_probs, initial_targets_test_mean))\n",
    "\n",
    "            stats_pearson = stats.pearsonr(catch_test_probs.reshape(catch_test_probs.shape[0],),\n",
    "                                           initial_targets_test_mean.reshape(initial_targets_test_mean.shape[0],))\n",
    "\n",
    "            \n",
    "            start_inner_e = datetime.now()\n",
    "            total = (start_inner_e- start_inner)\n",
    "            time_taken = total.seconds/60.0\n",
    "            # print(time_taken)\n",
    "            \n",
    "            train_rmse.append(train_mae)\n",
    "            test_rmse.append(test_mae)\n",
    "            train_cov.append(coverage_train)\n",
    "            test_cov.append(coverage_test)\n",
    "            train_p.append(stats_pearson_train)\n",
    "            test_p.append(stats_pearson)\n",
    "            train_width.append(avg_width_train)\n",
    "            test_width.append(avg_width)\n",
    "            \n",
    "            if  train_mae < best_train_mae: \n",
    "                patience = 0\n",
    "                best_train_mae = train_mae\n",
    "                # best_valid_mae = valid_mae\n",
    "                best_test_mae = test_mae\n",
    "                exit_iter_no_thresh = iter1\n",
    "                best_test_preds = initial_targets_test\n",
    "                patience_smaller = 0\n",
    "                best_train_coverage = coverage_train\n",
    "                # best_valid_coverage = coverage_valid\n",
    "                best_test_coverage = coverage_test\n",
    "                best_train_width = avg_width_train\n",
    "                # best_valid_width = avg_width_valid\n",
    "                best_test_width = avg_width\n",
    "                best_drugs_weight = np.mean(complement)\n",
    "                best_r_test = stats_pearson[0]\n",
    "                best_r_train = stats_pearson_train[0]\n",
    "                # best_r_valid = stats_pearson_valid[0]\n",
    "                best_initial_ensembles = initial_ensembles\n",
    "                best_log_sigma_points_1 = log_sigma_points_1\n",
    "                best_initial_targets_test_mean = initial_targets_test_mean\n",
    "                best_li = li\n",
    "                best_ui = ui\n",
    "            else:\n",
    "                patience += 1\n",
    "                \n",
    "#             print(\"epoch \"+ str(iter1))\n",
    "#             print(\"patience \"+ str(patience))\n",
    "#             print(\"train mae is \" + str(train_mae))\n",
    "#             # print(\"valid mae is \" + str(valid_mae))\n",
    "#             print(\"test mae is \" + str(test_mae))\n",
    "        \n",
    "#             print(\"train coverage is \"+ str(coverage_train))\n",
    "#             # print(\"valid coverage is \"+ str(coverage_valid))\n",
    "#             print(\"test coverage is \"+ str(coverage_test))\n",
    "            \n",
    "#             print(\"train width is \" + str(avg_width_train))\n",
    "#             # print(\"valid width is \" + str(avg_width_valid))  \n",
    "#             print(\"test width is \" + str(avg_width))\n",
    "            \n",
    "#             print(\"drugs weight is \" + str(np.mean(complement)))\n",
    "#             print(\"pearson r train is \" + str(stats_pearson_train[0]))\n",
    "#             # print(\"pearson r valid is \" + str(stats_pearson_valid[0]))\n",
    "#             print(\"pearson r test is \" + str(stats_pearson[0]))\n",
    "            \n",
    "            \n",
    "                \n",
    "            if patience >= threshold: \n",
    "                break\n",
    "                \n",
    "        if patience >= threshold: \n",
    "                break\n",
    "            \n",
    "    \n",
    "    # print(best_valid_mae, best_valid_coverage, best_valid_width,best_r_valid, flush = True)\n",
    "    print(best_test_mae, best_test_coverage, best_test_width,best_r_test, flush = True)\n",
    "    end = datetime.now()\n",
    "    total = (end- start)\n",
    "    time_taken = total.seconds/60.0\n",
    "    return size_ens, best_train_mae, best_test_mae, best_train_coverage, best_test_coverage,  \\\n",
    "    best_train_width , best_test_width,  best_drugs_weight, best_r_train, best_r_test, exit_iter_no_thresh, time_taken, best_initial_ensembles, best_log_sigma_points_1, [X_test_logits.tolist(), best_initial_targets_test_mean.tolist()], \\\n",
    "    [best_li.tolist(), best_ui.tolist()], train_rmse, test_rmse, train_cov, test_cov, train_p, test_p, train_width, test_width \n",
    "        \n",
    "    # print(\"something went awry\", flush = True)"
   ]
  },
  {
   "cell_type": "code",
   "execution_count": 288,
   "id": "fcc98d28-732f-4e8f-af9f-75b32cb768f0",
   "metadata": {},
   "outputs": [],
   "source": [
    "size_drugs = 90\n",
    "size_omics = 30"
   ]
  },
  {
   "cell_type": "code",
   "execution_count": 289,
   "id": "245e9a9d-00bd-49f2-8333-3de5fe04dd12",
   "metadata": {},
   "outputs": [],
   "source": [
    "var_weights =1\n",
    "gamma_param = 500\n",
    "var_targetsw = 0.0002\n",
    "reduction = 15\n",
    "shape_needed = total_weights//reduction\n",
    "# size_ens = 196\n",
    "size_ens = int(shape_needed)\n",
    "batch_size = 512\n",
    "threshold = 15"
   ]
  },
  {
   "cell_type": "code",
   "execution_count": 290,
   "id": "14c50dce-8fef-4bce-b3e2-d673593b2453",
   "metadata": {},
   "outputs": [
    {
     "data": {
      "text/plain": [
       "196"
      ]
     },
     "execution_count": 290,
     "metadata": {},
     "output_type": "execute_result"
    }
   ],
   "source": [
    "size_ens"
   ]
  },
  {
   "cell_type": "code",
   "execution_count": 291,
   "id": "835d8e43-017f-45b4-a42a-f4bb88c052fd",
   "metadata": {},
   "outputs": [
    {
     "name": "stdout",
     "output_type": "stream",
     "text": [
      "Size_Ens is 196\n",
      "epoch 0\n",
      "patience 0\n",
      "train mae is 35.61769001241577\n",
      "test mae is 35.87263841526475\n",
      "train coverage is 1.0\n",
      "test coverage is 1.0\n",
      "train width is 483.98282303279103\n",
      "test width is 486.4397319704673\n",
      "drugs weight is 0.41120155423422017\n",
      "pearson r train is 0.08883535297484439\n",
      "pearson r test is 0.10181993817916228\n",
      "epoch 0\n",
      "patience 0\n",
      "train mae is 8.103432428816665\n",
      "test mae is 8.043834661628377\n",
      "train coverage is 1.0\n",
      "test coverage is 1.0\n",
      "train width is 207.90182655914404\n",
      "test width is 208.28822509912308\n",
      "drugs weight is 0.31834696464499473\n",
      "pearson r train is 0.11826334950280043\n",
      "pearson r test is 0.13833084310548405\n",
      "epoch 1\n",
      "patience 1\n",
      "train mae is 9.08385607641182\n",
      "test mae is 9.110488976169595\n",
      "train coverage is 1.0\n",
      "test coverage is 1.0\n",
      "train width is 98.43521494920664\n",
      "test width is 98.95695746372506\n",
      "drugs weight is 0.2724325443703506\n",
      "pearson r train is 0.1484039331431578\n",
      "pearson r test is 0.14749786491960246\n",
      "epoch 1\n",
      "patience 0\n",
      "train mae is 3.521360849396901\n",
      "test mae is 3.5701843458158335\n",
      "train coverage is 1.0\n",
      "test coverage is 1.0\n",
      "train width is 49.257554473382605\n",
      "test width is 49.48945906111794\n",
      "drugs weight is 0.2782014217917221\n",
      "pearson r train is 0.23793635777244077\n",
      "pearson r test is 0.20346466255771722\n",
      "epoch 2\n",
      "patience 1\n",
      "train mae is 6.36080135890112\n",
      "test mae is 6.164370896245889\n",
      "train coverage is 0.99\n",
      "test coverage is 0.99\n",
      "train width is 22.691090353217838\n",
      "test width is 22.741962319417677\n",
      "drugs weight is 0.2947815517785061\n",
      "pearson r train is 0.23312922064829777\n",
      "pearson r test is 0.24060553675859342\n",
      "epoch 2\n",
      "patience 2\n",
      "train mae is 3.9326550674436462\n",
      "test mae is 4.158249103853913\n",
      "train coverage is 0.865\n",
      "test coverage is 0.82\n",
      "train width is 11.64098664470575\n",
      "test width is 11.663374616549982\n",
      "drugs weight is 0.30680690858546233\n",
      "pearson r train is 0.1254867954151821\n",
      "pearson r test is 0.06595871587145297\n",
      "epoch 3\n",
      "patience 0\n",
      "train mae is 2.344305345429987\n",
      "test mae is 2.323351809122431\n",
      "train coverage is 0.87875\n",
      "test coverage is 0.895\n",
      "train width is 7.78107256652939\n",
      "test width is 7.767698975495147\n",
      "drugs weight is 0.29366092023188667\n",
      "pearson r train is 0.49194314171829157\n",
      "pearson r test is 0.45566082319720924\n",
      "epoch 3\n",
      "patience 0\n",
      "train mae is 2.0112710571264634\n",
      "test mae is 1.9946435635747963\n",
      "train coverage is 0.97125\n",
      "test coverage is 0.97\n",
      "train width is 7.771339971290811\n",
      "test width is 7.778857758102529\n",
      "drugs weight is 0.31424995472034606\n",
      "pearson r train is 0.4816030783052675\n",
      "pearson r test is 0.4608004499159256\n",
      "epoch 4\n",
      "patience 0\n",
      "train mae is 1.6545556707429014\n",
      "test mae is 1.8219769915639912\n",
      "train coverage is 0.9175\n",
      "test coverage is 0.855\n",
      "train width is 5.74602511316866\n",
      "test width is 5.760827072388781\n",
      "drugs weight is 0.31514068793271305\n",
      "pearson r train is 0.5514888892083422\n",
      "pearson r test is 0.426869241856825\n",
      "epoch 4\n",
      "patience 1\n",
      "train mae is 1.8859106192234962\n",
      "test mae is 2.06319082194876\n",
      "train coverage is 0.8875\n",
      "test coverage is 0.82\n",
      "train width is 6.072943226475618\n",
      "test width is 6.097532194058362\n",
      "drugs weight is 0.3186391436944827\n",
      "pearson r train is 0.5445396839648246\n",
      "pearson r test is 0.37830171715987304\n",
      "epoch 5\n",
      "patience 2\n",
      "train mae is 1.7407987360227801\n",
      "test mae is 1.9247886111473547\n",
      "train coverage is 0.94125\n",
      "test coverage is 0.905\n",
      "train width is 6.4182073870740455\n",
      "test width is 6.418709044565543\n",
      "drugs weight is 0.32447460783185555\n",
      "pearson r train is 0.5227922474999851\n",
      "pearson r test is 0.4011785664809866\n",
      "epoch 5\n",
      "patience 3\n",
      "train mae is 2.0106111229939163\n",
      "test mae is 2.085007260932364\n",
      "train coverage is 0.9025\n",
      "test coverage is 0.88\n",
      "train width is 6.5018358766391655\n",
      "test width is 6.553145006651187\n",
      "drugs weight is 0.3294976270936033\n",
      "pearson r train is 0.31059476627943583\n",
      "pearson r test is 0.21929659719145095\n",
      "epoch 6\n",
      "patience 4\n",
      "train mae is 1.823095768453678\n",
      "test mae is 1.9316359212963925\n",
      "train coverage is 0.965\n",
      "test coverage is 0.955\n",
      "train width is 7.677056968704074\n",
      "test width is 7.7170137566543255\n",
      "drugs weight is 0.3556416013543443\n",
      "pearson r train is 0.4285499678754831\n",
      "pearson r test is 0.3166351245716342\n",
      "epoch 6\n",
      "patience 5\n",
      "train mae is 2.084843362670269\n",
      "test mae is 2.32751090760747\n",
      "train coverage is 0.91\n",
      "test coverage is 0.86\n",
      "train width is 6.698239101553387\n",
      "test width is 6.7136340337487415\n",
      "drugs weight is 0.3606260347260483\n",
      "pearson r train is 0.33648066218453665\n",
      "pearson r test is 0.16353756696096072\n",
      "epoch 7\n",
      "patience 6\n",
      "train mae is 1.702945839228617\n",
      "test mae is 1.7815808210959156\n",
      "train coverage is 0.93125\n",
      "test coverage is 0.895\n",
      "train width is 6.03823122598543\n",
      "test width is 6.060138049163726\n",
      "drugs weight is 0.3537531133797342\n",
      "pearson r train is 0.5536022748816882\n",
      "pearson r test is 0.5245956180656408\n",
      "epoch 7\n",
      "patience 7\n",
      "train mae is 1.8261203466881195\n",
      "test mae is 1.9723506321941051\n",
      "train coverage is 0.9425\n",
      "test coverage is 0.92\n",
      "train width is 6.931392971964894\n",
      "test width is 6.959300906286756\n",
      "drugs weight is 0.3626430881649825\n",
      "pearson r train is 0.4321717724979076\n",
      "pearson r test is 0.3534721034640852\n",
      "epoch 8\n",
      "patience 0\n",
      "train mae is 1.5431693509494484\n",
      "test mae is 1.7016216127431274\n",
      "train coverage is 0.965\n",
      "test coverage is 0.93\n",
      "train width is 6.689721298542147\n",
      "test width is 6.715029535493564\n",
      "drugs weight is 0.37611224768047646\n",
      "pearson r train is 0.6054645982034124\n",
      "pearson r test is 0.5099156293591066\n",
      "epoch 8\n",
      "patience 1\n",
      "train mae is 1.7273640800891683\n",
      "test mae is 1.8186082780758301\n",
      "train coverage is 0.94625\n",
      "test coverage is 0.935\n",
      "train width is 6.788123238185169\n",
      "test width is 6.812428914617749\n",
      "drugs weight is 0.37707956050102004\n",
      "pearson r train is 0.47397385211155363\n",
      "pearson r test is 0.43171604640840283\n",
      "epoch 9\n",
      "patience 2\n",
      "train mae is 1.896695732797067\n",
      "test mae is 2.048513696246071\n",
      "train coverage is 0.925\n",
      "test coverage is 0.895\n",
      "train width is 6.65361374717948\n",
      "test width is 6.680831265041043\n",
      "drugs weight is 0.37589471181632633\n",
      "pearson r train is 0.4900622656251604\n",
      "pearson r test is 0.3973751850743086\n",
      "epoch 9\n",
      "patience 3\n",
      "train mae is 1.989061852636426\n",
      "test mae is 2.120835963695268\n",
      "train coverage is 0.9425\n",
      "test coverage is 0.935\n",
      "train width is 7.260478293942433\n",
      "test width is 7.2916669094563415\n",
      "drugs weight is 0.3845242671337094\n",
      "pearson r train is 0.4041292545129675\n",
      "pearson r test is 0.3538202327123641\n",
      "epoch 10\n",
      "patience 4\n",
      "train mae is 1.7792174766763253\n",
      "test mae is 1.9592468945038715\n",
      "train coverage is 0.96625\n",
      "test coverage is 0.945\n",
      "train width is 7.564429848056996\n",
      "test width is 7.594155691720271\n",
      "drugs weight is 0.4024113736216024\n",
      "pearson r train is 0.47190227672612073\n",
      "pearson r test is 0.3687448186227212\n",
      "epoch 10\n",
      "patience 5\n",
      "train mae is 1.576550839328932\n",
      "test mae is 1.7135828880462107\n",
      "train coverage is 0.97625\n",
      "test coverage is 0.955\n",
      "train width is 7.185032459136853\n",
      "test width is 7.219357392943255\n",
      "drugs weight is 0.39924669976812505\n",
      "pearson r train is 0.5883984155196387\n",
      "pearson r test is 0.4991316911271115\n",
      "epoch 11\n",
      "patience 6\n",
      "train mae is 1.6713822397276406\n",
      "test mae is 1.7992355870637526\n",
      "train coverage is 0.985\n",
      "test coverage is 0.96\n",
      "train width is 7.610023465050453\n",
      "test width is 7.643725875145012\n",
      "drugs weight is 0.39457424845077804\n",
      "pearson r train is 0.522912582144758\n",
      "pearson r test is 0.42084713270314494\n",
      "epoch 11\n",
      "patience 7\n",
      "train mae is 1.6988741681105572\n",
      "test mae is 1.9104942958814353\n",
      "train coverage is 0.97375\n",
      "test coverage is 0.945\n",
      "train width is 7.888038945912556\n",
      "test width is 7.9243468353098185\n",
      "drugs weight is 0.3856862179254124\n",
      "pearson r train is 0.49161951914349866\n",
      "pearson r test is 0.3440832888027343\n",
      "epoch 12\n",
      "patience 8\n",
      "train mae is 1.5957518113204756\n",
      "test mae is 1.7600087958881534\n",
      "train coverage is 0.98125\n",
      "test coverage is 0.97\n",
      "train width is 7.7683266529166\n",
      "test width is 7.813237186692363\n",
      "drugs weight is 0.376339234805311\n",
      "pearson r train is 0.5461946411932345\n",
      "pearson r test is 0.4564305369186574\n",
      "epoch 12\n",
      "patience 9\n",
      "train mae is 1.8319938007360914\n",
      "test mae is 1.8846452576528403\n",
      "train coverage is 0.965\n",
      "test coverage is 0.945\n",
      "train width is 7.506863761801132\n",
      "test width is 7.511593304437902\n",
      "drugs weight is 0.37841749174376976\n",
      "pearson r train is 0.44057596516444\n",
      "pearson r test is 0.43113048318847436\n",
      "epoch 13\n",
      "patience 10\n",
      "train mae is 1.98516418973609\n",
      "test mae is 2.1829675343083363\n",
      "train coverage is 0.975\n",
      "test coverage is 0.965\n",
      "train width is 8.441964574474728\n",
      "test width is 8.470974905641244\n",
      "drugs weight is 0.3903130516975198\n",
      "pearson r train is 0.41441833245342996\n",
      "pearson r test is 0.3355310175423497\n",
      "epoch 13\n",
      "patience 11\n",
      "train mae is 1.6453056192304236\n",
      "test mae is 1.7452619182120919\n",
      "train coverage is 0.975\n",
      "test coverage is 0.97\n",
      "train width is 8.171622649544004\n",
      "test width is 8.201751653972526\n",
      "drugs weight is 0.3925413949491649\n",
      "pearson r train is 0.5536435595616815\n",
      "pearson r test is 0.5156276206904725\n",
      "epoch 14\n",
      "patience 12\n",
      "train mae is 1.650072538953591\n",
      "test mae is 1.7043688601998208\n",
      "train coverage is 0.98875\n",
      "test coverage is 0.97\n",
      "train width is 8.592330624792048\n",
      "test width is 8.646701594331454\n",
      "drugs weight is 0.3976934341703776\n",
      "pearson r train is 0.5433471581114843\n",
      "pearson r test is 0.5281772705168498\n",
      "epoch 14\n",
      "patience 13\n",
      "train mae is 1.580461430767049\n",
      "test mae is 1.6712944225392288\n",
      "train coverage is 0.99125\n",
      "test coverage is 0.985\n",
      "train width is 8.661652525893231\n",
      "test width is 8.693258488055596\n",
      "drugs weight is 0.4017623071950806\n",
      "pearson r train is 0.5800465858460029\n",
      "pearson r test is 0.5356441309792954\n",
      "epoch 15\n",
      "patience 0\n",
      "train mae is 1.5330121680810218\n",
      "test mae is 1.6720544067213383\n",
      "train coverage is 0.9875\n",
      "test coverage is 0.985\n",
      "train width is 8.743701258777685\n",
      "test width is 8.757293583998226\n",
      "drugs weight is 0.39720744292050053\n",
      "pearson r train is 0.5909141560716289\n",
      "pearson r test is 0.518785853448497\n",
      "epoch 15\n",
      "patience 0\n",
      "train mae is 1.5146192408989514\n",
      "test mae is 1.6304375262652446\n",
      "train coverage is 0.99\n",
      "test coverage is 0.99\n",
      "train width is 8.610282487120163\n",
      "test width is 8.644681878542945\n",
      "drugs weight is 0.4043033687381692\n",
      "pearson r train is 0.6085131774371293\n",
      "pearson r test is 0.5522714126257278\n",
      "epoch 16\n",
      "patience 1\n",
      "train mae is 1.5216362896267948\n",
      "test mae is 1.6370083865520366\n",
      "train coverage is 0.99\n",
      "test coverage is 0.98\n",
      "train width is 8.486717764537396\n",
      "test width is 8.527890534293793\n",
      "drugs weight is 0.4023872880295689\n",
      "pearson r train is 0.6157149638083976\n",
      "pearson r test is 0.554326986073277\n",
      "epoch 16\n",
      "patience 0\n",
      "train mae is 1.513526019289538\n",
      "test mae is 1.6808991837574643\n",
      "train coverage is 0.98875\n",
      "test coverage is 0.985\n",
      "train width is 8.766964113355755\n",
      "test width is 8.804180040493298\n",
      "drugs weight is 0.40273720709386973\n",
      "pearson r train is 0.615383870917488\n",
      "pearson r test is 0.5104756696067156\n",
      "epoch 17\n",
      "patience 1\n",
      "train mae is 1.7649686869220342\n",
      "test mae is 1.8201576998554836\n",
      "train coverage is 0.975\n",
      "test coverage is 0.975\n",
      "train width is 8.356511665561799\n",
      "test width is 8.412167977590165\n",
      "drugs weight is 0.3956429044498589\n",
      "pearson r train is 0.44632493536487894\n",
      "pearson r test is 0.4211578304338802\n",
      "epoch 17\n",
      "patience 2\n",
      "train mae is 1.6775542467131723\n",
      "test mae is 1.7229190051223415\n",
      "train coverage is 0.975\n",
      "test coverage is 0.98\n",
      "train width is 8.627045469182535\n",
      "test width is 8.66920856710174\n",
      "drugs weight is 0.4027859865452313\n",
      "pearson r train is 0.5199737832681988\n",
      "pearson r test is 0.4990912069271141\n",
      "epoch 18\n",
      "patience 3\n",
      "train mae is 1.6936560060119716\n",
      "test mae is 1.7417532634847954\n",
      "train coverage is 0.98875\n",
      "test coverage is 0.98\n",
      "train width is 8.259489402697541\n",
      "test width is 8.282518322711311\n",
      "drugs weight is 0.4063625110306743\n",
      "pearson r train is 0.5305493729535473\n",
      "pearson r test is 0.5140375423898192\n",
      "epoch 18\n",
      "patience 4\n",
      "train mae is 1.5256938313734172\n",
      "test mae is 1.6616523467999613\n",
      "train coverage is 0.98875\n",
      "test coverage is 0.985\n",
      "train width is 8.555251408961771\n",
      "test width is 8.5880646593818\n",
      "drugs weight is 0.4057699253289053\n",
      "pearson r train is 0.5957478236737541\n",
      "pearson r test is 0.5319390202751729\n",
      "epoch 19\n",
      "patience 5\n",
      "train mae is 1.5577756905132683\n",
      "test mae is 1.6479120767888464\n",
      "train coverage is 0.99125\n",
      "test coverage is 0.995\n",
      "train width is 9.335266626798697\n",
      "test width is 9.391596819462988\n",
      "drugs weight is 0.4075430045301147\n",
      "pearson r train is 0.5835097581769\n",
      "pearson r test is 0.5400775803389185\n",
      "epoch 19\n",
      "patience 6\n",
      "train mae is 1.5405857244426429\n",
      "test mae is 1.5847708079340728\n",
      "train coverage is 0.9925\n",
      "test coverage is 0.99\n",
      "train width is 8.763309625368043\n",
      "test width is 8.811695489259602\n",
      "drugs weight is 0.4068271494318585\n",
      "pearson r train is 0.5862051117070007\n",
      "pearson r test is 0.5933072494797278\n",
      "epoch 20\n",
      "patience 7\n",
      "train mae is 1.524113984822269\n",
      "test mae is 1.5784659580857336\n",
      "train coverage is 0.995\n",
      "test coverage is 0.99\n",
      "train width is 9.824250983086802\n",
      "test width is 9.889869780512251\n",
      "drugs weight is 0.4121762691555281\n",
      "pearson r train is 0.6028926057584887\n",
      "pearson r test is 0.5901264413032146\n",
      "epoch 20\n",
      "patience 0\n",
      "train mae is 1.5009236476566379\n",
      "test mae is 1.6347124059878813\n",
      "train coverage is 0.98875\n",
      "test coverage is 0.985\n",
      "train width is 8.730031043972783\n",
      "test width is 8.782870957177662\n",
      "drugs weight is 0.40644770453669654\n",
      "pearson r train is 0.6145135257329659\n",
      "pearson r test is 0.5502830781045179\n",
      "epoch 21\n",
      "patience 0\n",
      "train mae is 1.4489563577681723\n",
      "test mae is 1.5648404985775703\n",
      "train coverage is 0.9925\n",
      "test coverage is 0.99\n",
      "train width is 8.941998882823432\n",
      "test width is 8.956709014709464\n",
      "drugs weight is 0.4098991247101644\n",
      "pearson r train is 0.647397256873316\n",
      "pearson r test is 0.6015307433226207\n",
      "epoch 21\n",
      "patience 1\n",
      "train mae is 1.668973600651787\n",
      "test mae is 1.846325315838507\n",
      "train coverage is 0.98875\n",
      "test coverage is 0.985\n",
      "train width is 10.30682894618497\n",
      "test width is 10.367963127602689\n",
      "drugs weight is 0.40469888602290494\n",
      "pearson r train is 0.5363860737049387\n",
      "pearson r test is 0.4426580119654727\n",
      "epoch 22\n",
      "patience 2\n",
      "train mae is 1.498759537660857\n",
      "test mae is 1.6311542769983651\n",
      "train coverage is 0.99375\n",
      "test coverage is 0.995\n",
      "train width is 9.797297805459877\n",
      "test width is 9.83699825639678\n",
      "drugs weight is 0.4220331231659744\n",
      "pearson r train is 0.6286104875921348\n",
      "pearson r test is 0.5510574206378582\n",
      "epoch 22\n",
      "patience 3\n",
      "train mae is 1.555351858178438\n",
      "test mae is 1.683260259705144\n",
      "train coverage is 0.99375\n",
      "test coverage is 0.99\n",
      "train width is 8.974737822460622\n",
      "test width is 9.027800289520016\n",
      "drugs weight is 0.4189682972978114\n",
      "pearson r train is 0.5820373032957062\n",
      "pearson r test is 0.514358954552338\n",
      "epoch 23\n",
      "patience 4\n",
      "train mae is 1.55652951462246\n",
      "test mae is 1.7335770015401117\n",
      "train coverage is 0.98875\n",
      "test coverage is 0.985\n",
      "train width is 8.788003979568584\n",
      "test width is 8.824590331669489\n",
      "drugs weight is 0.4192282547426638\n",
      "pearson r train is 0.5754986323868317\n",
      "pearson r test is 0.4769674750947327\n",
      "epoch 23\n",
      "patience 5\n",
      "train mae is 1.5576496638915647\n",
      "test mae is 1.7408696210470584\n",
      "train coverage is 0.9925\n",
      "test coverage is 0.99\n",
      "train width is 9.173878687980393\n",
      "test width is 9.233143569067597\n",
      "drugs weight is 0.415403684793845\n",
      "pearson r train is 0.5844075319152653\n",
      "pearson r test is 0.45834434921603945\n",
      "epoch 24\n",
      "patience 6\n",
      "train mae is 1.6499927704973656\n",
      "test mae is 1.701275120134589\n",
      "train coverage is 0.99\n",
      "test coverage is 0.995\n",
      "train width is 9.646776766254145\n",
      "test width is 9.693772829099673\n",
      "drugs weight is 0.4118232205698196\n",
      "pearson r train is 0.5204889478544446\n",
      "pearson r test is 0.5017209833490186\n",
      "epoch 24\n",
      "patience 7\n",
      "train mae is 1.6151314187077725\n",
      "test mae is 1.6794611468190574\n",
      "train coverage is 0.98875\n",
      "test coverage is 0.985\n",
      "train width is 9.028167415830973\n",
      "test width is 9.082738546681078\n",
      "drugs weight is 0.41258171565538015\n",
      "pearson r train is 0.5303287070274065\n",
      "pearson r test is 0.5283894722310034\n",
      "epoch 25\n",
      "patience 8\n",
      "train mae is 1.56233990801673\n",
      "test mae is 1.7318473960333067\n",
      "train coverage is 0.9925\n",
      "test coverage is 0.985\n",
      "train width is 9.860645172764604\n",
      "test width is 9.877170716151502\n",
      "drugs weight is 0.4205591829337368\n",
      "pearson r train is 0.5703563883868468\n",
      "pearson r test is 0.4708264905467572\n",
      "epoch 25\n",
      "patience 9\n",
      "train mae is 1.5838910095674588\n",
      "test mae is 1.7265052240662837\n",
      "train coverage is 0.9925\n",
      "test coverage is 0.995\n",
      "train width is 9.862338001230745\n",
      "test width is 9.94577880428394\n",
      "drugs weight is 0.4262439264135132\n",
      "pearson r train is 0.564021723027305\n",
      "pearson r test is 0.47713040700725695\n",
      "epoch 26\n",
      "patience 10\n",
      "train mae is 1.6132939435599276\n",
      "test mae is 1.7517844466028414\n",
      "train coverage is 0.99375\n",
      "test coverage is 0.995\n",
      "train width is 10.164251631110483\n",
      "test width is 10.204210352143884\n",
      "drugs weight is 0.4310457350349921\n",
      "pearson r train is 0.5374706414808166\n",
      "pearson r test is 0.4594745736041796\n",
      "epoch 26\n",
      "patience 11\n",
      "train mae is 1.5155256275738815\n",
      "test mae is 1.6555478061109297\n",
      "train coverage is 0.99375\n",
      "test coverage is 0.995\n",
      "train width is 10.159335963262645\n",
      "test width is 10.227835665143298\n",
      "drugs weight is 0.4344161815631623\n",
      "pearson r train is 0.6055849968918237\n",
      "pearson r test is 0.5333806959604039\n",
      "epoch 27\n",
      "patience 12\n",
      "train mae is 1.4503906824868493\n",
      "test mae is 1.6123614322346471\n",
      "train coverage is 0.99625\n",
      "test coverage is 0.99\n",
      "train width is 11.12544462097316\n",
      "test width is 11.178264837560304\n",
      "drugs weight is 0.4363947889449107\n",
      "pearson r train is 0.648326982021442\n",
      "pearson r test is 0.5675335128340708\n",
      "epoch 27\n",
      "patience 13\n",
      "train mae is 1.4693925213487802\n",
      "test mae is 1.6847246804832614\n",
      "train coverage is 0.9925\n",
      "test coverage is 0.99\n",
      "train width is 9.190725324847485\n",
      "test width is 9.232751222749277\n",
      "drugs weight is 0.43443229890200624\n",
      "pearson r train is 0.6388453666845307\n",
      "pearson r test is 0.5084577687070858\n",
      "epoch 28\n",
      "patience 14\n",
      "train mae is 1.7248606543565073\n",
      "test mae is 1.8531377544391006\n",
      "train coverage is 0.9875\n",
      "test coverage is 0.99\n",
      "train width is 9.832372419344756\n",
      "test width is 9.870356473028115\n",
      "drugs weight is 0.4357119082359815\n",
      "pearson r train is 0.4389273302040676\n",
      "pearson r test is 0.3391416103353974\n",
      "epoch 28\n",
      "patience 15\n",
      "train mae is 1.669395571938501\n",
      "test mae is 1.778071133169582\n",
      "train coverage is 0.99875\n",
      "test coverage is 0.995\n",
      "train width is 11.639164541854038\n",
      "test width is 11.708143854557735\n",
      "drugs weight is 0.4366784319407427\n",
      "pearson r train is 0.5047340938573707\n",
      "pearson r test is 0.4317849205712417\n",
      "1.5648404985775703 0.99 8.956709014709464 0.6015307433226207\n"
     ]
    }
   ],
   "source": [
    "size_ens,best_train_mae, best_test_mae, best_train_coverage, best_test_coverage,  \\\n",
    "    best_train_width , best_test_width,  best_drugs_weight, best_r_train, best_r_test, exit_iter_no_thresh, time_taken, best_initial_ensembles, best_log_sigma_points_1, _, _, train_rmse, test_rmse, train_cov, test_cov, train_p, test_p, train_width, test_width = rep_one_real_world(0, size_ens)"
   ]
  },
  {
   "cell_type": "code",
   "execution_count": null,
   "id": "72568e2d-bb4d-4b75-b133-57a26a359814",
   "metadata": {},
   "outputs": [],
   "source": [
    "# test_actual_preds[0].shape"
   ]
  },
  {
   "cell_type": "code",
   "execution_count": null,
   "id": "03d6db30-5931-4841-beeb-8c7169e0704c",
   "metadata": {},
   "outputs": [],
   "source": [
    "# len(test_actual_preds)"
   ]
  },
  {
   "cell_type": "code",
   "execution_count": null,
   "id": "6f8981ee-053b-44e7-b05b-c3fc788b12db",
   "metadata": {},
   "outputs": [],
   "source": [
    "# test_actual_preds, best_li_ui"
   ]
  },
  {
   "cell_type": "code",
   "execution_count": 293,
   "id": "5e4a1add-dfd1-4092-8ce3-1cdc491fc6a1",
   "metadata": {},
   "outputs": [],
   "source": [
    "from joblib import Parallel, delayed"
   ]
  },
  {
   "cell_type": "code",
   "execution_count": null,
   "id": "f1126d3c-2377-428e-a8b1-6a849b16828f",
   "metadata": {},
   "outputs": [],
   "source": [
    "# test_actual_preds[:5]"
   ]
  },
  {
   "cell_type": "code",
   "execution_count": null,
   "id": "0737ad8b-a1ba-41fe-90cb-d570a7d29a29",
   "metadata": {},
   "outputs": [],
   "source": [
    "# best_li_ui[0]"
   ]
  },
  {
   "cell_type": "code",
   "execution_count": null,
   "id": "f5796dcd-701f-468f-85d1-13ec45f5fcbc",
   "metadata": {},
   "outputs": [],
   "source": []
  },
  {
   "cell_type": "code",
   "execution_count": 295,
   "id": "0f8af807-7147-4bb1-a651-e5c64ad9889c",
   "metadata": {},
   "outputs": [
    {
     "name": "stderr",
     "output_type": "stream",
     "text": [
      "[Parallel(n_jobs=5)]: Using backend LokyBackend with 5 concurrent workers.\n"
     ]
    },
    {
     "name": "stdout",
     "output_type": "stream",
     "text": [
      "Size_Ens is 196\n",
      "Size_Ens is 196\n",
      "Size_Ens is 196\n",
      "Size_Ens is 196\n",
      "Size_Ens is 196\n",
      "1.4675160276643655 0.97 6.90330354100128 0.6696029225043486\n",
      "1.7448731988803483 0.93 6.560426228026753 0.5057288489980584\n"
     ]
    },
    {
     "name": "stderr",
     "output_type": "stream",
     "text": [
      "[Parallel(n_jobs=5)]: Done   2 out of   5 | elapsed: 14.4min remaining: 21.6min\n"
     ]
    },
    {
     "name": "stdout",
     "output_type": "stream",
     "text": [
      "1.8208862717475272 0.965 7.811751600066373 0.3899747192504727\n"
     ]
    },
    {
     "name": "stderr",
     "output_type": "stream",
     "text": [
      "[Parallel(n_jobs=5)]: Done   3 out of   5 | elapsed: 14.6min remaining:  9.7min\n"
     ]
    },
    {
     "name": "stdout",
     "output_type": "stream",
     "text": [
      "1.4559401625255952 0.985 7.023859174404155 0.5629642073828152\n",
      "1.4593503178847835 0.995 10.21703474216474 0.6682756079905818\n"
     ]
    },
    {
     "name": "stderr",
     "output_type": "stream",
     "text": [
      "[Parallel(n_jobs=5)]: Done   5 out of   5 | elapsed: 26.4min remaining:    0.0s\n",
      "[Parallel(n_jobs=5)]: Done   5 out of   5 | elapsed: 26.4min finished\n"
     ]
    }
   ],
   "source": [
    "catch = Parallel(n_jobs = 5, backend = \"loky\", verbose = 8)(delayed(rep_one_real_world)(idx, size_ens) for idx in range(0,5))"
   ]
  },
  {
   "cell_type": "code",
   "execution_count": 296,
   "id": "d6784f03-c726-4b0e-9d06-63d28b8dcf02",
   "metadata": {},
   "outputs": [],
   "source": [
    "with open(\"Preds_with_PCA_proper_CV_no_valid_all_features_untouched_five_on_1000_cv\" + \".pkl\", 'wb') as f:\n",
    "    pickle.dump(catch, f)"
   ]
  },
  {
   "cell_type": "code",
   "execution_count": 297,
   "id": "d1f7bd56-f7ce-417f-a186-0dba799fa59f",
   "metadata": {},
   "outputs": [],
   "source": [
    "with open(\"Preds_with_PCA_proper_CV_no_valid_all_features_untouched_five_on_1000_cv\" + \".pkl\", 'rb') as f:\n",
    "    catch = pickle.load(f)"
   ]
  },
  {
   "cell_type": "code",
   "execution_count": 298,
   "id": "ed9f0926-cec8-4079-aaa9-cb6d390cd128",
   "metadata": {},
   "outputs": [],
   "source": [
    "col_names = ['size_ens','best_train_mae', 'best_test_mae', 'best_train_coverage', 'best_test_coverage',  \\\n",
    "    'best_train_width' , 'best_test_width',  'best_drugs_weight', 'best_r_train', 'best_r_test']"
   ]
  },
  {
   "cell_type": "code",
   "execution_count": 299,
   "id": "cfab788b-6557-4725-8726-9f0fd85770c8",
   "metadata": {},
   "outputs": [],
   "source": [
    "catch_df = pd.DataFrame(catch).iloc[:,:len(col_names)]"
   ]
  },
  {
   "cell_type": "code",
   "execution_count": 300,
   "id": "1d9acb09-2976-4da5-92e9-13ae53f189ee",
   "metadata": {},
   "outputs": [],
   "source": [
    "catch_df.columns = col_names"
   ]
  },
  {
   "cell_type": "code",
   "execution_count": null,
   "id": "3618be7e-e24a-4261-a2b5-5c25211266dd",
   "metadata": {},
   "outputs": [],
   "source": [
    "# catch_df.columns = ['best_train_mae', 'best_test_mae', 'best_train_coverage', 'best_test_coverage',  \\\n",
    "#     'best_train_width' , 'best_test_width',  'best_drugs_weight', 'best_r_train', 'best_r_test']"
   ]
  },
  {
   "cell_type": "code",
   "execution_count": 301,
   "id": "75057773-997e-485c-913d-cb7e6161ae7f",
   "metadata": {},
   "outputs": [
    {
     "data": {
      "text/plain": [
       "size_ens               196.000000\n",
       "best_train_mae           1.563428\n",
       "best_test_mae            1.589713\n",
       "best_train_coverage      0.970750\n",
       "best_test_coverage       0.969000\n",
       "best_train_width         7.700806\n",
       "best_test_width          7.703275\n",
       "best_drugs_weight        0.412681\n",
       "best_r_train             0.584428\n",
       "best_r_test              0.559309\n",
       "dtype: float64"
      ]
     },
     "execution_count": 301,
     "metadata": {},
     "output_type": "execute_result"
    }
   ],
   "source": [
    "catch_df.mean()"
   ]
  },
  {
   "cell_type": "code",
   "execution_count": null,
   "id": "73ed4d01-85f8-45b3-be45-1dc72c7f8ec8",
   "metadata": {},
   "outputs": [],
   "source": [
    "catch_df = []\n",
    "for i in range(0, len(catch)): \n",
    "    item = catch[i]\n",
    "    size_ens = item[0]\n",
    "    train_rmse = item[-7]\n",
    "    test_rmse = item[-8]\n",
    "    df = pd.DataFrame({\"Train_RMSE\": train_rmse, \n",
    "                      \"Test_RMSE\": test_rmse})\n",
    "    df[\"size_ens\"] = size_ens\n",
    "    df[\"update_iteration\"] = np.array(range(0, df.shape[0])) + 1\n",
    "    catch_df.append(df)"
   ]
  },
  {
   "cell_type": "code",
   "execution_count": null,
   "id": "7d3b493d-e5af-4edc-9fd7-a2893f8c632f",
   "metadata": {},
   "outputs": [],
   "source": [
    "catch_df = pd.concat(catch_df)"
   ]
  },
  {
   "cell_type": "code",
   "execution_count": null,
   "id": "31516ecf-cebd-41cb-905c-b40943966b13",
   "metadata": {},
   "outputs": [],
   "source": [
    "catch_df.head()"
   ]
  },
  {
   "cell_type": "code",
   "execution_count": null,
   "id": "525acd32-a2ac-4031-9f79-4c24ef751b0b",
   "metadata": {},
   "outputs": [],
   "source": [
    "# catch_df = catch_df[catch_df[\"size_ens\"] != 25]"
   ]
  },
  {
   "cell_type": "code",
   "execution_count": null,
   "id": "6f88ee96-4c9a-46ae-97de-4e116e5fa2fe",
   "metadata": {},
   "outputs": [],
   "source": [
    "catch_df.dtypes"
   ]
  },
  {
   "cell_type": "code",
   "execution_count": null,
   "id": "e010b4a8-4641-478c-a5aa-375bbdaee8be",
   "metadata": {},
   "outputs": [],
   "source": [
    "sizes = [ 50, 100, 200, 300, 400]"
   ]
  },
  {
   "cell_type": "code",
   "execution_count": null,
   "id": "cc7a8c7d-9327-4a16-98ff-cc0b462e8d78",
   "metadata": {},
   "outputs": [],
   "source": [
    "catch_df = catch_df[catch_df[\"size_ens\"].isin(sizes)]"
   ]
  },
  {
   "cell_type": "code",
   "execution_count": null,
   "id": "ec020b5b-c412-44b8-b5de-67a5167b8210",
   "metadata": {},
   "outputs": [],
   "source": [
    "# logical_ids = [True if (float(size_ens)%100) == 0 else False for size_ens in catch_df['size_ens'].values ]"
   ]
  },
  {
   "cell_type": "code",
   "execution_count": null,
   "id": "12ce5a36-9fdc-473d-af35-e8109dd91a97",
   "metadata": {},
   "outputs": [],
   "source": [
    "catch_df[\"size_ens\"] = catch_df[\"size_ens\"].astype(str)"
   ]
  },
  {
   "cell_type": "code",
   "execution_count": null,
   "id": "eb0809a8-5304-4950-9669-728e2d2853bb",
   "metadata": {},
   "outputs": [],
   "source": [
    "catch_df.shape"
   ]
  },
  {
   "cell_type": "code",
   "execution_count": null,
   "id": "d5606de3-5df6-4dc4-9489-df4941663d97",
   "metadata": {},
   "outputs": [],
   "source": [
    "# !pip install seaborn"
   ]
  },
  {
   "cell_type": "code",
   "execution_count": null,
   "id": "af904d83-fa57-4f10-8e20-f2ae48cecfb1",
   "metadata": {},
   "outputs": [],
   "source": [
    "import seaborn as sns"
   ]
  },
  {
   "cell_type": "code",
   "execution_count": null,
   "id": "b5518d6f-af49-4d43-8e43-70a9ea88a6ce",
   "metadata": {},
   "outputs": [],
   "source": [
    "fig = plt.figure(figsize = (6,4))\n",
    "sns.lineplot(data=catch_df, x=\"update_iteration\", y=\"Train_RMSE\", hue=\"size_ens\", linewidth = 3)\n",
    "plt.xlabel(\"Update Iteration\", fontsize = 15, fontweight = \"bold\")\n",
    "plt.ylabel(\"Train RMSE\", fontsize = 15, fontweight = \"bold\")\n",
    "plt.xticks(fontsize = 10, fontweight = \"bold\")\n",
    "plt.yticks(fontsize = 10, fontweight = \"bold\")\n",
    "leg = plt.legend(title = \"Ensemble Size\",fontsize=10, prop =  {'weight':'bold'}, labelcolor = \"black\", \n",
    "                title_fontproperties=  {'weight':'bold'})\n",
    "for legobj in leg.legend_handles:\n",
    "    legobj.set_linewidth(3.0)\n",
    "fig.savefig('Plots/Different_Ensemble_Size.pdf', bbox_inches='tight', format = \"pdf\")\n",
    "fig.savefig('Plots/Different_Ensemble_Size.png', bbox_inches='tight')\n",
    "plt.show()"
   ]
  },
  {
   "cell_type": "code",
   "execution_count": null,
   "id": "426ce65c-58c6-495c-8900-36d87b062123",
   "metadata": {},
   "outputs": [],
   "source": [
    "plt.figure(figsize = (6,3))\n",
    "sns.lineplot(data=catch_df, x=\"update_iteration\", y=\"Test_RMSE\", hue=\"size_ens\", linewidth = 4)\n",
    "plt.xlabel(\"Update Iteration\", fontsize = 15, fontweight = \"bold\")\n",
    "plt.ylabel(\"Test RMSE\", fontsize = 15, fontweight = \"bold\")\n",
    "plt.xticks(fontsize = 10, fontweight = \"bold\")\n",
    "plt.yticks(fontsize = 10, fontweight = \"bold\")\n",
    "leg = plt.legend(title = \"Ensemble Size\",fontsize=10, prop =  {'weight':'bold'}, labelcolor = \"black\", \n",
    "                title_fontproperties=  {'weight':'bold'})\n",
    "plt.show()"
   ]
  },
  {
   "cell_type": "code",
   "execution_count": null,
   "id": "ba988f7f-d38b-44e0-a31f-9851b5f12900",
   "metadata": {},
   "outputs": [],
   "source": [
    "# catch_df['best_drugs_weight'] = 1 - catch_df['best_drugs_weight']"
   ]
  },
  {
   "cell_type": "code",
   "execution_count": null,
   "id": "1ad9fb9a-71d7-453f-9eca-84e8ee7e11a2",
   "metadata": {},
   "outputs": [],
   "source": [
    "# catch_df.mean()"
   ]
  },
  {
   "cell_type": "code",
   "execution_count": null,
   "id": "90ce27df-65b3-4d71-8230-f5d083e70c22",
   "metadata": {},
   "outputs": [],
   "source": [
    "# pca = PCA(n_components = test_omics.shape[1])\n",
    "# pca.fit(train_drugs)"
   ]
  },
  {
   "cell_type": "code",
   "execution_count": null,
   "id": "571ff7a1-4088-40c7-9fd7-a97e74c96f83",
   "metadata": {},
   "outputs": [],
   "source": [
    "# test_drugs = pca.transform(test_drugs)"
   ]
  },
  {
   "cell_type": "code",
   "execution_count": null,
   "id": "494d5ae5-5e7a-4e2b-b470-4b71b369345a",
   "metadata": {},
   "outputs": [],
   "source": [
    "# test_drugs.shape"
   ]
  },
  {
   "cell_type": "code",
   "execution_count": null,
   "id": "ad1480a7-ea4d-4046-aee7-2eb00c324076",
   "metadata": {},
   "outputs": [],
   "source": [
    "# preds_test_catch = []\n",
    "# test_catch = []\n",
    "# li_catch = []\n",
    "# ui_catch = []\n",
    "# for i in range(0,6):\n",
    "#     preds = catch[i][-2][1]\n",
    "#     actual = catch[i][-2][0]\n",
    "#     preds_test_catch.append(preds)\n",
    "#     test_catch.append(actual)\n",
    "# #     best_log_sigma_points_1 = catch[i][-3]\n",
    "# #     current_aug_state1, column_mod_11, column_mod_21, log_sigma_points_1 = get_targets_with_weights(test_omics, test_drugs, params, best_log_sigma_points_1)\n",
    "            \n",
    "# #     initial_targets_test = column_mod_11 + column_mod_21\n",
    "            \n",
    "# #     initial_targets_test = initial_targets_test.reshape(size_ens, test_omics.shape[0],1)\n",
    "            \n",
    "# #     initial_targets_test_mean = initial_targets_test.mean(0)\n",
    "    \n",
    "#     # preds_test_catch.append(preds)\n",
    "    \n",
    "#     li = catch[i][-1][0]\n",
    "#     li_catch.append(li)\n",
    "            \n",
    "#     ui = catch[i][-1][1]\n",
    "#     ui_catch.append(ui)\n",
    "            \n",
    "# #     width = ui - li\n",
    "            \n",
    "# #     avg_width = np.mean(width)"
   ]
  },
  {
   "cell_type": "code",
   "execution_count": null,
   "id": "80d409df-f7ea-457c-8328-c4a8dd2a1384",
   "metadata": {},
   "outputs": [],
   "source": [
    "# preds_test_catch = [inner for item in preds_test_catch for inner in item]"
   ]
  },
  {
   "cell_type": "code",
   "execution_count": null,
   "id": "d87e80d2-b7c8-422f-ae01-8a8090e1703c",
   "metadata": {},
   "outputs": [],
   "source": [
    "# test_catch = [inner for item in test_catch for inner in item]"
   ]
  },
  {
   "cell_type": "code",
   "execution_count": null,
   "id": "fb71411d-6e3b-44d3-94bb-7d8dc7cba206",
   "metadata": {},
   "outputs": [],
   "source": [
    "# li_catch =  [inner for item in li_catch for inner in item]"
   ]
  },
  {
   "cell_type": "code",
   "execution_count": null,
   "id": "a8dbeab3-5fd7-4b5e-b31b-b8cad9facdf1",
   "metadata": {},
   "outputs": [],
   "source": [
    "# ui_catch =  [inner for item in ui_catch for inner in item]"
   ]
  },
  {
   "cell_type": "code",
   "execution_count": null,
   "id": "37e9c72d-01e9-4e3c-a4cb-c4c398f9c399",
   "metadata": {},
   "outputs": [],
   "source": [
    "# avg_width"
   ]
  },
  {
   "cell_type": "code",
   "execution_count": null,
   "id": "8f961636-d73f-4641-8ac9-8bfdaef5fae1",
   "metadata": {},
   "outputs": [],
   "source": [
    "# y_test_preds = np.array(preds_test_catch).mean(0)"
   ]
  },
  {
   "cell_type": "code",
   "execution_count": null,
   "id": "5fd644b6-40c2-4a51-926e-6b8fca198cb0",
   "metadata": {},
   "outputs": [],
   "source": [
    "# y_test_preds.shape"
   ]
  },
  {
   "cell_type": "code",
   "execution_count": null,
   "id": "f421979d-9a9f-4b36-b1a0-b818dc5f9193",
   "metadata": {},
   "outputs": [],
   "source": [
    "# ui"
   ]
  },
  {
   "cell_type": "code",
   "execution_count": null,
   "id": "b06e776f-a5a7-4bce-81c2-31e171c3cd2b",
   "metadata": {},
   "outputs": [],
   "source": [
    "# current_aug_state1, column_mod_11, column_mod_21, log_sigma_points_1 = get_targets_with_weights(test_omics, test_drugs, best_initial_ensembles, best_log_sigma_points_1)\n",
    "            \n",
    "# initial_targets = column_mod_11 + column_mod_21\n",
    "            \n",
    "# initial_targets = initial_targets.reshape(size_ens, test_omics.shape[0],1)\n",
    "            \n",
    "# initial_targets_test = initial_targets"
   ]
  },
  {
   "cell_type": "code",
   "execution_count": null,
   "id": "cea92bf9-1992-4f0e-8b1f-62a0ed8ed4d2",
   "metadata": {},
   "outputs": [],
   "source": [
    "# # initial_targets_softmax = expit(initial_targets)    \n",
    "            \n",
    "# initial_targets_test_mean = initial_targets_test.mean(0)\n",
    "            \n",
    "# li = np.percentile(initial_targets_test, axis = 0, q = (2.5, 97.5))[0,:,:]\n",
    "            \n",
    "# ui = np.percentile(initial_targets_test, axis = 0, q = (2.5, 97.5))[1,:,:]\n",
    "            \n",
    "# width = ui - li\n",
    "            \n",
    "# avg_width = np.mean(width)\n",
    "            \n",
    "# catch_test_probs = (y_test)\n",
    "            \n",
    "# ind_test = (catch_test_probs >= li) & (catch_test_probs <= ui)\n",
    "                        \n",
    "# coverage_test = np.mean(ind_test.ravel())    \n",
    "\n",
    "            \n",
    "# test_mae = np.sqrt(mean_squared_error(catch_test_probs, initial_targets_test_mean))\n",
    "\n",
    "# stats_pearson = stats.pearsonr(catch_test_probs.reshape(catch_test_probs.shape[0],),\n",
    "#                                            initial_targets_test_mean.reshape(initial_targets_test_mean.shape[0]))"
   ]
  },
  {
   "cell_type": "code",
   "execution_count": null,
   "id": "7e03b7d8-504b-4fd2-bc7b-b8bac7a2bb00",
   "metadata": {},
   "outputs": [],
   "source": [
    "# stats_pearson"
   ]
  },
  {
   "cell_type": "code",
   "execution_count": null,
   "id": "3c950c80-c06d-42f5-938a-699658ddee4d",
   "metadata": {},
   "outputs": [],
   "source": [
    "# string = \"Real_World_EnKF_DeepCDR_\" + \"Neurons_\" + str(h1)  + \"_Gamma_\" +  str(gamma_param) +  \"_var_weights_\" + str(var_weights) + \"_num_ens_\" + str(size_ens)"
   ]
  },
  {
   "cell_type": "code",
   "execution_count": null,
   "id": "c54e559f-315e-4d51-a113-effe6695dc01",
   "metadata": {},
   "outputs": [],
   "source": [
    "# string = \"First_Three_Real_World_EnKF_DeepCDR_\" + \"Neurons_\" + str(h1)  + \"_Gamma_\" +  str(gamma_param) +  \"_var_weights_\" + str(var_weights) + \"_num_ens_\" + str(size_ens)"
   ]
  },
  {
   "cell_type": "code",
   "execution_count": null,
   "id": "4213b5a0-b128-4d90-8eaf-ef7058c2e38b",
   "metadata": {},
   "outputs": [],
   "source": [
    "# string"
   ]
  },
  {
   "cell_type": "code",
   "execution_count": null,
   "id": "01d8448d",
   "metadata": {},
   "outputs": [],
   "source": [
    "# catch_coverages = [best_train_mae, best_valid_mae, best_test_mae, best_train_coverage, best_test_coverage, best_valid_coverage, best_test_coverage, \\\n",
    "#     best_train_width, best_valid_width , best_test_width, best_drugs_weight, best_r_train, best_r_valid, best_r, exit_iter_no_thresh, time_taken, best_initial_ensembles, best_log_sigma_points_1]"
   ]
  },
  {
   "cell_type": "code",
   "execution_count": null,
   "id": "cb1027fa-cc7a-4adf-8a6a-db23a1d6323d",
   "metadata": {},
   "outputs": [],
   "source": [
    "# best_train_mae, best_valid_mae, best_test_mae, best_train_coverage, best_test_coverage, best_valid_coverage, best_test_coverage, \\\n",
    "#     best_train_width, best_valid_width , best_test_width, (1-best_drugs_weight), best_r_train, best_r_valid, best_r, exit_iter_no_thresh, time_taken, best_initial_ensembles, best_log_sigma_points_1"
   ]
  },
  {
   "cell_type": "code",
   "execution_count": null,
   "id": "3e0f11d9-de11-4880-be84-4340352ce23c",
   "metadata": {},
   "outputs": [],
   "source": [
    "# with open(\"Preds_Mutation_Methylation\" + \".pkl\", 'wb') as f:\n",
    "#     pickle.dump(catch_coverages, f)"
   ]
  },
  {
   "cell_type": "code",
   "execution_count": null,
   "id": "f80681cc-ed49-44c9-9373-52944bc8d658",
   "metadata": {},
   "outputs": [],
   "source": [
    "# fig  = plt.figure()\n",
    "# plt.scatter(y_test, initial_targets_test_mean, alpha = 0.5)\n",
    "# plt.axline((0,0), slope = 1, c = \"black\", linewidth = 3)\n",
    "# plt.xlabel(\"Observed Log IC50\", fontweight = \"bold\", fontsize = 15)\n",
    "# plt.ylabel(\"MEnKF-ANN Predicted Log IC50\", fontweight = \"bold\", fontsize = 15)\n",
    "# plt.xticks(fontsize = 15, fontweight = \"bold\")\n",
    "# plt.yticks(fontsize = 15, fontweight = \"bold\")\n",
    "# fig.savefig('Plots/Avg_Smile_Weight_Tajectory.pdf', bbox_inches='tight', format = \"pdf\")\n",
    "# fig.savefig('Plots/Avg_Smile_Weight_Tajectory.png', bbox_inches='tight')\n",
    "# plt.show()"
   ]
  },
  {
   "cell_type": "code",
   "execution_count": null,
   "id": "1e8200e5-b784-49c8-9ae9-fd7ee5a2e71d",
   "metadata": {},
   "outputs": [],
   "source": [
    "# catch_coverages"
   ]
  },
  {
   "cell_type": "code",
   "execution_count": null,
   "id": "d0f27b29",
   "metadata": {},
   "outputs": [],
   "source": [
    "# catch_coverages"
   ]
  },
  {
   "cell_type": "code",
   "execution_count": null,
   "id": "647980a7-9ae3-4c5c-b25c-2e37b6a84679",
   "metadata": {},
   "outputs": [],
   "source": [
    "# check = pd.DataFrame(catch_coverages[:10])"
   ]
  },
  {
   "cell_type": "code",
   "execution_count": null,
   "id": "e061792a-e589-486e-b8d2-336622f6bf34",
   "metadata": {},
   "outputs": [],
   "source": [
    "# check"
   ]
  },
  {
   "cell_type": "code",
   "execution_count": null,
   "id": "fa101efc-351b-4645-87a3-f008abf1ff3d",
   "metadata": {},
   "outputs": [],
   "source": [
    "# check"
   ]
  },
  {
   "cell_type": "code",
   "execution_count": null,
   "id": "77536655-0afd-4976-980a-fa7a28b55201",
   "metadata": {},
   "outputs": [],
   "source": [
    "# check.columns = [\"train_mae\", \"test_mae\", \"avg_ci_width_train\", \"avg_ci_width_test\", \"avg_lstm_weight\", \"exit_iter\", \"exit_status\"]"
   ]
  },
  {
   "cell_type": "code",
   "execution_count": null,
   "id": "cd8cefbd-9076-469e-a5dc-dc4637846308",
   "metadata": {},
   "outputs": [],
   "source": [
    "# check = check.T\n"
   ]
  },
  {
   "cell_type": "code",
   "execution_count": null,
   "id": "8596dfc5",
   "metadata": {},
   "outputs": [],
   "source": [
    "# check"
   ]
  },
  {
   "cell_type": "code",
   "execution_count": null,
   "id": "4fc1dcac-24b2-45e7-ae4c-e55eca90a6c6",
   "metadata": {},
   "outputs": [],
   "source": [
    "# check.columns = [\"train_mae\", \"test_mae\", \"train_coverage\", \"train_width\", \"test_coverage\", \"test_width\", \"exit_iter\", \"time_taken\", \"avg_width_alginate\"]"
   ]
  },
  {
   "cell_type": "code",
   "execution_count": null,
   "id": "dc699633-60c4-4774-93ef-e90160803672",
   "metadata": {},
   "outputs": [],
   "source": [
    "# check.columns = [\"train_mae\", \"test_mae\", \"train_coverage\", \"train_width\", \"test_coverage\", \"test_width\", \"drug_weight\" , \"pearson_correlation\" ,\"exit_iter\", \"time_taken\"]"
   ]
  },
  {
   "cell_type": "code",
   "execution_count": null,
   "id": "4089a2ab-43f9-4e24-a7ed-add7bdc14156",
   "metadata": {},
   "outputs": [],
   "source": [
    "# true_preds = [inner for item in true_preds for inner in item]"
   ]
  },
  {
   "cell_type": "code",
   "execution_count": null,
   "id": "65492b8d-d7e4-4375-8577-d79a633680b7",
   "metadata": {},
   "outputs": [],
   "source": [
    "# enkf_preds = [inner for item in enkf_preds for inner in item]"
   ]
  },
  {
   "cell_type": "code",
   "execution_count": null,
   "id": "19776731-14c7-43c3-bd48-163aa67e2c76",
   "metadata": {},
   "outputs": [],
   "source": [
    "# np.mean(np.abs(np.array(true_preds)-np.array(enkf_preds)))"
   ]
  },
  {
   "cell_type": "code",
   "execution_count": null,
   "id": "1ebada74-6fe8-4f58-a939-87ca7399aef8",
   "metadata": {},
   "outputs": [],
   "source": [
    "# plt.scatter(enkf_preds,true_preds, alpha=0.5)\n",
    "# plt.xlabel(\"EnKF Predictions\", fontsize = 15, fontweight = \"bold\")\n",
    "# plt.ylabel(\"LSTM Predictions\", fontsize = 15, fontweight = \"bold\")\n",
    "# plt.xticks( fontsize = 10, fontweight = \"bold\")\n",
    "# plt.yticks( fontsize = 10, fontweight = \"bold\")\n",
    "# plt.axline((0, 0), slope=1)\n",
    "# plt.show()"
   ]
  },
  {
   "cell_type": "code",
   "execution_count": null,
   "id": "dd706672-8fd1-4f54-88a2-d377f1b2d7d3",
   "metadata": {},
   "outputs": [],
   "source": [
    "# cur_idx = 0"
   ]
  },
  {
   "cell_type": "code",
   "execution_count": null,
   "id": "ead27b05-299e-49dc-bb97-236a18cd05e5",
   "metadata": {},
   "outputs": [],
   "source": [
    "# catch_preds = []\n",
    "# for i in range(0, catch_coverages[cur_idx][-1].shape[1]):\n",
    "#     enkf_preds = catch_coverages[cur_idx][-1][:,i,:]\n",
    "#     enkf_preds_df = pd.DataFrame(enkf_preds)\n",
    "#     enkf_preds_df[\"Test_Sample_ID\"] = i \n",
    "#     enkf_preds_df.columns = [\"EnKF_Preds\", \"Test_Sample_ID\"]\n",
    "#     catch_preds.append(enkf_preds_df)"
   ]
  },
  {
   "cell_type": "code",
   "execution_count": null,
   "id": "76f88a3c-8152-4b54-8eea-761701d7b7cc",
   "metadata": {},
   "outputs": [],
   "source": [
    "# catch_preds_df = pd.concat(catch_preds)"
   ]
  },
  {
   "cell_type": "code",
   "execution_count": null,
   "id": "6614c144-29c3-451d-a6c6-a624aa4096a1",
   "metadata": {},
   "outputs": [],
   "source": [
    "# import seaborn as sns"
   ]
  },
  {
   "cell_type": "code",
   "execution_count": null,
   "id": "45f52dcf-cc5b-4af0-b495-9c0601729154",
   "metadata": {},
   "outputs": [],
   "source": [
    "# filtered_df = expit(catch1[cur_idx][2])"
   ]
  },
  {
   "cell_type": "code",
   "execution_count": null,
   "id": "51405252-c830-4c95-90d8-e42cffcae59b",
   "metadata": {},
   "outputs": [],
   "source": [
    "# # plt.figure(figsize = (10,10))\n",
    "# fig = sns.boxplot(catch_preds_df, x=\"Test_Sample_ID\", y=\"EnKF_Preds\", showfliers=False)\n",
    "# plt.scatter(range(0, filtered_df.shape[0]), filtered_df, c = \"black\", s = 50)\n",
    "# plt.xlabel(\"Test Sample ID\", fontsize = 15, fontweight = \"bold\")\n",
    "# plt.ylabel(\"EnKF Predictions\", fontsize = 15, fontweight = \"bold\")\n",
    "# plt.xticks(fontsize = 10, fontweight = \"bold\")\n",
    "# plt.yticks(fontsize = 10, fontweight = \"bold\")\n",
    "# plt.show()"
   ]
  },
  {
   "cell_type": "code",
   "execution_count": null,
   "id": "ab4ef63f-a716-4006-8923-39df160647d8",
   "metadata": {},
   "outputs": [],
   "source": [
    "# ids = [i for i in range(0, filtered_df.shape[0]) if filtered_df[i] < 0.5]\n",
    "# ids_more = [i for i in range(0, filtered_df.shape[0]) if filtered_df[i] > 0.5]"
   ]
  },
  {
   "cell_type": "code",
   "execution_count": null,
   "id": "0976b8bc-6faa-4c8e-a9d1-3b666d9435e0",
   "metadata": {},
   "outputs": [],
   "source": [
    "# catch_preds_df.groupby(\"Test_Sample_ID\").quantile(q = [0.025, 0.975])"
   ]
  },
  {
   "cell_type": "code",
   "execution_count": null,
   "id": "64886e1a-d858-4ea8-9cc4-51ab0b072286",
   "metadata": {},
   "outputs": [],
   "source": [
    "# catch_preds_df_filtered = catch_preds_df[catch_preds_df[\"Test_Sample_ID\"].isin(ids_more)]"
   ]
  },
  {
   "cell_type": "code",
   "execution_count": null,
   "id": "6ecec8de-d825-4191-9f35-705382466d97",
   "metadata": {},
   "outputs": [],
   "source": [
    "# filtered_true = filtered_df[ids_more,:]"
   ]
  },
  {
   "cell_type": "code",
   "execution_count": null,
   "id": "860a9f6b-a286-4855-8530-2c2d71d08737",
   "metadata": {},
   "outputs": [],
   "source": [
    "# # plt.figure(figsize = (10,10))\n",
    "# fig = sns.boxplot(catch_preds_df_filtered, x=\"Test_Sample_ID\", y=\"EnKF_Preds\", showfliers=False)\n",
    "# plt.scatter(range(0, filtered_true.shape[0]), filtered_true, c = \"black\", s = 50)\n",
    "# plt.xlabel(\"Test Sample ID\", fontsize = 15, fontweight = \"bold\")\n",
    "# plt.ylabel(\"EnKF Predictions\", fontsize = 15, fontweight = \"bold\")\n",
    "# plt.xticks(fontsize = 10, fontweight = \"bold\")\n",
    "# plt.yticks(fontsize = 10, fontweight = \"bold\")\n",
    "# plt.show()"
   ]
  },
  {
   "cell_type": "code",
   "execution_count": null,
   "id": "ec177a9b-74aa-4458-a88e-a8b1ab1deff6",
   "metadata": {},
   "outputs": [],
   "source": [
    "# catch_preds_df_filtered = catch_preds_df[catch_preds_df[\"Test_Sample_ID\"].isin(ids)]\n",
    "# filtered_true = filtered_df[ids,:]\n",
    "# # plt.figure(figsize = (10,10))\n",
    "# fig = sns.boxplot(catch_preds_df_filtered, x=\"Test_Sample_ID\", y=\"EnKF_Preds\", showfliers=False)\n",
    "# plt.scatter(range(0, filtered_true.shape[0]), filtered_true, c = \"black\")\n",
    "# plt.xlabel(\"Test Sample ID\", fontsize = 15, fontweight = \"bold\")\n",
    "# plt.ylabel(\"EnKF Predictions\", fontsize = 15, fontweight = \"bold\")\n",
    "# plt.xticks(fontsize = 10, fontweight = \"bold\")\n",
    "# plt.yticks(fontsize = 10, fontweight = \"bold\")\n",
    "# plt.show()\n",
    "# # plt.ylim((0.9,1.0))"
   ]
  }
 ],
 "metadata": {
  "kernelspec": {
   "display_name": "enkf",
   "language": "python",
   "name": "enkf"
  },
  "language_info": {
   "codemirror_mode": {
    "name": "ipython",
    "version": 3
   },
   "file_extension": ".py",
   "mimetype": "text/x-python",
   "name": "python",
   "nbconvert_exporter": "python",
   "pygments_lexer": "ipython3",
   "version": "3.11.3"
  }
 },
 "nbformat": 4,
 "nbformat_minor": 5
}
