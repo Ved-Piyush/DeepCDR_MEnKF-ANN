{
 "cells": [
  {
   "cell_type": "code",
   "execution_count": 1,
   "id": "d7ab5bf3",
   "metadata": {},
   "outputs": [],
   "source": [
    "import pandas as pd\n",
    "from tqdm import tqdm\n",
    "# import gensim\n",
    "import os\n",
    "os.environ['TF_CPP_MIN_LOG_LEVEL'] = '3' \n",
    "from joblib import Parallel, delayed\n",
    "import sys\n",
    "from scipy.stats import norm"
   ]
  },
  {
   "cell_type": "code",
   "execution_count": 2,
   "id": "36084258",
   "metadata": {},
   "outputs": [
    {
     "name": "stdout",
     "output_type": "stream",
     "text": [
      "No GPU found\n"
     ]
    }
   ],
   "source": [
    "# Seed value\n",
    "# Apparently you may use different seed values at each stage\n",
    "seed_value= 42\n",
    "\n",
    "# 1. Set the `PYTHONHASHSEED` environment variable at a fixed value\n",
    "import os\n",
    "os.environ['PYTHONHASHSEED']=str(seed_value)\n",
    "\n",
    "# 2. Set the `python` built-in pseudo-random generator at a fixed value\n",
    "import random\n",
    "random.seed(seed_value)\n",
    "\n",
    "# 3. Set the `numpy` pseudo-random generator at a fixed value\n",
    "import numpy as np\n",
    "np.random.seed(seed_value)\n",
    "\n",
    "# # 4. Set the `tensorflow` pseudo-random generator at a fixed value\n",
    "import tensorflow as tf\n",
    "os.environ['CUDA_VISIBLE_DEVICES'] = '-1'\n",
    "\n",
    "if tf.test.gpu_device_name():\n",
    "    print('GPU found')\n",
    "else:\n",
    "    print(\"No GPU found\")\n",
    "# tf.config.set_visible_devices([], 'GPU')\n",
    "\n",
    "from tqdm.notebook import tqdm\n",
    "tf.random.set_seed(seed_value)\n",
    "import multiprocessing\n"
   ]
  },
  {
   "cell_type": "code",
   "execution_count": 3,
   "id": "e036b858",
   "metadata": {},
   "outputs": [],
   "source": [
    "import matplotlib.pyplot as plt\n",
    "\n",
    "import pickle"
   ]
  },
  {
   "cell_type": "code",
   "execution_count": 4,
   "id": "a1221543-b1fd-4225-91c9-1f372ac315e3",
   "metadata": {},
   "outputs": [],
   "source": [
    "path = os.getcwd() + \"//dataset_1\""
   ]
  },
  {
   "cell_type": "code",
   "execution_count": 5,
   "id": "76624ecc-8bb7-4e52-b95d-1a01cecacb5b",
   "metadata": {},
   "outputs": [],
   "source": [
    "def ann(hidden = 10, input_shape = 90): \n",
    "    input_layer = tf.keras.layers.Input(shape = (input_shape))\n",
    "    hidden_layer = tf.keras.layers.Dense(hidden)\n",
    "    hidden_output = hidden_layer(input_layer)\n",
    "    pred_layer = tf.keras.layers.Dense(1)\n",
    "    pred_output = pred_layer(hidden_output)\n",
    "#     pred_output = tf.keras.layers.Activation(\"softmax\")(pred_output)\n",
    "    model = tf.keras.models.Model(input_layer, pred_output)\n",
    "    return model"
   ]
  },
  {
   "cell_type": "code",
   "execution_count": 6,
   "id": "b8153ea5-cefc-4075-994d-c51461505e8b",
   "metadata": {},
   "outputs": [],
   "source": [
    "# X_train_word2vec = train_drugs"
   ]
  },
  {
   "cell_type": "code",
   "execution_count": 7,
   "id": "95a7d5f5-e03c-4de4-8bea-d4821cc7209d",
   "metadata": {},
   "outputs": [],
   "source": [
    "h1, h2 = 16,16"
   ]
  },
  {
   "cell_type": "code",
   "execution_count": 8,
   "id": "b2ff179a-2c64-4bae-bfd5-3ce7f4b40fb5",
   "metadata": {},
   "outputs": [],
   "source": [
    "\n",
    "\n",
    "ann_15 = ann(h1)\n",
    "\n",
    "\n",
    "# In[35]:\n",
    "\n",
    "\n",
    "# ann_15.summary()\n",
    "\n",
    "\n",
    "# In[36]:\n",
    "\n"
   ]
  },
  {
   "cell_type": "code",
   "execution_count": 9,
   "id": "0bf5144e-59f2-413e-af30-39407819094c",
   "metadata": {},
   "outputs": [
    {
     "name": "stdout",
     "output_type": "stream",
     "text": [
      "Model: \"model\"\n",
      "_________________________________________________________________\n",
      " Layer (type)                Output Shape              Param #   \n",
      "=================================================================\n",
      " input_1 (InputLayer)        [(None, 90)]              0         \n",
      "                                                                 \n",
      " dense (Dense)               (None, 16)                1456      \n",
      "                                                                 \n",
      " dense_1 (Dense)             (None, 1)                 17        \n",
      "                                                                 \n",
      "=================================================================\n",
      "Total params: 1,473\n",
      "Trainable params: 1,473\n",
      "Non-trainable params: 0\n",
      "_________________________________________________________________\n"
     ]
    }
   ],
   "source": [
    "ann_15.summary()"
   ]
  },
  {
   "cell_type": "code",
   "execution_count": 10,
   "id": "a9c45b5a-9f13-4fd9-b90c-ed94e069b9cc",
   "metadata": {},
   "outputs": [],
   "source": [
    "# X_train_word2vec = train_omics"
   ]
  },
  {
   "cell_type": "code",
   "execution_count": 11,
   "id": "bce5668e-a895-47b4-8f1c-6e5d1fd3c92b",
   "metadata": {},
   "outputs": [],
   "source": [
    "ann_20 = ann(h2, 90)\n",
    "\n",
    "\n",
    "\n",
    "# ann_20.summary()\n",
    "\n"
   ]
  },
  {
   "cell_type": "code",
   "execution_count": 12,
   "id": "6a41f8b5",
   "metadata": {},
   "outputs": [],
   "source": [
    "total_weights_1 = ann_15.count_params()"
   ]
  },
  {
   "cell_type": "code",
   "execution_count": 13,
   "id": "0721ea37",
   "metadata": {},
   "outputs": [],
   "source": [
    "total_weights_2 = ann_20.count_params()"
   ]
  },
  {
   "cell_type": "code",
   "execution_count": 14,
   "id": "4b2ed894",
   "metadata": {},
   "outputs": [],
   "source": [
    "total_weights = total_weights_1 + total_weights_2 + 1 "
   ]
  },
  {
   "cell_type": "code",
   "execution_count": 15,
   "id": "999f5e96",
   "metadata": {},
   "outputs": [
    {
     "data": {
      "text/plain": [
       "2947"
      ]
     },
     "execution_count": 15,
     "metadata": {},
     "output_type": "execute_result"
    }
   ],
   "source": [
    "total_weights"
   ]
  },
  {
   "cell_type": "code",
   "execution_count": 16,
   "id": "feb2ef89",
   "metadata": {},
   "outputs": [],
   "source": [
    "## batch size\n",
    "batch_size = 128"
   ]
  },
  {
   "cell_type": "code",
   "execution_count": 17,
   "id": "4eea8c8e",
   "metadata": {},
   "outputs": [],
   "source": [
    "# var_weights = 0.08\n",
    "# var_targets = 0.08"
   ]
  },
  {
   "cell_type": "code",
   "execution_count": 18,
   "id": "9b49ba9c",
   "metadata": {},
   "outputs": [],
   "source": [
    "from scipy.stats import multivariate_normal as mvn"
   ]
  },
  {
   "cell_type": "code",
   "execution_count": 19,
   "id": "7a60a350",
   "metadata": {},
   "outputs": [],
   "source": [
    "from scipy.stats import invgamma, norm"
   ]
  },
  {
   "cell_type": "code",
   "execution_count": 20,
   "id": "bd888262",
   "metadata": {},
   "outputs": [],
   "source": [
    "from tqdm.notebook import tqdm"
   ]
  },
  {
   "cell_type": "code",
   "execution_count": 21,
   "id": "c3355c48",
   "metadata": {},
   "outputs": [],
   "source": [
    "threshold = 5"
   ]
  },
  {
   "cell_type": "code",
   "execution_count": 22,
   "id": "b1ce82b7",
   "metadata": {},
   "outputs": [],
   "source": [
    "import random"
   ]
  },
  {
   "cell_type": "code",
   "execution_count": 23,
   "id": "7425ecc5",
   "metadata": {},
   "outputs": [],
   "source": [
    "lr = 0.1"
   ]
  },
  {
   "cell_type": "code",
   "execution_count": 24,
   "id": "b7959ab1",
   "metadata": {},
   "outputs": [],
   "source": [
    "import numpy as np"
   ]
  },
  {
   "cell_type": "code",
   "execution_count": 25,
   "id": "1db4063f",
   "metadata": {},
   "outputs": [],
   "source": [
    "weights_ann_1 = ann_15.get_weights()\n",
    "weights_ann_2 = ann_20.get_weights()"
   ]
  },
  {
   "cell_type": "code",
   "execution_count": 26,
   "id": "43a211df",
   "metadata": {},
   "outputs": [],
   "source": [
    "def get_targets_with_weights(batch_data, batch_data1, initial_ensembles, log_sigma_points_1, size_ens): \n",
    "\n",
    "    n_hidden_1 = len(weights_ann_1[0].ravel())\n",
    "\n",
    "    hidden_weights_1 = initial_ensembles[:,:n_hidden_1].reshape( size_ens, batch_data.shape[1], h1)\n",
    "\n",
    "    \n",
    "    hidden_output_1 = np.einsum('ij,kjl->kil', batch_data, hidden_weights_1)\n",
    "\n",
    "    \n",
    "    hidden_layer_bias_1 = initial_ensembles[:,n_hidden_1:(n_hidden_1 + h1)].reshape(size_ens, 1,  h1)\n",
    "\n",
    "\n",
    "\n",
    "    hidden_output_1 = hidden_output_1 + hidden_layer_bias_1\n",
    "\n",
    "    n_pred_weights_1 = len(weights_ann_1[2].ravel())\n",
    "\n",
    "    output_weights_1 = initial_ensembles[:,(n_hidden_1 + h1):(n_hidden_1 + h1 + n_pred_weights_1) ].reshape(size_ens, h1, 1)\n",
    "\n",
    "    output_1 = np.einsum('ijk,ikl->ijl', hidden_output_1, output_weights_1)\n",
    "\n",
    "\n",
    "    output_layer_bias_1 = initial_ensembles[:,(n_hidden_1 + h1 + n_pred_weights_1):(n_hidden_1 + h1 + n_pred_weights_1 + 1)].reshape(size_ens, 1, 1)\n",
    "\n",
    "\n",
    "\n",
    "    final_output_1 = output_1 + output_layer_bias_1\n",
    "\n",
    "    n_hidden_2 = len(weights_ann_2[0].ravel())\n",
    "\n",
    "    initial_ensembles_1 = initial_ensembles.copy()[:, total_weights_1:(total_weights_1+ total_weights_2)]\n",
    "    \n",
    "    # print(batch_data1.shape[1])\n",
    "    \n",
    "    \n",
    "    hidden_weights_2 = initial_ensembles_1[:,:n_hidden_2].reshape(size_ens, batch_data1.shape[1], h2)\n",
    "\n",
    "\n",
    "\n",
    "    hidden_output_2 = np.einsum('ij,kjl->kil', batch_data1, hidden_weights_2)\n",
    "\n",
    "    hidden_layer_bias_2 = initial_ensembles[:,n_hidden_2:(n_hidden_2 + h2)].reshape(size_ens, 1,  h2)\n",
    "\n",
    "    hidden_output_2 = hidden_output_2+ hidden_layer_bias_2\n",
    "\n",
    "    n_pred_weights_2 = len(weights_ann_2[2].ravel())\n",
    "\n",
    "    output_weights_2 = initial_ensembles_1[:,(n_hidden_2 + h2):(n_hidden_2 + h2 + n_pred_weights_2) ].reshape(size_ens, h2, 1)\n",
    "\n",
    "\n",
    "    output_2 = np.einsum('ijk,ikl->ijl', hidden_output_2, output_weights_2)\n",
    "\n",
    "\n",
    "    output_layer_bias_2 = initial_ensembles_1[:,(n_hidden_2 + h2 + n_pred_weights_2):(n_hidden_2 + h2 + n_pred_weights_2 + 1)].reshape(size_ens, 1, 1)\n",
    "\n",
    "\n",
    "    final_output_2 = output_2 + output_layer_bias_2\n",
    "\n",
    "\n",
    "    weights_1 = initial_ensembles[:, :total_weights_1]\n",
    "\n",
    "    weights_2 = initial_ensembles[:, total_weights_1:(total_weights_1 + total_weights_2)]\n",
    "\n",
    "\n",
    "    avg_weights = initial_ensembles[:, -1].reshape(-1,1)\n",
    "\n",
    "    avg_weights_sig = expit(avg_weights)\n",
    "    \n",
    "    avg_weights_sig = avg_weights_sig.reshape(avg_weights_sig.shape[0], 1, avg_weights_sig.shape[1])\n",
    "    \n",
    "    complement_weights_sig = 1 - expit(avg_weights)\n",
    "    \n",
    "    complement_weights_sig = complement_weights_sig.reshape(complement_weights_sig.shape[0], 1, complement_weights_sig.shape[1])\n",
    "\n",
    "    final_output_1 = final_output_1*complement_weights_sig\n",
    "    \n",
    "    final_output_2 = final_output_2*avg_weights_sig\n",
    "    \n",
    "    output_1_ravel = final_output_1.reshape(size_ens, final_output_1.shape[1]*final_output_1.shape[2])\n",
    "\n",
    "    output_2_ravel = final_output_2.reshape(size_ens, final_output_2.shape[1]*final_output_2.shape[2])\n",
    "\n",
    "\n",
    "    output_1_ravel = output_1_ravel\n",
    "\n",
    "    output_2_ravel = output_2_ravel\n",
    "\n",
    "\n",
    "\n",
    "    weights_1_add = np.zeros((size_ens, (total_weights_2 - total_weights_1)))\n",
    "\n",
    "\n",
    "\n",
    "    weights_1 = np.hstack((weights_1, weights_1_add))\n",
    "    \n",
    "\n",
    "\n",
    "    stack_1 = np.hstack((output_1_ravel, weights_1, np.repeat(0, size_ens).reshape(-1,1), np.repeat(0, size_ens).reshape(-1,1)))\n",
    "\n",
    "\n",
    "\n",
    "    \n",
    "    stack_2 = np.hstack((output_2_ravel, weights_2, avg_weights, log_sigma_points_1))\n",
    "\n",
    "    \n",
    "    initial_aug_state = np.hstack((stack_1, stack_2)) \n",
    "    \n",
    "\n",
    "    return initial_aug_state , output_1_ravel, output_2_ravel, log_sigma_points_1\n",
    "\n"
   ]
  },
  {
   "cell_type": "code",
   "execution_count": 27,
   "id": "4e3ef6e6",
   "metadata": {},
   "outputs": [],
   "source": [
    "import time"
   ]
  },
  {
   "cell_type": "code",
   "execution_count": 28,
   "id": "0eabfdd4",
   "metadata": {},
   "outputs": [],
   "source": [
    "from scipy.stats import multivariate_normal as mvn"
   ]
  },
  {
   "cell_type": "code",
   "execution_count": 29,
   "id": "10d77915",
   "metadata": {},
   "outputs": [],
   "source": [
    "from scipy.stats import multivariate_normal as mvn"
   ]
  },
  {
   "cell_type": "code",
   "execution_count": 30,
   "id": "ebeb0869-7f0b-4f21-be63-0234896af39f",
   "metadata": {},
   "outputs": [],
   "source": [
    "# train_fudged_probs"
   ]
  },
  {
   "cell_type": "code",
   "execution_count": 31,
   "id": "23d87ffe",
   "metadata": {},
   "outputs": [],
   "source": [
    "import matplotlib.pyplot as plt"
   ]
  },
  {
   "cell_type": "code",
   "execution_count": 32,
   "id": "f5427e43",
   "metadata": {},
   "outputs": [],
   "source": [
    "from scipy.special import expit"
   ]
  },
  {
   "cell_type": "code",
   "execution_count": 33,
   "id": "be0ee1ec",
   "metadata": {},
   "outputs": [],
   "source": [
    "# catch1[0][0]"
   ]
  },
  {
   "cell_type": "code",
   "execution_count": 34,
   "id": "fb492324",
   "metadata": {},
   "outputs": [],
   "source": [
    "# catch_train_logits_second[0]"
   ]
  },
  {
   "cell_type": "code",
   "execution_count": 35,
   "id": "0c2dbaec-3249-404a-9971-c2fc17f68356",
   "metadata": {},
   "outputs": [],
   "source": [
    "from datetime import datetime"
   ]
  },
  {
   "cell_type": "code",
   "execution_count": 36,
   "id": "9cf12935",
   "metadata": {},
   "outputs": [],
   "source": [
    "def expit(x):\n",
    "    \"\"\"Compute softmax values for each sets of scores in x.\"\"\"\n",
    "#     e_x = np.exp(x - np.max(x))\n",
    "    return 1 / (1 + np.exp(-x))"
   ]
  },
  {
   "cell_type": "code",
   "execution_count": 37,
   "id": "ef051014",
   "metadata": {},
   "outputs": [],
   "source": [
    "from scipy.stats import gamma"
   ]
  },
  {
   "cell_type": "code",
   "execution_count": 38,
   "id": "1969c78b-c105-482a-a957-e81329037a09",
   "metadata": {},
   "outputs": [],
   "source": [
    "use_cores = multiprocessing.cpu_count()-1"
   ]
  },
  {
   "cell_type": "code",
   "execution_count": 39,
   "id": "6a062f7f",
   "metadata": {},
   "outputs": [
    {
     "data": {
      "text/plain": [
       "47"
      ]
     },
     "execution_count": 39,
     "metadata": {},
     "output_type": "execute_result"
    }
   ],
   "source": [
    "use_cores"
   ]
  },
  {
   "cell_type": "code",
   "execution_count": 40,
   "id": "881d1612-f98f-4df6-89b0-90bd2e97de4f",
   "metadata": {},
   "outputs": [],
   "source": [
    "from datetime import datetime"
   ]
  },
  {
   "cell_type": "code",
   "execution_count": 41,
   "id": "ac0108fa-359e-4d88-ba02-776a6f19b906",
   "metadata": {},
   "outputs": [],
   "source": [
    "from sklearn.metrics import mean_squared_error"
   ]
  },
  {
   "cell_type": "code",
   "execution_count": 42,
   "id": "6cd29e03-d778-4eeb-98b5-de815840cb5c",
   "metadata": {},
   "outputs": [],
   "source": [
    "import random"
   ]
  },
  {
   "cell_type": "code",
   "execution_count": 43,
   "id": "cc0be1b1",
   "metadata": {},
   "outputs": [],
   "source": [
    "from scipy import stats"
   ]
  },
  {
   "cell_type": "code",
   "execution_count": 44,
   "id": "b49d0934-faa0-428b-8dc7-e53323a26372",
   "metadata": {},
   "outputs": [],
   "source": [
    "from scipy.stats import pearsonr"
   ]
  },
  {
   "cell_type": "code",
   "execution_count": 45,
   "id": "0d5734d0-e75c-436e-bdea-6d5c8223754a",
   "metadata": {},
   "outputs": [],
   "source": [
    "from sklearn.model_selection import train_test_split"
   ]
  },
  {
   "cell_type": "code",
   "execution_count": 46,
   "id": "25586772-a3e4-4d5e-b745-6495023e37d5",
   "metadata": {},
   "outputs": [],
   "source": [
    "from sklearn.model_selection import KFold"
   ]
  },
  {
   "cell_type": "code",
   "execution_count": 48,
   "id": "516ae86c-6a46-4d98-9f6b-3eb93f6441de",
   "metadata": {},
   "outputs": [],
   "source": [
    "with open(\"..//..//Data//untouched_all_embs_five_fold_5000.pickle\", \"rb\") as f:\n",
    "    catch_main = pickle.load(f)"
   ]
  },
  {
   "cell_type": "code",
   "execution_count": 49,
   "id": "7163a1c0-3cf4-4d58-942b-0d4c7d5b0b63",
   "metadata": {},
   "outputs": [
    {
     "data": {
      "text/plain": [
       "(4000, 100)"
      ]
     },
     "execution_count": 49,
     "metadata": {},
     "output_type": "execute_result"
    }
   ],
   "source": [
    "catch_main[0][0][0].shape"
   ]
  },
  {
   "cell_type": "code",
   "execution_count": 50,
   "id": "570b3079-bb88-42fe-8174-fdced06c4121",
   "metadata": {},
   "outputs": [
    {
     "data": {
      "text/plain": [
       "(1000, 100)"
      ]
     },
     "execution_count": 50,
     "metadata": {},
     "output_type": "execute_result"
    }
   ],
   "source": [
    "catch_main[0][1][1].shape"
   ]
  },
  {
   "cell_type": "code",
   "execution_count": 51,
   "id": "1350b5d2-36dd-4183-a736-6bfcf791b8cd",
   "metadata": {},
   "outputs": [],
   "source": [
    "from sklearn.decomposition import PCA"
   ]
  },
  {
   "cell_type": "code",
   "execution_count": 64,
   "id": "7ce24ad0-fb33-48cc-9111-b87c993695e2",
   "metadata": {},
   "outputs": [],
   "source": [
    "def rep_one_real_world(idx, size_ens, size_drugs = 90, size_omics = 30): \n",
    "    item = catch_main[idx]\n",
    "    a1, a2 = item[0], item[1]\n",
    "    train_drugs_emb, train_gen_expr_emb, train_dna_methyl_emb, train_gen_mut_emb, train_y = a1\n",
    "    test_drugs_emb, test_gen_expr_emb, test_dna_methyl_emb, test_gen_mut_emb, test_y = a2\n",
    "    train_rmse = []\n",
    "    test_rmse = []\n",
    "    train_cov = []\n",
    "    test_cov = []\n",
    "    train_p = []\n",
    "    test_p = []\n",
    "    train_width = []\n",
    "    test_width = []\n",
    "#     from scipy.special import expit\n",
    "    patience_smaller = 0\n",
    "    patience_uns = 0\n",
    "    \n",
    "    print(\"Size_Ens is \" + str(size_ens), flush = True)\n",
    "    \n",
    "    best_train_mae = 100000\n",
    "    \n",
    "    best_train_width = 100000\n",
    "\n",
    "        \n",
    "    X_train_logits_unshuffled = train_y.reshape(-1,1)\n",
    "    train_size = X_train_logits_unshuffled.shape[0]\n",
    "\n",
    "    X_test_logits = test_y.reshape(-1,1)\n",
    "    \n",
    "    ## create training batch chunks\n",
    "    train_idx = list(range(0, len(X_train_logits_unshuffled)))\n",
    "    batch_chunks = [train_idx[i:i+batch_size] for i in range(0,len(X_train_logits_unshuffled),batch_size)]\n",
    "\n",
    "    ## generate some augmented variable for iteration 0\n",
    "    initial_aug_state_mean = np.repeat(0, total_weights)\n",
    "    initial_aug_state_mean = initial_aug_state_mean.reshape(-1,1)\n",
    "\n",
    "    initial_aug_state_cov = var_weights*np.identity((total_weights))\n",
    "    initial_ensembles = mvn(initial_aug_state_mean.reshape(initial_aug_state_mean.shape[0],), initial_aug_state_cov).rvs(size = size_ens)\n",
    "\n",
    "    exit_iter_no_thresh = 0\n",
    "    log_sigma_points_1 = (np.log(gamma(gamma_param, scale = 1/100).rvs(size_ens))).reshape(size_ens, 1)\n",
    "    \n",
    "    \n",
    "    train_lstm = train_drugs_emb\n",
    "\n",
    "    test_lstm = test_drugs_emb\n",
    "\n",
    "    pca = PCA(n_components=size_drugs)\n",
    "    train_lstm = pca.fit_transform(train_lstm)\n",
    "    # valid_lstm = pca.transform(valid_lstm)\n",
    "    test_lstm = pca.transform(test_lstm)\n",
    "    \n",
    "    # print(train_lstm.shape)\n",
    "\n",
    "    train_doc2vec_gen_expr = train_gen_expr_emb\n",
    "    test_doc2vec_gen_expr = test_gen_expr_emb\n",
    "    \n",
    "    pca = PCA(n_components=size_omics)\n",
    "    train_doc2vec_gen_expr = pca.fit_transform(train_doc2vec_gen_expr)\n",
    "    test_doc2vec_gen_expr = pca.transform(test_doc2vec_gen_expr)\n",
    "    \n",
    "    train_doc2vec_gen_mut = train_gen_mut_emb\n",
    "    test_doc2vec_gen_mut = test_gen_mut_emb\n",
    "    \n",
    "    pca = PCA(n_components=size_omics)\n",
    "    train_doc2vec_gen_mut = pca.fit_transform(train_doc2vec_gen_mut)\n",
    "    test_doc2vec_gen_mut = pca.transform(test_doc2vec_gen_mut)\n",
    "    \n",
    "    train_doc2vec_dna_methyl = train_dna_methyl_emb\n",
    "    test_doc2vec_dna_methyl = test_dna_methyl_emb\n",
    "    \n",
    "    pca = PCA(n_components=size_omics)\n",
    "    train_doc2vec_dna_methyl = pca.fit_transform(train_doc2vec_dna_methyl)\n",
    "    test_doc2vec_dna_methyl = pca.transform(test_doc2vec_dna_methyl)\n",
    "    \n",
    "    train_drugs = train_lstm\n",
    "    \n",
    "    test_drugs = test_lstm\n",
    "    \n",
    "    train_omics = np.hstack((train_doc2vec_gen_expr, train_doc2vec_gen_mut, train_doc2vec_dna_methyl))\n",
    "\n",
    "    test_omics = np.hstack((test_doc2vec_gen_expr, test_doc2vec_gen_mut, test_doc2vec_dna_methyl))\n",
    "    \n",
    "    \n",
    "    train_lstm = train_drugs\n",
    "    test_lstm = test_drugs\n",
    "    \n",
    "    train_doc2vec = train_omics\n",
    "    test_doc2vec = test_omics\n",
    "    \n",
    "    best_coverage_train = 0\n",
    "    \n",
    "    start = datetime.now()\n",
    "    \n",
    "    for iter1 in range(0,500):\n",
    "        random_idx = random.sample(range(0,train_lstm.shape[0]), train_lstm.shape[0])\n",
    "        train_valid_lstm =train_lstm[random_idx, :]\n",
    "        train_valid_doc2vec = train_doc2vec[random_idx, :]\n",
    "        X_train_logits = X_train_logits_unshuffled[random_idx, :]\n",
    "        \n",
    "        \n",
    "        \n",
    "        for batch_idx in batch_chunks:\n",
    "            start_inner = datetime.now()\n",
    "            batch_data = train_valid_lstm[batch_idx,:]\n",
    "            # print(batch_data.shape)\n",
    "            batch_data1 = train_valid_doc2vec[batch_idx,:]\n",
    "            # print(batch_data1.shape)\n",
    "            batch_targets = X_train_logits[batch_idx,:]\n",
    "            \n",
    "            # print(batch_targets.shape)\n",
    "            \n",
    "            # batch_targets = batch_targets.ravel().reshape(-1,1)\n",
    "\n",
    "            column_mod_2_shape = total_weights_2 + batch_data.shape[0]*1 + 1 + 1\n",
    "        \n",
    "            H_t = np.hstack((np.identity(batch_targets.shape[0]), np.zeros((batch_targets.shape[0], column_mod_2_shape-batch_targets.shape[0]))))\n",
    "            \n",
    "            \n",
    "            \n",
    "            \n",
    "            current_aug_state, column_mod_1, column_mod_2, log_sigma_points_1 = get_targets_with_weights(batch_data1, batch_data, initial_ensembles, log_sigma_points_1, size_ens)\n",
    "            \n",
    "            # print(current_aug_state.shape)\n",
    "            \n",
    "            \n",
    "            var_targets_vec = np.log(1 + np.exp(log_sigma_points_1))\n",
    "            \n",
    "            var_targets_vec = var_targets_vec\n",
    "            \n",
    "            # current_aug_state_var = np.cov(current_aug_state.T) + inflation_factor*np.identity(current_aug_state.shape[1])\n",
    "            \n",
    "            current_aug_state_var = np.cov(current_aug_state.T) \n",
    "            \n",
    "            G_t = np.array([1 , 1]).reshape(-1,1)\n",
    "            \n",
    "            scirpt_H_t = np.kron(G_t.T, H_t)\n",
    "            \n",
    "            temp1 = current_aug_state_var@scirpt_H_t.T\n",
    "            \n",
    "            temp2 = scirpt_H_t@current_aug_state_var@scirpt_H_t.T\n",
    "\n",
    "            R_t1 = var_targetsw*np.identity(current_aug_state.shape[1])\n",
    "            \n",
    "            measurement_error1 = mvn(np.repeat(0,current_aug_state.shape[1]), R_t1).rvs(current_aug_state.shape[0])\n",
    "            \n",
    "            R_t_batch = var_targets_vec.reshape(var_targets_vec.shape[0],1,1)*np.identity(batch_targets.shape[0])\n",
    "            measurement_error = mvn(np.repeat(0,batch_targets.shape[0]), R_t_batch.mean(0)).rvs(size_ens)\n",
    "            target_current = batch_targets.reshape(1,-1) + measurement_error\n",
    "            temp2 = np.dstack([temp2]*size_ens).T\n",
    "            K_t = temp1@np.linalg.inv(temp2 + R_t_batch)\n",
    "            current_aug_state = current_aug_state + ((K_t@np.expand_dims((target_current -(scirpt_H_t@current_aug_state.T).T),-1))[:,:,0])\n",
    "            current_aug_state = current_aug_state + measurement_error1\n",
    "\n",
    "            weights_ann_1 = current_aug_state[:,batch_targets.shape[0]:(batch_targets.shape[0] + total_weights_1)]      \n",
    "\n",
    "            weights_ann_2 = current_aug_state[:,-(total_weights_2+1):-2]    \n",
    "\n",
    "            initial_ensembles = np.hstack((weights_ann_1, weights_ann_2, current_aug_state[:,-2].reshape(-1,1)))\n",
    "            \n",
    "            log_sigma_points_1 = current_aug_state[:,-1].reshape(-1,1)\n",
    "               \n",
    "            avg_betas = expit(current_aug_state[:,-2])\n",
    "        \n",
    "            complement = 1-avg_betas\n",
    "\n",
    "\n",
    "            current_aug_state1, column_mod_11, column_mod_21, log_sigma_points_1 = get_targets_with_weights(train_doc2vec, train_lstm, initial_ensembles, log_sigma_points_1, size_ens)\n",
    "            \n",
    "            initial_targets = column_mod_11 + column_mod_21\n",
    "            \n",
    "            \n",
    "            initial_targets = initial_targets.reshape(size_ens, train_lstm.shape[0],1)\n",
    "            \n",
    "            initial_targets_train = initial_targets\n",
    "            \n",
    "            initial_targets_train_mean = initial_targets_train.mean(0)\n",
    "            \n",
    "            li = np.percentile(initial_targets_train, axis = 0, q = (2.5, 97.5))[0,:,:]\n",
    "            \n",
    "            ui = np.percentile(initial_targets_train, axis = 0, q = (2.5, 97.5))[1,:,:]\n",
    "            \n",
    "            width = ui - li\n",
    "            \n",
    "            avg_width_train = np.mean(width)\n",
    "            \n",
    "            # interim = np.vstack((catch_train_probs[idx] , catch_valid_probs[idx] ))\n",
    "        \n",
    "            interim = (X_train_logits_unshuffled)\n",
    "            \n",
    "            ind = (interim >= li) & (interim <= ui)\n",
    "            \n",
    "            coverage_train= np.mean(ind.ravel())  \n",
    "            \n",
    "            train_mae = np.sqrt(mean_squared_error(interim, initial_targets_train_mean))\n",
    "            \n",
    "            # plt.scatter(interim, initial_targets_train_mean)\n",
    "            # plt.show()\n",
    "            \n",
    "            stats_pearson_train = stats.pearsonr(interim.reshape(interim.shape[0],),\n",
    "                                           initial_targets_train_mean.reshape(initial_targets_train_mean.shape[0],))\n",
    "\n",
    "            # train_mae = np.sqrt(np.mean(np.abs(interim.ravel() - initial_targets_train_mean.ravel())**2))\n",
    "        \n",
    "            current_aug_state1, column_mod_11, column_mod_21, log_sigma_points_1 = get_targets_with_weights(test_doc2vec, test_lstm, initial_ensembles, log_sigma_points_1, size_ens)\n",
    "            \n",
    "            initial_targets = column_mod_11 + column_mod_21\n",
    "            \n",
    "            initial_targets = initial_targets.reshape(size_ens, test_lstm.shape[0],1)\n",
    "            \n",
    "            initial_targets_test = initial_targets\n",
    "            \n",
    "            # initial_targets_softmax = expit(initial_targets)    \n",
    "            \n",
    "            initial_targets_test_mean = initial_targets_test.mean(0)\n",
    "            \n",
    "            li = np.percentile(initial_targets_test, axis = 0, q = (2.5, 97.5))[0,:,:]\n",
    "            \n",
    "            ui = np.percentile(initial_targets_test, axis = 0, q = (2.5, 97.5))[1,:,:]\n",
    "            \n",
    "            width = ui - li\n",
    "            \n",
    "            avg_width = np.mean(width)\n",
    "            \n",
    "            catch_test_probs = (X_test_logits)\n",
    "            \n",
    "            ind_test = (catch_test_probs >= li) & (catch_test_probs <= ui)\n",
    "                        \n",
    "            coverage_test = np.mean(ind_test.ravel())    \n",
    "\n",
    "            \n",
    "            test_mae = np.sqrt(mean_squared_error(catch_test_probs, initial_targets_test_mean))\n",
    "\n",
    "            stats_pearson = stats.pearsonr(catch_test_probs.reshape(catch_test_probs.shape[0],),\n",
    "                                           initial_targets_test_mean.reshape(initial_targets_test_mean.shape[0],))\n",
    "\n",
    "            \n",
    "            start_inner_e = datetime.now()\n",
    "            total = (start_inner_e- start_inner)\n",
    "            time_taken = total.seconds/60.0\n",
    "            # print(time_taken)\n",
    "            \n",
    "            train_rmse.append(train_mae)\n",
    "            test_rmse.append(test_mae)\n",
    "            train_cov.append(coverage_train)\n",
    "            test_cov.append(coverage_test)\n",
    "            train_p.append(stats_pearson_train)\n",
    "            test_p.append(stats_pearson)\n",
    "            train_width.append(avg_width_train)\n",
    "            test_width.append(avg_width)\n",
    "            \n",
    "            if  train_mae < best_train_mae: \n",
    "                patience = 0\n",
    "                best_train_mae = train_mae\n",
    "                # best_valid_mae = valid_mae\n",
    "                best_test_mae = test_mae\n",
    "                exit_iter_no_thresh = iter1\n",
    "                best_test_preds = initial_targets_test\n",
    "                patience_smaller = 0\n",
    "                best_train_coverage = coverage_train\n",
    "                # best_valid_coverage = coverage_valid\n",
    "                best_test_coverage = coverage_test\n",
    "                best_train_width = avg_width_train\n",
    "                # best_valid_width = avg_width_valid\n",
    "                best_test_width = avg_width\n",
    "                best_drugs_weight = np.mean(complement)\n",
    "                best_r_test = stats_pearson[0]\n",
    "                best_r_train = stats_pearson_train[0]\n",
    "                # best_r_valid = stats_pearson_valid[0]\n",
    "                best_initial_ensembles = initial_ensembles\n",
    "                best_log_sigma_points_1 = log_sigma_points_1\n",
    "                best_initial_targets_test_mean = initial_targets_test_mean\n",
    "                best_li = li\n",
    "                best_ui = ui\n",
    "            else:\n",
    "                patience += 1\n",
    "                \n",
    "#             print(\"epoch \"+ str(iter1))\n",
    "#             print(\"patience \"+ str(patience))\n",
    "#             print(\"train mae is \" + str(train_mae))\n",
    "#             # print(\"valid mae is \" + str(valid_mae))\n",
    "#             print(\"test mae is \" + str(test_mae))\n",
    "        \n",
    "#             print(\"train coverage is \"+ str(coverage_train))\n",
    "#             # print(\"valid coverage is \"+ str(coverage_valid))\n",
    "#             print(\"test coverage is \"+ str(coverage_test))\n",
    "            \n",
    "#             print(\"train width is \" + str(avg_width_train))\n",
    "#             # print(\"valid width is \" + str(avg_width_valid))  \n",
    "#             print(\"test width is \" + str(avg_width))\n",
    "            \n",
    "#             print(\"drugs weight is \" + str(np.mean(complement)))\n",
    "#             print(\"pearson r train is \" + str(stats_pearson_train[0]))\n",
    "#             # print(\"pearson r valid is \" + str(stats_pearson_valid[0]))\n",
    "#             print(\"pearson r test is \" + str(stats_pearson[0]))\n",
    "            \n",
    "            \n",
    "                \n",
    "            if patience >= threshold: \n",
    "                break\n",
    "                \n",
    "        if patience >= threshold: \n",
    "                break\n",
    "            \n",
    "    \n",
    "    # print(best_valid_mae, best_valid_coverage, best_valid_width,best_r_valid, flush = True)\n",
    "    print(best_test_mae, best_test_coverage, best_test_width,best_r_test, flush = True)\n",
    "    end = datetime.now()\n",
    "    total = (end- start)\n",
    "    time_taken = total.seconds/60.0\n",
    "    return size_ens, best_train_mae, best_test_mae, best_train_coverage, best_test_coverage,  \\\n",
    "    best_train_width , best_test_width,  best_drugs_weight, best_r_train, best_r_test, exit_iter_no_thresh, time_taken, best_initial_ensembles, best_log_sigma_points_1, [X_test_logits.tolist(), best_initial_targets_test_mean.tolist()], \\\n",
    "    [best_li.tolist(), best_ui.tolist()], train_rmse, test_rmse, train_cov, test_cov, train_p, test_p, train_width, test_width \n",
    "        \n",
    "    # print(\"something went awry\", flush = True)"
   ]
  },
  {
   "cell_type": "code",
   "execution_count": 60,
   "id": "fcc98d28-732f-4e8f-af9f-75b32cb768f0",
   "metadata": {},
   "outputs": [],
   "source": [
    "size_drugs = 90\n",
    "size_omics = 30"
   ]
  },
  {
   "cell_type": "code",
   "execution_count": 61,
   "id": "245e9a9d-00bd-49f2-8333-3de5fe04dd12",
   "metadata": {},
   "outputs": [],
   "source": [
    "var_weights =1\n",
    "gamma_param = 500\n",
    "var_targetsw = 6*1e-4\n",
    "reduction = 15\n",
    "shape_needed = total_weights//reduction\n",
    "# size_ens = 196\n",
    "size_ens = int(shape_needed)\n",
    "batch_size = 1024\n",
    "threshold = 15"
   ]
  },
  {
   "cell_type": "code",
   "execution_count": 62,
   "id": "14c50dce-8fef-4bce-b3e2-d673593b2453",
   "metadata": {},
   "outputs": [
    {
     "data": {
      "text/plain": [
       "196"
      ]
     },
     "execution_count": 62,
     "metadata": {},
     "output_type": "execute_result"
    }
   ],
   "source": [
    "size_ens"
   ]
  },
  {
   "cell_type": "code",
   "execution_count": null,
   "id": "a251dcd0-a7c7-4c47-9220-a029dca76552",
   "metadata": {},
   "outputs": [],
   "source": [
    "# var_weights = 1, var_weight_weights = 1, var_D = 1, inflation_factor =1, fudging_beta = beta(1,19), \n",
    "#            fudging_var = 6*1e-4"
   ]
  },
  {
   "cell_type": "code",
   "execution_count": 63,
   "id": "835d8e43-017f-45b4-a42a-f4bb88c052fd",
   "metadata": {},
   "outputs": [
    {
     "name": "stdout",
     "output_type": "stream",
     "text": [
      "Size_Ens is 196\n",
      "epoch 0\n",
      "patience 0\n",
      "train mae is 6.171040419215933\n",
      "test mae is 6.037832131558144\n",
      "train coverage is 1.0\n",
      "test coverage is 1.0\n",
      "train width is 584.8911713821734\n",
      "test width is 583.5340502934504\n",
      "drugs weight is 0.44595927531297813\n",
      "pearson r train is -0.05843801574653778\n",
      "pearson r test is -0.0770659774258837\n",
      "epoch 0\n",
      "patience 1\n",
      "train mae is 25.106196640103985\n",
      "test mae is 24.956310691058516\n",
      "train coverage is 1.0\n",
      "test coverage is 1.0\n",
      "train width is 311.30802643573213\n",
      "test width is 310.67756824589446\n",
      "drugs weight is 0.40871785901356816\n",
      "pearson r train is 0.08825306988754547\n",
      "pearson r test is 0.10445198883349228\n",
      "epoch 0\n",
      "patience 2\n",
      "train mae is 19.361038066675498\n",
      "test mae is 19.343037628573942\n",
      "train coverage is 1.0\n",
      "test coverage is 1.0\n",
      "train width is 99.03076847861935\n",
      "test width is 99.01177305016164\n",
      "drugs weight is 0.35518936282684055\n",
      "pearson r train is -0.057234209194602904\n",
      "pearson r test is -0.08164574223140982\n",
      "epoch 0\n",
      "patience 3\n",
      "train mae is 7.3966438462702095\n",
      "test mae is 7.430623294881992\n",
      "train coverage is 1.0\n",
      "test coverage is 1.0\n",
      "train width is 37.84415925183751\n",
      "test width is 37.722353511386586\n",
      "drugs weight is 0.35903141200628536\n",
      "pearson r train is 0.02051559905984781\n",
      "pearson r test is -0.012322832134246618\n",
      "epoch 1\n",
      "patience 0\n",
      "train mae is 2.3947159204113277\n",
      "test mae is 2.4707608056673154\n",
      "train coverage is 1.0\n",
      "test coverage is 1.0\n",
      "train width is 18.371365480599547\n",
      "test width is 18.356629411531518\n",
      "drugs weight is 0.3397260069392651\n",
      "pearson r train is 0.2922803381679796\n",
      "pearson r test is 0.21662681200105388\n",
      "epoch 1\n",
      "patience 0\n",
      "train mae is 1.9192268490047264\n",
      "test mae is 1.9565603502213482\n",
      "train coverage is 1.0\n",
      "test coverage is 1.0\n",
      "train width is 13.802416311267722\n",
      "test width is 13.785791245319357\n",
      "drugs weight is 0.3305313315793426\n",
      "pearson r train is 0.5472845506021491\n",
      "pearson r test is 0.4963077647742098\n",
      "epoch 1\n",
      "patience 0\n",
      "train mae is 1.801466053985115\n",
      "test mae is 1.93935532481034\n",
      "train coverage is 0.9995\n",
      "test coverage is 0.999\n",
      "train width is 13.626234614345234\n",
      "test width is 13.616111252462458\n",
      "drugs weight is 0.3477143232390474\n",
      "pearson r train is 0.6152376587052852\n",
      "pearson r test is 0.5266441310751293\n",
      "epoch 1\n",
      "patience 0\n",
      "train mae is 1.7501887123812867\n",
      "test mae is 1.7944254554171148\n",
      "train coverage is 0.99975\n",
      "test coverage is 0.999\n",
      "train width is 12.772153383849291\n",
      "test width is 12.77528205395622\n",
      "drugs weight is 0.36553246639715237\n",
      "pearson r train is 0.6194966068486938\n",
      "pearson r test is 0.5616943774312748\n",
      "epoch 2\n",
      "patience 0\n",
      "train mae is 1.565162937665089\n",
      "test mae is 1.715851599310315\n",
      "train coverage is 0.99975\n",
      "test coverage is 0.999\n",
      "train width is 15.11274248557902\n",
      "test width is 15.091577166227573\n",
      "drugs weight is 0.36835949106875754\n",
      "pearson r train is 0.6076605160635671\n",
      "pearson r test is 0.5091606958089198\n",
      "epoch 2\n",
      "patience 1\n",
      "train mae is 1.6088444856314976\n",
      "test mae is 1.6906270838579114\n",
      "train coverage is 1.0\n",
      "test coverage is 0.999\n",
      "train width is 12.797363192832693\n",
      "test width is 12.796920423989192\n",
      "drugs weight is 0.3729287619245669\n",
      "pearson r train is 0.633956867465387\n",
      "pearson r test is 0.5627813346595506\n",
      "epoch 2\n",
      "patience 0\n",
      "train mae is 1.562745021131198\n",
      "test mae is 1.6804758409991467\n",
      "train coverage is 0.99975\n",
      "test coverage is 0.998\n",
      "train width is 12.56782600648941\n",
      "test width is 12.563407270677937\n",
      "drugs weight is 0.3638177199629543\n",
      "pearson r train is 0.59106622323012\n",
      "pearson r test is 0.5051160421081228\n",
      "epoch 2\n",
      "patience 1\n",
      "train mae is 1.6145699696427862\n",
      "test mae is 1.7127570605581695\n",
      "train coverage is 0.99925\n",
      "test coverage is 0.999\n",
      "train width is 14.413153212170041\n",
      "test width is 14.381981057115299\n",
      "drugs weight is 0.3854953099958105\n",
      "pearson r train is 0.602540825218897\n",
      "pearson r test is 0.5389467472972117\n",
      "epoch 3\n",
      "patience 0\n",
      "train mae is 1.466178020878258\n",
      "test mae is 1.591378831865228\n",
      "train coverage is 0.99975\n",
      "test coverage is 0.999\n",
      "train width is 13.737702175886254\n",
      "test width is 13.731605588216183\n",
      "drugs weight is 0.3981479693786152\n",
      "pearson r train is 0.6636644486778366\n",
      "pearson r test is 0.5859922618938491\n",
      "epoch 3\n",
      "patience 1\n",
      "train mae is 1.5896630218487995\n",
      "test mae is 1.7223671111964216\n",
      "train coverage is 0.9995\n",
      "test coverage is 0.999\n",
      "train width is 12.694094981832222\n",
      "test width is 12.659006350351905\n",
      "drugs weight is 0.4012152959021295\n",
      "pearson r train is 0.6178832998856572\n",
      "pearson r test is 0.5230709350406133\n",
      "epoch 3\n",
      "patience 2\n",
      "train mae is 1.8829321712206541\n",
      "test mae is 1.8936518936633167\n",
      "train coverage is 0.9975\n",
      "test coverage is 0.997\n",
      "train width is 12.601715886421683\n",
      "test width is 12.587072329125743\n",
      "drugs weight is 0.3984212755156984\n",
      "pearson r train is 0.3807220350865624\n",
      "pearson r test is 0.3522756864727786\n",
      "epoch 3\n",
      "patience 3\n",
      "train mae is 1.8188166875815122\n",
      "test mae is 1.827611680300547\n",
      "train coverage is 0.9995\n",
      "test coverage is 0.998\n",
      "train width is 16.372692011097985\n",
      "test width is 16.34694041300471\n",
      "drugs weight is 0.41970251858164676\n",
      "pearson r train is 0.4590511095248401\n",
      "pearson r test is 0.44001746581596635\n",
      "epoch 4\n",
      "patience 4\n",
      "train mae is 1.5740445524687845\n",
      "test mae is 1.6830106554001965\n",
      "train coverage is 1.0\n",
      "test coverage is 0.999\n",
      "train width is 14.681418445560316\n",
      "test width is 14.662217139260646\n",
      "drugs weight is 0.4366014200503251\n",
      "pearson r train is 0.6079678102434511\n",
      "pearson r test is 0.5234233750182582\n",
      "epoch 4\n",
      "patience 0\n",
      "train mae is 1.4168460766401154\n",
      "test mae is 1.5591524707578337\n",
      "train coverage is 1.0\n",
      "test coverage is 1.0\n",
      "train width is 17.006468510939282\n",
      "test width is 16.96939348491789\n",
      "drugs weight is 0.4423205525071041\n",
      "pearson r train is 0.6821309179739826\n",
      "pearson r test is 0.5954090667592901\n",
      "epoch 4\n",
      "patience 1\n",
      "train mae is 1.6118320907421915\n",
      "test mae is 1.740661724003581\n",
      "train coverage is 1.0\n",
      "test coverage is 1.0\n",
      "train width is 16.129919194849656\n",
      "test width is 16.113125169868614\n",
      "drugs weight is 0.44508539279314074\n",
      "pearson r train is 0.6126514074433583\n",
      "pearson r test is 0.5321320405159208\n",
      "epoch 4\n",
      "patience 2\n",
      "train mae is 1.5830954077513413\n",
      "test mae is 1.6642949360554917\n",
      "train coverage is 0.99975\n",
      "test coverage is 1.0\n",
      "train width is 17.195816197286295\n",
      "test width is 17.158706058053564\n",
      "drugs weight is 0.45923837280629887\n",
      "pearson r train is 0.597423218123567\n",
      "pearson r test is 0.5273586677573732\n",
      "epoch 5\n",
      "patience 3\n",
      "train mae is 1.6507059270986018\n",
      "test mae is 1.7492609215570505\n",
      "train coverage is 1.0\n",
      "test coverage is 1.0\n",
      "train width is 15.634098240182368\n",
      "test width is 15.621190644108202\n",
      "drugs weight is 0.45436867876946496\n",
      "pearson r train is 0.5610638629565918\n",
      "pearson r test is 0.47618238138199\n",
      "epoch 5\n",
      "patience 4\n",
      "train mae is 2.223744890527885\n",
      "test mae is 2.3273033913231047\n",
      "train coverage is 0.9985\n",
      "test coverage is 1.0\n",
      "train width is 15.21570464071721\n",
      "test width is 15.20671289209283\n",
      "drugs weight is 0.43860286401669557\n",
      "pearson r train is 0.17444538633734316\n",
      "pearson r test is 0.08492081814980282\n",
      "epoch 5\n",
      "patience 5\n",
      "train mae is 2.5287602270720204\n",
      "test mae is 2.480413906726622\n",
      "train coverage is 0.999\n",
      "test coverage is 0.999\n",
      "train width is 18.71576216947054\n",
      "test width is 18.67611575392434\n",
      "drugs weight is 0.45670326916313164\n",
      "pearson r train is 0.16295678475024128\n",
      "pearson r test is 0.1629271119591188\n",
      "epoch 5\n",
      "patience 6\n",
      "train mae is 1.7175547417931811\n",
      "test mae is 1.8326942488897024\n",
      "train coverage is 1.0\n",
      "test coverage is 1.0\n",
      "train width is 17.12943540839929\n",
      "test width is 17.109362157441524\n",
      "drugs weight is 0.43743664191668474\n",
      "pearson r train is 0.524346035331491\n",
      "pearson r test is 0.427940980472367\n",
      "epoch 6\n",
      "patience 7\n",
      "train mae is 1.6330536800575315\n",
      "test mae is 1.673966291756101\n",
      "train coverage is 1.0\n",
      "test coverage is 1.0\n",
      "train width is 18.36098234497628\n",
      "test width is 18.30047272906264\n",
      "drugs weight is 0.4247536690852994\n",
      "pearson r train is 0.5614140239773038\n",
      "pearson r test is 0.5170036572458958\n",
      "epoch 6\n",
      "patience 8\n",
      "train mae is 1.506093051273954\n",
      "test mae is 1.5963346908894398\n",
      "train coverage is 1.0\n",
      "test coverage is 1.0\n",
      "train width is 17.080649138160553\n",
      "test width is 17.065696634986146\n",
      "drugs weight is 0.41318702091938164\n",
      "pearson r train is 0.6352611313836505\n",
      "pearson r test is 0.5689462692822022\n",
      "epoch 6\n",
      "patience 9\n",
      "train mae is 1.7100111492912349\n",
      "test mae is 1.7424816486027088\n",
      "train coverage is 0.99975\n",
      "test coverage is 0.998\n",
      "train width is 15.986400247161727\n",
      "test width is 15.9663963481581\n",
      "drugs weight is 0.4163759759402439\n",
      "pearson r train is 0.5254426663645955\n",
      "pearson r test is 0.48236951949385404\n",
      "epoch 6\n",
      "patience 10\n",
      "train mae is 1.64830386014205\n",
      "test mae is 1.7706398464329856\n",
      "train coverage is 1.0\n",
      "test coverage is 1.0\n",
      "train width is 18.408027305883298\n",
      "test width is 18.38177282190764\n",
      "drugs weight is 0.42933025205821623\n",
      "pearson r train is 0.5442771867229995\n",
      "pearson r test is 0.4395269148360029\n",
      "epoch 7\n",
      "patience 11\n",
      "train mae is 1.5432564917522982\n",
      "test mae is 1.6448074775687587\n",
      "train coverage is 1.0\n",
      "test coverage is 1.0\n",
      "train width is 22.091148839497812\n",
      "test width is 22.07195979695269\n",
      "drugs weight is 0.44517472570185573\n",
      "pearson r train is 0.6111942964050424\n",
      "pearson r test is 0.5300871187077929\n",
      "epoch 7\n",
      "patience 12\n",
      "train mae is 1.523259206151422\n",
      "test mae is 1.6793452942442673\n",
      "train coverage is 1.0\n",
      "test coverage is 1.0\n",
      "train width is 18.332031011815303\n",
      "test width is 18.321247818665185\n",
      "drugs weight is 0.4451126874016884\n",
      "pearson r train is 0.6344566014761115\n",
      "pearson r test is 0.5320982181557835\n",
      "epoch 7\n",
      "patience 13\n",
      "train mae is 1.6414154972248445\n",
      "test mae is 1.7086369848713299\n",
      "train coverage is 1.0\n",
      "test coverage is 1.0\n",
      "train width is 20.518640697667397\n",
      "test width is 20.498578106866713\n",
      "drugs weight is 0.4727068146406525\n",
      "pearson r train is 0.6070153197888919\n",
      "pearson r test is 0.5478595894615832\n",
      "epoch 7\n",
      "patience 14\n",
      "train mae is 1.464512652892768\n",
      "test mae is 1.6097669955240839\n",
      "train coverage is 1.0\n",
      "test coverage is 1.0\n",
      "train width is 20.297080079453853\n",
      "test width is 20.26016956913067\n",
      "drugs weight is 0.4721198241741653\n",
      "pearson r train is 0.6521315602105453\n",
      "pearson r test is 0.5526090780412846\n",
      "epoch 8\n",
      "patience 15\n",
      "train mae is 1.5145106174560123\n",
      "test mae is 1.6069615294145636\n",
      "train coverage is 1.0\n",
      "test coverage is 1.0\n",
      "train width is 24.036460846449344\n",
      "test width is 23.995347704453213\n",
      "drugs weight is 0.48432649556656837\n",
      "pearson r train is 0.6576123161464968\n",
      "pearson r test is 0.5935248804261802\n",
      "1.5591524707578337 1.0 16.96939348491789 0.5954090667592901\n"
     ]
    }
   ],
   "source": [
    "size_ens,best_train_mae, best_test_mae, best_train_coverage, best_test_coverage,  \\\n",
    "    best_train_width , best_test_width,  best_drugs_weight, best_r_train, best_r_test, exit_iter_no_thresh, time_taken, best_initial_ensembles, best_log_sigma_points_1, _, _, train_rmse, test_rmse, train_cov, test_cov, train_p, test_p, train_width, test_width = rep_one_real_world(0, size_ens)"
   ]
  },
  {
   "cell_type": "code",
   "execution_count": null,
   "id": "72568e2d-bb4d-4b75-b133-57a26a359814",
   "metadata": {},
   "outputs": [],
   "source": [
    "# test_actual_preds[0].shape"
   ]
  },
  {
   "cell_type": "code",
   "execution_count": null,
   "id": "03d6db30-5931-4841-beeb-8c7169e0704c",
   "metadata": {},
   "outputs": [],
   "source": [
    "# len(test_actual_preds)"
   ]
  },
  {
   "cell_type": "code",
   "execution_count": null,
   "id": "6f8981ee-053b-44e7-b05b-c3fc788b12db",
   "metadata": {},
   "outputs": [],
   "source": [
    "# test_actual_preds, best_li_ui"
   ]
  },
  {
   "cell_type": "code",
   "execution_count": 65,
   "id": "5e4a1add-dfd1-4092-8ce3-1cdc491fc6a1",
   "metadata": {},
   "outputs": [],
   "source": [
    "from joblib import Parallel, delayed"
   ]
  },
  {
   "cell_type": "code",
   "execution_count": null,
   "id": "f1126d3c-2377-428e-a8b1-6a849b16828f",
   "metadata": {},
   "outputs": [],
   "source": [
    "# test_actual_preds[:5]"
   ]
  },
  {
   "cell_type": "code",
   "execution_count": null,
   "id": "0737ad8b-a1ba-41fe-90cb-d570a7d29a29",
   "metadata": {},
   "outputs": [],
   "source": [
    "# best_li_ui[0]"
   ]
  },
  {
   "cell_type": "code",
   "execution_count": null,
   "id": "f5796dcd-701f-468f-85d1-13ec45f5fcbc",
   "metadata": {},
   "outputs": [],
   "source": []
  },
  {
   "cell_type": "code",
   "execution_count": null,
   "id": "0f8af807-7147-4bb1-a651-e5c64ad9889c",
   "metadata": {},
   "outputs": [
    {
     "name": "stderr",
     "output_type": "stream",
     "text": [
      "[Parallel(n_jobs=5)]: Using backend LokyBackend with 5 concurrent workers.\n"
     ]
    },
    {
     "name": "stdout",
     "output_type": "stream",
     "text": [
      "Size_Ens is 196\n",
      "Size_Ens is 196\n",
      "Size_Ens is 196\n",
      "Size_Ens is 196\n",
      "Size_Ens is 196\n"
     ]
    }
   ],
   "source": [
    "catch = Parallel(n_jobs = 5, backend = \"loky\", verbose = 8)(delayed(rep_one_real_world)(idx, size_ens) for idx in range(0,5))"
   ]
  },
  {
   "cell_type": "code",
   "execution_count": null,
   "id": "d6784f03-c726-4b0e-9d06-63d28b8dcf02",
   "metadata": {},
   "outputs": [],
   "source": [
    "with open(\"Preds_with_PCA_proper_CV_no_valid_all_features_untouched_five_on_5000_cv_old_code\" + \".pkl\", 'wb') as f:\n",
    "    pickle.dump(catch, f)"
   ]
  },
  {
   "cell_type": "code",
   "execution_count": null,
   "id": "d1f7bd56-f7ce-417f-a186-0dba799fa59f",
   "metadata": {},
   "outputs": [],
   "source": [
    "with open(\"Preds_with_PCA_proper_CV_no_valid_all_features_untouched_five_on_5000_cv_old_code\" + \".pkl\", 'rb') as f:\n",
    "    catch = pickle.load(f)"
   ]
  },
  {
   "cell_type": "code",
   "execution_count": null,
   "id": "ed9f0926-cec8-4079-aaa9-cb6d390cd128",
   "metadata": {},
   "outputs": [],
   "source": [
    "col_names = ['size_ens','best_train_mae', 'best_test_mae', 'best_train_coverage', 'best_test_coverage',  \\\n",
    "    'best_train_width' , 'best_test_width',  'best_drugs_weight', 'best_r_train', 'best_r_test']"
   ]
  },
  {
   "cell_type": "code",
   "execution_count": null,
   "id": "cfab788b-6557-4725-8726-9f0fd85770c8",
   "metadata": {},
   "outputs": [],
   "source": [
    "catch_df = pd.DataFrame(catch).iloc[:,:len(col_names)]"
   ]
  },
  {
   "cell_type": "code",
   "execution_count": null,
   "id": "1d9acb09-2976-4da5-92e9-13ae53f189ee",
   "metadata": {},
   "outputs": [],
   "source": [
    "catch_df.columns = col_names"
   ]
  },
  {
   "cell_type": "code",
   "execution_count": null,
   "id": "3618be7e-e24a-4261-a2b5-5c25211266dd",
   "metadata": {},
   "outputs": [],
   "source": [
    "# catch_df.columns = ['best_train_mae', 'best_test_mae', 'best_train_coverage', 'best_test_coverage',  \\\n",
    "#     'best_train_width' , 'best_test_width',  'best_drugs_weight', 'best_r_train', 'best_r_test']"
   ]
  },
  {
   "cell_type": "code",
   "execution_count": null,
   "id": "75057773-997e-485c-913d-cb7e6161ae7f",
   "metadata": {},
   "outputs": [],
   "source": [
    "catch_df.mean()"
   ]
  },
  {
   "cell_type": "code",
   "execution_count": null,
   "id": "1ad9fb9a-71d7-453f-9eca-84e8ee7e11a2",
   "metadata": {},
   "outputs": [],
   "source": [
    "# catch_df.mean()"
   ]
  },
  {
   "cell_type": "code",
   "execution_count": null,
   "id": "90ce27df-65b3-4d71-8230-f5d083e70c22",
   "metadata": {},
   "outputs": [],
   "source": [
    "# pca = PCA(n_components = test_omics.shape[1])\n",
    "# pca.fit(train_drugs)"
   ]
  },
  {
   "cell_type": "code",
   "execution_count": null,
   "id": "571ff7a1-4088-40c7-9fd7-a97e74c96f83",
   "metadata": {},
   "outputs": [],
   "source": [
    "# test_drugs = pca.transform(test_drugs)"
   ]
  },
  {
   "cell_type": "code",
   "execution_count": null,
   "id": "494d5ae5-5e7a-4e2b-b470-4b71b369345a",
   "metadata": {},
   "outputs": [],
   "source": [
    "# test_drugs.shape"
   ]
  },
  {
   "cell_type": "code",
   "execution_count": null,
   "id": "ad1480a7-ea4d-4046-aee7-2eb00c324076",
   "metadata": {},
   "outputs": [],
   "source": [
    "# preds_test_catch = []\n",
    "# test_catch = []\n",
    "# li_catch = []\n",
    "# ui_catch = []\n",
    "# for i in range(0,6):\n",
    "#     preds = catch[i][-2][1]\n",
    "#     actual = catch[i][-2][0]\n",
    "#     preds_test_catch.append(preds)\n",
    "#     test_catch.append(actual)\n",
    "# #     best_log_sigma_points_1 = catch[i][-3]\n",
    "# #     current_aug_state1, column_mod_11, column_mod_21, log_sigma_points_1 = get_targets_with_weights(test_omics, test_drugs, params, best_log_sigma_points_1)\n",
    "            \n",
    "# #     initial_targets_test = column_mod_11 + column_mod_21\n",
    "            \n",
    "# #     initial_targets_test = initial_targets_test.reshape(size_ens, test_omics.shape[0],1)\n",
    "            \n",
    "# #     initial_targets_test_mean = initial_targets_test.mean(0)\n",
    "    \n",
    "#     # preds_test_catch.append(preds)\n",
    "    \n",
    "#     li = catch[i][-1][0]\n",
    "#     li_catch.append(li)\n",
    "            \n",
    "#     ui = catch[i][-1][1]\n",
    "#     ui_catch.append(ui)\n",
    "            \n",
    "# #     width = ui - li\n",
    "            \n",
    "# #     avg_width = np.mean(width)"
   ]
  },
  {
   "cell_type": "code",
   "execution_count": null,
   "id": "80d409df-f7ea-457c-8328-c4a8dd2a1384",
   "metadata": {},
   "outputs": [],
   "source": [
    "# preds_test_catch = [inner for item in preds_test_catch for inner in item]"
   ]
  },
  {
   "cell_type": "code",
   "execution_count": null,
   "id": "d87e80d2-b7c8-422f-ae01-8a8090e1703c",
   "metadata": {},
   "outputs": [],
   "source": [
    "# test_catch = [inner for item in test_catch for inner in item]"
   ]
  },
  {
   "cell_type": "code",
   "execution_count": null,
   "id": "fb71411d-6e3b-44d3-94bb-7d8dc7cba206",
   "metadata": {},
   "outputs": [],
   "source": [
    "# li_catch =  [inner for item in li_catch for inner in item]"
   ]
  },
  {
   "cell_type": "code",
   "execution_count": null,
   "id": "a8dbeab3-5fd7-4b5e-b31b-b8cad9facdf1",
   "metadata": {},
   "outputs": [],
   "source": [
    "# ui_catch =  [inner for item in ui_catch for inner in item]"
   ]
  },
  {
   "cell_type": "code",
   "execution_count": null,
   "id": "37e9c72d-01e9-4e3c-a4cb-c4c398f9c399",
   "metadata": {},
   "outputs": [],
   "source": [
    "# avg_width"
   ]
  },
  {
   "cell_type": "code",
   "execution_count": null,
   "id": "8f961636-d73f-4641-8ac9-8bfdaef5fae1",
   "metadata": {},
   "outputs": [],
   "source": [
    "# y_test_preds = np.array(preds_test_catch).mean(0)"
   ]
  },
  {
   "cell_type": "code",
   "execution_count": null,
   "id": "5fd644b6-40c2-4a51-926e-6b8fca198cb0",
   "metadata": {},
   "outputs": [],
   "source": [
    "# y_test_preds.shape"
   ]
  },
  {
   "cell_type": "code",
   "execution_count": null,
   "id": "f421979d-9a9f-4b36-b1a0-b818dc5f9193",
   "metadata": {},
   "outputs": [],
   "source": [
    "# ui"
   ]
  },
  {
   "cell_type": "code",
   "execution_count": null,
   "id": "b06e776f-a5a7-4bce-81c2-31e171c3cd2b",
   "metadata": {},
   "outputs": [],
   "source": [
    "# current_aug_state1, column_mod_11, column_mod_21, log_sigma_points_1 = get_targets_with_weights(test_omics, test_drugs, best_initial_ensembles, best_log_sigma_points_1)\n",
    "            \n",
    "# initial_targets = column_mod_11 + column_mod_21\n",
    "            \n",
    "# initial_targets = initial_targets.reshape(size_ens, test_omics.shape[0],1)\n",
    "            \n",
    "# initial_targets_test = initial_targets"
   ]
  },
  {
   "cell_type": "code",
   "execution_count": null,
   "id": "cea92bf9-1992-4f0e-8b1f-62a0ed8ed4d2",
   "metadata": {},
   "outputs": [],
   "source": [
    "# # initial_targets_softmax = expit(initial_targets)    \n",
    "            \n",
    "# initial_targets_test_mean = initial_targets_test.mean(0)\n",
    "            \n",
    "# li = np.percentile(initial_targets_test, axis = 0, q = (2.5, 97.5))[0,:,:]\n",
    "            \n",
    "# ui = np.percentile(initial_targets_test, axis = 0, q = (2.5, 97.5))[1,:,:]\n",
    "            \n",
    "# width = ui - li\n",
    "            \n",
    "# avg_width = np.mean(width)\n",
    "            \n",
    "# catch_test_probs = (y_test)\n",
    "            \n",
    "# ind_test = (catch_test_probs >= li) & (catch_test_probs <= ui)\n",
    "                        \n",
    "# coverage_test = np.mean(ind_test.ravel())    \n",
    "\n",
    "            \n",
    "# test_mae = np.sqrt(mean_squared_error(catch_test_probs, initial_targets_test_mean))\n",
    "\n",
    "# stats_pearson = stats.pearsonr(catch_test_probs.reshape(catch_test_probs.shape[0],),\n",
    "#                                            initial_targets_test_mean.reshape(initial_targets_test_mean.shape[0]))"
   ]
  },
  {
   "cell_type": "code",
   "execution_count": null,
   "id": "7e03b7d8-504b-4fd2-bc7b-b8bac7a2bb00",
   "metadata": {},
   "outputs": [],
   "source": [
    "# stats_pearson"
   ]
  },
  {
   "cell_type": "code",
   "execution_count": null,
   "id": "3c950c80-c06d-42f5-938a-699658ddee4d",
   "metadata": {},
   "outputs": [],
   "source": [
    "# string = \"Real_World_EnKF_DeepCDR_\" + \"Neurons_\" + str(h1)  + \"_Gamma_\" +  str(gamma_param) +  \"_var_weights_\" + str(var_weights) + \"_num_ens_\" + str(size_ens)"
   ]
  },
  {
   "cell_type": "code",
   "execution_count": null,
   "id": "c54e559f-315e-4d51-a113-effe6695dc01",
   "metadata": {},
   "outputs": [],
   "source": [
    "# string = \"First_Three_Real_World_EnKF_DeepCDR_\" + \"Neurons_\" + str(h1)  + \"_Gamma_\" +  str(gamma_param) +  \"_var_weights_\" + str(var_weights) + \"_num_ens_\" + str(size_ens)"
   ]
  },
  {
   "cell_type": "code",
   "execution_count": null,
   "id": "4213b5a0-b128-4d90-8eaf-ef7058c2e38b",
   "metadata": {},
   "outputs": [],
   "source": [
    "# string"
   ]
  },
  {
   "cell_type": "code",
   "execution_count": null,
   "id": "01d8448d",
   "metadata": {},
   "outputs": [],
   "source": [
    "# catch_coverages = [best_train_mae, best_valid_mae, best_test_mae, best_train_coverage, best_test_coverage, best_valid_coverage, best_test_coverage, \\\n",
    "#     best_train_width, best_valid_width , best_test_width, best_drugs_weight, best_r_train, best_r_valid, best_r, exit_iter_no_thresh, time_taken, best_initial_ensembles, best_log_sigma_points_1]"
   ]
  },
  {
   "cell_type": "code",
   "execution_count": null,
   "id": "cb1027fa-cc7a-4adf-8a6a-db23a1d6323d",
   "metadata": {},
   "outputs": [],
   "source": [
    "# best_train_mae, best_valid_mae, best_test_mae, best_train_coverage, best_test_coverage, best_valid_coverage, best_test_coverage, \\\n",
    "#     best_train_width, best_valid_width , best_test_width, (1-best_drugs_weight), best_r_train, best_r_valid, best_r, exit_iter_no_thresh, time_taken, best_initial_ensembles, best_log_sigma_points_1"
   ]
  },
  {
   "cell_type": "code",
   "execution_count": null,
   "id": "3e0f11d9-de11-4880-be84-4340352ce23c",
   "metadata": {},
   "outputs": [],
   "source": [
    "# with open(\"Preds_Mutation_Methylation\" + \".pkl\", 'wb') as f:\n",
    "#     pickle.dump(catch_coverages, f)"
   ]
  },
  {
   "cell_type": "code",
   "execution_count": null,
   "id": "f80681cc-ed49-44c9-9373-52944bc8d658",
   "metadata": {},
   "outputs": [],
   "source": [
    "# fig  = plt.figure()\n",
    "# plt.scatter(y_test, initial_targets_test_mean, alpha = 0.5)\n",
    "# plt.axline((0,0), slope = 1, c = \"black\", linewidth = 3)\n",
    "# plt.xlabel(\"Observed Log IC50\", fontweight = \"bold\", fontsize = 15)\n",
    "# plt.ylabel(\"MEnKF-ANN Predicted Log IC50\", fontweight = \"bold\", fontsize = 15)\n",
    "# plt.xticks(fontsize = 15, fontweight = \"bold\")\n",
    "# plt.yticks(fontsize = 15, fontweight = \"bold\")\n",
    "# fig.savefig('Plots/Avg_Smile_Weight_Tajectory.pdf', bbox_inches='tight', format = \"pdf\")\n",
    "# fig.savefig('Plots/Avg_Smile_Weight_Tajectory.png', bbox_inches='tight')\n",
    "# plt.show()"
   ]
  },
  {
   "cell_type": "code",
   "execution_count": null,
   "id": "1e8200e5-b784-49c8-9ae9-fd7ee5a2e71d",
   "metadata": {},
   "outputs": [],
   "source": [
    "# catch_coverages"
   ]
  },
  {
   "cell_type": "code",
   "execution_count": null,
   "id": "d0f27b29",
   "metadata": {},
   "outputs": [],
   "source": [
    "# catch_coverages"
   ]
  },
  {
   "cell_type": "code",
   "execution_count": null,
   "id": "647980a7-9ae3-4c5c-b25c-2e37b6a84679",
   "metadata": {},
   "outputs": [],
   "source": [
    "# check = pd.DataFrame(catch_coverages[:10])"
   ]
  },
  {
   "cell_type": "code",
   "execution_count": null,
   "id": "e061792a-e589-486e-b8d2-336622f6bf34",
   "metadata": {},
   "outputs": [],
   "source": [
    "# check"
   ]
  },
  {
   "cell_type": "code",
   "execution_count": null,
   "id": "fa101efc-351b-4645-87a3-f008abf1ff3d",
   "metadata": {},
   "outputs": [],
   "source": [
    "# check"
   ]
  },
  {
   "cell_type": "code",
   "execution_count": null,
   "id": "77536655-0afd-4976-980a-fa7a28b55201",
   "metadata": {},
   "outputs": [],
   "source": [
    "# check.columns = [\"train_mae\", \"test_mae\", \"avg_ci_width_train\", \"avg_ci_width_test\", \"avg_lstm_weight\", \"exit_iter\", \"exit_status\"]"
   ]
  },
  {
   "cell_type": "code",
   "execution_count": null,
   "id": "cd8cefbd-9076-469e-a5dc-dc4637846308",
   "metadata": {},
   "outputs": [],
   "source": [
    "# check = check.T\n"
   ]
  },
  {
   "cell_type": "code",
   "execution_count": null,
   "id": "8596dfc5",
   "metadata": {},
   "outputs": [],
   "source": [
    "# check"
   ]
  },
  {
   "cell_type": "code",
   "execution_count": null,
   "id": "4fc1dcac-24b2-45e7-ae4c-e55eca90a6c6",
   "metadata": {},
   "outputs": [],
   "source": [
    "# check.columns = [\"train_mae\", \"test_mae\", \"train_coverage\", \"train_width\", \"test_coverage\", \"test_width\", \"exit_iter\", \"time_taken\", \"avg_width_alginate\"]"
   ]
  },
  {
   "cell_type": "code",
   "execution_count": null,
   "id": "dc699633-60c4-4774-93ef-e90160803672",
   "metadata": {},
   "outputs": [],
   "source": [
    "# check.columns = [\"train_mae\", \"test_mae\", \"train_coverage\", \"train_width\", \"test_coverage\", \"test_width\", \"drug_weight\" , \"pearson_correlation\" ,\"exit_iter\", \"time_taken\"]"
   ]
  },
  {
   "cell_type": "code",
   "execution_count": null,
   "id": "4089a2ab-43f9-4e24-a7ed-add7bdc14156",
   "metadata": {},
   "outputs": [],
   "source": [
    "# true_preds = [inner for item in true_preds for inner in item]"
   ]
  },
  {
   "cell_type": "code",
   "execution_count": null,
   "id": "65492b8d-d7e4-4375-8577-d79a633680b7",
   "metadata": {},
   "outputs": [],
   "source": [
    "# enkf_preds = [inner for item in enkf_preds for inner in item]"
   ]
  },
  {
   "cell_type": "code",
   "execution_count": null,
   "id": "19776731-14c7-43c3-bd48-163aa67e2c76",
   "metadata": {},
   "outputs": [],
   "source": [
    "# np.mean(np.abs(np.array(true_preds)-np.array(enkf_preds)))"
   ]
  },
  {
   "cell_type": "code",
   "execution_count": null,
   "id": "1ebada74-6fe8-4f58-a939-87ca7399aef8",
   "metadata": {},
   "outputs": [],
   "source": [
    "# plt.scatter(enkf_preds,true_preds, alpha=0.5)\n",
    "# plt.xlabel(\"EnKF Predictions\", fontsize = 15, fontweight = \"bold\")\n",
    "# plt.ylabel(\"LSTM Predictions\", fontsize = 15, fontweight = \"bold\")\n",
    "# plt.xticks( fontsize = 10, fontweight = \"bold\")\n",
    "# plt.yticks( fontsize = 10, fontweight = \"bold\")\n",
    "# plt.axline((0, 0), slope=1)\n",
    "# plt.show()"
   ]
  },
  {
   "cell_type": "code",
   "execution_count": null,
   "id": "dd706672-8fd1-4f54-88a2-d377f1b2d7d3",
   "metadata": {},
   "outputs": [],
   "source": [
    "# cur_idx = 0"
   ]
  },
  {
   "cell_type": "code",
   "execution_count": null,
   "id": "ead27b05-299e-49dc-bb97-236a18cd05e5",
   "metadata": {},
   "outputs": [],
   "source": [
    "# catch_preds = []\n",
    "# for i in range(0, catch_coverages[cur_idx][-1].shape[1]):\n",
    "#     enkf_preds = catch_coverages[cur_idx][-1][:,i,:]\n",
    "#     enkf_preds_df = pd.DataFrame(enkf_preds)\n",
    "#     enkf_preds_df[\"Test_Sample_ID\"] = i \n",
    "#     enkf_preds_df.columns = [\"EnKF_Preds\", \"Test_Sample_ID\"]\n",
    "#     catch_preds.append(enkf_preds_df)"
   ]
  },
  {
   "cell_type": "code",
   "execution_count": null,
   "id": "76f88a3c-8152-4b54-8eea-761701d7b7cc",
   "metadata": {},
   "outputs": [],
   "source": [
    "# catch_preds_df = pd.concat(catch_preds)"
   ]
  },
  {
   "cell_type": "code",
   "execution_count": null,
   "id": "6614c144-29c3-451d-a6c6-a624aa4096a1",
   "metadata": {},
   "outputs": [],
   "source": [
    "# import seaborn as sns"
   ]
  },
  {
   "cell_type": "code",
   "execution_count": null,
   "id": "45f52dcf-cc5b-4af0-b495-9c0601729154",
   "metadata": {},
   "outputs": [],
   "source": [
    "# filtered_df = expit(catch1[cur_idx][2])"
   ]
  },
  {
   "cell_type": "code",
   "execution_count": null,
   "id": "51405252-c830-4c95-90d8-e42cffcae59b",
   "metadata": {},
   "outputs": [],
   "source": [
    "# # plt.figure(figsize = (10,10))\n",
    "# fig = sns.boxplot(catch_preds_df, x=\"Test_Sample_ID\", y=\"EnKF_Preds\", showfliers=False)\n",
    "# plt.scatter(range(0, filtered_df.shape[0]), filtered_df, c = \"black\", s = 50)\n",
    "# plt.xlabel(\"Test Sample ID\", fontsize = 15, fontweight = \"bold\")\n",
    "# plt.ylabel(\"EnKF Predictions\", fontsize = 15, fontweight = \"bold\")\n",
    "# plt.xticks(fontsize = 10, fontweight = \"bold\")\n",
    "# plt.yticks(fontsize = 10, fontweight = \"bold\")\n",
    "# plt.show()"
   ]
  },
  {
   "cell_type": "code",
   "execution_count": null,
   "id": "ab4ef63f-a716-4006-8923-39df160647d8",
   "metadata": {},
   "outputs": [],
   "source": [
    "# ids = [i for i in range(0, filtered_df.shape[0]) if filtered_df[i] < 0.5]\n",
    "# ids_more = [i for i in range(0, filtered_df.shape[0]) if filtered_df[i] > 0.5]"
   ]
  },
  {
   "cell_type": "code",
   "execution_count": null,
   "id": "0976b8bc-6faa-4c8e-a9d1-3b666d9435e0",
   "metadata": {},
   "outputs": [],
   "source": [
    "# catch_preds_df.groupby(\"Test_Sample_ID\").quantile(q = [0.025, 0.975])"
   ]
  },
  {
   "cell_type": "code",
   "execution_count": null,
   "id": "64886e1a-d858-4ea8-9cc4-51ab0b072286",
   "metadata": {},
   "outputs": [],
   "source": [
    "# catch_preds_df_filtered = catch_preds_df[catch_preds_df[\"Test_Sample_ID\"].isin(ids_more)]"
   ]
  },
  {
   "cell_type": "code",
   "execution_count": null,
   "id": "6ecec8de-d825-4191-9f35-705382466d97",
   "metadata": {},
   "outputs": [],
   "source": [
    "# filtered_true = filtered_df[ids_more,:]"
   ]
  },
  {
   "cell_type": "code",
   "execution_count": null,
   "id": "860a9f6b-a286-4855-8530-2c2d71d08737",
   "metadata": {},
   "outputs": [],
   "source": [
    "# # plt.figure(figsize = (10,10))\n",
    "# fig = sns.boxplot(catch_preds_df_filtered, x=\"Test_Sample_ID\", y=\"EnKF_Preds\", showfliers=False)\n",
    "# plt.scatter(range(0, filtered_true.shape[0]), filtered_true, c = \"black\", s = 50)\n",
    "# plt.xlabel(\"Test Sample ID\", fontsize = 15, fontweight = \"bold\")\n",
    "# plt.ylabel(\"EnKF Predictions\", fontsize = 15, fontweight = \"bold\")\n",
    "# plt.xticks(fontsize = 10, fontweight = \"bold\")\n",
    "# plt.yticks(fontsize = 10, fontweight = \"bold\")\n",
    "# plt.show()"
   ]
  },
  {
   "cell_type": "code",
   "execution_count": null,
   "id": "ec177a9b-74aa-4458-a88e-a8b1ab1deff6",
   "metadata": {},
   "outputs": [],
   "source": [
    "# catch_preds_df_filtered = catch_preds_df[catch_preds_df[\"Test_Sample_ID\"].isin(ids)]\n",
    "# filtered_true = filtered_df[ids,:]\n",
    "# # plt.figure(figsize = (10,10))\n",
    "# fig = sns.boxplot(catch_preds_df_filtered, x=\"Test_Sample_ID\", y=\"EnKF_Preds\", showfliers=False)\n",
    "# plt.scatter(range(0, filtered_true.shape[0]), filtered_true, c = \"black\")\n",
    "# plt.xlabel(\"Test Sample ID\", fontsize = 15, fontweight = \"bold\")\n",
    "# plt.ylabel(\"EnKF Predictions\", fontsize = 15, fontweight = \"bold\")\n",
    "# plt.xticks(fontsize = 10, fontweight = \"bold\")\n",
    "# plt.yticks(fontsize = 10, fontweight = \"bold\")\n",
    "# plt.show()\n",
    "# # plt.ylim((0.9,1.0))"
   ]
  }
 ],
 "metadata": {
  "kernelspec": {
   "display_name": "enkf",
   "language": "python",
   "name": "enkf"
  },
  "language_info": {
   "codemirror_mode": {
    "name": "ipython",
    "version": 3
   },
   "file_extension": ".py",
   "mimetype": "text/x-python",
   "name": "python",
   "nbconvert_exporter": "python",
   "pygments_lexer": "ipython3",
   "version": "3.11.3"
  }
 },
 "nbformat": 4,
 "nbformat_minor": 5
}
