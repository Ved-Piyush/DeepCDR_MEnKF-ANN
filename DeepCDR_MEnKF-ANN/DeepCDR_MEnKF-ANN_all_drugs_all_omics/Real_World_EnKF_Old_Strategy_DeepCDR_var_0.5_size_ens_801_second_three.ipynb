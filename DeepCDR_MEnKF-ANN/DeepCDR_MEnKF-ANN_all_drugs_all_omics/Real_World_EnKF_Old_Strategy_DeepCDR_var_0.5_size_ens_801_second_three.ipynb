{
 "cells": [
  {
   "cell_type": "code",
   "execution_count": 1,
   "id": "d7ab5bf3",
   "metadata": {},
   "outputs": [],
   "source": [
    "import pandas as pd\n",
    "from tqdm import tqdm\n",
    "import gensim\n",
    "import os\n",
    "os.environ['TF_CPP_MIN_LOG_LEVEL'] = '3' \n",
    "# os.chdir(r\"D://Proposal_Defense//Simulations\")\n",
    "# from Utils.Script_utils import get_data_splits, first_LSTM_training, get_data_splits_old_algo\n",
    "from joblib import Parallel, delayed\n",
    "import sys\n",
    "from scipy.stats import norm"
   ]
  },
  {
   "cell_type": "code",
   "execution_count": 2,
   "id": "36084258",
   "metadata": {},
   "outputs": [
    {
     "name": "stdout",
     "output_type": "stream",
     "text": [
      "No GPU found\n"
     ]
    }
   ],
   "source": [
    "# Seed value\n",
    "# Apparently you may use different seed values at each stage\n",
    "seed_value= 42\n",
    "\n",
    "# 1. Set the `PYTHONHASHSEED` environment variable at a fixed value\n",
    "import os\n",
    "os.environ['PYTHONHASHSEED']=str(seed_value)\n",
    "\n",
    "# 2. Set the `python` built-in pseudo-random generator at a fixed value\n",
    "import random\n",
    "random.seed(seed_value)\n",
    "\n",
    "# 3. Set the `numpy` pseudo-random generator at a fixed value\n",
    "import numpy as np\n",
    "np.random.seed(seed_value)\n",
    "\n",
    "# # 4. Set the `tensorflow` pseudo-random generator at a fixed value\n",
    "import tensorflow as tf\n",
    "os.environ['CUDA_VISIBLE_DEVICES'] = '-1'\n",
    "\n",
    "if tf.test.gpu_device_name():\n",
    "    print('GPU found')\n",
    "else:\n",
    "    print(\"No GPU found\")\n",
    "# tf.config.set_visible_devices([], 'GPU')\n",
    "\n",
    "from tqdm.notebook import tqdm\n",
    "tf.random.set_seed(seed_value)\n",
    "import multiprocessing\n",
    "# for later versions: \n",
    "# tf.compat.v1.set_random_seed(seed_value)\n",
    "\n",
    "# 5. Configure a new global `tensorflow` session\n",
    "# from keras import backend as K\n",
    "# session_conf = tf.compat.v1.ConfigProto(intra_op_parallelism_threads=1, inter_op_parallelism_threads=1)\n",
    "# sess = tf.compat.v1.Session(graph=tf.compat.v1.get_default_graph(), config=session_conf)\n",
    "# K.set_session(sess)"
   ]
  },
  {
   "cell_type": "code",
   "execution_count": 3,
   "id": "e036b858",
   "metadata": {},
   "outputs": [],
   "source": [
    "import matplotlib.pyplot as plt\n",
    "\n",
    "import pickle"
   ]
  },
  {
   "cell_type": "code",
   "execution_count": 4,
   "id": "7aba28b2-8ac3-4f34-90cd-f89214f63110",
   "metadata": {},
   "outputs": [],
   "source": [
    "# data[\"high_level_substr\"].value_counts()"
   ]
  },
  {
   "cell_type": "code",
   "execution_count": 5,
   "id": "a0db48ca-0165-40d8-9bdc-2dcc0bd77efe",
   "metadata": {},
   "outputs": [],
   "source": [
    "# alginate_doc2vec_vecs"
   ]
  },
  {
   "cell_type": "code",
   "execution_count": 6,
   "id": "d02c4f20-faf2-4e10-86f6-9ca8a295b770",
   "metadata": {},
   "outputs": [],
   "source": [
    "# data[\"high_level_substr\"].value_counts()"
   ]
  },
  {
   "cell_type": "code",
   "execution_count": 7,
   "id": "a1221543-b1fd-4225-91c9-1f372ac315e3",
   "metadata": {},
   "outputs": [],
   "source": [
    "path = os.getcwd() + \"//dataset_1\""
   ]
  },
  {
   "cell_type": "code",
   "execution_count": 8,
   "id": "6dd7d977-20bc-4012-a710-291b706cf0a2",
   "metadata": {},
   "outputs": [],
   "source": [
    "# ## read in all the drug features\n",
    "# ## for train test and valid\n",
    "train_drugs = np.load(path + \"//\" + \"train_drug.npy\")\n",
    "# valid_drugs = np.load(path + \"//\" + \"valid_drug.npy\")\n",
    "# test_drugs = np.load(path + \"//\" + \"test_drug.npy\")"
   ]
  },
  {
   "cell_type": "code",
   "execution_count": 9,
   "id": "62c9e28e-57e1-4989-9377-779597ab9187",
   "metadata": {},
   "outputs": [],
   "source": [
    "# ## read in all the omics features\n",
    "# ## for train test and valid\n",
    "train_omics = np.load(path + \"//\" + \"train_omics.npy\")\n",
    "# valid_omics = np.load(path + \"//\" + \"valid_omics.npy\")\n",
    "# test_omics = np.load(path + \"//\" + \"test_omics.npy\")"
   ]
  },
  {
   "cell_type": "code",
   "execution_count": 10,
   "id": "650a3031-0121-4457-8d37-ed9cc74ab1d4",
   "metadata": {},
   "outputs": [],
   "source": [
    "# ## read in all the labels \n",
    "# ## for train test and valid\n",
    "# y_train = np.load(path + \"//\" + \"train_y.npy\")\n",
    "# y_valid = np.load(path + \"//\" + \"valid_y.npy\")\n",
    "# y_test = np.load(path + \"//\" + \"test_y.npy\")"
   ]
  },
  {
   "cell_type": "code",
   "execution_count": 11,
   "id": "16b2eaeb-68be-4fd1-83c6-e87eee1090b7",
   "metadata": {},
   "outputs": [],
   "source": [
    "# train_drugs.shape"
   ]
  },
  {
   "cell_type": "code",
   "execution_count": 12,
   "id": "959e7a79-da91-43f9-9fbe-f4c3a3f4c859",
   "metadata": {},
   "outputs": [],
   "source": [
    "# valid_drugs.shape"
   ]
  },
  {
   "cell_type": "code",
   "execution_count": 13,
   "id": "05b71c4c-55c5-44d2-8248-aca4318bfd8a",
   "metadata": {},
   "outputs": [],
   "source": [
    "# test_drugs.shape"
   ]
  },
  {
   "cell_type": "code",
   "execution_count": 14,
   "id": "4da7a93c-628e-48cb-9d2b-215a4803423d",
   "metadata": {},
   "outputs": [],
   "source": [
    "# y_train.shape"
   ]
  },
  {
   "cell_type": "code",
   "execution_count": 15,
   "id": "9fc3d495-3915-4a91-808b-a33d74336cb3",
   "metadata": {},
   "outputs": [],
   "source": [
    "# y_valid.shape"
   ]
  },
  {
   "cell_type": "code",
   "execution_count": 16,
   "id": "d8454584-dc3b-47b8-8fec-edd993cca409",
   "metadata": {},
   "outputs": [],
   "source": [
    "# y_test.shape"
   ]
  },
  {
   "cell_type": "code",
   "execution_count": 17,
   "id": "76624ecc-8bb7-4e52-b95d-1a01cecacb5b",
   "metadata": {},
   "outputs": [],
   "source": [
    "def ann(hidden = 10): \n",
    "    input_layer = tf.keras.layers.Input(shape = (X_train_word2vec.shape[1]))\n",
    "    hidden_layer = tf.keras.layers.Dense(hidden)\n",
    "    hidden_output = hidden_layer(input_layer)\n",
    "    pred_layer = tf.keras.layers.Dense(1)\n",
    "    pred_output = pred_layer(hidden_output)\n",
    "#     pred_output = tf.keras.layers.Activation(\"softmax\")(pred_output)\n",
    "    model = tf.keras.models.Model(input_layer, pred_output)\n",
    "    return model"
   ]
  },
  {
   "cell_type": "code",
   "execution_count": 18,
   "id": "b8153ea5-cefc-4075-994d-c51461505e8b",
   "metadata": {},
   "outputs": [],
   "source": [
    "X_train_word2vec = train_drugs"
   ]
  },
  {
   "cell_type": "code",
   "execution_count": 19,
   "id": "95a7d5f5-e03c-4de4-8bea-d4821cc7209d",
   "metadata": {},
   "outputs": [],
   "source": [
    "h1, h2 = 16,16"
   ]
  },
  {
   "cell_type": "code",
   "execution_count": 20,
   "id": "b2ff179a-2c64-4bae-bfd5-3ce7f4b40fb5",
   "metadata": {},
   "outputs": [],
   "source": [
    "\n",
    "\n",
    "ann_15 = ann(h1)\n",
    "\n",
    "\n",
    "# In[35]:\n",
    "\n",
    "\n",
    "# ann_15.summary()\n",
    "\n",
    "\n",
    "# In[36]:\n",
    "\n"
   ]
  },
  {
   "cell_type": "code",
   "execution_count": 21,
   "id": "0bf5144e-59f2-413e-af30-39407819094c",
   "metadata": {},
   "outputs": [
    {
     "name": "stdout",
     "output_type": "stream",
     "text": [
      "Model: \"model\"\n",
      "_________________________________________________________________\n",
      " Layer (type)                Output Shape              Param #   \n",
      "=================================================================\n",
      " input_1 (InputLayer)        [(None, 90)]              0         \n",
      "                                                                 \n",
      " dense (Dense)               (None, 16)                1456      \n",
      "                                                                 \n",
      " dense_1 (Dense)             (None, 1)                 17        \n",
      "                                                                 \n",
      "=================================================================\n",
      "Total params: 1,473\n",
      "Trainable params: 1,473\n",
      "Non-trainable params: 0\n",
      "_________________________________________________________________\n"
     ]
    }
   ],
   "source": [
    "ann_15.summary()"
   ]
  },
  {
   "cell_type": "code",
   "execution_count": 22,
   "id": "a9c45b5a-9f13-4fd9-b90c-ed94e069b9cc",
   "metadata": {},
   "outputs": [],
   "source": [
    "X_train_word2vec = train_omics"
   ]
  },
  {
   "cell_type": "code",
   "execution_count": 23,
   "id": "bce5668e-a895-47b4-8f1c-6e5d1fd3c92b",
   "metadata": {},
   "outputs": [],
   "source": [
    "ann_20 = ann(h2)\n",
    "\n",
    "\n",
    "\n",
    "# ann_20.summary()\n",
    "\n"
   ]
  },
  {
   "cell_type": "code",
   "execution_count": 24,
   "id": "6a41f8b5",
   "metadata": {},
   "outputs": [],
   "source": [
    "total_weights_1 = ann_15.count_params()"
   ]
  },
  {
   "cell_type": "code",
   "execution_count": 25,
   "id": "0721ea37",
   "metadata": {},
   "outputs": [],
   "source": [
    "total_weights_2 = ann_20.count_params()"
   ]
  },
  {
   "cell_type": "code",
   "execution_count": 26,
   "id": "4b2ed894",
   "metadata": {},
   "outputs": [],
   "source": [
    "total_weights = total_weights_1 + total_weights_2 + 1 "
   ]
  },
  {
   "cell_type": "code",
   "execution_count": 27,
   "id": "999f5e96",
   "metadata": {},
   "outputs": [
    {
     "data": {
      "text/plain": [
       "2947"
      ]
     },
     "execution_count": 27,
     "metadata": {},
     "output_type": "execute_result"
    }
   ],
   "source": [
    "total_weights"
   ]
  },
  {
   "cell_type": "code",
   "execution_count": 28,
   "id": "feb2ef89",
   "metadata": {},
   "outputs": [],
   "source": [
    "## batch size\n",
    "batch_size = 128"
   ]
  },
  {
   "cell_type": "code",
   "execution_count": 29,
   "id": "4eea8c8e",
   "metadata": {},
   "outputs": [],
   "source": [
    "# var_weights = 0.08\n",
    "# var_targets = 0.08"
   ]
  },
  {
   "cell_type": "code",
   "execution_count": 30,
   "id": "9b49ba9c",
   "metadata": {},
   "outputs": [],
   "source": [
    "from scipy.stats import multivariate_normal as mvn"
   ]
  },
  {
   "cell_type": "code",
   "execution_count": 31,
   "id": "7a60a350",
   "metadata": {},
   "outputs": [],
   "source": [
    "from scipy.stats import invgamma, norm"
   ]
  },
  {
   "cell_type": "code",
   "execution_count": 32,
   "id": "bd888262",
   "metadata": {},
   "outputs": [],
   "source": [
    "from tqdm.notebook import tqdm"
   ]
  },
  {
   "cell_type": "code",
   "execution_count": 33,
   "id": "c3355c48",
   "metadata": {},
   "outputs": [],
   "source": [
    "threshold = 5"
   ]
  },
  {
   "cell_type": "code",
   "execution_count": 34,
   "id": "b1ce82b7",
   "metadata": {},
   "outputs": [],
   "source": [
    "import random"
   ]
  },
  {
   "cell_type": "code",
   "execution_count": 35,
   "id": "7425ecc5",
   "metadata": {},
   "outputs": [],
   "source": [
    "lr = 0.1"
   ]
  },
  {
   "cell_type": "code",
   "execution_count": 36,
   "id": "b7959ab1",
   "metadata": {},
   "outputs": [],
   "source": [
    "import numpy as np"
   ]
  },
  {
   "cell_type": "code",
   "execution_count": 37,
   "id": "1db4063f",
   "metadata": {},
   "outputs": [],
   "source": [
    "weights_ann_1 = ann_15.get_weights()\n",
    "weights_ann_2 = ann_20.get_weights()"
   ]
  },
  {
   "cell_type": "code",
   "execution_count": 38,
   "id": "43a211df",
   "metadata": {},
   "outputs": [],
   "source": [
    "def get_targets_with_weights(batch_data, batch_data1, initial_ensembles, log_sigma_points_1): \n",
    "\n",
    "    n_hidden_1 = len(weights_ann_1[0].ravel())\n",
    "\n",
    "    hidden_weights_1 = initial_ensembles[:,:n_hidden_1].reshape( size_ens, batch_data.shape[1], h1)\n",
    "\n",
    "    \n",
    "    hidden_output_1 = np.einsum('ij,kjl->kil', batch_data, hidden_weights_1)\n",
    "\n",
    "    \n",
    "    hidden_layer_bias_1 = initial_ensembles[:,n_hidden_1:(n_hidden_1 + h1)].reshape(size_ens, 1,  h1)\n",
    "\n",
    "\n",
    "\n",
    "    hidden_output_1 = hidden_output_1 + hidden_layer_bias_1\n",
    "\n",
    "    n_pred_weights_1 = len(weights_ann_1[2].ravel())\n",
    "\n",
    "    output_weights_1 = initial_ensembles[:,(n_hidden_1 + h1):(n_hidden_1 + h1 + n_pred_weights_1) ].reshape(size_ens, h1, 1)\n",
    "\n",
    "    output_1 = np.einsum('ijk,ikl->ijl', hidden_output_1, output_weights_1)\n",
    "\n",
    "\n",
    "    output_layer_bias_1 = initial_ensembles[:,(n_hidden_1 + h1 + n_pred_weights_1):(n_hidden_1 + h1 + n_pred_weights_1 + 1)].reshape(size_ens, 1, 1)\n",
    "\n",
    "\n",
    "\n",
    "    final_output_1 = output_1 + output_layer_bias_1\n",
    "\n",
    "    n_hidden_2 = len(weights_ann_2[0].ravel())\n",
    "\n",
    "    initial_ensembles_1 = initial_ensembles.copy()[:, total_weights_1:(total_weights_1+ total_weights_2)]\n",
    "\n",
    "    hidden_weights_2 = initial_ensembles_1[:,:n_hidden_2].reshape(size_ens, batch_data1.shape[1], h2)\n",
    "\n",
    "\n",
    "\n",
    "    hidden_output_2 = np.einsum('ij,kjl->kil', batch_data1, hidden_weights_2)\n",
    "\n",
    "    hidden_layer_bias_2 = initial_ensembles[:,n_hidden_2:(n_hidden_2 + h2)].reshape(size_ens, 1,  h2)\n",
    "\n",
    "    hidden_output_2 = hidden_output_2+ hidden_layer_bias_2\n",
    "\n",
    "    n_pred_weights_2 = len(weights_ann_2[2].ravel())\n",
    "\n",
    "    output_weights_2 = initial_ensembles_1[:,(n_hidden_2 + h2):(n_hidden_2 + h2 + n_pred_weights_2) ].reshape(size_ens, h2, 1)\n",
    "\n",
    "\n",
    "    output_2 = np.einsum('ijk,ikl->ijl', hidden_output_2, output_weights_2)\n",
    "\n",
    "\n",
    "    output_layer_bias_2 = initial_ensembles_1[:,(n_hidden_2 + h2 + n_pred_weights_2):(n_hidden_2 + h2 + n_pred_weights_2 + 1)].reshape(size_ens, 1, 1)\n",
    "\n",
    "\n",
    "    final_output_2 = output_2 + output_layer_bias_2\n",
    "\n",
    "\n",
    "    weights_1 = initial_ensembles[:, :total_weights_1]\n",
    "\n",
    "    weights_2 = initial_ensembles[:, total_weights_1:(total_weights_1 + total_weights_2)]\n",
    "\n",
    "\n",
    "    avg_weights = initial_ensembles[:, -1].reshape(-1,1)\n",
    "\n",
    "    avg_weights_sig = expit(avg_weights)\n",
    "    \n",
    "    avg_weights_sig = avg_weights_sig.reshape(avg_weights_sig.shape[0], 1, avg_weights_sig.shape[1])\n",
    "    \n",
    "    complement_weights_sig = 1 - expit(avg_weights)\n",
    "    \n",
    "    complement_weights_sig = complement_weights_sig.reshape(complement_weights_sig.shape[0], 1, complement_weights_sig.shape[1])\n",
    "\n",
    "    final_output_1 = final_output_1*complement_weights_sig\n",
    "    \n",
    "    final_output_2 = final_output_2*avg_weights_sig\n",
    "    \n",
    "    output_1_ravel = final_output_1.reshape(size_ens, final_output_1.shape[1]*final_output_1.shape[2])\n",
    "\n",
    "    output_2_ravel = final_output_2.reshape(size_ens, final_output_2.shape[1]*final_output_2.shape[2])\n",
    "\n",
    "\n",
    "    output_1_ravel = output_1_ravel\n",
    "\n",
    "    output_2_ravel = output_2_ravel\n",
    "\n",
    "\n",
    "\n",
    "    weights_1_add = np.zeros((size_ens, (total_weights_2 - total_weights_1)))\n",
    "\n",
    "\n",
    "\n",
    "    weights_1 = np.hstack((weights_1, weights_1_add))\n",
    "    \n",
    "\n",
    "\n",
    "    stack_1 = np.hstack((output_1_ravel, weights_1, np.repeat(0, size_ens).reshape(-1,1), np.repeat(0, size_ens).reshape(-1,1)))\n",
    "\n",
    "\n",
    "\n",
    "    \n",
    "    stack_2 = np.hstack((output_2_ravel, weights_2, avg_weights, log_sigma_points_1))\n",
    "\n",
    "    \n",
    "    initial_aug_state = np.hstack((stack_1, stack_2)) \n",
    "    \n",
    "\n",
    "    return initial_aug_state , output_1_ravel, output_2_ravel, log_sigma_points_1\n",
    "\n"
   ]
  },
  {
   "cell_type": "code",
   "execution_count": 39,
   "id": "4e3ef6e6",
   "metadata": {},
   "outputs": [],
   "source": [
    "import time"
   ]
  },
  {
   "cell_type": "code",
   "execution_count": 40,
   "id": "0eabfdd4",
   "metadata": {},
   "outputs": [],
   "source": [
    "from scipy.stats import multivariate_normal as mvn"
   ]
  },
  {
   "cell_type": "code",
   "execution_count": 41,
   "id": "b982682f",
   "metadata": {},
   "outputs": [],
   "source": [
    "var_weights =0.5\n",
    "# var_weights_vec = 4\n",
    "# var_targets = 0.04\n",
    "# var_weights = 2"
   ]
  },
  {
   "cell_type": "code",
   "execution_count": 42,
   "id": "10d77915",
   "metadata": {},
   "outputs": [],
   "source": [
    "from scipy.stats import multivariate_normal as mvn"
   ]
  },
  {
   "cell_type": "code",
   "execution_count": 43,
   "id": "a2a6de67",
   "metadata": {},
   "outputs": [],
   "source": [
    "reduction = 4\n",
    "# reduction = 10"
   ]
  },
  {
   "cell_type": "code",
   "execution_count": 44,
   "id": "471e3306",
   "metadata": {},
   "outputs": [],
   "source": [
    "shape_needed = (total_weights + 2*batch_size*1 + 1 + (total_weights_2 - total_weights_1))//reduction"
   ]
  },
  {
   "cell_type": "code",
   "execution_count": 45,
   "id": "63796187",
   "metadata": {},
   "outputs": [],
   "source": [
    "size_ens = shape_needed"
   ]
  },
  {
   "cell_type": "code",
   "execution_count": 46,
   "id": "6aee42b8",
   "metadata": {},
   "outputs": [],
   "source": [
    "size_ens = int(size_ens)"
   ]
  },
  {
   "cell_type": "code",
   "execution_count": 47,
   "id": "bc234219",
   "metadata": {},
   "outputs": [
    {
     "data": {
      "text/plain": [
       "801"
      ]
     },
     "execution_count": 47,
     "metadata": {},
     "output_type": "execute_result"
    }
   ],
   "source": [
    "size_ens"
   ]
  },
  {
   "cell_type": "code",
   "execution_count": 48,
   "id": "ebeb0869-7f0b-4f21-be63-0234896af39f",
   "metadata": {},
   "outputs": [],
   "source": [
    "# train_fudged_probs"
   ]
  },
  {
   "cell_type": "code",
   "execution_count": 49,
   "id": "23d87ffe",
   "metadata": {},
   "outputs": [],
   "source": [
    "import matplotlib.pyplot as plt"
   ]
  },
  {
   "cell_type": "code",
   "execution_count": 50,
   "id": "f5427e43",
   "metadata": {},
   "outputs": [],
   "source": [
    "from scipy.special import expit"
   ]
  },
  {
   "cell_type": "code",
   "execution_count": 51,
   "id": "be0ee1ec",
   "metadata": {},
   "outputs": [],
   "source": [
    "# catch1[0][0]"
   ]
  },
  {
   "cell_type": "code",
   "execution_count": 52,
   "id": "fb492324",
   "metadata": {},
   "outputs": [],
   "source": [
    "# catch_train_logits_second[0]"
   ]
  },
  {
   "cell_type": "code",
   "execution_count": 53,
   "id": "0c2dbaec-3249-404a-9971-c2fc17f68356",
   "metadata": {},
   "outputs": [],
   "source": [
    "from datetime import datetime"
   ]
  },
  {
   "cell_type": "code",
   "execution_count": 54,
   "id": "9cf12935",
   "metadata": {},
   "outputs": [],
   "source": [
    "def expit(x):\n",
    "    \"\"\"Compute softmax values for each sets of scores in x.\"\"\"\n",
    "#     e_x = np.exp(x - np.max(x))\n",
    "    return 1 / (1 + np.exp(-x))"
   ]
  },
  {
   "cell_type": "code",
   "execution_count": 55,
   "id": "ef051014",
   "metadata": {},
   "outputs": [],
   "source": [
    "from scipy.stats import gamma"
   ]
  },
  {
   "cell_type": "code",
   "execution_count": 56,
   "id": "07cb7b8c-4634-46e7-ab75-e865c7116995",
   "metadata": {},
   "outputs": [],
   "source": [
    "# second_lstm[0]"
   ]
  },
  {
   "cell_type": "code",
   "execution_count": 57,
   "id": "5f0e5cb1-4067-46ba-9399-ca30548a10e1",
   "metadata": {},
   "outputs": [],
   "source": [
    "# reduction = 8\n",
    "# var_weights = 1"
   ]
  },
  {
   "cell_type": "code",
   "execution_count": 58,
   "id": "197043a4-b420-4e3b-beaf-699cd7c3db6b",
   "metadata": {},
   "outputs": [],
   "source": [
    "# cur_idx = 16\n",
    "# np.log(catch_test_probs[cur_idx]/(1-catch_test_probs[cur_idx]))"
   ]
  },
  {
   "cell_type": "code",
   "execution_count": 59,
   "id": "5ae6c226-20d1-4a84-ab7b-5c5295748826",
   "metadata": {},
   "outputs": [],
   "source": [
    "# catch_preds_df"
   ]
  },
  {
   "cell_type": "code",
   "execution_count": 60,
   "id": "75f0d45e-6b06-4e9a-8997-5217ab99ebde",
   "metadata": {},
   "outputs": [],
   "source": [
    "# ids = [i for i in range(0, catch_test_probs[cur_idx].shape[0]) if catch_test_probs[cur_idx][i] < 0.5]\n",
    "# ids_more = [i for i in range(0, catch_test_probs[cur_idx].shape[0]) if catch_test_probs[cur_idx][i] > 0.5]"
   ]
  },
  {
   "cell_type": "code",
   "execution_count": 61,
   "id": "7f15dc9d-a59f-4ef8-b93a-8244896352c5",
   "metadata": {},
   "outputs": [],
   "source": [
    "# ids_more"
   ]
  },
  {
   "cell_type": "code",
   "execution_count": 62,
   "id": "1cebfd75-9077-4677-a4f7-05c09ac9f2de",
   "metadata": {},
   "outputs": [],
   "source": [
    "import plotly.express as px"
   ]
  },
  {
   "cell_type": "code",
   "execution_count": 63,
   "id": "22ee79ea-e013-4f80-920e-10e2aeb0eb6b",
   "metadata": {},
   "outputs": [],
   "source": [
    "import seaborn as sns"
   ]
  },
  {
   "cell_type": "code",
   "execution_count": 64,
   "id": "1969c78b-c105-482a-a957-e81329037a09",
   "metadata": {},
   "outputs": [],
   "source": [
    "use_cores = multiprocessing.cpu_count()-1"
   ]
  },
  {
   "cell_type": "code",
   "execution_count": 65,
   "id": "6a062f7f",
   "metadata": {},
   "outputs": [
    {
     "data": {
      "text/plain": [
       "7"
      ]
     },
     "execution_count": 65,
     "metadata": {},
     "output_type": "execute_result"
    }
   ],
   "source": [
    "use_cores"
   ]
  },
  {
   "cell_type": "code",
   "execution_count": 66,
   "id": "e5e25a8d-c51c-4c1d-9589-5b3b01f267e7",
   "metadata": {},
   "outputs": [],
   "source": [
    "# use_cores = 15"
   ]
  },
  {
   "cell_type": "code",
   "execution_count": 67,
   "id": "b9d651b2-15fa-4542-84ab-106c958569cc",
   "metadata": {},
   "outputs": [],
   "source": [
    "# with open('first_lstm_with_doc2vec_lstm_var_0.0001_real_world.pkl', 'rb') as f:\n",
    "#     first_lstm = pickle.load(f)  "
   ]
  },
  {
   "cell_type": "code",
   "execution_count": 68,
   "id": "2f12bf17-643b-4c5b-a2b0-d1f59b99557e",
   "metadata": {},
   "outputs": [],
   "source": [
    "# threshold = 200\n",
    "# cutoff_threshold = 70"
   ]
  },
  {
   "cell_type": "code",
   "execution_count": 69,
   "id": "407034e6-5a33-4332-b56c-f85cd2377b1c",
   "metadata": {},
   "outputs": [],
   "source": [
    "# catch1 = first_lstm"
   ]
  },
  {
   "cell_type": "code",
   "execution_count": 70,
   "id": "e343ffb7-87d1-4974-a13f-d9a26c8a0530",
   "metadata": {},
   "outputs": [],
   "source": [
    "# catch1[0]"
   ]
  },
  {
   "cell_type": "code",
   "execution_count": 71,
   "id": "881d1612-f98f-4df6-89b0-90bd2e97de4f",
   "metadata": {},
   "outputs": [],
   "source": [
    "from datetime import datetime"
   ]
  },
  {
   "cell_type": "code",
   "execution_count": 72,
   "id": "b48eef68-6ec3-4209-a725-e35ab84df90e",
   "metadata": {},
   "outputs": [],
   "source": [
    "# y_train.shape"
   ]
  },
  {
   "cell_type": "code",
   "execution_count": 73,
   "id": "855a536b-0f7a-4066-8a38-124a19b9f591",
   "metadata": {},
   "outputs": [],
   "source": [
    "# batch_size = 64"
   ]
  },
  {
   "cell_type": "code",
   "execution_count": 74,
   "id": "ac0108fa-359e-4d88-ba02-776a6f19b906",
   "metadata": {},
   "outputs": [],
   "source": [
    "from sklearn.metrics import mean_squared_error"
   ]
  },
  {
   "cell_type": "code",
   "execution_count": 75,
   "id": "6cd29e03-d778-4eeb-98b5-de815840cb5c",
   "metadata": {},
   "outputs": [],
   "source": [
    "import random"
   ]
  },
  {
   "cell_type": "code",
   "execution_count": 76,
   "id": "fa106e5e-7f8f-4620-9a16-43194267fcdc",
   "metadata": {},
   "outputs": [],
   "source": [
    "gamma_param = 500"
   ]
  },
  {
   "cell_type": "code",
   "execution_count": 77,
   "id": "cc0be1b1",
   "metadata": {},
   "outputs": [],
   "source": [
    "from scipy import stats"
   ]
  },
  {
   "cell_type": "code",
   "execution_count": 111,
   "id": "75c12e9a-898a-45db-9ee2-eb652adfbee1",
   "metadata": {},
   "outputs": [],
   "source": [
    "def rep_one_real_world(initial_ensembles, log_sigma_points_1): \n",
    "    catch_1 = []\n",
    "    catch_2 = []\n",
    "    catch_3 = []\n",
    "    catch_4 = []\n",
    "    catch_5 = []\n",
    "#     from scipy.special import expit\n",
    "    patience_smaller = 0\n",
    "    patience_uns = 0\n",
    "# patience_bigger = 0\n",
    "\n",
    "#     best_train_acc = 0\n",
    "#     best_valid_acc = 1000\n",
    "\n",
    "#     best_valid_mae = 10\n",
    "    \n",
    "    best_train_width = 100000\n",
    "    \n",
    "#     path = os.getcwd() + \"//dataset_\" + str(idx + 1) + \"/\"\n",
    "\n",
    "#     ## read in all the drug features\n",
    "#     ## for train test and valid\n",
    "#     train_drugs = np.load(path + \"//\" + \"train_drug.npy\")\n",
    "#     valid_drugs = np.load(path + \"//\" + \"valid_drug.npy\")\n",
    "#     test_drugs = np.load(path + \"//\" + \"test_drug.npy\")\n",
    "\n",
    "#     ## read in all the omics features\n",
    "#     ## for train test and valid\n",
    "#     train_omics = np.load(path + \"//\" + \"train_omics.npy\")\n",
    "#     valid_omics = np.load(path + \"//\" + \"valid_omics.npy\")\n",
    "#     test_omics = np.load(path + \"//\" + \"test_omics.npy\")\n",
    "\n",
    "#     ## read in all the labels \n",
    "#     ## for train test and valid\n",
    "#     y_train = np.load(path + \"//\" + \"train_y.npy\")\n",
    "#     y_valid = np.load(path + \"//\" + \"valid_y.npy\")\n",
    "#     y_test = np.load(path + \"//\" + \"test_y.npy\")\n",
    "    \n",
    "    X_train_logits = y_train.reshape(-1,1)\n",
    "#     X_train_logits = catch_train_logits_second[idx]\n",
    "    \n",
    "    X_valid_logits = y_valid.reshape(-1,1)\n",
    "    X_test_logits = y_test.reshape(-1,1)\n",
    "    \n",
    "    ## create training batch chunks\n",
    "    train_idx = list(range(0, X_train_logits.shape[0]))\n",
    "    batch_chunks = [train_idx[i:i+batch_size] for i in range(0,len(train_idx),batch_size)]\n",
    "\n",
    "    ## generate some augmented variable for iteration 0\n",
    "#     initial_aug_state_mean = np.repeat(0, total_weights)\n",
    "#     initial_aug_state_mean = initial_aug_state_mean.reshape(-1,1)\n",
    "\n",
    "#     initial_aug_state_cov = var_weights*np.identity((total_weights))\n",
    "#     initial_ensembles = mvn(initial_aug_state_mean.reshape(initial_aug_state_mean.shape[0],), initial_aug_state_cov).rvs(size = size_ens)\n",
    "\n",
    "    exit_iter_no_thresh = 0\n",
    "#     log_sigma_points_1 = (np.log(gamma(gamma_param, scale = 1/100).rvs(size_ens))).reshape(size_ens, 1)\n",
    "    \n",
    "\n",
    "#     y_train = catch_train_labels_second[idx]\n",
    "\n",
    "#     y_valid = catch_valid_labels_second[idx]\n",
    "\n",
    "#     y_test = catch_test_labels_second[idx]\n",
    "    \n",
    "    \n",
    "    train_lstm = train_drugs\n",
    "    valid_lstm = valid_drugs\n",
    "    # valid_word2vec = catch[idx][7].iloc[catch_valid_idxes[idx],:].reset_index(drop = True)\n",
    "    test_lstm = test_drugs\n",
    " \n",
    "\n",
    "    train_doc2vec = train_omics\n",
    "    valid_doc2vec = valid_omics\n",
    "    # valid_word2vec = catch[idx][7].iloc[catch_valid_idxes[idx],:].reset_index(drop = True)\n",
    "    test_doc2vec = test_omics\n",
    "    \n",
    "    \n",
    "    \n",
    "    # train_valid_test_lstm = np.vstack((train_lstm, valid_lstm, test_lstm))\n",
    "    # train_valid_test_doc2vec = np.vstack((train_doc2vec, valid_doc2vec, test_doc2vec))\n",
    "    \n",
    "    # train_valid_test_lstm = np.vstack((train_lstm, valid_lstm))\n",
    "    # train_valid_test_doc2vec = np.vstack((train_doc2vec, valid_doc2vec))    \n",
    "    \n",
    "    train_valid_lstm = (train_lstm)\n",
    "    train_valid_doc2vec = (train_doc2vec)\n",
    "\n",
    "    # best_width_train = 100\n",
    "    \n",
    "    # threshold_achieved = False\n",
    "    # satisfactory = False\n",
    "    # satisfactory_counter = 0\n",
    "    \n",
    "    \n",
    "    best_coverage_train = 0\n",
    "    \n",
    "    start = datetime.now()\n",
    "    \n",
    "    for iter1 in range(0,500):\n",
    "        random_idx = random.sample(range(train_valid_lstm.shape[0]), train_valid_lstm.shape[0])\n",
    "        train_valid_lstm =train_valid_lstm[random_idx, :]\n",
    "        train_valid_doc2vec = train_valid_doc2vec[random_idx, :]\n",
    "        X_train_logits = X_train_logits[random_idx, :]\n",
    "\n",
    "        for batch_idx in tqdm(batch_chunks):\n",
    "\n",
    "            batch_data = train_valid_lstm[batch_idx,:]\n",
    "            batch_data1 = train_valid_doc2vec[batch_idx,:]\n",
    "            # print(batch_data.shape)\n",
    "            batch_targets = X_train_logits[batch_idx,:]\n",
    "            \n",
    "            # print(batch_targets.shape)\n",
    "            \n",
    "            # batch_targets = batch_targets.ravel().reshape(-1,1)\n",
    "\n",
    "            column_mod_2_shape = total_weights_2 + batch_data.shape[0]*1 + 1 + 1\n",
    "        \n",
    "            H_t = np.hstack((np.identity(batch_targets.shape[0]), np.zeros((batch_targets.shape[0], column_mod_2_shape-batch_targets.shape[0]))))\n",
    "\n",
    "            current_aug_state, column_mod_1, column_mod_2, log_sigma_points_1 = get_targets_with_weights(batch_data, batch_data1, initial_ensembles, log_sigma_points_1)\n",
    "            \n",
    "            # print(current_aug_state.shape)\n",
    "            \n",
    "            \n",
    "            var_targets_vec = np.log(1 + np.exp(log_sigma_points_1))\n",
    "            \n",
    "            var_targets_vec = var_targets_vec\n",
    "            \n",
    "            # current_aug_state_var = np.cov(current_aug_state.T) + inflation_factor*np.identity(current_aug_state.shape[1])\n",
    "            \n",
    "            current_aug_state_var = np.cov(current_aug_state.T) \n",
    "            \n",
    "            G_t = np.array([1 , 1]).reshape(-1,1)\n",
    "            \n",
    "            scirpt_H_t = np.kron(G_t.T, H_t)\n",
    "            \n",
    "            temp1 = current_aug_state_var@scirpt_H_t.T\n",
    "            \n",
    "            temp2 = scirpt_H_t@current_aug_state_var@scirpt_H_t.T\n",
    "        \n",
    "            for ensemble_idx in range(0, current_aug_state.shape[0]):\n",
    "                \n",
    "                var_targets1 = var_targets_vec[ensemble_idx,:]\n",
    "                \n",
    "                R_t = var_targets1*np.identity(batch_targets.shape[0])\n",
    "            \n",
    "                measurement_error = mvn(np.repeat(0,batch_targets.shape[0]), var_targets1*np.identity(batch_targets.shape[0])).rvs(1).reshape(-1,1)\n",
    "            \n",
    "                target_current = batch_targets + measurement_error\n",
    "                \n",
    "                # print(target_current.shape)\n",
    "                \n",
    "                K_t = temp1@np.linalg.inv(temp2 + R_t)\n",
    "                \n",
    "                # print(K_t.shape)\n",
    "\n",
    "                current_aug_state[ensemble_idx,:] = current_aug_state[ensemble_idx,:] +(K_t@(target_current -scirpt_H_t@current_aug_state[ensemble_idx,:].reshape(-1,1))).reshape(current_aug_state.shape[1],)\n",
    "        \n",
    "\n",
    "            weights_ann_1 = current_aug_state[:,batch_targets.shape[0]:(batch_targets.shape[0] + total_weights_1)]      \n",
    "\n",
    "            weights_ann_2 = current_aug_state[:,-(total_weights_2+1):-2]    \n",
    "\n",
    "            initial_ensembles = np.hstack((weights_ann_1, weights_ann_2, current_aug_state[:,-2].reshape(-1,1)))\n",
    "            \n",
    "            log_sigma_points_1 = current_aug_state[:,-1].reshape(-1,1)\n",
    "               \n",
    "            avg_betas = expit(current_aug_state[:,-2])\n",
    "        \n",
    "            complement = 1-avg_betas\n",
    "\n",
    "            \n",
    "            \n",
    "            \n",
    "            \n",
    "            current_aug_state1, column_mod_11, column_mod_21, log_sigma_points_1 = get_targets_with_weights(valid_lstm, valid_doc2vec, initial_ensembles, log_sigma_points_1)\n",
    "            \n",
    "            initial_targets = column_mod_11 + column_mod_21\n",
    "            \n",
    "            \n",
    "            initial_targets = initial_targets.reshape(size_ens, valid_lstm.shape[0],1)\n",
    "            \n",
    "            initial_targets_train = initial_targets\n",
    "            \n",
    "            \n",
    "            \n",
    "            \n",
    "#             ind = (X_train_logits_true >= np.percentile(initial_targets_train, axis = 0, q = (2.5, 97.5))[0,:,:]) & (X_train_logits_true <= np.percentile(initial_targets_train, axis = 0, q = (2.5, 97.5))[1,:,:])\n",
    "        \n",
    "            # initial_targets_softmax = expit(initial_targets)\n",
    "        \n",
    "            # initial_softmax_train = initial_targets_softmax\n",
    "            \n",
    "            initial_targets_train_mean = initial_targets_train.mean(0)\n",
    "            \n",
    "            li = np.percentile(initial_targets_train, axis = 0, q = (2.5, 97.5))[0,:,:]\n",
    "            \n",
    "            ui = np.percentile(initial_targets_train, axis = 0, q = (2.5, 97.5))[1,:,:]\n",
    "            \n",
    "            width = ui - li\n",
    "            \n",
    "            avg_width_train = np.mean(width)\n",
    "            \n",
    "            # interim = np.vstack((catch_train_probs[idx] , catch_valid_probs[idx] ))\n",
    "        \n",
    "            interim = (X_valid_logits)\n",
    "            \n",
    "            ind = (interim >= li) & (interim <= ui)\n",
    "            \n",
    "            coverage_train= np.mean(ind.ravel())  \n",
    "            \n",
    "            train_mae = np.sqrt(mean_squared_error(interim, initial_targets_train_mean))\n",
    "            # train_mae = np.sqrt(np.mean(np.abs(interim.ravel() - initial_targets_train_mean.ravel())**2))\n",
    "        \n",
    "            current_aug_state1, column_mod_11, column_mod_21, log_sigma_points_1 = get_targets_with_weights(test_lstm, test_doc2vec, initial_ensembles, log_sigma_points_1)\n",
    "            \n",
    "            initial_targets = column_mod_11 + column_mod_21\n",
    "            \n",
    "            initial_targets = initial_targets.reshape(size_ens, test_lstm.shape[0],1)\n",
    "            \n",
    "            initial_targets_test = initial_targets\n",
    "            \n",
    "            # initial_targets_softmax = expit(initial_targets)    \n",
    "            \n",
    "            initial_targets_test_mean = initial_targets_test.mean(0)\n",
    "            \n",
    "            li = np.percentile(initial_targets_test, axis = 0, q = (2.5, 97.5))[0,:,:]\n",
    "            \n",
    "            ui = np.percentile(initial_targets_test, axis = 0, q = (2.5, 97.5))[1,:,:]\n",
    "            \n",
    "            width = ui - li\n",
    "            \n",
    "            avg_width = np.mean(width)\n",
    "            \n",
    "            catch_test_probs = (X_test_logits)\n",
    "            \n",
    "            ind_test = (catch_test_probs >= li) & (catch_test_probs <= ui)\n",
    "               \n",
    "\n",
    "                        \n",
    "            coverage_test = np.mean(ind_test.ravel())    \n",
    "\n",
    "            # initial_targets_test_mean = initial_targets_train.mean(0)\n",
    "    \n",
    "            \n",
    "            test_mae = np.sqrt(mean_squared_error(catch_test_probs, initial_targets_test_mean))\n",
    "#             pearson_r = np.corrcoef([catch_test_probs.reshape(catch_test_probs.shape[0],),\n",
    "#                                        initial_targets_test_mean.reshape(initial_targets_test_mean.shape[0],)])[1,0]\n",
    "            stats_pearson = stats.pearsonr(catch_test_probs.reshape(catch_test_probs.shape[0],),\n",
    "                                           initial_targets_test_mean.reshape(initial_targets_test_mean.shape[0],))\n",
    "            \n",
    "            # test_mae = np.sqrt(np.mean(np.abs(catch_test_probs.ravel() - initial_targets_test_mean.ravel())**2))\n",
    "       \n",
    "        # print(avg_width_train, best_train_width, coverage_train)\n",
    "        \n",
    "        print(\"epoch \"+ str(iter1))\n",
    "        print(\"patience \"+ str(patience_smaller))\n",
    "        print(\"train mae is \" + str(train_mae))\n",
    "        print(\"test mae is \" + str(test_mae))\n",
    "        \n",
    "        print(\"train coverage is \"+ str(coverage_train))\n",
    "        print(\"train width is \" + str(avg_width_train))        \n",
    "        print(\"test coverage is \"+ str(coverage_test))\n",
    "        print(\"test width is \" + str(avg_width))\n",
    "        print(\"drugs weight is \" + str(np.mean(complement)))\n",
    "        print(\"pearson r is \" + str(stats_pearson[0]))\n",
    "#         print(stats_pearson)\n",
    "        # print(\"threshold \" + str(threshold_achieved))\n",
    "              \n",
    "        \n",
    "        if iter1 == 0: \n",
    "            best_train_mae = train_mae\n",
    "            best_test_mae = test_mae\n",
    "            exit_iter_no_thresh = iter1\n",
    "            best_test_preds = initial_targets_test\n",
    "            patience_smaller = 0\n",
    "            best_train_coverage = coverage_train\n",
    "            best_test_coverage = coverage_test\n",
    "            best_train_width = avg_width_train\n",
    "            best_test_width = avg_width\n",
    "            best_drugs_weight = np.mean(complement)\n",
    "            best_r = stats_pearson[0]\n",
    "            best_initial_ensembles = initial_ensembles\n",
    "            best_log_sigma_points_1 = log_sigma_points_1\n",
    "        \n",
    "        if (avg_width_train < best_train_width) & (coverage_train > 0.75): \n",
    "#             cur_best_train_width = avg_width_train\n",
    "#             cur_best_test_width = avg_width\n",
    "\n",
    "#             cur_best_train_coverage = coverage_train\n",
    "#             cur_best_test_coverage = coverage_test \n",
    "#             cur_best_lstm_weight = np.mean(complement)\n",
    "            best_train_mae = train_mae\n",
    "            best_test_mae = test_mae\n",
    "            exit_iter_no_thresh = iter1\n",
    "            best_test_preds = initial_targets_test\n",
    "            patience_smaller = 0\n",
    "            best_train_coverage = coverage_train\n",
    "            best_test_coverage = coverage_test\n",
    "            best_train_width = avg_width_train\n",
    "            best_test_width = avg_width\n",
    "            best_drugs_weight = np.mean(complement)\n",
    "            best_r = stats_pearson[0]\n",
    "            best_initial_ensembles = initial_ensembles\n",
    "            best_log_sigma_points_1 = log_sigma_points_1            \n",
    "            # satisfactory = True\n",
    "            \n",
    "        else:\n",
    "            patience_smaller+=1\n",
    "            \n",
    "        if patience_smaller > threshold:\n",
    "            \n",
    "            break\n",
    "            \n",
    "        if (coverage_train < 0.4): \n",
    "            patience_uns+=1\n",
    "            \n",
    "        if (patience_uns > 3):            \n",
    "            \n",
    "            break\n",
    "            \n",
    "#     base_model = tf.keras.models.load_model(\"Real_World_LSTM_Models\" + \"//\" + \"Model_\" + str(idx))\n",
    "#     extract_model = tf.keras.models.Model(base_model.input, base_model.layers[-3].output)\n",
    "#     alginate_lstm_embs = extract_model(np.array(alginate_seqs))\n",
    "#     current_aug_state1, column_mod_11, column_mod_21, log_sigma_points_1 = get_targets_with_weights(alginate_lstm_embs, alginate_doc2vec_vecs, initial_ensembles, log_sigma_points_1)\n",
    "            \n",
    "#     initial_targets = column_mod_11 + column_mod_21\n",
    "            \n",
    "#     initial_targets = initial_targets.reshape(size_ens, alginate_doc2vec_vecs.shape[0],1)\n",
    "            \n",
    "#             # initial_targets_test = initial_targets\n",
    "            \n",
    "#     initial_targets_softmax = expit(initial_targets)    \n",
    "            \n",
    "#             # initial_targets_test_mean = initial_targets_softmax.mean(0)\n",
    "            \n",
    "#     li = np.percentile(initial_targets_softmax, axis = 0, q = (2.5, 97.5))[0,:,:]\n",
    "            \n",
    "#     ui = np.percentile(initial_targets_softmax, axis = 0, q = (2.5, 97.5))[1,:,:]\n",
    "            \n",
    "#     width = ui - li\n",
    "            \n",
    "#     avg_width_alginate = np.mean(width)                \n",
    "            \n",
    "            \n",
    "    print(best_test_mae, best_test_coverage, best_test_width,best_r, flush = True)\n",
    "    end = datetime.now()\n",
    "    total = (end- start)\n",
    "    time_taken = total.seconds/60.0\n",
    "    return best_train_mae, best_test_mae, best_train_coverage, best_train_width, best_test_coverage, best_test_width, best_drugs_weight,  best_r, exit_iter_no_thresh, time_taken, best_initial_ensembles, best_log_sigma_points_1\n",
    "        \n",
    "    # print(\"something went awry\", flush = True)"
   ]
  },
  {
   "cell_type": "code",
   "execution_count": 112,
   "id": "605540da-2ad3-4d18-b8a4-93dd7c052f20",
   "metadata": {},
   "outputs": [],
   "source": [
    "threshold = 30"
   ]
  },
  {
   "cell_type": "code",
   "execution_count": 113,
   "id": "138d0228-17b7-4019-9abe-458206e8a7df",
   "metadata": {},
   "outputs": [],
   "source": [
    "cutoff_threshold = 30"
   ]
  },
  {
   "cell_type": "code",
   "execution_count": 81,
   "id": "857196a6-5937-4318-97f8-d19c183afe5c",
   "metadata": {},
   "outputs": [],
   "source": [
    "# plt.hist(y_train)\n",
    "# plt.show()"
   ]
  },
  {
   "cell_type": "code",
   "execution_count": 114,
   "id": "4dcabe4b-76ae-4302-8ada-218067cc7588",
   "metadata": {},
   "outputs": [],
   "source": [
    "batch_size = 128"
   ]
  },
  {
   "cell_type": "code",
   "execution_count": 83,
   "id": "d2a0a04c-eb2b-4dd6-938a-0558970523ce",
   "metadata": {},
   "outputs": [],
   "source": [
    "# best_train_mae, best_test_mae, best_train_coverage, best_train_width, best_test_coverage, best_test_width,best_drugs_weight,  best_r,  exit_iter_no_thresh, time_taken, best_test_preds = rep_one_real_world(0)"
   ]
  },
  {
   "cell_type": "code",
   "execution_count": 84,
   "id": "1d588820-93dd-43b0-bcd2-695cc810935e",
   "metadata": {},
   "outputs": [],
   "source": [
    "# best_train_mae, best_test_mae, best_train_coverage, best_train_width, best_test_coverage,  best_test_width"
   ]
  },
  {
   "cell_type": "code",
   "execution_count": 85,
   "id": "4ce50533-7f93-4dbc-98b9-2e662e1b4c1c",
   "metadata": {},
   "outputs": [],
   "source": [
    "# best_test_preds.shape"
   ]
  },
  {
   "cell_type": "code",
   "execution_count": 86,
   "id": "f49b8b8c-0e52-4d0b-bb70-7d16ddf6d9ce",
   "metadata": {},
   "outputs": [],
   "source": [
    "# np.sqrt(np.mean(y_test.reshape(-1,1)- best_test_preds.mean(0))**2)"
   ]
  },
  {
   "cell_type": "code",
   "execution_count": 87,
   "id": "b6cf2a8d-b3bc-4c4b-b88d-61603cd5c02d",
   "metadata": {},
   "outputs": [],
   "source": [
    "# best_test_preds.mean(0).shape"
   ]
  },
  {
   "cell_type": "code",
   "execution_count": 88,
   "id": "46f0b80b-4912-4283-b031-8710cd57c548",
   "metadata": {},
   "outputs": [],
   "source": [
    "# plt.scatter(y_test.reshape(-1,1), best_test_preds.mean(0))"
   ]
  },
  {
   "cell_type": "code",
   "execution_count": 89,
   "id": "ef0d0eb2-8069-4943-aa25-40da68911a71",
   "metadata": {},
   "outputs": [],
   "source": [
    "# np.sqrt(np.mean((y_test-best_test_preds.mean(0))**2))"
   ]
  },
  {
   "cell_type": "code",
   "execution_count": 90,
   "id": "ee5daf3b-e8eb-4405-9a8b-1f2b2c5ebb22",
   "metadata": {},
   "outputs": [],
   "source": [
    "# best_test_preds.mean(0)"
   ]
  },
  {
   "cell_type": "code",
   "execution_count": 115,
   "id": "f1473c98",
   "metadata": {},
   "outputs": [],
   "source": [
    "path = os.getcwd() + \"//dataset_\" + str(4) + \"/\"\n",
    "train_drugs_1 = np.load(path + \"//\" + \"train_drug.npy\")\n",
    "valid_drugs_1 = np.load(path + \"//\" + \"valid_drug.npy\")\n",
    "test_drugs_1 = np.load(path + \"//\" + \"test_drug.npy\")\n",
    "\n",
    "## read in all the omics features\n",
    "## for train test and valid\n",
    "train_omics_1 = np.load(path + \"//\" + \"train_omics.npy\")\n",
    "valid_omics_1 = np.load(path + \"//\" + \"valid_omics.npy\")\n",
    "test_omics_1 = np.load(path + \"//\" + \"test_omics.npy\")\n",
    "\n",
    "## read in all the labels \n",
    "## for train test and valid\n",
    "y_train_1 = np.load(path + \"//\" + \"train_y.npy\").reshape(-1,1)\n",
    "y_valid_1 = np.load(path + \"//\" + \"valid_y.npy\").reshape(-1,1)\n",
    "y_test_1 = np.load(path + \"//\" + \"test_y.npy\").reshape(-1,1)"
   ]
  },
  {
   "cell_type": "code",
   "execution_count": 116,
   "id": "b3450307",
   "metadata": {},
   "outputs": [],
   "source": [
    "path = os.getcwd() + \"//dataset_\" + str(5) + \"/\"\n",
    "train_drugs_2 = np.load(path + \"//\" + \"train_drug.npy\")\n",
    "valid_drugs_2 = np.load(path + \"//\" + \"valid_drug.npy\")\n",
    "test_drugs_2 = np.load(path + \"//\" + \"test_drug.npy\")\n",
    "\n",
    "## read in all the omics features\n",
    "## for train test and valid\n",
    "train_omics_2 = np.load(path + \"//\" + \"train_omics.npy\")\n",
    "valid_omics_2 = np.load(path + \"//\" + \"valid_omics.npy\")\n",
    "test_omics_2 = np.load(path + \"//\" + \"test_omics.npy\")\n",
    "\n",
    "## read in all the labels \n",
    "## for train test and valid\n",
    "y_train_2 = np.load(path + \"//\" + \"train_y.npy\").reshape(-1,1)\n",
    "y_valid_2 = np.load(path + \"//\" + \"valid_y.npy\").reshape(-1,1)\n",
    "y_test_2 = np.load(path + \"//\" + \"test_y.npy\").reshape(-1,1)"
   ]
  },
  {
   "cell_type": "code",
   "execution_count": 117,
   "id": "de37e496",
   "metadata": {},
   "outputs": [],
   "source": [
    "path = os.getcwd() + \"//dataset_\" + str(6) + \"/\"\n",
    "train_drugs_3 = np.load(path + \"//\" + \"train_drug.npy\")\n",
    "valid_drugs_3 = np.load(path + \"//\" + \"valid_drug.npy\")\n",
    "test_drugs_3 = np.load(path + \"//\" + \"test_drug.npy\")\n",
    "\n",
    "## read in all the omics features\n",
    "## for train test and valid\n",
    "train_omics_3 = np.load(path + \"//\" + \"train_omics.npy\")\n",
    "valid_omics_3 = np.load(path + \"//\" + \"valid_omics.npy\")\n",
    "test_omics_3 = np.load(path + \"//\" + \"test_omics.npy\")\n",
    "\n",
    "## read in all the labels \n",
    "## for train test and valid\n",
    "y_train_3 = np.load(path + \"//\" + \"train_y.npy\").reshape(-1,1)\n",
    "y_valid_3 = np.load(path + \"//\" + \"valid_y.npy\").reshape(-1,1)\n",
    "y_test_3 = np.load(path + \"//\" + \"test_y.npy\").reshape(-1,1)"
   ]
  },
  {
   "cell_type": "code",
   "execution_count": 118,
   "id": "854290b6",
   "metadata": {},
   "outputs": [],
   "source": [
    "train_drugs = np.vstack((train_drugs_1,train_drugs_2, train_drugs_3))"
   ]
  },
  {
   "cell_type": "code",
   "execution_count": 119,
   "id": "d79680b5",
   "metadata": {},
   "outputs": [],
   "source": [
    "train_omics = np.vstack((train_omics_1,train_omics_2, train_omics_3))"
   ]
  },
  {
   "cell_type": "code",
   "execution_count": 120,
   "id": "1e442736",
   "metadata": {},
   "outputs": [],
   "source": [
    "valid_drugs = np.vstack((valid_drugs_1,valid_drugs_2, valid_drugs_3))"
   ]
  },
  {
   "cell_type": "code",
   "execution_count": 121,
   "id": "34163813",
   "metadata": {},
   "outputs": [],
   "source": [
    "valid_omics = np.vstack((valid_omics_1,valid_omics_2, valid_omics_3))"
   ]
  },
  {
   "cell_type": "code",
   "execution_count": 122,
   "id": "1daa61d5",
   "metadata": {},
   "outputs": [],
   "source": [
    "test_drugs = np.vstack((test_drugs_1,test_drugs_2, test_drugs_3))"
   ]
  },
  {
   "cell_type": "code",
   "execution_count": 123,
   "id": "fcedaaa1",
   "metadata": {},
   "outputs": [],
   "source": [
    "test_omics = np.vstack((test_omics_1,test_omics_2, test_omics_3))"
   ]
  },
  {
   "cell_type": "code",
   "execution_count": 124,
   "id": "5085482b",
   "metadata": {},
   "outputs": [],
   "source": [
    "y_train = np.vstack((y_train_1,y_train_2, y_train_3))"
   ]
  },
  {
   "cell_type": "code",
   "execution_count": 125,
   "id": "226473a3",
   "metadata": {},
   "outputs": [],
   "source": [
    "y_valid = np.vstack((y_valid_1,y_valid_2, y_valid_3))"
   ]
  },
  {
   "cell_type": "code",
   "execution_count": 126,
   "id": "dd6b045d",
   "metadata": {},
   "outputs": [],
   "source": [
    "y_test = np.vstack((y_test_1,y_test_2, y_test_3))"
   ]
  },
  {
   "cell_type": "code",
   "execution_count": 103,
   "id": "4e5b088c",
   "metadata": {},
   "outputs": [],
   "source": [
    "# load pickle from last run"
   ]
  },
  {
   "cell_type": "code",
   "execution_count": 127,
   "id": "743ae896",
   "metadata": {},
   "outputs": [],
   "source": [
    "string1 = 'First_Three_Real_World_EnKF_DeepCDR_Neurons_16_Gamma_500_var_weights_0.5_num_ens_801'\n",
    "with open(string1 + \".pkl\", 'rb') as f:\n",
    "    catch_cov = pickle.load(f)"
   ]
  },
  {
   "cell_type": "code",
   "execution_count": 128,
   "id": "eeb2468d",
   "metadata": {},
   "outputs": [],
   "source": [
    "initial_ensembles = catch_cov[-2]\n",
    "log_sigma_points_1 = catch_cov[-1]"
   ]
  },
  {
   "cell_type": "code",
   "execution_count": 130,
   "id": "71d278f5",
   "metadata": {
    "scrolled": false
   },
   "outputs": [
    {
     "data": {
      "application/vnd.jupyter.widget-view+json": {
       "model_id": "14ceffe4dd1146f984219d299a374f99",
       "version_major": 2,
       "version_minor": 0
      },
      "text/plain": [
       "  0%|          | 0/12 [00:00<?, ?it/s]"
      ]
     },
     "metadata": {},
     "output_type": "display_data"
    },
    {
     "name": "stdout",
     "output_type": "stream",
     "text": [
      "epoch 0\n",
      "patience 0\n",
      "train mae is 1.2626560694594333\n",
      "test mae is 1.5836157854030986\n",
      "train coverage is 0.6666666666666666\n",
      "train width is 2.3172480201633814\n",
      "test coverage is 0.6133333333333333\n",
      "test width is 2.416991297676923\n",
      "drugs weight is 0.4776973285889238\n",
      "pearson r is 0.7684924598393974\n"
     ]
    },
    {
     "data": {
      "application/vnd.jupyter.widget-view+json": {
       "model_id": "479466eb470d4e5c864a02c0eeb89284",
       "version_major": 2,
       "version_minor": 0
      },
      "text/plain": [
       "  0%|          | 0/12 [00:00<?, ?it/s]"
      ]
     },
     "metadata": {},
     "output_type": "display_data"
    },
    {
     "name": "stdout",
     "output_type": "stream",
     "text": [
      "epoch 1\n",
      "patience 1\n",
      "train mae is 1.2804438668405242\n",
      "test mae is 1.5873349597133453\n",
      "train coverage is 0.5066666666666667\n",
      "train width is 1.7222530419707072\n",
      "test coverage is 0.43333333333333335\n",
      "test width is 1.7755487150301406\n",
      "drugs weight is 0.4815746975060945\n",
      "pearson r is 0.757679928632208\n"
     ]
    },
    {
     "data": {
      "application/vnd.jupyter.widget-view+json": {
       "model_id": "a8df2bfd7bfc40d2ac8bb78c886e7eea",
       "version_major": 2,
       "version_minor": 0
      },
      "text/plain": [
       "  0%|          | 0/12 [00:00<?, ?it/s]"
      ]
     },
     "metadata": {},
     "output_type": "display_data"
    },
    {
     "name": "stdout",
     "output_type": "stream",
     "text": [
      "epoch 2\n",
      "patience 2\n",
      "train mae is 1.3379102125107845\n",
      "test mae is 1.5945868228162747\n",
      "train coverage is 0.4266666666666667\n",
      "train width is 1.4008608789418686\n",
      "test coverage is 0.36666666666666664\n",
      "test width is 1.4322551518395983\n",
      "drugs weight is 0.48219410577571664\n",
      "pearson r is 0.7573497311876024\n"
     ]
    },
    {
     "data": {
      "application/vnd.jupyter.widget-view+json": {
       "model_id": "5527e6dadb1b4ec78a23c9f8df0483b3",
       "version_major": 2,
       "version_minor": 0
      },
      "text/plain": [
       "  0%|          | 0/12 [00:00<?, ?it/s]"
      ]
     },
     "metadata": {},
     "output_type": "display_data"
    },
    {
     "name": "stdout",
     "output_type": "stream",
     "text": [
      "epoch 3\n",
      "patience 3\n",
      "train mae is 1.2770070245923555\n",
      "test mae is 1.591953282663369\n",
      "train coverage is 0.37\n",
      "train width is 1.1909012917483774\n",
      "test coverage is 0.31\n",
      "test width is 1.210787274469448\n",
      "drugs weight is 0.4817312820107179\n",
      "pearson r is 0.7596426127541189\n"
     ]
    },
    {
     "data": {
      "application/vnd.jupyter.widget-view+json": {
       "model_id": "bbbc09372adb4061822beb9583276c99",
       "version_major": 2,
       "version_minor": 0
      },
      "text/plain": [
       "  0%|          | 0/12 [00:00<?, ?it/s]"
      ]
     },
     "metadata": {},
     "output_type": "display_data"
    },
    {
     "name": "stdout",
     "output_type": "stream",
     "text": [
      "epoch 4\n",
      "patience 4\n",
      "train mae is 1.3020940349002124\n",
      "test mae is 1.6309655629074546\n",
      "train coverage is 0.31333333333333335\n",
      "train width is 1.0847493556708856\n",
      "test coverage is 0.27\n",
      "test width is 1.1054573499035638\n",
      "drugs weight is 0.4815304717082529\n",
      "pearson r is 0.7473569455815507\n"
     ]
    },
    {
     "data": {
      "application/vnd.jupyter.widget-view+json": {
       "model_id": "8bc9125b87a246af8cac482122f4e45c",
       "version_major": 2,
       "version_minor": 0
      },
      "text/plain": [
       "  0%|          | 0/12 [00:00<?, ?it/s]"
      ]
     },
     "metadata": {},
     "output_type": "display_data"
    },
    {
     "name": "stdout",
     "output_type": "stream",
     "text": [
      "epoch 5\n",
      "patience 5\n",
      "train mae is 1.3366019201348636\n",
      "test mae is 1.6127989181024824\n",
      "train coverage is 0.2966666666666667\n",
      "train width is 0.9946687946183258\n",
      "test coverage is 0.26666666666666666\n",
      "test width is 1.0109186471777394\n",
      "drugs weight is 0.4797361342709495\n",
      "pearson r is 0.752161795541892\n"
     ]
    },
    {
     "data": {
      "application/vnd.jupyter.widget-view+json": {
       "model_id": "76c78d819532457da324af2700b3796f",
       "version_major": 2,
       "version_minor": 0
      },
      "text/plain": [
       "  0%|          | 0/12 [00:00<?, ?it/s]"
      ]
     },
     "metadata": {},
     "output_type": "display_data"
    },
    {
     "name": "stdout",
     "output_type": "stream",
     "text": [
      "epoch 6\n",
      "patience 6\n",
      "train mae is 1.301303752564116\n",
      "test mae is 1.5871227820022042\n",
      "train coverage is 0.2633333333333333\n",
      "train width is 0.9153769929124433\n",
      "test coverage is 0.27\n",
      "test width is 0.9339437338033152\n",
      "drugs weight is 0.4790028366841308\n",
      "pearson r is 0.7584737230327471\n",
      "1.5836157854030986 0.6133333333333333 2.416991297676923 0.7684924598393974\n"
     ]
    }
   ],
   "source": [
    "best_train_mae, best_test_mae, best_train_coverage, best_train_width, best_test_coverage, best_test_width, best_drugs_weight,  best_r, exit_iter_no_thresh, time_taken, best_initial_ensembles, best_log_sigma_points_1 = rep_one_real_world(initial_ensembles, log_sigma_points_1)"
   ]
  },
  {
   "cell_type": "code",
   "execution_count": 136,
   "id": "3bafe1f2",
   "metadata": {},
   "outputs": [
    {
     "data": {
      "text/plain": [
       "9.866666666666667"
      ]
     },
     "execution_count": 136,
     "metadata": {},
     "output_type": "execute_result"
    }
   ],
   "source": [
    "time_taken"
   ]
  },
  {
   "cell_type": "code",
   "execution_count": null,
   "id": "207e54df",
   "metadata": {},
   "outputs": [],
   "source": [
    "# y_train.shape"
   ]
  },
  {
   "cell_type": "code",
   "execution_count": null,
   "id": "99a723c6",
   "metadata": {},
   "outputs": [],
   "source": [
    "# catch_coverages = Parallel(n_jobs=3, verbose = 10, backend = \"loky\")(delayed(rep_one_real_world)(i) for i in range(0,3))"
   ]
  },
  {
   "cell_type": "code",
   "execution_count": null,
   "id": "3c950c80-c06d-42f5-938a-699658ddee4d",
   "metadata": {},
   "outputs": [],
   "source": [
    "# string = \"Real_World_EnKF_DeepCDR_\" + \"Neurons_\" + str(h1)  + \"_Gamma_\" +  str(gamma_param) +  \"_var_weights_\" + str(var_weights) + \"_num_ens_\" + str(size_ens)"
   ]
  },
  {
   "cell_type": "code",
   "execution_count": 131,
   "id": "c54e559f-315e-4d51-a113-effe6695dc01",
   "metadata": {},
   "outputs": [],
   "source": [
    "string = \"Second_Three_Real_World_EnKF_DeepCDR_\" + \"Neurons_\" + str(h1)  + \"_Gamma_\" +  str(gamma_param) +  \"_var_weights_\" + str(var_weights) + \"_num_ens_\" + str(size_ens)"
   ]
  },
  {
   "cell_type": "code",
   "execution_count": 132,
   "id": "4213b5a0-b128-4d90-8eaf-ef7058c2e38b",
   "metadata": {},
   "outputs": [
    {
     "data": {
      "text/plain": [
       "'Second_Three_Real_World_EnKF_DeepCDR_Neurons_16_Gamma_500_var_weights_0.5_num_ens_801'"
      ]
     },
     "execution_count": 132,
     "metadata": {},
     "output_type": "execute_result"
    }
   ],
   "source": [
    "string"
   ]
  },
  {
   "cell_type": "code",
   "execution_count": 133,
   "id": "37dccba9",
   "metadata": {},
   "outputs": [],
   "source": [
    "catch_coverages = [best_train_mae, best_test_mae, best_train_coverage, best_train_width, best_test_coverage, best_test_width, best_drugs_weight,  best_r, exit_iter_no_thresh, time_taken, best_initial_ensembles, best_log_sigma_points_1]"
   ]
  },
  {
   "cell_type": "code",
   "execution_count": 134,
   "id": "3e0f11d9-de11-4880-be84-4340352ce23c",
   "metadata": {},
   "outputs": [],
   "source": [
    "with open(string + \".pkl\", 'wb') as f:\n",
    "    pickle.dump(catch_coverages, f)"
   ]
  },
  {
   "cell_type": "code",
   "execution_count": null,
   "id": "1e8200e5-b784-49c8-9ae9-fd7ee5a2e71d",
   "metadata": {},
   "outputs": [],
   "source": [
    "# catch_coverages"
   ]
  },
  {
   "cell_type": "code",
   "execution_count": 135,
   "id": "afce72aa",
   "metadata": {},
   "outputs": [
    {
     "data": {
      "text/plain": [
       "[1.2626560694594333,\n",
       " 1.5836157854030986,\n",
       " 0.6666666666666666,\n",
       " 2.3172480201633814,\n",
       " 0.6133333333333333,\n",
       " 2.416991297676923,\n",
       " 0.4776973285889238,\n",
       " 0.7684924598393974,\n",
       " 0,\n",
       " 9.866666666666667,\n",
       " array([[-0.66648561, -0.86709959,  0.72032512, ...,  0.08069522,\n",
       "          0.08069522,  0.08069522],\n",
       "        [-0.50690807, -0.26550575, -0.39376131, ...,  0.08609195,\n",
       "          0.08609195,  0.08609195],\n",
       "        [-0.24317759, -0.26543261, -0.60076732, ...,  0.06212573,\n",
       "          0.06212573,  0.06212573],\n",
       "        ...,\n",
       "        [-1.18102655, -0.37610217,  0.39129963, ...,  0.07710916,\n",
       "          0.07710916,  0.07710916],\n",
       "        [-0.25424729, -0.76021532,  0.24986958, ...,  0.09001757,\n",
       "          0.09001757,  0.09001757],\n",
       "        [-0.79057251, -0.05233436, -0.23207032, ...,  0.07828258,\n",
       "          0.07828258,  0.07828258]]),\n",
       " array([[1.63131057],\n",
       "        [1.62510267],\n",
       "        [1.5698379 ],\n",
       "        [1.65698318],\n",
       "        [1.6317841 ],\n",
       "        [1.6278329 ],\n",
       "        [1.62942397],\n",
       "        [1.58307122],\n",
       "        [1.66645647],\n",
       "        [1.65309293],\n",
       "        [1.60026381],\n",
       "        [1.59440753],\n",
       "        [1.58299698],\n",
       "        [1.59636966],\n",
       "        [1.58353025],\n",
       "        [1.59842311],\n",
       "        [1.64901194],\n",
       "        [1.61697408],\n",
       "        [1.5706233 ],\n",
       "        [1.63786984],\n",
       "        [1.59100443],\n",
       "        [1.61356365],\n",
       "        [1.6328969 ],\n",
       "        [1.59724174],\n",
       "        [1.58431025],\n",
       "        [1.64296241],\n",
       "        [1.64756746],\n",
       "        [1.66922458],\n",
       "        [1.61024491],\n",
       "        [1.62273559],\n",
       "        [1.57325858],\n",
       "        [1.59457498],\n",
       "        [1.58561714],\n",
       "        [1.59363595],\n",
       "        [1.60225617],\n",
       "        [1.60285155],\n",
       "        [1.5894351 ],\n",
       "        [1.59230708],\n",
       "        [1.60454356],\n",
       "        [1.63499443],\n",
       "        [1.61122926],\n",
       "        [1.59113704],\n",
       "        [1.61678919],\n",
       "        [1.57832505],\n",
       "        [1.55458938],\n",
       "        [1.62293865],\n",
       "        [1.6011206 ],\n",
       "        [1.59123733],\n",
       "        [1.58310742],\n",
       "        [1.60255225],\n",
       "        [1.61514558],\n",
       "        [1.68734903],\n",
       "        [1.65644307],\n",
       "        [1.64281691],\n",
       "        [1.62077995],\n",
       "        [1.56634446],\n",
       "        [1.64019162],\n",
       "        [1.60568411],\n",
       "        [1.60548563],\n",
       "        [1.61875978],\n",
       "        [1.62728677],\n",
       "        [1.5952489 ],\n",
       "        [1.53865659],\n",
       "        [1.59769124],\n",
       "        [1.56438756],\n",
       "        [1.56689032],\n",
       "        [1.62251799],\n",
       "        [1.55500024],\n",
       "        [1.62777545],\n",
       "        [1.6102567 ],\n",
       "        [1.56224165],\n",
       "        [1.60149929],\n",
       "        [1.5553867 ],\n",
       "        [1.58506366],\n",
       "        [1.60646119],\n",
       "        [1.64920256],\n",
       "        [1.58818221],\n",
       "        [1.66177756],\n",
       "        [1.5648332 ],\n",
       "        [1.55461117],\n",
       "        [1.62942275],\n",
       "        [1.61472716],\n",
       "        [1.61936873],\n",
       "        [1.61474758],\n",
       "        [1.6203996 ],\n",
       "        [1.56654138],\n",
       "        [1.58854692],\n",
       "        [1.58257638],\n",
       "        [1.61722658],\n",
       "        [1.58969242],\n",
       "        [1.63581759],\n",
       "        [1.55049561],\n",
       "        [1.61393469],\n",
       "        [1.58067005],\n",
       "        [1.56222043],\n",
       "        [1.64151806],\n",
       "        [1.67703148],\n",
       "        [1.61765514],\n",
       "        [1.58108168],\n",
       "        [1.61965163],\n",
       "        [1.61177711],\n",
       "        [1.61644702],\n",
       "        [1.58786562],\n",
       "        [1.61541266],\n",
       "        [1.59981624],\n",
       "        [1.63615918],\n",
       "        [1.60296268],\n",
       "        [1.60670961],\n",
       "        [1.58862458],\n",
       "        [1.59812687],\n",
       "        [1.65002646],\n",
       "        [1.6639234 ],\n",
       "        [1.59019668],\n",
       "        [1.61017882],\n",
       "        [1.53414143],\n",
       "        [1.6049498 ],\n",
       "        [1.61745023],\n",
       "        [1.58035092],\n",
       "        [1.593123  ],\n",
       "        [1.61459801],\n",
       "        [1.57284915],\n",
       "        [1.56011634],\n",
       "        [1.67107519],\n",
       "        [1.62644675],\n",
       "        [1.60208971],\n",
       "        [1.60115505],\n",
       "        [1.61529957],\n",
       "        [1.5644635 ],\n",
       "        [1.63226825],\n",
       "        [1.64654976],\n",
       "        [1.604229  ],\n",
       "        [1.59916503],\n",
       "        [1.63828681],\n",
       "        [1.62500219],\n",
       "        [1.63690922],\n",
       "        [1.56865682],\n",
       "        [1.60046086],\n",
       "        [1.61992635],\n",
       "        [1.60553231],\n",
       "        [1.64996905],\n",
       "        [1.57650473],\n",
       "        [1.61934009],\n",
       "        [1.60269741],\n",
       "        [1.64292706],\n",
       "        [1.67121241],\n",
       "        [1.63651293],\n",
       "        [1.63656766],\n",
       "        [1.60675522],\n",
       "        [1.65625986],\n",
       "        [1.61630837],\n",
       "        [1.67977058],\n",
       "        [1.63473708],\n",
       "        [1.59817768],\n",
       "        [1.63859429],\n",
       "        [1.59574113],\n",
       "        [1.57000224],\n",
       "        [1.69041809],\n",
       "        [1.61877265],\n",
       "        [1.64363776],\n",
       "        [1.58456948],\n",
       "        [1.64628071],\n",
       "        [1.58872814],\n",
       "        [1.62416928],\n",
       "        [1.65538305],\n",
       "        [1.60824767],\n",
       "        [1.61116683],\n",
       "        [1.60558661],\n",
       "        [1.58489444],\n",
       "        [1.58984688],\n",
       "        [1.58919237],\n",
       "        [1.62822046],\n",
       "        [1.59898363],\n",
       "        [1.60048415],\n",
       "        [1.59931568],\n",
       "        [1.62089621],\n",
       "        [1.67457278],\n",
       "        [1.577308  ],\n",
       "        [1.62086136],\n",
       "        [1.62064833],\n",
       "        [1.64717048],\n",
       "        [1.62361285],\n",
       "        [1.63626313],\n",
       "        [1.63913658],\n",
       "        [1.51255213],\n",
       "        [1.59368923],\n",
       "        [1.67339346],\n",
       "        [1.62010323],\n",
       "        [1.61000577],\n",
       "        [1.56884055],\n",
       "        [1.58019962],\n",
       "        [1.61935148],\n",
       "        [1.63563469],\n",
       "        [1.64627269],\n",
       "        [1.6103035 ],\n",
       "        [1.62634223],\n",
       "        [1.58161234],\n",
       "        [1.68092036],\n",
       "        [1.60893323],\n",
       "        [1.56137181],\n",
       "        [1.63344675],\n",
       "        [1.58435987],\n",
       "        [1.60478498],\n",
       "        [1.59477366],\n",
       "        [1.57834166],\n",
       "        [1.62307855],\n",
       "        [1.59237191],\n",
       "        [1.64732636],\n",
       "        [1.58750493],\n",
       "        [1.62735739],\n",
       "        [1.6201455 ],\n",
       "        [1.60530815],\n",
       "        [1.61849715],\n",
       "        [1.55044191],\n",
       "        [1.66450989],\n",
       "        [1.58873246],\n",
       "        [1.61759474],\n",
       "        [1.57000874],\n",
       "        [1.65713439],\n",
       "        [1.62160584],\n",
       "        [1.58734283],\n",
       "        [1.57157199],\n",
       "        [1.5877839 ],\n",
       "        [1.61061531],\n",
       "        [1.56624735],\n",
       "        [1.60531074],\n",
       "        [1.59540709],\n",
       "        [1.6619717 ],\n",
       "        [1.56733292],\n",
       "        [1.57138769],\n",
       "        [1.60012554],\n",
       "        [1.5662072 ],\n",
       "        [1.62380284],\n",
       "        [1.67646685],\n",
       "        [1.62253544],\n",
       "        [1.60342688],\n",
       "        [1.57507296],\n",
       "        [1.57407352],\n",
       "        [1.58203089],\n",
       "        [1.62540482],\n",
       "        [1.60098793],\n",
       "        [1.63466184],\n",
       "        [1.61901722],\n",
       "        [1.60113536],\n",
       "        [1.57600634],\n",
       "        [1.61962749],\n",
       "        [1.66403208],\n",
       "        [1.60374347],\n",
       "        [1.63088472],\n",
       "        [1.60640594],\n",
       "        [1.61587294],\n",
       "        [1.57401753],\n",
       "        [1.58652532],\n",
       "        [1.62159335],\n",
       "        [1.56183997],\n",
       "        [1.5966585 ],\n",
       "        [1.57528381],\n",
       "        [1.61871778],\n",
       "        [1.62837067],\n",
       "        [1.62677358],\n",
       "        [1.56151833],\n",
       "        [1.56591689],\n",
       "        [1.58764616],\n",
       "        [1.66096924],\n",
       "        [1.56764888],\n",
       "        [1.60984192],\n",
       "        [1.59561809],\n",
       "        [1.62874928],\n",
       "        [1.59892085],\n",
       "        [1.56218207],\n",
       "        [1.60125137],\n",
       "        [1.65229623],\n",
       "        [1.59341412],\n",
       "        [1.63909895],\n",
       "        [1.56025423],\n",
       "        [1.6543135 ],\n",
       "        [1.65254054],\n",
       "        [1.6081641 ],\n",
       "        [1.59525882],\n",
       "        [1.57789503],\n",
       "        [1.61312785],\n",
       "        [1.59182259],\n",
       "        [1.60099921],\n",
       "        [1.63742931],\n",
       "        [1.56274435],\n",
       "        [1.61716469],\n",
       "        [1.57999917],\n",
       "        [1.61508876],\n",
       "        [1.6391579 ],\n",
       "        [1.61670215],\n",
       "        [1.59068968],\n",
       "        [1.61207562],\n",
       "        [1.61584326],\n",
       "        [1.58304456],\n",
       "        [1.62720377],\n",
       "        [1.6010622 ],\n",
       "        [1.60736272],\n",
       "        [1.60476362],\n",
       "        [1.56804324],\n",
       "        [1.58640487],\n",
       "        [1.60060179],\n",
       "        [1.61607505],\n",
       "        [1.6743829 ],\n",
       "        [1.60044055],\n",
       "        [1.64140537],\n",
       "        [1.6183382 ],\n",
       "        [1.62105248],\n",
       "        [1.56492773],\n",
       "        [1.63724336],\n",
       "        [1.58857659],\n",
       "        [1.63137462],\n",
       "        [1.62243612],\n",
       "        [1.62443223],\n",
       "        [1.64653519],\n",
       "        [1.59256855],\n",
       "        [1.60952247],\n",
       "        [1.58189545],\n",
       "        [1.6146253 ],\n",
       "        [1.59795461],\n",
       "        [1.57842202],\n",
       "        [1.66893782],\n",
       "        [1.61169226],\n",
       "        [1.61804836],\n",
       "        [1.61783347],\n",
       "        [1.6356477 ],\n",
       "        [1.61766092],\n",
       "        [1.63144578],\n",
       "        [1.59591332],\n",
       "        [1.62878938],\n",
       "        [1.58792259],\n",
       "        [1.6348099 ],\n",
       "        [1.62586572],\n",
       "        [1.63753793],\n",
       "        [1.60945086],\n",
       "        [1.56391379],\n",
       "        [1.57475731],\n",
       "        [1.6247429 ],\n",
       "        [1.61318994],\n",
       "        [1.61470469],\n",
       "        [1.55982128],\n",
       "        [1.61703585],\n",
       "        [1.67045245],\n",
       "        [1.60893629],\n",
       "        [1.61470305],\n",
       "        [1.6436916 ],\n",
       "        [1.54400478],\n",
       "        [1.59464251],\n",
       "        [1.59707038],\n",
       "        [1.59022547],\n",
       "        [1.58675525],\n",
       "        [1.62387536],\n",
       "        [1.59946169],\n",
       "        [1.61439447],\n",
       "        [1.63962492],\n",
       "        [1.58744725],\n",
       "        [1.63699649],\n",
       "        [1.58864809],\n",
       "        [1.62490862],\n",
       "        [1.63600702],\n",
       "        [1.61108345],\n",
       "        [1.61005917],\n",
       "        [1.61864899],\n",
       "        [1.59714986],\n",
       "        [1.59113706],\n",
       "        [1.57920786],\n",
       "        [1.60315812],\n",
       "        [1.60222546],\n",
       "        [1.56741247],\n",
       "        [1.67649454],\n",
       "        [1.57802729],\n",
       "        [1.6483328 ],\n",
       "        [1.62240121],\n",
       "        [1.59764275],\n",
       "        [1.61970534],\n",
       "        [1.56903094],\n",
       "        [1.55305231],\n",
       "        [1.61533062],\n",
       "        [1.54520655],\n",
       "        [1.59537739],\n",
       "        [1.67470718],\n",
       "        [1.60655042],\n",
       "        [1.54747154],\n",
       "        [1.59235068],\n",
       "        [1.61608422],\n",
       "        [1.67394621],\n",
       "        [1.62661299],\n",
       "        [1.63050299],\n",
       "        [1.62965615],\n",
       "        [1.65205841],\n",
       "        [1.63125459],\n",
       "        [1.64405052],\n",
       "        [1.6081053 ],\n",
       "        [1.63917397],\n",
       "        [1.6688738 ],\n",
       "        [1.59176624],\n",
       "        [1.60912706],\n",
       "        [1.64145802],\n",
       "        [1.60562617],\n",
       "        [1.6198075 ],\n",
       "        [1.62817135],\n",
       "        [1.62797157],\n",
       "        [1.62154398],\n",
       "        [1.59055885],\n",
       "        [1.61269067],\n",
       "        [1.59140028],\n",
       "        [1.61092195],\n",
       "        [1.65696304],\n",
       "        [1.63523872],\n",
       "        [1.59530614],\n",
       "        [1.59922919],\n",
       "        [1.57271606],\n",
       "        [1.62254512],\n",
       "        [1.61734522],\n",
       "        [1.62878788],\n",
       "        [1.61489088],\n",
       "        [1.54515804],\n",
       "        [1.60179274],\n",
       "        [1.59829397],\n",
       "        [1.55939334],\n",
       "        [1.57026052],\n",
       "        [1.62924997],\n",
       "        [1.60941666],\n",
       "        [1.56541627],\n",
       "        [1.63091323],\n",
       "        [1.59810963],\n",
       "        [1.59978752],\n",
       "        [1.65809246],\n",
       "        [1.59878762],\n",
       "        [1.56628701],\n",
       "        [1.62679453],\n",
       "        [1.58521088],\n",
       "        [1.59499908],\n",
       "        [1.66465164],\n",
       "        [1.60950967],\n",
       "        [1.58059107],\n",
       "        [1.5824504 ],\n",
       "        [1.52285095],\n",
       "        [1.58375854],\n",
       "        [1.57747983],\n",
       "        [1.57577782],\n",
       "        [1.55736034],\n",
       "        [1.61783392],\n",
       "        [1.59403334],\n",
       "        [1.64163085],\n",
       "        [1.56917143],\n",
       "        [1.58958893],\n",
       "        [1.6350444 ],\n",
       "        [1.58598717],\n",
       "        [1.60970086],\n",
       "        [1.58077976],\n",
       "        [1.60540547],\n",
       "        [1.66334281],\n",
       "        [1.63635216],\n",
       "        [1.62603891],\n",
       "        [1.58444778],\n",
       "        [1.58750736],\n",
       "        [1.61660101],\n",
       "        [1.65021268],\n",
       "        [1.54288212],\n",
       "        [1.62591666],\n",
       "        [1.57849436],\n",
       "        [1.58185555],\n",
       "        [1.61311984],\n",
       "        [1.60651797],\n",
       "        [1.62920427],\n",
       "        [1.55429163],\n",
       "        [1.63068401],\n",
       "        [1.67850165],\n",
       "        [1.63292366],\n",
       "        [1.58409295],\n",
       "        [1.62779179],\n",
       "        [1.6394706 ],\n",
       "        [1.62378246],\n",
       "        [1.64102476],\n",
       "        [1.57912439],\n",
       "        [1.60504869],\n",
       "        [1.58634979],\n",
       "        [1.59656522],\n",
       "        [1.61925165],\n",
       "        [1.55093171],\n",
       "        [1.6415813 ],\n",
       "        [1.62818551],\n",
       "        [1.61196327],\n",
       "        [1.61645368],\n",
       "        [1.62669931],\n",
       "        [1.5677366 ],\n",
       "        [1.59276487],\n",
       "        [1.63792597],\n",
       "        [1.56447472],\n",
       "        [1.61910359],\n",
       "        [1.58357943],\n",
       "        [1.57790138],\n",
       "        [1.64753025],\n",
       "        [1.56106598],\n",
       "        [1.63375553],\n",
       "        [1.57857711],\n",
       "        [1.63625387],\n",
       "        [1.59751643],\n",
       "        [1.5768303 ],\n",
       "        [1.61869133],\n",
       "        [1.57889409],\n",
       "        [1.63932482],\n",
       "        [1.66513878],\n",
       "        [1.55056969],\n",
       "        [1.62436494],\n",
       "        [1.64882272],\n",
       "        [1.62234597],\n",
       "        [1.58537828],\n",
       "        [1.57225043],\n",
       "        [1.65709448],\n",
       "        [1.5573436 ],\n",
       "        [1.64966884],\n",
       "        [1.57165195],\n",
       "        [1.58707445],\n",
       "        [1.65897312],\n",
       "        [1.62838598],\n",
       "        [1.63434438],\n",
       "        [1.61734412],\n",
       "        [1.58574537],\n",
       "        [1.56844728],\n",
       "        [1.60749135],\n",
       "        [1.55680032],\n",
       "        [1.58234098],\n",
       "        [1.58677373],\n",
       "        [1.60081403],\n",
       "        [1.55174096],\n",
       "        [1.59048045],\n",
       "        [1.622779  ],\n",
       "        [1.64253058],\n",
       "        [1.6296692 ],\n",
       "        [1.62806228],\n",
       "        [1.55632275],\n",
       "        [1.59535524],\n",
       "        [1.68721991],\n",
       "        [1.5689902 ],\n",
       "        [1.60577368],\n",
       "        [1.63099946],\n",
       "        [1.62569464],\n",
       "        [1.6416177 ],\n",
       "        [1.59565065],\n",
       "        [1.64991431],\n",
       "        [1.62522659],\n",
       "        [1.59812545],\n",
       "        [1.61983238],\n",
       "        [1.58628752],\n",
       "        [1.59404601],\n",
       "        [1.60606808],\n",
       "        [1.64662808],\n",
       "        [1.5972402 ],\n",
       "        [1.65618103],\n",
       "        [1.60226258],\n",
       "        [1.62077667],\n",
       "        [1.62613189],\n",
       "        [1.5724983 ],\n",
       "        [1.59397849],\n",
       "        [1.6303461 ],\n",
       "        [1.56587252],\n",
       "        [1.62082983],\n",
       "        [1.58362901],\n",
       "        [1.60294708],\n",
       "        [1.62279968],\n",
       "        [1.63918634],\n",
       "        [1.61347298],\n",
       "        [1.64579947],\n",
       "        [1.63344263],\n",
       "        [1.60562563],\n",
       "        [1.61104655],\n",
       "        [1.59942929],\n",
       "        [1.63799956],\n",
       "        [1.58763363],\n",
       "        [1.59156405],\n",
       "        [1.65252323],\n",
       "        [1.64763278],\n",
       "        [1.61731273],\n",
       "        [1.57744773],\n",
       "        [1.54696009],\n",
       "        [1.61293108],\n",
       "        [1.59036058],\n",
       "        [1.56060408],\n",
       "        [1.57842473],\n",
       "        [1.54838101],\n",
       "        [1.52439791],\n",
       "        [1.59798364],\n",
       "        [1.62559774],\n",
       "        [1.67957113],\n",
       "        [1.58750969],\n",
       "        [1.63068476],\n",
       "        [1.60170603],\n",
       "        [1.59010553],\n",
       "        [1.61100066],\n",
       "        [1.60796598],\n",
       "        [1.59559394],\n",
       "        [1.64570702],\n",
       "        [1.62715654],\n",
       "        [1.62124018],\n",
       "        [1.64875234],\n",
       "        [1.64780715],\n",
       "        [1.63253327],\n",
       "        [1.61220257],\n",
       "        [1.59556616],\n",
       "        [1.60529778],\n",
       "        [1.57145543],\n",
       "        [1.58631894],\n",
       "        [1.60140512],\n",
       "        [1.60420991],\n",
       "        [1.63349095],\n",
       "        [1.59350422],\n",
       "        [1.58112753],\n",
       "        [1.61078362],\n",
       "        [1.63293113],\n",
       "        [1.56244196],\n",
       "        [1.59348479],\n",
       "        [1.65510468],\n",
       "        [1.6087891 ],\n",
       "        [1.64713662],\n",
       "        [1.62610921],\n",
       "        [1.60088983],\n",
       "        [1.60286776],\n",
       "        [1.59992662],\n",
       "        [1.62038463],\n",
       "        [1.60686284],\n",
       "        [1.65159891],\n",
       "        [1.61287556],\n",
       "        [1.67010415],\n",
       "        [1.62478188],\n",
       "        [1.61095149],\n",
       "        [1.61178765],\n",
       "        [1.57269205],\n",
       "        [1.6150404 ],\n",
       "        [1.61313094],\n",
       "        [1.58653397],\n",
       "        [1.59421783],\n",
       "        [1.59887425],\n",
       "        [1.63338226],\n",
       "        [1.636617  ],\n",
       "        [1.60401067],\n",
       "        [1.58465503],\n",
       "        [1.58662457],\n",
       "        [1.60718701],\n",
       "        [1.52819653],\n",
       "        [1.65751408],\n",
       "        [1.5501941 ],\n",
       "        [1.57566501],\n",
       "        [1.57951259],\n",
       "        [1.5675557 ],\n",
       "        [1.63417583],\n",
       "        [1.62307476],\n",
       "        [1.62551722],\n",
       "        [1.63852108],\n",
       "        [1.58496382],\n",
       "        [1.59180045],\n",
       "        [1.61207833],\n",
       "        [1.61543545],\n",
       "        [1.5980515 ],\n",
       "        [1.59380637],\n",
       "        [1.66778656],\n",
       "        [1.63864958],\n",
       "        [1.65547593],\n",
       "        [1.51964112],\n",
       "        [1.62163882],\n",
       "        [1.59107752],\n",
       "        [1.62754806],\n",
       "        [1.61196765],\n",
       "        [1.66114926],\n",
       "        [1.66057248],\n",
       "        [1.61478793],\n",
       "        [1.6250094 ],\n",
       "        [1.59623525],\n",
       "        [1.61226021],\n",
       "        [1.60751023],\n",
       "        [1.63960664],\n",
       "        [1.60900709],\n",
       "        [1.55536693],\n",
       "        [1.56124251],\n",
       "        [1.62451995],\n",
       "        [1.6210661 ],\n",
       "        [1.59185344],\n",
       "        [1.62393377],\n",
       "        [1.56432208],\n",
       "        [1.61139103],\n",
       "        [1.64684312],\n",
       "        [1.63088876],\n",
       "        [1.63552099],\n",
       "        [1.62209748],\n",
       "        [1.60147014],\n",
       "        [1.62528003],\n",
       "        [1.6503858 ],\n",
       "        [1.60413599],\n",
       "        [1.62940519],\n",
       "        [1.61336803],\n",
       "        [1.67265975],\n",
       "        [1.5944887 ],\n",
       "        [1.65097189],\n",
       "        [1.57847745],\n",
       "        [1.55778669],\n",
       "        [1.59419866],\n",
       "        [1.58123199],\n",
       "        [1.61674184],\n",
       "        [1.54995998],\n",
       "        [1.58128207],\n",
       "        [1.59263177],\n",
       "        [1.6396165 ],\n",
       "        [1.61051681],\n",
       "        [1.68125616],\n",
       "        [1.62516101],\n",
       "        [1.57922761],\n",
       "        [1.62599017],\n",
       "        [1.63115261],\n",
       "        [1.61600931],\n",
       "        [1.65737578],\n",
       "        [1.58909039],\n",
       "        [1.5928717 ],\n",
       "        [1.57415474],\n",
       "        [1.59065017],\n",
       "        [1.62881628],\n",
       "        [1.65100822],\n",
       "        [1.57721515],\n",
       "        [1.65997998],\n",
       "        [1.63301105],\n",
       "        [1.61053598],\n",
       "        [1.65710577],\n",
       "        [1.63895873],\n",
       "        [1.61665849],\n",
       "        [1.60501462],\n",
       "        [1.60799995],\n",
       "        [1.5965971 ],\n",
       "        [1.65010322],\n",
       "        [1.62089921],\n",
       "        [1.6399393 ],\n",
       "        [1.60686297],\n",
       "        [1.62603613],\n",
       "        [1.56694136],\n",
       "        [1.65020073],\n",
       "        [1.61541844],\n",
       "        [1.59340716],\n",
       "        [1.62227321],\n",
       "        [1.62058822],\n",
       "        [1.63162161],\n",
       "        [1.5736406 ],\n",
       "        [1.59829634],\n",
       "        [1.62572567],\n",
       "        [1.59450116],\n",
       "        [1.60340856],\n",
       "        [1.56237654],\n",
       "        [1.60262257],\n",
       "        [1.6254087 ],\n",
       "        [1.59958984],\n",
       "        [1.56517397],\n",
       "        [1.61419101],\n",
       "        [1.63334299],\n",
       "        [1.5738303 ],\n",
       "        [1.65460772],\n",
       "        [1.64266857],\n",
       "        [1.66054247],\n",
       "        [1.60458806],\n",
       "        [1.5910725 ],\n",
       "        [1.57697913],\n",
       "        [1.63260751],\n",
       "        [1.57776831],\n",
       "        [1.59669761],\n",
       "        [1.62201202],\n",
       "        [1.58891873],\n",
       "        [1.62132524],\n",
       "        [1.58270051],\n",
       "        [1.65117949],\n",
       "        [1.58431857],\n",
       "        [1.58989044],\n",
       "        [1.57823881],\n",
       "        [1.56495888],\n",
       "        [1.62291651],\n",
       "        [1.60666   ],\n",
       "        [1.56699981],\n",
       "        [1.61612318],\n",
       "        [1.55888859],\n",
       "        [1.63365919],\n",
       "        [1.60033899],\n",
       "        [1.580232  ],\n",
       "        [1.61979397],\n",
       "        [1.66709373],\n",
       "        [1.58927345],\n",
       "        [1.65326655],\n",
       "        [1.61138409],\n",
       "        [1.57606732],\n",
       "        [1.63220127],\n",
       "        [1.59528727],\n",
       "        [1.57987163],\n",
       "        [1.56999344],\n",
       "        [1.63788614],\n",
       "        [1.54642886],\n",
       "        [1.65302539],\n",
       "        [1.60040243],\n",
       "        [1.55786605],\n",
       "        [1.60141637],\n",
       "        [1.61821059],\n",
       "        [1.61581494],\n",
       "        [1.59247548],\n",
       "        [1.59192895],\n",
       "        [1.59347953],\n",
       "        [1.61064573],\n",
       "        [1.57347935],\n",
       "        [1.6039949 ],\n",
       "        [1.65938932]])]"
      ]
     },
     "execution_count": 135,
     "metadata": {},
     "output_type": "execute_result"
    }
   ],
   "source": [
    "catch_coverages"
   ]
  },
  {
   "cell_type": "code",
   "execution_count": 137,
   "id": "647980a7-9ae3-4c5c-b25c-2e37b6a84679",
   "metadata": {},
   "outputs": [],
   "source": [
    "check = pd.DataFrame(catch_coverages[:10])"
   ]
  },
  {
   "cell_type": "code",
   "execution_count": null,
   "id": "e061792a-e589-486e-b8d2-336622f6bf34",
   "metadata": {},
   "outputs": [],
   "source": [
    "# check"
   ]
  },
  {
   "cell_type": "code",
   "execution_count": null,
   "id": "fa101efc-351b-4645-87a3-f008abf1ff3d",
   "metadata": {},
   "outputs": [],
   "source": [
    "# check"
   ]
  },
  {
   "cell_type": "code",
   "execution_count": null,
   "id": "77536655-0afd-4976-980a-fa7a28b55201",
   "metadata": {},
   "outputs": [],
   "source": [
    "# check.columns = [\"train_mae\", \"test_mae\", \"avg_ci_width_train\", \"avg_ci_width_test\", \"avg_lstm_weight\", \"exit_iter\", \"exit_status\"]"
   ]
  },
  {
   "cell_type": "code",
   "execution_count": 138,
   "id": "cd8cefbd-9076-469e-a5dc-dc4637846308",
   "metadata": {},
   "outputs": [],
   "source": [
    "check = check.T"
   ]
  },
  {
   "cell_type": "code",
   "execution_count": 139,
   "id": "9523f0d4",
   "metadata": {},
   "outputs": [
    {
     "data": {
      "text/html": [
       "<div>\n",
       "<style scoped>\n",
       "    .dataframe tbody tr th:only-of-type {\n",
       "        vertical-align: middle;\n",
       "    }\n",
       "\n",
       "    .dataframe tbody tr th {\n",
       "        vertical-align: top;\n",
       "    }\n",
       "\n",
       "    .dataframe thead th {\n",
       "        text-align: right;\n",
       "    }\n",
       "</style>\n",
       "<table border=\"1\" class=\"dataframe\">\n",
       "  <thead>\n",
       "    <tr style=\"text-align: right;\">\n",
       "      <th></th>\n",
       "      <th>0</th>\n",
       "      <th>1</th>\n",
       "      <th>2</th>\n",
       "      <th>3</th>\n",
       "      <th>4</th>\n",
       "      <th>5</th>\n",
       "      <th>6</th>\n",
       "      <th>7</th>\n",
       "      <th>8</th>\n",
       "      <th>9</th>\n",
       "    </tr>\n",
       "  </thead>\n",
       "  <tbody>\n",
       "    <tr>\n",
       "      <th>0</th>\n",
       "      <td>1.262656</td>\n",
       "      <td>1.583616</td>\n",
       "      <td>0.666667</td>\n",
       "      <td>2.317248</td>\n",
       "      <td>0.613333</td>\n",
       "      <td>2.416991</td>\n",
       "      <td>0.477697</td>\n",
       "      <td>0.768492</td>\n",
       "      <td>0.0</td>\n",
       "      <td>9.866667</td>\n",
       "    </tr>\n",
       "  </tbody>\n",
       "</table>\n",
       "</div>"
      ],
      "text/plain": [
       "          0         1         2         3         4         5         6  \\\n",
       "0  1.262656  1.583616  0.666667  2.317248  0.613333  2.416991  0.477697   \n",
       "\n",
       "          7    8         9  \n",
       "0  0.768492  0.0  9.866667  "
      ]
     },
     "execution_count": 139,
     "metadata": {},
     "output_type": "execute_result"
    }
   ],
   "source": [
    "check"
   ]
  },
  {
   "cell_type": "code",
   "execution_count": null,
   "id": "4fc1dcac-24b2-45e7-ae4c-e55eca90a6c6",
   "metadata": {},
   "outputs": [],
   "source": [
    "# check.columns = [\"train_mae\", \"test_mae\", \"train_coverage\", \"train_width\", \"test_coverage\", \"test_width\", \"exit_iter\", \"time_taken\", \"avg_width_alginate\"]"
   ]
  },
  {
   "cell_type": "code",
   "execution_count": 140,
   "id": "dc699633-60c4-4774-93ef-e90160803672",
   "metadata": {},
   "outputs": [],
   "source": [
    "check.columns = [\"train_mae\", \"test_mae\", \"train_coverage\", \"train_width\", \"test_coverage\", \"test_width\", \"drug_weight\" , \"pearson_correlation\" ,\"exit_iter\", \"time_taken\"]"
   ]
  },
  {
   "cell_type": "code",
   "execution_count": 141,
   "id": "0166a00a",
   "metadata": {},
   "outputs": [
    {
     "data": {
      "text/html": [
       "<div>\n",
       "<style scoped>\n",
       "    .dataframe tbody tr th:only-of-type {\n",
       "        vertical-align: middle;\n",
       "    }\n",
       "\n",
       "    .dataframe tbody tr th {\n",
       "        vertical-align: top;\n",
       "    }\n",
       "\n",
       "    .dataframe thead th {\n",
       "        text-align: right;\n",
       "    }\n",
       "</style>\n",
       "<table border=\"1\" class=\"dataframe\">\n",
       "  <thead>\n",
       "    <tr style=\"text-align: right;\">\n",
       "      <th></th>\n",
       "      <th>train_mae</th>\n",
       "      <th>test_mae</th>\n",
       "      <th>train_coverage</th>\n",
       "      <th>train_width</th>\n",
       "      <th>test_coverage</th>\n",
       "      <th>test_width</th>\n",
       "      <th>drug_weight</th>\n",
       "      <th>pearson_correlation</th>\n",
       "      <th>exit_iter</th>\n",
       "      <th>time_taken</th>\n",
       "    </tr>\n",
       "  </thead>\n",
       "  <tbody>\n",
       "    <tr>\n",
       "      <th>0</th>\n",
       "      <td>1.262656</td>\n",
       "      <td>1.583616</td>\n",
       "      <td>0.666667</td>\n",
       "      <td>2.317248</td>\n",
       "      <td>0.613333</td>\n",
       "      <td>2.416991</td>\n",
       "      <td>0.477697</td>\n",
       "      <td>0.768492</td>\n",
       "      <td>0.0</td>\n",
       "      <td>9.866667</td>\n",
       "    </tr>\n",
       "  </tbody>\n",
       "</table>\n",
       "</div>"
      ],
      "text/plain": [
       "   train_mae  test_mae  train_coverage  train_width  test_coverage  \\\n",
       "0   1.262656  1.583616        0.666667     2.317248       0.613333   \n",
       "\n",
       "   test_width  drug_weight  pearson_correlation  exit_iter  time_taken  \n",
       "0    2.416991     0.477697             0.768492        0.0    9.866667  "
      ]
     },
     "execution_count": 141,
     "metadata": {},
     "output_type": "execute_result"
    }
   ],
   "source": [
    "check"
   ]
  },
  {
   "cell_type": "code",
   "execution_count": null,
   "id": "103b1436-15fd-4e1f-800f-700817b41ead",
   "metadata": {},
   "outputs": [],
   "source": [
    "check.mean()"
   ]
  },
  {
   "cell_type": "code",
   "execution_count": null,
   "id": "2a69771d-fd51-41a0-a90f-e012604617e1",
   "metadata": {},
   "outputs": [],
   "source": [
    "check.median()"
   ]
  },
  {
   "cell_type": "code",
   "execution_count": null,
   "id": "fcf483cf-1d09-4d5d-8c7c-7db62473a356",
   "metadata": {},
   "outputs": [],
   "source": [
    "check.mean()"
   ]
  },
  {
   "cell_type": "code",
   "execution_count": null,
   "id": "35a4171e-96bc-46c1-82d6-4f8e73f99dad",
   "metadata": {},
   "outputs": [],
   "source": [
    "check_mean = check.mean().reset_index()"
   ]
  },
  {
   "cell_type": "code",
   "execution_count": null,
   "id": "b4303826-48ff-4077-ae66-d048f1ee8a6c",
   "metadata": {},
   "outputs": [],
   "source": [
    "check_mean.to_csv(\"Mean_Metrics_\" +  string +  \".csv\", index = False)"
   ]
  },
  {
   "cell_type": "code",
   "execution_count": null,
   "id": "9b520f45-ad8d-453c-80e7-7a6bb711692f",
   "metadata": {},
   "outputs": [],
   "source": [
    "check.std()"
   ]
  },
  {
   "cell_type": "code",
   "execution_count": null,
   "id": "6fca625b-cf9b-4fac-865e-79dfb96918af",
   "metadata": {},
   "outputs": [],
   "source": [
    "check_std = check.std().reset_index()"
   ]
  },
  {
   "cell_type": "code",
   "execution_count": null,
   "id": "a644ab46-27f8-472c-912e-de07bbd1223e",
   "metadata": {},
   "outputs": [],
   "source": [
    "check_std.to_csv(\"Std_Metrics_\" + string +  \".csv\", index = False)"
   ]
  },
  {
   "cell_type": "code",
   "execution_count": null,
   "id": "e3e43629-3a74-4d41-acaf-dea297a3840c",
   "metadata": {},
   "outputs": [],
   "source": [
    "check.std()/10"
   ]
  },
  {
   "cell_type": "code",
   "execution_count": null,
   "id": "a83c3d12-b2f0-44b8-9904-7b10c4f513bd",
   "metadata": {},
   "outputs": [],
   "source": [
    "# true_preds = []\n",
    "# enkf_preds = []\n",
    "# for i in range(0,reps):\n",
    "#     all_preds = catch_coverages[i][-1]\n",
    "#     all_preds = all_preds.mean(0)\n",
    "#     catch_test_probs = expit(catch1[i][2])\n",
    "#     true_probs = catch_test_probs.ravel().tolist()\n",
    "#     true_preds.append(true_probs)\n",
    "#     enkf_preds.append(all_preds.ravel().tolist())\n",
    "#     # plt.scatter(true_probs, all_preds.ravel().tolist())\n",
    "#     # plt.show()"
   ]
  },
  {
   "cell_type": "code",
   "execution_count": null,
   "id": "4089a2ab-43f9-4e24-a7ed-add7bdc14156",
   "metadata": {},
   "outputs": [],
   "source": [
    "# true_preds = [inner for item in true_preds for inner in item]"
   ]
  },
  {
   "cell_type": "code",
   "execution_count": null,
   "id": "65492b8d-d7e4-4375-8577-d79a633680b7",
   "metadata": {},
   "outputs": [],
   "source": [
    "# enkf_preds = [inner for item in enkf_preds for inner in item]"
   ]
  },
  {
   "cell_type": "code",
   "execution_count": null,
   "id": "19776731-14c7-43c3-bd48-163aa67e2c76",
   "metadata": {},
   "outputs": [],
   "source": [
    "# np.mean(np.abs(np.array(true_preds)-np.array(enkf_preds)))"
   ]
  },
  {
   "cell_type": "code",
   "execution_count": null,
   "id": "1ebada74-6fe8-4f58-a939-87ca7399aef8",
   "metadata": {},
   "outputs": [],
   "source": [
    "# plt.scatter(enkf_preds,true_preds, alpha=0.5)\n",
    "# plt.xlabel(\"EnKF Predictions\", fontsize = 15, fontweight = \"bold\")\n",
    "# plt.ylabel(\"LSTM Predictions\", fontsize = 15, fontweight = \"bold\")\n",
    "# plt.xticks( fontsize = 10, fontweight = \"bold\")\n",
    "# plt.yticks( fontsize = 10, fontweight = \"bold\")\n",
    "# plt.axline((0, 0), slope=1)\n",
    "# plt.show()"
   ]
  },
  {
   "cell_type": "code",
   "execution_count": null,
   "id": "dd706672-8fd1-4f54-88a2-d377f1b2d7d3",
   "metadata": {},
   "outputs": [],
   "source": [
    "# cur_idx = 0"
   ]
  },
  {
   "cell_type": "code",
   "execution_count": null,
   "id": "ead27b05-299e-49dc-bb97-236a18cd05e5",
   "metadata": {},
   "outputs": [],
   "source": [
    "# catch_preds = []\n",
    "# for i in range(0, catch_coverages[cur_idx][-1].shape[1]):\n",
    "#     enkf_preds = catch_coverages[cur_idx][-1][:,i,:]\n",
    "#     enkf_preds_df = pd.DataFrame(enkf_preds)\n",
    "#     enkf_preds_df[\"Test_Sample_ID\"] = i \n",
    "#     enkf_preds_df.columns = [\"EnKF_Preds\", \"Test_Sample_ID\"]\n",
    "#     catch_preds.append(enkf_preds_df)"
   ]
  },
  {
   "cell_type": "code",
   "execution_count": null,
   "id": "76f88a3c-8152-4b54-8eea-761701d7b7cc",
   "metadata": {},
   "outputs": [],
   "source": [
    "# catch_preds_df = pd.concat(catch_preds)"
   ]
  },
  {
   "cell_type": "code",
   "execution_count": null,
   "id": "6614c144-29c3-451d-a6c6-a624aa4096a1",
   "metadata": {},
   "outputs": [],
   "source": [
    "# import seaborn as sns"
   ]
  },
  {
   "cell_type": "code",
   "execution_count": null,
   "id": "45f52dcf-cc5b-4af0-b495-9c0601729154",
   "metadata": {},
   "outputs": [],
   "source": [
    "# filtered_df = expit(catch1[cur_idx][2])"
   ]
  },
  {
   "cell_type": "code",
   "execution_count": null,
   "id": "51405252-c830-4c95-90d8-e42cffcae59b",
   "metadata": {},
   "outputs": [],
   "source": [
    "# # plt.figure(figsize = (10,10))\n",
    "# fig = sns.boxplot(catch_preds_df, x=\"Test_Sample_ID\", y=\"EnKF_Preds\", showfliers=False)\n",
    "# plt.scatter(range(0, filtered_df.shape[0]), filtered_df, c = \"black\", s = 50)\n",
    "# plt.xlabel(\"Test Sample ID\", fontsize = 15, fontweight = \"bold\")\n",
    "# plt.ylabel(\"EnKF Predictions\", fontsize = 15, fontweight = \"bold\")\n",
    "# plt.xticks(fontsize = 10, fontweight = \"bold\")\n",
    "# plt.yticks(fontsize = 10, fontweight = \"bold\")\n",
    "# plt.show()"
   ]
  },
  {
   "cell_type": "code",
   "execution_count": null,
   "id": "ab4ef63f-a716-4006-8923-39df160647d8",
   "metadata": {},
   "outputs": [],
   "source": [
    "# ids = [i for i in range(0, filtered_df.shape[0]) if filtered_df[i] < 0.5]\n",
    "# ids_more = [i for i in range(0, filtered_df.shape[0]) if filtered_df[i] > 0.5]"
   ]
  },
  {
   "cell_type": "code",
   "execution_count": null,
   "id": "0976b8bc-6faa-4c8e-a9d1-3b666d9435e0",
   "metadata": {},
   "outputs": [],
   "source": [
    "# catch_preds_df.groupby(\"Test_Sample_ID\").quantile(q = [0.025, 0.975])"
   ]
  },
  {
   "cell_type": "code",
   "execution_count": null,
   "id": "64886e1a-d858-4ea8-9cc4-51ab0b072286",
   "metadata": {},
   "outputs": [],
   "source": [
    "# catch_preds_df_filtered = catch_preds_df[catch_preds_df[\"Test_Sample_ID\"].isin(ids_more)]"
   ]
  },
  {
   "cell_type": "code",
   "execution_count": null,
   "id": "6ecec8de-d825-4191-9f35-705382466d97",
   "metadata": {},
   "outputs": [],
   "source": [
    "# filtered_true = filtered_df[ids_more,:]"
   ]
  },
  {
   "cell_type": "code",
   "execution_count": null,
   "id": "860a9f6b-a286-4855-8530-2c2d71d08737",
   "metadata": {},
   "outputs": [],
   "source": [
    "# # plt.figure(figsize = (10,10))\n",
    "# fig = sns.boxplot(catch_preds_df_filtered, x=\"Test_Sample_ID\", y=\"EnKF_Preds\", showfliers=False)\n",
    "# plt.scatter(range(0, filtered_true.shape[0]), filtered_true, c = \"black\", s = 50)\n",
    "# plt.xlabel(\"Test Sample ID\", fontsize = 15, fontweight = \"bold\")\n",
    "# plt.ylabel(\"EnKF Predictions\", fontsize = 15, fontweight = \"bold\")\n",
    "# plt.xticks(fontsize = 10, fontweight = \"bold\")\n",
    "# plt.yticks(fontsize = 10, fontweight = \"bold\")\n",
    "# plt.show()"
   ]
  },
  {
   "cell_type": "code",
   "execution_count": null,
   "id": "ec177a9b-74aa-4458-a88e-a8b1ab1deff6",
   "metadata": {},
   "outputs": [],
   "source": [
    "# catch_preds_df_filtered = catch_preds_df[catch_preds_df[\"Test_Sample_ID\"].isin(ids)]\n",
    "# filtered_true = filtered_df[ids,:]\n",
    "# # plt.figure(figsize = (10,10))\n",
    "# fig = sns.boxplot(catch_preds_df_filtered, x=\"Test_Sample_ID\", y=\"EnKF_Preds\", showfliers=False)\n",
    "# plt.scatter(range(0, filtered_true.shape[0]), filtered_true, c = \"black\")\n",
    "# plt.xlabel(\"Test Sample ID\", fontsize = 15, fontweight = \"bold\")\n",
    "# plt.ylabel(\"EnKF Predictions\", fontsize = 15, fontweight = \"bold\")\n",
    "# plt.xticks(fontsize = 10, fontweight = \"bold\")\n",
    "# plt.yticks(fontsize = 10, fontweight = \"bold\")\n",
    "# plt.show()\n",
    "# # plt.ylim((0.9,1.0))"
   ]
  }
 ],
 "metadata": {
  "kernelspec": {
   "display_name": "newone1",
   "language": "python",
   "name": "newone1"
  },
  "language_info": {
   "codemirror_mode": {
    "name": "ipython",
    "version": 3
   },
   "file_extension": ".py",
   "mimetype": "text/x-python",
   "name": "python",
   "nbconvert_exporter": "python",
   "pygments_lexer": "ipython3",
   "version": "3.9.12"
  }
 },
 "nbformat": 4,
 "nbformat_minor": 5
}
