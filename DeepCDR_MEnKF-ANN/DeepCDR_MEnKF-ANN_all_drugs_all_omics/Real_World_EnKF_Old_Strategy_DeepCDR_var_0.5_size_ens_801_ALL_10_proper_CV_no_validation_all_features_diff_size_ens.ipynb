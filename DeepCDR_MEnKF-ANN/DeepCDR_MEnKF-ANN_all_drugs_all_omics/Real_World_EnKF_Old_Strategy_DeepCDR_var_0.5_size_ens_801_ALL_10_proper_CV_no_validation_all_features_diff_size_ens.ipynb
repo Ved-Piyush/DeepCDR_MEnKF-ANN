{
 "cells": [
  {
   "cell_type": "code",
   "execution_count": 1,
   "id": "d7ab5bf3",
   "metadata": {},
   "outputs": [],
   "source": [
    "import pandas as pd\n",
    "from tqdm import tqdm\n",
    "# import gensim\n",
    "import os\n",
    "os.environ['TF_CPP_MIN_LOG_LEVEL'] = '3' \n",
    "from joblib import Parallel, delayed\n",
    "import sys\n",
    "from scipy.stats import norm"
   ]
  },
  {
   "cell_type": "code",
   "execution_count": 2,
   "id": "36084258",
   "metadata": {},
   "outputs": [
    {
     "name": "stdout",
     "output_type": "stream",
     "text": [
      "No GPU found\n"
     ]
    }
   ],
   "source": [
    "# Seed value\n",
    "# Apparently you may use different seed values at each stage\n",
    "seed_value= 42\n",
    "\n",
    "# 1. Set the `PYTHONHASHSEED` environment variable at a fixed value\n",
    "import os\n",
    "os.environ['PYTHONHASHSEED']=str(seed_value)\n",
    "\n",
    "# 2. Set the `python` built-in pseudo-random generator at a fixed value\n",
    "import random\n",
    "random.seed(seed_value)\n",
    "\n",
    "# 3. Set the `numpy` pseudo-random generator at a fixed value\n",
    "import numpy as np\n",
    "np.random.seed(seed_value)\n",
    "\n",
    "# # 4. Set the `tensorflow` pseudo-random generator at a fixed value\n",
    "import tensorflow as tf\n",
    "os.environ['CUDA_VISIBLE_DEVICES'] = '-1'\n",
    "\n",
    "if tf.test.gpu_device_name():\n",
    "    print('GPU found')\n",
    "else:\n",
    "    print(\"No GPU found\")\n",
    "# tf.config.set_visible_devices([], 'GPU')\n",
    "\n",
    "from tqdm.notebook import tqdm\n",
    "tf.random.set_seed(seed_value)\n",
    "import multiprocessing\n"
   ]
  },
  {
   "cell_type": "code",
   "execution_count": 3,
   "id": "e036b858",
   "metadata": {},
   "outputs": [],
   "source": [
    "import matplotlib.pyplot as plt\n",
    "\n",
    "import pickle"
   ]
  },
  {
   "cell_type": "code",
   "execution_count": 4,
   "id": "a1221543-b1fd-4225-91c9-1f372ac315e3",
   "metadata": {},
   "outputs": [],
   "source": [
    "path = os.getcwd() + \"//dataset_1\""
   ]
  },
  {
   "cell_type": "code",
   "execution_count": 5,
   "id": "6dd7d977-20bc-4012-a710-291b706cf0a2",
   "metadata": {},
   "outputs": [],
   "source": [
    "# ## read in all the drug features\n",
    "# ## for train test and valid\n",
    "train_drugs = np.load(path + \"//\" + \"train_drug.npy\")"
   ]
  },
  {
   "cell_type": "code",
   "execution_count": 6,
   "id": "d8ad0799-99d9-435f-923d-a77cebe3986e",
   "metadata": {},
   "outputs": [],
   "source": [
    "idxs = list(set(range(0, train_drugs.shape[1])))"
   ]
  },
  {
   "cell_type": "code",
   "execution_count": 7,
   "id": "62c9e28e-57e1-4989-9377-779597ab9187",
   "metadata": {},
   "outputs": [],
   "source": [
    "train_omics = np.load(path + \"//\" + \"train_omics.npy\")[:, idxs]"
   ]
  },
  {
   "cell_type": "code",
   "execution_count": 8,
   "id": "44ebb88c-545f-4e3f-b770-a2217cf4151c",
   "metadata": {},
   "outputs": [
    {
     "data": {
      "text/plain": [
       "(500, 90)"
      ]
     },
     "execution_count": 8,
     "metadata": {},
     "output_type": "execute_result"
    }
   ],
   "source": [
    "train_omics.shape"
   ]
  },
  {
   "cell_type": "code",
   "execution_count": 9,
   "id": "bf5e1d3d-dd3c-45fb-a82b-4195c53d6243",
   "metadata": {},
   "outputs": [],
   "source": [
    "train_omics1 = np.load(path + \"//\" + \"train_omics.npy\")"
   ]
  },
  {
   "cell_type": "code",
   "execution_count": 10,
   "id": "76624ecc-8bb7-4e52-b95d-1a01cecacb5b",
   "metadata": {},
   "outputs": [],
   "source": [
    "def ann(hidden = 10, input_shape = 90): \n",
    "    input_layer = tf.keras.layers.Input(shape = (input_shape))\n",
    "    hidden_layer = tf.keras.layers.Dense(hidden)\n",
    "    hidden_output = hidden_layer(input_layer)\n",
    "    pred_layer = tf.keras.layers.Dense(1)\n",
    "    pred_output = pred_layer(hidden_output)\n",
    "#     pred_output = tf.keras.layers.Activation(\"softmax\")(pred_output)\n",
    "    model = tf.keras.models.Model(input_layer, pred_output)\n",
    "    return model"
   ]
  },
  {
   "cell_type": "code",
   "execution_count": 11,
   "id": "b8153ea5-cefc-4075-994d-c51461505e8b",
   "metadata": {},
   "outputs": [],
   "source": [
    "# X_train_word2vec = train_drugs"
   ]
  },
  {
   "cell_type": "code",
   "execution_count": 12,
   "id": "95a7d5f5-e03c-4de4-8bea-d4821cc7209d",
   "metadata": {},
   "outputs": [],
   "source": [
    "h1, h2 = 16,16"
   ]
  },
  {
   "cell_type": "code",
   "execution_count": 13,
   "id": "b2ff179a-2c64-4bae-bfd5-3ce7f4b40fb5",
   "metadata": {},
   "outputs": [],
   "source": [
    "\n",
    "\n",
    "ann_15 = ann(h1)\n",
    "\n",
    "\n",
    "# In[35]:\n",
    "\n",
    "\n",
    "# ann_15.summary()\n",
    "\n",
    "\n",
    "# In[36]:\n",
    "\n"
   ]
  },
  {
   "cell_type": "code",
   "execution_count": 14,
   "id": "0bf5144e-59f2-413e-af30-39407819094c",
   "metadata": {},
   "outputs": [
    {
     "name": "stdout",
     "output_type": "stream",
     "text": [
      "Model: \"model\"\n",
      "_________________________________________________________________\n",
      " Layer (type)                Output Shape              Param #   \n",
      "=================================================================\n",
      " input_1 (InputLayer)        [(None, 90)]              0         \n",
      "                                                                 \n",
      " dense (Dense)               (None, 16)                1456      \n",
      "                                                                 \n",
      " dense_1 (Dense)             (None, 1)                 17        \n",
      "                                                                 \n",
      "=================================================================\n",
      "Total params: 1,473\n",
      "Trainable params: 1,473\n",
      "Non-trainable params: 0\n",
      "_________________________________________________________________\n"
     ]
    }
   ],
   "source": [
    "ann_15.summary()"
   ]
  },
  {
   "cell_type": "code",
   "execution_count": 15,
   "id": "a9c45b5a-9f13-4fd9-b90c-ed94e069b9cc",
   "metadata": {},
   "outputs": [],
   "source": [
    "# X_train_word2vec = train_omics"
   ]
  },
  {
   "cell_type": "code",
   "execution_count": 16,
   "id": "bce5668e-a895-47b4-8f1c-6e5d1fd3c92b",
   "metadata": {},
   "outputs": [],
   "source": [
    "ann_20 = ann(h2, 90)\n",
    "\n",
    "\n",
    "\n",
    "# ann_20.summary()\n",
    "\n"
   ]
  },
  {
   "cell_type": "code",
   "execution_count": 17,
   "id": "6a41f8b5",
   "metadata": {},
   "outputs": [],
   "source": [
    "total_weights_1 = ann_15.count_params()"
   ]
  },
  {
   "cell_type": "code",
   "execution_count": 18,
   "id": "0721ea37",
   "metadata": {},
   "outputs": [],
   "source": [
    "total_weights_2 = ann_20.count_params()"
   ]
  },
  {
   "cell_type": "code",
   "execution_count": 19,
   "id": "4b2ed894",
   "metadata": {},
   "outputs": [],
   "source": [
    "total_weights = total_weights_1 + total_weights_2 + 1 "
   ]
  },
  {
   "cell_type": "code",
   "execution_count": 20,
   "id": "999f5e96",
   "metadata": {},
   "outputs": [
    {
     "data": {
      "text/plain": [
       "2947"
      ]
     },
     "execution_count": 20,
     "metadata": {},
     "output_type": "execute_result"
    }
   ],
   "source": [
    "total_weights"
   ]
  },
  {
   "cell_type": "code",
   "execution_count": 21,
   "id": "feb2ef89",
   "metadata": {},
   "outputs": [],
   "source": [
    "## batch size\n",
    "batch_size = 128"
   ]
  },
  {
   "cell_type": "code",
   "execution_count": 22,
   "id": "4eea8c8e",
   "metadata": {},
   "outputs": [],
   "source": [
    "# var_weights = 0.08\n",
    "# var_targets = 0.08"
   ]
  },
  {
   "cell_type": "code",
   "execution_count": 23,
   "id": "9b49ba9c",
   "metadata": {},
   "outputs": [],
   "source": [
    "from scipy.stats import multivariate_normal as mvn"
   ]
  },
  {
   "cell_type": "code",
   "execution_count": 24,
   "id": "7a60a350",
   "metadata": {},
   "outputs": [],
   "source": [
    "from scipy.stats import invgamma, norm"
   ]
  },
  {
   "cell_type": "code",
   "execution_count": 25,
   "id": "bd888262",
   "metadata": {},
   "outputs": [],
   "source": [
    "from tqdm.notebook import tqdm"
   ]
  },
  {
   "cell_type": "code",
   "execution_count": 26,
   "id": "c3355c48",
   "metadata": {},
   "outputs": [],
   "source": [
    "threshold = 5"
   ]
  },
  {
   "cell_type": "code",
   "execution_count": 27,
   "id": "b1ce82b7",
   "metadata": {},
   "outputs": [],
   "source": [
    "import random"
   ]
  },
  {
   "cell_type": "code",
   "execution_count": 28,
   "id": "7425ecc5",
   "metadata": {},
   "outputs": [],
   "source": [
    "lr = 0.1"
   ]
  },
  {
   "cell_type": "code",
   "execution_count": 29,
   "id": "b7959ab1",
   "metadata": {},
   "outputs": [],
   "source": [
    "import numpy as np"
   ]
  },
  {
   "cell_type": "code",
   "execution_count": 30,
   "id": "1db4063f",
   "metadata": {},
   "outputs": [],
   "source": [
    "weights_ann_1 = ann_15.get_weights()\n",
    "weights_ann_2 = ann_20.get_weights()"
   ]
  },
  {
   "cell_type": "code",
   "execution_count": 31,
   "id": "43a211df",
   "metadata": {},
   "outputs": [],
   "source": [
    "def get_targets_with_weights(batch_data, batch_data1, initial_ensembles, log_sigma_points_1, size_ens): \n",
    "\n",
    "    n_hidden_1 = len(weights_ann_1[0].ravel())\n",
    "\n",
    "    hidden_weights_1 = initial_ensembles[:,:n_hidden_1].reshape( size_ens, batch_data.shape[1], h1)\n",
    "\n",
    "    \n",
    "    hidden_output_1 = np.einsum('ij,kjl->kil', batch_data, hidden_weights_1)\n",
    "\n",
    "    \n",
    "    hidden_layer_bias_1 = initial_ensembles[:,n_hidden_1:(n_hidden_1 + h1)].reshape(size_ens, 1,  h1)\n",
    "\n",
    "\n",
    "\n",
    "    hidden_output_1 = hidden_output_1 + hidden_layer_bias_1\n",
    "\n",
    "    n_pred_weights_1 = len(weights_ann_1[2].ravel())\n",
    "\n",
    "    output_weights_1 = initial_ensembles[:,(n_hidden_1 + h1):(n_hidden_1 + h1 + n_pred_weights_1) ].reshape(size_ens, h1, 1)\n",
    "\n",
    "    output_1 = np.einsum('ijk,ikl->ijl', hidden_output_1, output_weights_1)\n",
    "\n",
    "\n",
    "    output_layer_bias_1 = initial_ensembles[:,(n_hidden_1 + h1 + n_pred_weights_1):(n_hidden_1 + h1 + n_pred_weights_1 + 1)].reshape(size_ens, 1, 1)\n",
    "\n",
    "\n",
    "\n",
    "    final_output_1 = output_1 + output_layer_bias_1\n",
    "\n",
    "    n_hidden_2 = len(weights_ann_2[0].ravel())\n",
    "\n",
    "    initial_ensembles_1 = initial_ensembles.copy()[:, total_weights_1:(total_weights_1+ total_weights_2)]\n",
    "    \n",
    "    # print(batch_data1.shape[1])\n",
    "    \n",
    "    \n",
    "    hidden_weights_2 = initial_ensembles_1[:,:n_hidden_2].reshape(size_ens, batch_data1.shape[1], h2)\n",
    "\n",
    "\n",
    "\n",
    "    hidden_output_2 = np.einsum('ij,kjl->kil', batch_data1, hidden_weights_2)\n",
    "\n",
    "    hidden_layer_bias_2 = initial_ensembles[:,n_hidden_2:(n_hidden_2 + h2)].reshape(size_ens, 1,  h2)\n",
    "\n",
    "    hidden_output_2 = hidden_output_2+ hidden_layer_bias_2\n",
    "\n",
    "    n_pred_weights_2 = len(weights_ann_2[2].ravel())\n",
    "\n",
    "    output_weights_2 = initial_ensembles_1[:,(n_hidden_2 + h2):(n_hidden_2 + h2 + n_pred_weights_2) ].reshape(size_ens, h2, 1)\n",
    "\n",
    "\n",
    "    output_2 = np.einsum('ijk,ikl->ijl', hidden_output_2, output_weights_2)\n",
    "\n",
    "\n",
    "    output_layer_bias_2 = initial_ensembles_1[:,(n_hidden_2 + h2 + n_pred_weights_2):(n_hidden_2 + h2 + n_pred_weights_2 + 1)].reshape(size_ens, 1, 1)\n",
    "\n",
    "\n",
    "    final_output_2 = output_2 + output_layer_bias_2\n",
    "\n",
    "\n",
    "    weights_1 = initial_ensembles[:, :total_weights_1]\n",
    "\n",
    "    weights_2 = initial_ensembles[:, total_weights_1:(total_weights_1 + total_weights_2)]\n",
    "\n",
    "\n",
    "    avg_weights = initial_ensembles[:, -1].reshape(-1,1)\n",
    "\n",
    "    avg_weights_sig = expit(avg_weights)\n",
    "    \n",
    "    avg_weights_sig = avg_weights_sig.reshape(avg_weights_sig.shape[0], 1, avg_weights_sig.shape[1])\n",
    "    \n",
    "    complement_weights_sig = 1 - expit(avg_weights)\n",
    "    \n",
    "    complement_weights_sig = complement_weights_sig.reshape(complement_weights_sig.shape[0], 1, complement_weights_sig.shape[1])\n",
    "\n",
    "    final_output_1 = final_output_1*complement_weights_sig\n",
    "    \n",
    "    final_output_2 = final_output_2*avg_weights_sig\n",
    "    \n",
    "    output_1_ravel = final_output_1.reshape(size_ens, final_output_1.shape[1]*final_output_1.shape[2])\n",
    "\n",
    "    output_2_ravel = final_output_2.reshape(size_ens, final_output_2.shape[1]*final_output_2.shape[2])\n",
    "\n",
    "\n",
    "    output_1_ravel = output_1_ravel\n",
    "\n",
    "    output_2_ravel = output_2_ravel\n",
    "\n",
    "\n",
    "\n",
    "    weights_1_add = np.zeros((size_ens, (total_weights_2 - total_weights_1)))\n",
    "\n",
    "\n",
    "\n",
    "    weights_1 = np.hstack((weights_1, weights_1_add))\n",
    "    \n",
    "\n",
    "\n",
    "    stack_1 = np.hstack((output_1_ravel, weights_1, np.repeat(0, size_ens).reshape(-1,1), np.repeat(0, size_ens).reshape(-1,1)))\n",
    "\n",
    "\n",
    "\n",
    "    \n",
    "    stack_2 = np.hstack((output_2_ravel, weights_2, avg_weights, log_sigma_points_1))\n",
    "\n",
    "    \n",
    "    initial_aug_state = np.hstack((stack_1, stack_2)) \n",
    "    \n",
    "\n",
    "    return initial_aug_state , output_1_ravel, output_2_ravel, log_sigma_points_1\n",
    "\n"
   ]
  },
  {
   "cell_type": "code",
   "execution_count": 32,
   "id": "4e3ef6e6",
   "metadata": {},
   "outputs": [],
   "source": [
    "import time"
   ]
  },
  {
   "cell_type": "code",
   "execution_count": 33,
   "id": "0eabfdd4",
   "metadata": {},
   "outputs": [],
   "source": [
    "from scipy.stats import multivariate_normal as mvn"
   ]
  },
  {
   "cell_type": "code",
   "execution_count": 34,
   "id": "10d77915",
   "metadata": {},
   "outputs": [],
   "source": [
    "from scipy.stats import multivariate_normal as mvn"
   ]
  },
  {
   "cell_type": "code",
   "execution_count": 35,
   "id": "ebeb0869-7f0b-4f21-be63-0234896af39f",
   "metadata": {},
   "outputs": [],
   "source": [
    "# train_fudged_probs"
   ]
  },
  {
   "cell_type": "code",
   "execution_count": 36,
   "id": "23d87ffe",
   "metadata": {},
   "outputs": [],
   "source": [
    "import matplotlib.pyplot as plt"
   ]
  },
  {
   "cell_type": "code",
   "execution_count": 37,
   "id": "f5427e43",
   "metadata": {},
   "outputs": [],
   "source": [
    "from scipy.special import expit"
   ]
  },
  {
   "cell_type": "code",
   "execution_count": 38,
   "id": "be0ee1ec",
   "metadata": {},
   "outputs": [],
   "source": [
    "# catch1[0][0]"
   ]
  },
  {
   "cell_type": "code",
   "execution_count": 39,
   "id": "fb492324",
   "metadata": {},
   "outputs": [],
   "source": [
    "# catch_train_logits_second[0]"
   ]
  },
  {
   "cell_type": "code",
   "execution_count": 40,
   "id": "0c2dbaec-3249-404a-9971-c2fc17f68356",
   "metadata": {},
   "outputs": [],
   "source": [
    "from datetime import datetime"
   ]
  },
  {
   "cell_type": "code",
   "execution_count": 41,
   "id": "9cf12935",
   "metadata": {},
   "outputs": [],
   "source": [
    "def expit(x):\n",
    "    \"\"\"Compute softmax values for each sets of scores in x.\"\"\"\n",
    "#     e_x = np.exp(x - np.max(x))\n",
    "    return 1 / (1 + np.exp(-x))"
   ]
  },
  {
   "cell_type": "code",
   "execution_count": 42,
   "id": "ef051014",
   "metadata": {},
   "outputs": [],
   "source": [
    "from scipy.stats import gamma"
   ]
  },
  {
   "cell_type": "code",
   "execution_count": 43,
   "id": "1969c78b-c105-482a-a957-e81329037a09",
   "metadata": {},
   "outputs": [],
   "source": [
    "use_cores = multiprocessing.cpu_count()-1"
   ]
  },
  {
   "cell_type": "code",
   "execution_count": 44,
   "id": "6a062f7f",
   "metadata": {},
   "outputs": [
    {
     "data": {
      "text/plain": [
       "47"
      ]
     },
     "execution_count": 44,
     "metadata": {},
     "output_type": "execute_result"
    }
   ],
   "source": [
    "use_cores"
   ]
  },
  {
   "cell_type": "code",
   "execution_count": 45,
   "id": "881d1612-f98f-4df6-89b0-90bd2e97de4f",
   "metadata": {},
   "outputs": [],
   "source": [
    "from datetime import datetime"
   ]
  },
  {
   "cell_type": "code",
   "execution_count": 46,
   "id": "ac0108fa-359e-4d88-ba02-776a6f19b906",
   "metadata": {},
   "outputs": [],
   "source": [
    "from sklearn.metrics import mean_squared_error"
   ]
  },
  {
   "cell_type": "code",
   "execution_count": 47,
   "id": "6cd29e03-d778-4eeb-98b5-de815840cb5c",
   "metadata": {},
   "outputs": [],
   "source": [
    "import random"
   ]
  },
  {
   "cell_type": "code",
   "execution_count": 48,
   "id": "cc0be1b1",
   "metadata": {},
   "outputs": [],
   "source": [
    "from scipy import stats"
   ]
  },
  {
   "cell_type": "code",
   "execution_count": 49,
   "id": "b49d0934-faa0-428b-8dc7-e53323a26372",
   "metadata": {},
   "outputs": [],
   "source": [
    "from scipy.stats import pearsonr"
   ]
  },
  {
   "cell_type": "code",
   "execution_count": 50,
   "id": "0d5734d0-e75c-436e-bdea-6d5c8223754a",
   "metadata": {},
   "outputs": [],
   "source": [
    "from sklearn.model_selection import train_test_split"
   ]
  },
  {
   "cell_type": "code",
   "execution_count": 51,
   "id": "25586772-a3e4-4d5e-b745-6495023e37d5",
   "metadata": {},
   "outputs": [],
   "source": [
    "from sklearn.model_selection import KFold"
   ]
  },
  {
   "cell_type": "code",
   "execution_count": 52,
   "id": "92d32533",
   "metadata": {},
   "outputs": [],
   "source": [
    "path = os.getcwd() + \"//dataset_\" + str(0 + 1) + \"/\"\n",
    "train_drugs_1 = np.load(path + \"//\" + \"train_drug.npy\")\n",
    "valid_drugs_1 = np.load(path + \"//\" + \"valid_drug.npy\")\n",
    "test_drugs_1 = np.load(path + \"//\" + \"test_drug.npy\")\n",
    "\n",
    "## read in all the omics features\n",
    "## for train test and valid\n",
    "train_omics_1 = np.load(path + \"//\" + \"train_omics.npy\")[:, idxs]\n",
    "valid_omics_1 = np.load(path + \"//\" + \"valid_omics.npy\")[:, idxs]\n",
    "test_omics_1 = np.load(path + \"//\" + \"test_omics.npy\")[:, idxs]\n",
    "\n",
    "## read in all the labels \n",
    "## for train test and valid\n",
    "y_train_1 = np.load(path + \"//\" + \"train_y.npy\").reshape(-1,1)\n",
    "y_valid_1 = np.load(path + \"//\" + \"valid_y.npy\").reshape(-1,1)\n",
    "y_test_1 = np.load(path + \"//\" + \"test_y.npy\").reshape(-1,1)"
   ]
  },
  {
   "cell_type": "code",
   "execution_count": 53,
   "id": "74304c41",
   "metadata": {},
   "outputs": [],
   "source": [
    "path = os.getcwd() + \"//dataset_\" + str(1 + 1) + \"/\"\n",
    "train_drugs_2 = np.load(path + \"//\" + \"train_drug.npy\")\n",
    "valid_drugs_2 = np.load(path + \"//\" + \"valid_drug.npy\")\n",
    "test_drugs_2 = np.load(path + \"//\" + \"test_drug.npy\")\n",
    "\n",
    "## read in all the omics features\n",
    "## for train test and valid\n",
    "train_omics_2 = np.load(path + \"//\" + \"train_omics.npy\")[:, idxs]\n",
    "valid_omics_2 = np.load(path + \"//\" + \"valid_omics.npy\")[:, idxs]\n",
    "test_omics_2 = np.load(path + \"//\" + \"test_omics.npy\")[:, idxs]\n",
    "\n",
    "## read in all the labels \n",
    "## for train test and valid\n",
    "y_train_2 = np.load(path + \"//\" + \"train_y.npy\").reshape(-1,1)\n",
    "y_valid_2 = np.load(path + \"//\" + \"valid_y.npy\").reshape(-1,1)\n",
    "y_test_2 = np.load(path + \"//\" + \"test_y.npy\").reshape(-1,1)"
   ]
  },
  {
   "cell_type": "code",
   "execution_count": 54,
   "id": "6c420480",
   "metadata": {},
   "outputs": [],
   "source": [
    "path = os.getcwd() + \"//dataset_\" + str(1 + 2) + \"/\"\n",
    "train_drugs_3 = np.load(path + \"//\" + \"train_drug.npy\")\n",
    "valid_drugs_3 = np.load(path + \"//\" + \"valid_drug.npy\")\n",
    "test_drugs_3 = np.load(path + \"//\" + \"test_drug.npy\")\n",
    "\n",
    "## read in all the omics features\n",
    "## for train test and valid\n",
    "train_omics_3 = np.load(path + \"//\" + \"train_omics.npy\")[:, idxs]\n",
    "valid_omics_3 = np.load(path + \"//\" + \"valid_omics.npy\")[:, idxs]\n",
    "test_omics_3 = np.load(path + \"//\" + \"test_omics.npy\")[:, idxs]\n",
    "\n",
    "## read in all the labels \n",
    "## for train test and valid\n",
    "y_train_3 = np.load(path + \"//\" + \"train_y.npy\").reshape(-1,1)\n",
    "y_valid_3 = np.load(path + \"//\" + \"valid_y.npy\").reshape(-1,1)\n",
    "y_test_3 = np.load(path + \"//\" + \"test_y.npy\").reshape(-1,1)"
   ]
  },
  {
   "cell_type": "code",
   "execution_count": 55,
   "id": "a3d03182-10e0-47bd-a563-8e2cb8c5c9ad",
   "metadata": {},
   "outputs": [],
   "source": [
    "path = os.getcwd() + \"//dataset_\" + str(1 + 3) + \"/\"\n",
    "train_drugs_4 = np.load(path + \"//\" + \"train_drug.npy\")\n",
    "valid_drugs_4 = np.load(path + \"//\" + \"valid_drug.npy\")\n",
    "test_drugs_4 = np.load(path + \"//\" + \"test_drug.npy\")\n",
    "\n",
    "## read in all the omics features\n",
    "## for train test and valid\n",
    "train_omics_4 = np.load(path + \"//\" + \"train_omics.npy\")[:, idxs]\n",
    "valid_omics_4 = np.load(path + \"//\" + \"valid_omics.npy\")[:, idxs]\n",
    "test_omics_4 = np.load(path + \"//\" + \"test_omics.npy\")[:, idxs]\n",
    "\n",
    "## read in all the labels \n",
    "## for train test and valid\n",
    "y_train_4 = np.load(path + \"//\" + \"train_y.npy\").reshape(-1,1)\n",
    "y_valid_4 = np.load(path + \"//\" + \"valid_y.npy\").reshape(-1,1)\n",
    "y_test_4 = np.load(path + \"//\" + \"test_y.npy\").reshape(-1,1)"
   ]
  },
  {
   "cell_type": "code",
   "execution_count": 56,
   "id": "dab2c9ea-d68c-4cd3-988e-ce4b1fcd8b62",
   "metadata": {},
   "outputs": [],
   "source": [
    "path = os.getcwd() + \"//dataset_\" + str(1 + 4) + \"/\"\n",
    "train_drugs_5 = np.load(path + \"//\" + \"train_drug.npy\")\n",
    "valid_drugs_5 = np.load(path + \"//\" + \"valid_drug.npy\")\n",
    "test_drugs_5 = np.load(path + \"//\" + \"test_drug.npy\")\n",
    "\n",
    "## read in all the omics features\n",
    "## for train test and valid\n",
    "train_omics_5 = np.load(path + \"//\" + \"train_omics.npy\")[:, idxs]\n",
    "valid_omics_5 = np.load(path + \"//\" + \"valid_omics.npy\")[:, idxs]\n",
    "test_omics_5 = np.load(path + \"//\" + \"test_omics.npy\")[:, idxs]\n",
    "\n",
    "## read in all the labels \n",
    "## for train test and valid\n",
    "y_train_5 = np.load(path + \"//\" + \"train_y.npy\").reshape(-1,1)\n",
    "y_valid_5 = np.load(path + \"//\" + \"valid_y.npy\").reshape(-1,1)\n",
    "y_test_5 = np.load(path + \"//\" + \"test_y.npy\").reshape(-1,1)"
   ]
  },
  {
   "cell_type": "code",
   "execution_count": 57,
   "id": "60de9400-054f-4c6f-b9bf-5c140d111922",
   "metadata": {},
   "outputs": [],
   "source": [
    "path = os.getcwd() + \"//dataset_\" + str(1 + 5) + \"/\"\n",
    "train_drugs_6 = np.load(path + \"//\" + \"train_drug.npy\")\n",
    "valid_drugs_6 = np.load(path + \"//\" + \"valid_drug.npy\")\n",
    "test_drugs_6 = np.load(path + \"//\" + \"test_drug.npy\")\n",
    "\n",
    "## read in all the omics features\n",
    "## for train test and valid\n",
    "train_omics_6 = np.load(path + \"//\" + \"train_omics.npy\")[:, idxs]\n",
    "valid_omics_6 = np.load(path + \"//\" + \"valid_omics.npy\")[:, idxs]\n",
    "test_omics_6 = np.load(path + \"//\" + \"test_omics.npy\")[:, idxs]\n",
    "\n",
    "## read in all the labels \n",
    "## for train test and valid\n",
    "y_train_6 = np.load(path + \"//\" + \"train_y.npy\").reshape(-1,1)\n",
    "y_valid_6 = np.load(path + \"//\" + \"valid_y.npy\").reshape(-1,1)\n",
    "y_test_6 = np.load(path + \"//\" + \"test_y.npy\").reshape(-1,1)"
   ]
  },
  {
   "cell_type": "code",
   "execution_count": 58,
   "id": "01085f95-be78-4685-8658-d137a95c386b",
   "metadata": {},
   "outputs": [],
   "source": [
    "path = os.getcwd() + \"//dataset_\" + str(1 + 6) + \"/\"\n",
    "train_drugs_7 = np.load(path + \"//\" + \"train_drug.npy\")\n",
    "valid_drugs_7 = np.load(path + \"//\" + \"valid_drug.npy\")\n",
    "test_drugs_7 = np.load(path + \"//\" + \"test_drug.npy\")\n",
    "\n",
    "## read in all the omics features\n",
    "## for train test and valid\n",
    "train_omics_7 = np.load(path + \"//\" + \"train_omics.npy\")[:, idxs]\n",
    "valid_omics_7 = np.load(path + \"//\" + \"valid_omics.npy\")[:, idxs]\n",
    "test_omics_7 = np.load(path + \"//\" + \"test_omics.npy\")[:, idxs]\n",
    "\n",
    "## read in all the labels \n",
    "## for train test and valid\n",
    "y_train_7 = np.load(path + \"//\" + \"train_y.npy\").reshape(-1,1)\n",
    "y_valid_7 = np.load(path + \"//\" + \"valid_y.npy\").reshape(-1,1)\n",
    "y_test_7 = np.load(path + \"//\" + \"test_y.npy\").reshape(-1,1)"
   ]
  },
  {
   "cell_type": "code",
   "execution_count": 59,
   "id": "96d9ba42-4eaa-4faf-8831-f083c4b684bc",
   "metadata": {},
   "outputs": [],
   "source": [
    "path = os.getcwd() + \"//dataset_\" + str(1 + 7) + \"/\"\n",
    "train_drugs_8 = np.load(path + \"//\" + \"train_drug.npy\")\n",
    "valid_drugs_8 = np.load(path + \"//\" + \"valid_drug.npy\")\n",
    "test_drugs_8 = np.load(path + \"//\" + \"test_drug.npy\")\n",
    "\n",
    "## read in all the omics features\n",
    "## for train test and valid\n",
    "train_omics_8 = np.load(path + \"//\" + \"train_omics.npy\")[:, idxs]\n",
    "valid_omics_8 = np.load(path + \"//\" + \"valid_omics.npy\")[:, idxs]\n",
    "test_omics_8 = np.load(path + \"//\" + \"test_omics.npy\")[:, idxs]\n",
    "\n",
    "## read in all the labels \n",
    "## for train test and valid\n",
    "y_train_8 = np.load(path + \"//\" + \"train_y.npy\").reshape(-1,1)\n",
    "y_valid_8 = np.load(path + \"//\" + \"valid_y.npy\").reshape(-1,1)\n",
    "y_test_8 = np.load(path + \"//\" + \"test_y.npy\").reshape(-1,1)"
   ]
  },
  {
   "cell_type": "code",
   "execution_count": 60,
   "id": "35b41e3c-839e-49ae-ade7-6d06f78a2efa",
   "metadata": {},
   "outputs": [],
   "source": [
    "path = os.getcwd() + \"//dataset_\" + str(1 + 8) + \"/\"\n",
    "train_drugs_9 = np.load(path + \"//\" + \"train_drug.npy\")\n",
    "valid_drugs_9 = np.load(path + \"//\" + \"valid_drug.npy\")\n",
    "test_drugs_9 = np.load(path + \"//\" + \"test_drug.npy\")\n",
    "\n",
    "## read in all the omics features\n",
    "## for train test and valid\n",
    "train_omics_9 = np.load(path + \"//\" + \"train_omics.npy\")[:, idxs]\n",
    "valid_omics_9 = np.load(path + \"//\" + \"valid_omics.npy\")[:, idxs]\n",
    "test_omics_9 = np.load(path + \"//\" + \"test_omics.npy\")[:, idxs]\n",
    "\n",
    "## read in all the labels \n",
    "## for train test and valid\n",
    "y_train_9 = np.load(path + \"//\" + \"train_y.npy\").reshape(-1,1)\n",
    "y_valid_9 = np.load(path + \"//\" + \"valid_y.npy\").reshape(-1,1)\n",
    "y_test_9 = np.load(path + \"//\" + \"test_y.npy\").reshape(-1,1)"
   ]
  },
  {
   "cell_type": "code",
   "execution_count": 61,
   "id": "c978fd4f-96bf-4539-93ab-25db3c1fe9c6",
   "metadata": {},
   "outputs": [],
   "source": [
    "path = os.getcwd() + \"//dataset_\" + str(1 + 9) + \"/\"\n",
    "train_drugs_10 = np.load(path + \"//\" + \"train_drug.npy\")\n",
    "valid_drugs_10 = np.load(path + \"//\" + \"valid_drug.npy\")\n",
    "test_drugs_10 = np.load(path + \"//\" + \"test_drug.npy\")\n",
    "\n",
    "## read in all the omics features\n",
    "## for train test and valid\n",
    "train_omics_10 = np.load(path + \"//\" + \"train_omics.npy\")[:, idxs]\n",
    "valid_omics_10 = np.load(path + \"//\" + \"valid_omics.npy\")[:, idxs]\n",
    "test_omics_10 = np.load(path + \"//\" + \"test_omics.npy\")[:, idxs]\n",
    "\n",
    "## read in all the labels \n",
    "## for train test and valid\n",
    "y_train_10 = np.load(path + \"//\" + \"train_y.npy\").reshape(-1,1)\n",
    "y_valid_10 = np.load(path + \"//\" + \"valid_y.npy\").reshape(-1,1)\n",
    "y_test_10 = np.load(path + \"//\" + \"test_y.npy\").reshape(-1,1)"
   ]
  },
  {
   "cell_type": "code",
   "execution_count": 62,
   "id": "f89552db",
   "metadata": {},
   "outputs": [],
   "source": [
    "train_drugs = np.vstack((train_drugs_1,train_drugs_2, train_drugs_3, train_drugs_4,train_drugs_5, train_drugs_6,\n",
    "                        train_drugs_7,train_drugs_8, train_drugs_9, train_drugs_10))"
   ]
  },
  {
   "cell_type": "code",
   "execution_count": 63,
   "id": "53a1a9dd",
   "metadata": {},
   "outputs": [],
   "source": [
    "train_omics = np.vstack((train_omics_1,train_omics_2, train_omics_3, train_omics_4,train_omics_5, train_omics_6, \n",
    "                        train_omics_7,train_omics_8, train_omics_9, train_omics_10))"
   ]
  },
  {
   "cell_type": "code",
   "execution_count": 64,
   "id": "6109ef8f",
   "metadata": {},
   "outputs": [],
   "source": [
    "valid_drugs = np.vstack((valid_drugs_1,valid_drugs_2, valid_drugs_3, valid_drugs_4,valid_drugs_5, valid_drugs_6,\n",
    "                        valid_drugs_7,valid_drugs_8, valid_drugs_9, valid_drugs_10))"
   ]
  },
  {
   "cell_type": "code",
   "execution_count": 65,
   "id": "ee6a314b",
   "metadata": {},
   "outputs": [],
   "source": [
    "valid_omics = np.vstack((valid_omics_1,valid_omics_2, valid_omics_3, valid_omics_4,valid_omics_5, valid_omics_6, \n",
    "                        valid_omics_7,valid_omics_8, valid_omics_9, valid_omics_10))"
   ]
  },
  {
   "cell_type": "code",
   "execution_count": 66,
   "id": "aa4c619e",
   "metadata": {},
   "outputs": [],
   "source": [
    "test_drugs = np.vstack((test_drugs_1,test_drugs_2, test_drugs_3, test_drugs_4,test_drugs_5, test_drugs_6,\n",
    "                        test_drugs_7,test_drugs_8, test_drugs_9, test_drugs_10))"
   ]
  },
  {
   "cell_type": "code",
   "execution_count": 67,
   "id": "7cb991db",
   "metadata": {},
   "outputs": [],
   "source": [
    "test_omics = np.vstack((test_omics_1,test_omics_2, test_omics_3, test_omics_4,test_omics_5, test_omics_6, \n",
    "                        test_omics_7,test_omics_8, test_omics_9, test_omics_10))"
   ]
  },
  {
   "cell_type": "code",
   "execution_count": 68,
   "id": "ef15b625-871e-4df8-a9a0-b96fe788e232",
   "metadata": {},
   "outputs": [
    {
     "data": {
      "text/plain": [
       "(1000, 90)"
      ]
     },
     "execution_count": 68,
     "metadata": {},
     "output_type": "execute_result"
    }
   ],
   "source": [
    "test_omics.shape"
   ]
  },
  {
   "cell_type": "code",
   "execution_count": 69,
   "id": "61aaaf32",
   "metadata": {},
   "outputs": [],
   "source": [
    "y_train = np.vstack((y_train_1,y_train_2, y_train_3, y_train_4,y_train_5, y_train_6, y_train_7,y_train_8, y_train_9, y_train_10))"
   ]
  },
  {
   "cell_type": "code",
   "execution_count": 70,
   "id": "605c897e",
   "metadata": {},
   "outputs": [],
   "source": [
    "y_valid = np.vstack((y_valid_1,y_valid_2, y_valid_3, y_valid_4,y_valid_5, y_valid_6, y_valid_7,y_valid_8, y_valid_9, y_valid_10))"
   ]
  },
  {
   "cell_type": "code",
   "execution_count": 71,
   "id": "3b04c7b3",
   "metadata": {},
   "outputs": [],
   "source": [
    "y_test = np.vstack((y_test_1,y_test_2, y_test_3, y_test_4,y_test_5, y_test_6, y_test_7,y_test_8, y_test_9, y_test_10))"
   ]
  },
  {
   "cell_type": "code",
   "execution_count": 72,
   "id": "a8a1c655-5f69-4a25-8ab8-184e2329c559",
   "metadata": {},
   "outputs": [
    {
     "data": {
      "text/plain": [
       "(5000, 1)"
      ]
     },
     "execution_count": 72,
     "metadata": {},
     "output_type": "execute_result"
    }
   ],
   "source": [
    "y_train.shape"
   ]
  },
  {
   "cell_type": "code",
   "execution_count": 73,
   "id": "a55c1f26-9b6e-4898-a7dd-3854baaa0c39",
   "metadata": {},
   "outputs": [
    {
     "data": {
      "text/plain": [
       "(1000, 1)"
      ]
     },
     "execution_count": 73,
     "metadata": {},
     "output_type": "execute_result"
    }
   ],
   "source": [
    "y_valid.shape"
   ]
  },
  {
   "cell_type": "code",
   "execution_count": 74,
   "id": "5f2606c4-35ad-49ed-a7c7-7eee6d70d44a",
   "metadata": {},
   "outputs": [
    {
     "data": {
      "text/plain": [
       "(1000, 1)"
      ]
     },
     "execution_count": 74,
     "metadata": {},
     "output_type": "execute_result"
    }
   ],
   "source": [
    "y_test.shape"
   ]
  },
  {
   "cell_type": "code",
   "execution_count": 75,
   "id": "1350b5d2-36dd-4183-a736-6bfcf791b8cd",
   "metadata": {},
   "outputs": [],
   "source": [
    "from sklearn.decomposition import PCA"
   ]
  },
  {
   "cell_type": "code",
   "execution_count": 76,
   "id": "ef77119b-108f-4cbc-9e3c-0c9972979cf4",
   "metadata": {},
   "outputs": [],
   "source": [
    "train_drugs = np.vstack((train_drugs, valid_drugs, test_drugs))"
   ]
  },
  {
   "cell_type": "code",
   "execution_count": 77,
   "id": "324df85d-1949-4601-84a8-94ba8d9ebaf5",
   "metadata": {},
   "outputs": [],
   "source": [
    "train_omics = np.vstack((train_omics, valid_omics, test_omics))"
   ]
  },
  {
   "cell_type": "code",
   "execution_count": 78,
   "id": "0b6e75d3-8aaf-40b9-83e3-cd6db755593b",
   "metadata": {},
   "outputs": [
    {
     "data": {
      "text/plain": [
       "(7000, 90)"
      ]
     },
     "execution_count": 78,
     "metadata": {},
     "output_type": "execute_result"
    }
   ],
   "source": [
    "train_omics.shape"
   ]
  },
  {
   "cell_type": "code",
   "execution_count": 79,
   "id": "6dc5aa28-e4b6-427a-9093-8652616492b4",
   "metadata": {},
   "outputs": [],
   "source": [
    "y_train = np.vstack((y_train, y_valid, y_test))"
   ]
  },
  {
   "cell_type": "code",
   "execution_count": 80,
   "id": "061ba995-00f3-4938-8704-88948590f0ab",
   "metadata": {},
   "outputs": [
    {
     "data": {
      "text/plain": [
       "(7000, 90)"
      ]
     },
     "execution_count": 80,
     "metadata": {},
     "output_type": "execute_result"
    }
   ],
   "source": [
    "train_drugs.shape"
   ]
  },
  {
   "cell_type": "code",
   "execution_count": 81,
   "id": "526f6443-759a-403e-a328-003748db18ac",
   "metadata": {},
   "outputs": [
    {
     "data": {
      "text/plain": [
       "(7000, 1)"
      ]
     },
     "execution_count": 81,
     "metadata": {},
     "output_type": "execute_result"
    }
   ],
   "source": [
    "y_train.shape"
   ]
  },
  {
   "cell_type": "code",
   "execution_count": 82,
   "id": "eaf86d19-7156-4fd6-b0c1-03602def9bc4",
   "metadata": {},
   "outputs": [],
   "source": [
    "kf = KFold(n_splits = 7, random_state=42, shuffle = True)"
   ]
  },
  {
   "cell_type": "code",
   "execution_count": 83,
   "id": "44cb30d0-e303-4cf7-971a-241a3096db57",
   "metadata": {},
   "outputs": [],
   "source": [
    "# kf.get_n_splits(train_drugs)"
   ]
  },
  {
   "cell_type": "code",
   "execution_count": 84,
   "id": "bcacb8d9-2af5-4a54-88b8-82fe1f5546c7",
   "metadata": {},
   "outputs": [],
   "source": [
    "train_ids = []\n",
    "# valid_ids = []\n",
    "test_ids = []\n",
    "# test_ids = []\n",
    "for i, (train_index, test_index) in enumerate(kf.split(train_drugs)): \n",
    "    train_ids.append(train_index)\n",
    "    test_ids.append(test_index)"
   ]
  },
  {
   "cell_type": "code",
   "execution_count": 85,
   "id": "a4e3c21a-918d-42ec-86e0-c2c83da3e697",
   "metadata": {},
   "outputs": [],
   "source": [
    "# len(test_ids[0])"
   ]
  },
  {
   "cell_type": "code",
   "execution_count": 86,
   "id": "155b9297-712b-4430-bf27-d1a08dd17d98",
   "metadata": {},
   "outputs": [],
   "source": [
    "# batch_size = 1000"
   ]
  },
  {
   "cell_type": "code",
   "execution_count": 87,
   "id": "11fbf1b9-7df8-431f-8197-cb4cb7367b07",
   "metadata": {},
   "outputs": [],
   "source": [
    "# train_idx = list(range(0, len(y_train)))\n",
    "# batch_chunks_train = [train_idx[i:i+batch_size] for i in range(0,len(y_train),batch_size)]"
   ]
  },
  {
   "cell_type": "code",
   "execution_count": 88,
   "id": "efc508be-9b33-4596-99e8-3019fab6d909",
   "metadata": {},
   "outputs": [],
   "source": [
    "# np.max(batch_chunks_train[0])"
   ]
  },
  {
   "cell_type": "code",
   "execution_count": 89,
   "id": "4fbd52c5-78b1-4433-9ff9-0507f140a99b",
   "metadata": {},
   "outputs": [],
   "source": [
    "# batch_size = 200\n",
    "# valid_idx = list(range(0, len(y_valid)))\n",
    "# batch_chunks_valid = [valid_idx[i:i+batch_size] for i in range(0,len(y_valid),batch_size)]"
   ]
  },
  {
   "cell_type": "code",
   "execution_count": 90,
   "id": "c79960f9-0840-45cc-8771-1e2b9f79255d",
   "metadata": {},
   "outputs": [],
   "source": [
    "# len(batch_chunks_valid)"
   ]
  },
  {
   "cell_type": "code",
   "execution_count": 91,
   "id": "d51e6e4a-813f-4f99-abad-c540283ab2ba",
   "metadata": {},
   "outputs": [],
   "source": [
    "# train_ids"
   ]
  },
  {
   "cell_type": "code",
   "execution_count": 92,
   "id": "7ce24ad0-fb33-48cc-9111-b87c993695e2",
   "metadata": {},
   "outputs": [],
   "source": [
    "def rep_one_real_world(train_ids_f, test_ids_f, size_ens): \n",
    "    train_rmse = []\n",
    "    test_rmse = []\n",
    "    train_cov = []\n",
    "    test_cov = []\n",
    "    train_p = []\n",
    "    test_p = []\n",
    "    train_width = []\n",
    "    test_width = []\n",
    "#     from scipy.special import expit\n",
    "    patience_smaller = 0\n",
    "    patience_uns = 0\n",
    "    \n",
    "    print(\"Size_Ens is \" + str(size_ens), flush = True)\n",
    "    \n",
    "    best_train_mae = 100000\n",
    "    \n",
    "    best_train_width = 100000\n",
    "\n",
    "        \n",
    "    X_train_logits_unshuffled = y_train.reshape(-1,1)[train_ids_f,:]\n",
    "    train_size = X_train_logits_unshuffled.shape[0]\n",
    "    \n",
    "    random_idx = list(random.sample(range(0,train_size), k = int(0.1667*train_size)))\n",
    "#     X_train_logits = catch_train_logits_second[idx]\n",
    "    \n",
    "    not_random_idx = list(set(range(0,train_size)).difference(random_idx))\n",
    "    \n",
    "    X_train_logits_unshuffled1 = X_train_logits_unshuffled[not_random_idx, :]\n",
    "    X_valid_logits = X_train_logits_unshuffled[random_idx,:]\n",
    "    X_test_logits = y_train.reshape(-1,1)[test_ids_f,:]\n",
    "    \n",
    "    ## create training batch chunks\n",
    "    train_idx = list(range(0, len(X_train_logits_unshuffled1)))\n",
    "    batch_chunks = [train_idx[i:i+batch_size] for i in range(0,len(X_train_logits_unshuffled1),batch_size)]\n",
    "\n",
    "    ## generate some augmented variable for iteration 0\n",
    "    initial_aug_state_mean = np.repeat(0, total_weights)\n",
    "    initial_aug_state_mean = initial_aug_state_mean.reshape(-1,1)\n",
    "\n",
    "    initial_aug_state_cov = var_weights*np.identity((total_weights))\n",
    "    initial_ensembles = mvn(initial_aug_state_mean.reshape(initial_aug_state_mean.shape[0],), initial_aug_state_cov).rvs(size = size_ens)\n",
    "\n",
    "    exit_iter_no_thresh = 0\n",
    "    log_sigma_points_1 = (np.log(gamma(gamma_param, scale = 1/100).rvs(size_ens))).reshape(size_ens, 1)\n",
    "    \n",
    "\n",
    "#     y_train = catch_train_labels_second[idx]\n",
    "\n",
    "#     y_valid = catch_valid_labels_second[idx]\n",
    "\n",
    "#     y_test = catch_test_labels_second[idx]\n",
    "    \n",
    "    \n",
    "    train_lstm = train_drugs[train_ids_f,:]\n",
    "    # valid_lstm = train_lstm[random_idx,:]\n",
    "    # train_lstm1 = train_lstm[not_random_idx,:]\n",
    "    # valid_word2vec = catch[idx][7].iloc[catch_valid_idxes[idx],:].reset_index(drop = True)\n",
    "    test_lstm = train_drugs[test_ids_f,:]\n",
    "\n",
    "    # pca = PCA(n_components=train_omics.shape[1])\n",
    "    # train_lstm = pca.fit_transform(train_lstm)\n",
    "    # # valid_lstm = pca.transform(valid_lstm)\n",
    "    # test_lstm = pca.transform(test_lstm)\n",
    "    \n",
    "    # print(train_lstm.shape)\n",
    "\n",
    "    train_doc2vec = train_omics[train_ids_f,:]\n",
    "    # valid_doc2vec = train_doc2vec[random_idx,:]\n",
    "    # train_doc2vec1 = train_doc2vec[not_random_idx,:]\n",
    "    # valid_word2vec = catch[idx][7].iloc[catch_valid_idxes[idx],:].reset_index(drop = True)\n",
    "    test_doc2vec = train_omics[test_ids_f,:]\n",
    "    \n",
    "    \n",
    "\n",
    "    \n",
    "    # train_valid_lstm = (train_lstm)\n",
    "    # train_valid_doc2vec = (train_doc2vec)\n",
    "    \n",
    "    # print(train_valid_lstm.shape)\n",
    "\n",
    "    \n",
    "    \n",
    "    best_coverage_train = 0\n",
    "    \n",
    "    start = datetime.now()\n",
    "    \n",
    "    for iter1 in range(0,500):\n",
    "        random_idx = random.sample(range(0,train_lstm.shape[0]), train_lstm.shape[0])\n",
    "        train_valid_lstm =train_lstm[random_idx, :]\n",
    "        train_valid_doc2vec = train_doc2vec[random_idx, :]\n",
    "        X_train_logits = X_train_logits_unshuffled[random_idx, :]\n",
    "\n",
    "        for batch_idx in batch_chunks:\n",
    "            \n",
    "            batch_data = train_valid_lstm[batch_idx,:]\n",
    "            # print(batch_data.shape)\n",
    "            batch_data1 = train_valid_doc2vec[batch_idx,:]\n",
    "            # print(batch_data1.shape)\n",
    "            batch_targets = X_train_logits[batch_idx,:]\n",
    "            \n",
    "            # print(batch_targets.shape)\n",
    "            \n",
    "            # batch_targets = batch_targets.ravel().reshape(-1,1)\n",
    "\n",
    "            column_mod_2_shape = total_weights_2 + batch_data.shape[0]*1 + 1 + 1\n",
    "        \n",
    "            H_t = np.hstack((np.identity(batch_targets.shape[0]), np.zeros((batch_targets.shape[0], column_mod_2_shape-batch_targets.shape[0]))))\n",
    "            \n",
    "            \n",
    "            \n",
    "            \n",
    "            current_aug_state, column_mod_1, column_mod_2, log_sigma_points_1 = get_targets_with_weights(batch_data1, batch_data, initial_ensembles, log_sigma_points_1, size_ens)\n",
    "            \n",
    "            # print(current_aug_state.shape)\n",
    "            \n",
    "            \n",
    "            var_targets_vec = np.log(1 + np.exp(log_sigma_points_1))\n",
    "            \n",
    "            var_targets_vec = var_targets_vec\n",
    "            \n",
    "            # current_aug_state_var = np.cov(current_aug_state.T) + inflation_factor*np.identity(current_aug_state.shape[1])\n",
    "            \n",
    "            current_aug_state_var = np.cov(current_aug_state.T) \n",
    "            \n",
    "            G_t = np.array([1 , 1]).reshape(-1,1)\n",
    "            \n",
    "            scirpt_H_t = np.kron(G_t.T, H_t)\n",
    "            \n",
    "            temp1 = current_aug_state_var@scirpt_H_t.T\n",
    "            \n",
    "            temp2 = scirpt_H_t@current_aug_state_var@scirpt_H_t.T\n",
    "\n",
    "            R_t1 = var_targetsw*np.identity(current_aug_state.shape[1])\n",
    "            \n",
    "            measurement_error1 = mvn(np.repeat(0,current_aug_state.shape[1]), R_t1).rvs(current_aug_state.shape[0])\n",
    "        \n",
    "            for ensemble_idx in range(0, current_aug_state.shape[0]):\n",
    "                \n",
    "                var_targets1 = var_targets_vec[ensemble_idx,:]\n",
    "                \n",
    "                R_t = var_targets1*np.identity(batch_targets.shape[0])\n",
    "            \n",
    "                measurement_error = mvn(np.repeat(0,batch_targets.shape[0]), var_targets1*np.identity(batch_targets.shape[0])).rvs(1).reshape(-1,1)\n",
    "            \n",
    "                target_current = batch_targets + measurement_error\n",
    "                \n",
    "                # print(target_current.shape)\n",
    "                \n",
    "                K_t = temp1@np.linalg.inv(temp2 + R_t)\n",
    "                \n",
    "                # print(K_t.shape)\n",
    "\n",
    "                current_aug_state[ensemble_idx,:] = current_aug_state[ensemble_idx,:] +(K_t@(target_current -scirpt_H_t@current_aug_state[ensemble_idx,:].reshape(-1,1))).reshape(current_aug_state.shape[1],)\n",
    "                \n",
    "                current_aug_state[ensemble_idx,:] = current_aug_state[ensemble_idx,:] + measurement_error1[ensemble_idx,:]\n",
    "\n",
    "            weights_ann_1 = current_aug_state[:,batch_targets.shape[0]:(batch_targets.shape[0] + total_weights_1)]      \n",
    "\n",
    "            weights_ann_2 = current_aug_state[:,-(total_weights_2+1):-2]    \n",
    "\n",
    "            initial_ensembles = np.hstack((weights_ann_1, weights_ann_2, current_aug_state[:,-2].reshape(-1,1)))\n",
    "            \n",
    "            log_sigma_points_1 = current_aug_state[:,-1].reshape(-1,1)\n",
    "               \n",
    "            avg_betas = expit(current_aug_state[:,-2])\n",
    "        \n",
    "            complement = 1-avg_betas\n",
    "\n",
    "#             current_aug_state1, column_mod_11, column_mod_21, log_sigma_points_1 = get_targets_with_weights(valid_doc2vec, valid_lstm, initial_ensembles, log_sigma_points_1)\n",
    "            \n",
    "#             initial_targets = column_mod_11 + column_mod_21\n",
    "            \n",
    "            \n",
    "#             initial_targets = initial_targets.reshape(size_ens, valid_lstm.shape[0],1)\n",
    "            \n",
    "#             initial_targets_train = initial_targets\n",
    "            \n",
    "#             initial_targets_train_mean = initial_targets_train.mean(0)\n",
    "            \n",
    "#             li = np.percentile(initial_targets_train, axis = 0, q = (2.5, 97.5))[0,:,:]\n",
    "            \n",
    "#             ui = np.percentile(initial_targets_train, axis = 0, q = (2.5, 97.5))[1,:,:]\n",
    "            \n",
    "#             width = ui - li\n",
    "            \n",
    "#             avg_width_valid = np.mean(width)\n",
    "            \n",
    "#             # interim = np.vstack((catch_train_probs[idx] , catch_valid_probs[idx] ))\n",
    "        \n",
    "#             interim = (X_valid_logits)\n",
    "            \n",
    "#             ind = (interim >= li) & (interim <= ui)\n",
    "            \n",
    "#             coverage_valid= np.mean(ind.ravel())  \n",
    "            \n",
    "#             valid_mae = np.sqrt(mean_squared_error(interim, initial_targets_train_mean))\n",
    "            \n",
    "#             stats_pearson_valid = stats.pearsonr(interim.reshape(interim.shape[0],),\n",
    "#                                            initial_targets_train_mean.reshape(initial_targets_train_mean.shape[0],))\n",
    "\n",
    "            current_aug_state1, column_mod_11, column_mod_21, log_sigma_points_1 = get_targets_with_weights(train_doc2vec, train_lstm, initial_ensembles, log_sigma_points_1, size_ens)\n",
    "            \n",
    "            initial_targets = column_mod_11 + column_mod_21\n",
    "            \n",
    "            \n",
    "            initial_targets = initial_targets.reshape(size_ens, train_lstm.shape[0],1)\n",
    "            \n",
    "            initial_targets_train = initial_targets\n",
    "            \n",
    "            initial_targets_train_mean = initial_targets_train.mean(0)\n",
    "            \n",
    "            li = np.percentile(initial_targets_train, axis = 0, q = (2.5, 97.5))[0,:,:]\n",
    "            \n",
    "            ui = np.percentile(initial_targets_train, axis = 0, q = (2.5, 97.5))[1,:,:]\n",
    "            \n",
    "            width = ui - li\n",
    "            \n",
    "            avg_width_train = np.mean(width)\n",
    "            \n",
    "            # interim = np.vstack((catch_train_probs[idx] , catch_valid_probs[idx] ))\n",
    "        \n",
    "            interim = (X_train_logits_unshuffled)\n",
    "            \n",
    "            ind = (interim >= li) & (interim <= ui)\n",
    "            \n",
    "            coverage_train= np.mean(ind.ravel())  \n",
    "            \n",
    "            train_mae = np.sqrt(mean_squared_error(interim, initial_targets_train_mean))\n",
    "            \n",
    "            # plt.scatter(interim, initial_targets_train_mean)\n",
    "            # plt.show()\n",
    "            \n",
    "            stats_pearson_train = stats.pearsonr(interim.reshape(interim.shape[0],),\n",
    "                                           initial_targets_train_mean.reshape(initial_targets_train_mean.shape[0],))\n",
    "\n",
    "            # train_mae = np.sqrt(np.mean(np.abs(interim.ravel() - initial_targets_train_mean.ravel())**2))\n",
    "        \n",
    "            current_aug_state1, column_mod_11, column_mod_21, log_sigma_points_1 = get_targets_with_weights(test_doc2vec, test_lstm, initial_ensembles, log_sigma_points_1, size_ens)\n",
    "            \n",
    "            initial_targets = column_mod_11 + column_mod_21\n",
    "            \n",
    "            initial_targets = initial_targets.reshape(size_ens, test_lstm.shape[0],1)\n",
    "            \n",
    "            initial_targets_test = initial_targets\n",
    "            \n",
    "            # initial_targets_softmax = expit(initial_targets)    \n",
    "            \n",
    "            initial_targets_test_mean = initial_targets_test.mean(0)\n",
    "            \n",
    "            li = np.percentile(initial_targets_test, axis = 0, q = (2.5, 97.5))[0,:,:]\n",
    "            \n",
    "            ui = np.percentile(initial_targets_test, axis = 0, q = (2.5, 97.5))[1,:,:]\n",
    "            \n",
    "            width = ui - li\n",
    "            \n",
    "            avg_width = np.mean(width)\n",
    "            \n",
    "            catch_test_probs = (X_test_logits)\n",
    "            \n",
    "            ind_test = (catch_test_probs >= li) & (catch_test_probs <= ui)\n",
    "                        \n",
    "            coverage_test = np.mean(ind_test.ravel())    \n",
    "\n",
    "            \n",
    "            test_mae = np.sqrt(mean_squared_error(catch_test_probs, initial_targets_test_mean))\n",
    "\n",
    "            stats_pearson = stats.pearsonr(catch_test_probs.reshape(catch_test_probs.shape[0],),\n",
    "                                           initial_targets_test_mean.reshape(initial_targets_test_mean.shape[0],))\n",
    "\n",
    "\n",
    "            train_rmse.append(train_mae)\n",
    "            test_rmse.append(test_mae)\n",
    "            train_cov.append(coverage_train)\n",
    "            test_cov.append(coverage_test)\n",
    "            train_p.append(stats_pearson_train)\n",
    "            test_p.append(stats_pearson)\n",
    "            train_width.append(avg_width_train)\n",
    "            test_width.append(avg_width)\n",
    "            \n",
    "            if  train_mae < best_train_mae: \n",
    "                patience = 0\n",
    "                best_train_mae = train_mae\n",
    "                # best_valid_mae = valid_mae\n",
    "                best_test_mae = test_mae\n",
    "                exit_iter_no_thresh = iter1\n",
    "                best_test_preds = initial_targets_test\n",
    "                patience_smaller = 0\n",
    "                best_train_coverage = coverage_train\n",
    "                # best_valid_coverage = coverage_valid\n",
    "                best_test_coverage = coverage_test\n",
    "                best_train_width = avg_width_train\n",
    "                # best_valid_width = avg_width_valid\n",
    "                best_test_width = avg_width\n",
    "                best_drugs_weight = np.mean(complement)\n",
    "                best_r_test = stats_pearson[0]\n",
    "                best_r_train = stats_pearson_train[0]\n",
    "                # best_r_valid = stats_pearson_valid[0]\n",
    "                best_initial_ensembles = initial_ensembles\n",
    "                best_log_sigma_points_1 = log_sigma_points_1\n",
    "                best_initial_targets_test_mean = initial_targets_test_mean\n",
    "                best_li = li\n",
    "                best_ui = ui\n",
    "            else:\n",
    "                patience += 1\n",
    "                \n",
    "#             print(\"epoch \"+ str(iter1))\n",
    "#             print(\"patience \"+ str(patience))\n",
    "#             print(\"train mae is \" + str(train_mae))\n",
    "#             # print(\"valid mae is \" + str(valid_mae))\n",
    "#             print(\"test mae is \" + str(test_mae))\n",
    "        \n",
    "#             print(\"train coverage is \"+ str(coverage_train))\n",
    "#             # print(\"valid coverage is \"+ str(coverage_valid))\n",
    "#             print(\"test coverage is \"+ str(coverage_test))\n",
    "            \n",
    "#             print(\"train width is \" + str(avg_width_train))\n",
    "#             # print(\"valid width is \" + str(avg_width_valid))  \n",
    "#             print(\"test width is \" + str(avg_width))\n",
    "            \n",
    "#             print(\"drugs weight is \" + str(np.mean(complement)))\n",
    "#             print(\"pearson r train is \" + str(stats_pearson_train[0]))\n",
    "#             # print(\"pearson r valid is \" + str(stats_pearson_valid[0]))\n",
    "#             print(\"pearson r test is \" + str(stats_pearson[0]))\n",
    "            \n",
    "            \n",
    "                \n",
    "            if patience >= threshold: \n",
    "                break\n",
    "                \n",
    "        if patience >= threshold: \n",
    "                break\n",
    "            \n",
    "    \n",
    "    # print(best_valid_mae, best_valid_coverage, best_valid_width,best_r_valid, flush = True)\n",
    "    print(best_test_mae, best_test_coverage, best_test_width,best_r_test, flush = True)\n",
    "    end = datetime.now()\n",
    "    total = (end- start)\n",
    "    time_taken = total.seconds/60.0\n",
    "    return size_ens, best_train_mae, best_test_mae, best_train_coverage, best_test_coverage,  \\\n",
    "    best_train_width , best_test_width,  best_drugs_weight, best_r_train, best_r_test, exit_iter_no_thresh, time_taken, best_initial_ensembles, best_log_sigma_points_1, [X_test_logits.tolist(), best_initial_targets_test_mean.tolist()], \\\n",
    "    [best_li.tolist(), best_ui.tolist()], train_rmse, test_rmse, train_cov, test_cov, train_p, test_p, train_width, test_width \n",
    "        \n",
    "    # print(\"something went awry\", flush = True)"
   ]
  },
  {
   "cell_type": "code",
   "execution_count": 93,
   "id": "245e9a9d-00bd-49f2-8333-3de5fe04dd12",
   "metadata": {},
   "outputs": [],
   "source": [
    "var_weights =1\n",
    "gamma_param = 500\n",
    "var_targetsw = 0.02\n",
    "reduction = 100\n",
    "shape_needed = total_weights//reduction\n",
    "size_ens = shape_needed\n",
    "size_ens = int(size_ens)\n",
    "batch_size = 512\n",
    "threshold = 10"
   ]
  },
  {
   "cell_type": "code",
   "execution_count": 94,
   "id": "14c50dce-8fef-4bce-b3e2-d673593b2453",
   "metadata": {},
   "outputs": [
    {
     "data": {
      "text/plain": [
       "29"
      ]
     },
     "execution_count": 94,
     "metadata": {},
     "output_type": "execute_result"
    }
   ],
   "source": [
    "size_ens"
   ]
  },
  {
   "cell_type": "code",
   "execution_count": 95,
   "id": "835d8e43-017f-45b4-a42a-f4bb88c052fd",
   "metadata": {},
   "outputs": [],
   "source": [
    "# size_ens,best_train_mae, best_test_mae, best_train_coverage, best_test_coverage,  \\\n",
    "#     best_train_width , best_test_width,  best_drugs_weight, best_r_train, best_r_test, exit_iter_no_thresh, time_taken, best_initial_ensembles, best_log_sigma_points_1, _, _, train_rmse, test_rmse, train_cov, test_cov, train_p, test_p, train_width, test_width = rep_one_real_world(train_ids[4], test_ids[4], size_ens)"
   ]
  },
  {
   "cell_type": "code",
   "execution_count": 96,
   "id": "72568e2d-bb4d-4b75-b133-57a26a359814",
   "metadata": {},
   "outputs": [],
   "source": [
    "# test_actual_preds[0].shape"
   ]
  },
  {
   "cell_type": "code",
   "execution_count": 97,
   "id": "03d6db30-5931-4841-beeb-8c7169e0704c",
   "metadata": {},
   "outputs": [],
   "source": [
    "# len(test_actual_preds)"
   ]
  },
  {
   "cell_type": "code",
   "execution_count": 98,
   "id": "6f8981ee-053b-44e7-b05b-c3fc788b12db",
   "metadata": {},
   "outputs": [],
   "source": [
    "# test_actual_preds, best_li_ui"
   ]
  },
  {
   "cell_type": "code",
   "execution_count": 99,
   "id": "5e4a1add-dfd1-4092-8ce3-1cdc491fc6a1",
   "metadata": {},
   "outputs": [],
   "source": [
    "from joblib import Parallel, delayed"
   ]
  },
  {
   "cell_type": "code",
   "execution_count": 100,
   "id": "f1126d3c-2377-428e-a8b1-6a849b16828f",
   "metadata": {},
   "outputs": [],
   "source": [
    "# test_actual_preds[:5]"
   ]
  },
  {
   "cell_type": "code",
   "execution_count": 101,
   "id": "0737ad8b-a1ba-41fe-90cb-d570a7d29a29",
   "metadata": {},
   "outputs": [],
   "source": [
    "# best_li_ui[0]"
   ]
  },
  {
   "cell_type": "code",
   "execution_count": null,
   "id": "f5796dcd-701f-468f-85d1-13ec45f5fcbc",
   "metadata": {},
   "outputs": [],
   "source": []
  },
  {
   "cell_type": "code",
   "execution_count": 102,
   "id": "367b13cb-1eea-4938-8601-d7029f50048c",
   "metadata": {},
   "outputs": [],
   "source": [
    "grid_ns =  [25, 50,100,125,150,175,200,225,250,300,325,350,375,400]"
   ]
  },
  {
   "cell_type": "code",
   "execution_count": 103,
   "id": "7fa82014-265c-4ca2-9023-fa162f0a57fd",
   "metadata": {},
   "outputs": [
    {
     "data": {
      "text/plain": [
       "14"
      ]
     },
     "execution_count": 103,
     "metadata": {},
     "output_type": "execute_result"
    }
   ],
   "source": [
    "len(grid_ns)"
   ]
  },
  {
   "cell_type": "code",
   "execution_count": 104,
   "id": "0f8af807-7147-4bb1-a651-e5c64ad9889c",
   "metadata": {},
   "outputs": [
    {
     "name": "stderr",
     "output_type": "stream",
     "text": [
      "[Parallel(n_jobs=14)]: Using backend LokyBackend with 14 concurrent workers.\n"
     ]
    },
    {
     "name": "stdout",
     "output_type": "stream",
     "text": [
      "Size_Ens is 25\n",
      "Size_Ens is 50\n",
      "Size_Ens is 100\n",
      "Size_Ens is 125\n",
      "Size_Ens is 150\n",
      "Size_Ens is 175\n",
      "Size_Ens is 200\n",
      "Size_Ens is 225\n",
      "Size_Ens is 250\n",
      "Size_Ens is 300\n",
      "Size_Ens is 325\n",
      "Size_Ens is 350\n",
      "Size_Ens is 375\n",
      "Size_Ens is 400\n",
      "2.323949008318122 0.664 4.721374202636569 0.4515026606816859\n",
      "1.474326366818726 0.904 5.117668093539292 0.7371807803977685\n",
      "1.4504298569032117 0.948 6.000629571221808 0.7487998392675418\n"
     ]
    },
    {
     "name": "stderr",
     "output_type": "stream",
     "text": [
      "[Parallel(n_jobs=14)]: Done   3 out of  14 | elapsed: 36.3min remaining: 132.9min\n"
     ]
    },
    {
     "name": "stdout",
     "output_type": "stream",
     "text": [
      "1.45303830071632 0.943 6.040447772953806 0.7591999484748021\n",
      "1.3447268506857577 0.967 5.958667317327318 0.7889918287696333\n"
     ]
    },
    {
     "name": "stderr",
     "output_type": "stream",
     "text": [
      "[Parallel(n_jobs=14)]: Done   5 out of  14 | elapsed: 48.4min remaining: 87.1min\n"
     ]
    },
    {
     "name": "stdout",
     "output_type": "stream",
     "text": [
      "1.3897066965117244 0.971 6.773441184768679 0.7775933504461789\n",
      "1.409449831881401 0.982 6.806369505720879 0.7644729085476236\n"
     ]
    },
    {
     "name": "stderr",
     "output_type": "stream",
     "text": [
      "[Parallel(n_jobs=14)]: Done   7 out of  14 | elapsed: 54.0min remaining: 54.0min\n"
     ]
    },
    {
     "name": "stdout",
     "output_type": "stream",
     "text": [
      "1.3229851585017114 0.972 6.482869118605169 0.7946673521660597\n",
      "1.403881460102662 0.989 7.505421571825109 0.7729472333740106\n"
     ]
    },
    {
     "name": "stderr",
     "output_type": "stream",
     "text": [
      "[Parallel(n_jobs=14)]: Done   9 out of  14 | elapsed: 56.0min remaining: 31.1min\n"
     ]
    },
    {
     "name": "stdout",
     "output_type": "stream",
     "text": [
      "1.4229844082496075 0.998 11.14223443110253 0.7696482610947262\n",
      "1.37821990750089 0.966 6.175962073707267 0.7837412229672391\n"
     ]
    },
    {
     "name": "stderr",
     "output_type": "stream",
     "text": [
      "[Parallel(n_jobs=14)]: Done  11 out of  14 | elapsed: 67.4min remaining: 18.4min\n"
     ]
    },
    {
     "name": "stdout",
     "output_type": "stream",
     "text": [
      "1.4125453583512009 0.991 7.807681017129995 0.7683176041884145\n",
      "1.362056736547767 0.981 6.976587260175065 0.7878958608368253\n",
      "1.4666321616740206 0.987 7.8609491175710176 0.7584386587885326\n"
     ]
    },
    {
     "name": "stderr",
     "output_type": "stream",
     "text": [
      "[Parallel(n_jobs=14)]: Done  14 out of  14 | elapsed: 84.8min finished\n"
     ]
    }
   ],
   "source": [
    "catch = Parallel(n_jobs = 14, backend = \"loky\", verbose = 8)(delayed(rep_one_real_world)(train_ids[4], test_ids[4], size_ens) for size_ens in grid_ns)"
   ]
  },
  {
   "cell_type": "code",
   "execution_count": 105,
   "id": "d6784f03-c726-4b0e-9d06-63d28b8dcf02",
   "metadata": {},
   "outputs": [],
   "source": [
    "with open(\"Preds_with_PCA_proper_CV_no_valid_all_features_diff_size_ens\" + \".pkl\", 'wb') as f:\n",
    "    pickle.dump(catch, f)"
   ]
  },
  {
   "cell_type": "code",
   "execution_count": 103,
   "id": "d1f7bd56-f7ce-417f-a186-0dba799fa59f",
   "metadata": {},
   "outputs": [],
   "source": [
    "with open(\"Preds_with_PCA_proper_CV_no_valid_all_features_diff_size_ens\" + \".pkl\", 'rb') as f:\n",
    "    catch = pickle.load(f)"
   ]
  },
  {
   "cell_type": "code",
   "execution_count": 104,
   "id": "ed9f0926-cec8-4079-aaa9-cb6d390cd128",
   "metadata": {},
   "outputs": [],
   "source": [
    "col_names = ['size_ens','best_train_mae', 'best_test_mae', 'best_train_coverage', 'best_test_coverage',  \\\n",
    "    'best_train_width' , 'best_test_width',  'best_drugs_weight', 'best_r_train', 'best_r_test']"
   ]
  },
  {
   "cell_type": "code",
   "execution_count": 105,
   "id": "cfab788b-6557-4725-8726-9f0fd85770c8",
   "metadata": {},
   "outputs": [],
   "source": [
    "catch_df = pd.DataFrame(catch).iloc[:,:len(col_names)]"
   ]
  },
  {
   "cell_type": "code",
   "execution_count": 106,
   "id": "1d9acb09-2976-4da5-92e9-13ae53f189ee",
   "metadata": {},
   "outputs": [],
   "source": [
    "catch_df.columns = col_names"
   ]
  },
  {
   "cell_type": "code",
   "execution_count": null,
   "id": "3618be7e-e24a-4261-a2b5-5c25211266dd",
   "metadata": {},
   "outputs": [],
   "source": [
    "# catch_df.columns = ['best_train_mae', 'best_test_mae', 'best_train_coverage', 'best_test_coverage',  \\\n",
    "#     'best_train_width' , 'best_test_width',  'best_drugs_weight', 'best_r_train', 'best_r_test']"
   ]
  },
  {
   "cell_type": "code",
   "execution_count": 107,
   "id": "75057773-997e-485c-913d-cb7e6161ae7f",
   "metadata": {},
   "outputs": [
    {
     "data": {
      "text/html": [
       "<div>\n",
       "<style scoped>\n",
       "    .dataframe tbody tr th:only-of-type {\n",
       "        vertical-align: middle;\n",
       "    }\n",
       "\n",
       "    .dataframe tbody tr th {\n",
       "        vertical-align: top;\n",
       "    }\n",
       "\n",
       "    .dataframe thead th {\n",
       "        text-align: right;\n",
       "    }\n",
       "</style>\n",
       "<table border=\"1\" class=\"dataframe\">\n",
       "  <thead>\n",
       "    <tr style=\"text-align: right;\">\n",
       "      <th></th>\n",
       "      <th>size_ens</th>\n",
       "      <th>best_train_mae</th>\n",
       "      <th>best_test_mae</th>\n",
       "      <th>best_train_coverage</th>\n",
       "      <th>best_test_coverage</th>\n",
       "      <th>best_train_width</th>\n",
       "      <th>best_test_width</th>\n",
       "      <th>best_drugs_weight</th>\n",
       "      <th>best_r_train</th>\n",
       "      <th>best_r_test</th>\n",
       "    </tr>\n",
       "  </thead>\n",
       "  <tbody>\n",
       "    <tr>\n",
       "      <th>0</th>\n",
       "      <td>25</td>\n",
       "      <td>2.294259</td>\n",
       "      <td>2.323949</td>\n",
       "      <td>0.683833</td>\n",
       "      <td>0.664</td>\n",
       "      <td>4.738893</td>\n",
       "      <td>4.721374</td>\n",
       "      <td>0.451787</td>\n",
       "      <td>0.446154</td>\n",
       "      <td>0.451503</td>\n",
       "    </tr>\n",
       "    <tr>\n",
       "      <th>1</th>\n",
       "      <td>50</td>\n",
       "      <td>1.477525</td>\n",
       "      <td>1.474326</td>\n",
       "      <td>0.909333</td>\n",
       "      <td>0.904</td>\n",
       "      <td>5.131114</td>\n",
       "      <td>5.117668</td>\n",
       "      <td>0.463341</td>\n",
       "      <td>0.712703</td>\n",
       "      <td>0.737181</td>\n",
       "    </tr>\n",
       "    <tr>\n",
       "      <th>2</th>\n",
       "      <td>100</td>\n",
       "      <td>1.437567</td>\n",
       "      <td>1.453038</td>\n",
       "      <td>0.943500</td>\n",
       "      <td>0.943</td>\n",
       "      <td>6.054139</td>\n",
       "      <td>6.040448</td>\n",
       "      <td>0.434621</td>\n",
       "      <td>0.749325</td>\n",
       "      <td>0.759200</td>\n",
       "    </tr>\n",
       "    <tr>\n",
       "      <th>3</th>\n",
       "      <td>125</td>\n",
       "      <td>1.410482</td>\n",
       "      <td>1.450430</td>\n",
       "      <td>0.959833</td>\n",
       "      <td>0.948</td>\n",
       "      <td>5.997548</td>\n",
       "      <td>6.000630</td>\n",
       "      <td>0.458971</td>\n",
       "      <td>0.744938</td>\n",
       "      <td>0.748800</td>\n",
       "    </tr>\n",
       "    <tr>\n",
       "      <th>4</th>\n",
       "      <td>150</td>\n",
       "      <td>1.379066</td>\n",
       "      <td>1.378220</td>\n",
       "      <td>0.961667</td>\n",
       "      <td>0.966</td>\n",
       "      <td>6.198541</td>\n",
       "      <td>6.175962</td>\n",
       "      <td>0.480842</td>\n",
       "      <td>0.762048</td>\n",
       "      <td>0.783741</td>\n",
       "    </tr>\n",
       "  </tbody>\n",
       "</table>\n",
       "</div>"
      ],
      "text/plain": [
       "   size_ens  best_train_mae  best_test_mae  best_train_coverage   \n",
       "0        25        2.294259       2.323949             0.683833  \\\n",
       "1        50        1.477525       1.474326             0.909333   \n",
       "2       100        1.437567       1.453038             0.943500   \n",
       "3       125        1.410482       1.450430             0.959833   \n",
       "4       150        1.379066       1.378220             0.961667   \n",
       "\n",
       "   best_test_coverage  best_train_width  best_test_width  best_drugs_weight   \n",
       "0               0.664          4.738893         4.721374           0.451787  \\\n",
       "1               0.904          5.131114         5.117668           0.463341   \n",
       "2               0.943          6.054139         6.040448           0.434621   \n",
       "3               0.948          5.997548         6.000630           0.458971   \n",
       "4               0.966          6.198541         6.175962           0.480842   \n",
       "\n",
       "   best_r_train  best_r_test  \n",
       "0      0.446154     0.451503  \n",
       "1      0.712703     0.737181  \n",
       "2      0.749325     0.759200  \n",
       "3      0.744938     0.748800  \n",
       "4      0.762048     0.783741  "
      ]
     },
     "execution_count": 107,
     "metadata": {},
     "output_type": "execute_result"
    }
   ],
   "source": [
    "catch_df.head()"
   ]
  },
  {
   "cell_type": "code",
   "execution_count": 108,
   "id": "23e86f48-9582-4d40-a692-7f86d4512a6d",
   "metadata": {},
   "outputs": [
    {
     "data": {
      "image/png": "[encoded data removed]",
      "text/plain": [
       "<Figure size 640x480 with 1 Axes>"
      ]
     },
     "metadata": {},
     "output_type": "display_data"
    }
   ],
   "source": [
    "plt.plot(catch_df['size_ens'], catch_df['best_train_mae'])\n",
    "plt.plot(catch_df['size_ens'], catch_df['best_test_mae'])\n",
    "plt.show()"
   ]
  },
  {
   "cell_type": "code",
   "execution_count": 109,
   "id": "c192a478-9eb0-49e8-9fab-60fd47229cd5",
   "metadata": {},
   "outputs": [
    {
     "data": {
      "image/png": "[encoded data removed]",
      "text/plain": [
       "<Figure size 640x480 with 1 Axes>"
      ]
     },
     "metadata": {},
     "output_type": "display_data"
    }
   ],
   "source": [
    "plt.plot(catch_df['size_ens'], catch_df['best_train_coverage'])\n",
    "plt.plot(catch_df['size_ens'], catch_df['best_test_coverage'])\n",
    "plt.show()"
   ]
  },
  {
   "cell_type": "code",
   "execution_count": 110,
   "id": "4f1ea4a9-4d1f-458b-8312-8dac83b04107",
   "metadata": {},
   "outputs": [
    {
     "data": {
      "image/png": "[encoded data removed]",
      "text/plain": [
       "<Figure size 640x480 with 1 Axes>"
      ]
     },
     "metadata": {},
     "output_type": "display_data"
    }
   ],
   "source": [
    "plt.plot(catch_df['size_ens'], catch_df['best_train_width'])\n",
    "plt.plot(catch_df['size_ens'], catch_df['best_test_width'])\n",
    "plt.show()"
   ]
  },
  {
   "cell_type": "code",
   "execution_count": 111,
   "id": "01ce4f66-a9f4-443a-8931-3b0fd46c1be5",
   "metadata": {},
   "outputs": [
    {
     "data": {
      "image/png": "[encoded data removed]",
      "text/plain": [
       "<Figure size 640x480 with 1 Axes>"
      ]
     },
     "metadata": {},
     "output_type": "display_data"
    }
   ],
   "source": [
    "plt.plot(catch_df['size_ens'], catch_df['best_r_train'])\n",
    "plt.plot(catch_df['size_ens'], catch_df['best_r_test'])\n",
    "plt.show()"
   ]
  },
  {
   "cell_type": "code",
   "execution_count": 117,
   "id": "73ed4d01-85f8-45b3-be45-1dc72c7f8ec8",
   "metadata": {},
   "outputs": [],
   "source": [
    "catch_df = []\n",
    "for i in range(0, len(catch)): \n",
    "    item = catch[i]\n",
    "    size_ens = item[0]\n",
    "    train_rmse = item[-7]\n",
    "    test_rmse = item[-8]\n",
    "    df = pd.DataFrame({\"Train_RMSE\": train_rmse, \n",
    "                      \"Test_RMSE\": test_rmse})\n",
    "    df[\"size_ens\"] = size_ens\n",
    "    df[\"update_iteration\"] = np.array(range(0, df.shape[0])) + 1\n",
    "    catch_df.append(df)"
   ]
  },
  {
   "cell_type": "code",
   "execution_count": 118,
   "id": "7d3b493d-e5af-4edc-9fd7-a2893f8c632f",
   "metadata": {},
   "outputs": [],
   "source": [
    "catch_df = pd.concat(catch_df)"
   ]
  },
  {
   "cell_type": "code",
   "execution_count": 119,
   "id": "31516ecf-cebd-41cb-905c-b40943966b13",
   "metadata": {},
   "outputs": [
    {
     "data": {
      "text/html": [
       "<div>\n",
       "<style scoped>\n",
       "    .dataframe tbody tr th:only-of-type {\n",
       "        vertical-align: middle;\n",
       "    }\n",
       "\n",
       "    .dataframe tbody tr th {\n",
       "        vertical-align: top;\n",
       "    }\n",
       "\n",
       "    .dataframe thead th {\n",
       "        text-align: right;\n",
       "    }\n",
       "</style>\n",
       "<table border=\"1\" class=\"dataframe\">\n",
       "  <thead>\n",
       "    <tr style=\"text-align: right;\">\n",
       "      <th></th>\n",
       "      <th>Train_RMSE</th>\n",
       "      <th>Test_RMSE</th>\n",
       "      <th>size_ens</th>\n",
       "      <th>update_iteration</th>\n",
       "    </tr>\n",
       "  </thead>\n",
       "  <tbody>\n",
       "    <tr>\n",
       "      <th>0</th>\n",
       "      <td>4.169387</td>\n",
       "      <td>4.142220</td>\n",
       "      <td>25</td>\n",
       "      <td>1</td>\n",
       "    </tr>\n",
       "    <tr>\n",
       "      <th>1</th>\n",
       "      <td>3.344189</td>\n",
       "      <td>3.341956</td>\n",
       "      <td>25</td>\n",
       "      <td>2</td>\n",
       "    </tr>\n",
       "    <tr>\n",
       "      <th>2</th>\n",
       "      <td>2.323949</td>\n",
       "      <td>2.294259</td>\n",
       "      <td>25</td>\n",
       "      <td>3</td>\n",
       "    </tr>\n",
       "    <tr>\n",
       "      <th>3</th>\n",
       "      <td>2.986836</td>\n",
       "      <td>2.986811</td>\n",
       "      <td>25</td>\n",
       "      <td>4</td>\n",
       "    </tr>\n",
       "    <tr>\n",
       "      <th>4</th>\n",
       "      <td>2.271993</td>\n",
       "      <td>2.311486</td>\n",
       "      <td>25</td>\n",
       "      <td>5</td>\n",
       "    </tr>\n",
       "  </tbody>\n",
       "</table>\n",
       "</div>"
      ],
      "text/plain": [
       "   Train_RMSE  Test_RMSE  size_ens  update_iteration\n",
       "0    4.169387   4.142220        25                 1\n",
       "1    3.344189   3.341956        25                 2\n",
       "2    2.323949   2.294259        25                 3\n",
       "3    2.986836   2.986811        25                 4\n",
       "4    2.271993   2.311486        25                 5"
      ]
     },
     "execution_count": 119,
     "metadata": {},
     "output_type": "execute_result"
    }
   ],
   "source": [
    "catch_df.head()"
   ]
  },
  {
   "cell_type": "code",
   "execution_count": 274,
   "id": "525acd32-a2ac-4031-9f79-4c24ef751b0b",
   "metadata": {},
   "outputs": [],
   "source": [
    "# catch_df = catch_df[catch_df[\"size_ens\"] != 25]"
   ]
  },
  {
   "cell_type": "code",
   "execution_count": 120,
   "id": "6f88ee96-4c9a-46ae-97de-4e116e5fa2fe",
   "metadata": {},
   "outputs": [
    {
     "data": {
      "text/plain": [
       "Train_RMSE          float64\n",
       "Test_RMSE           float64\n",
       "size_ens              int64\n",
       "update_iteration      int64\n",
       "dtype: object"
      ]
     },
     "execution_count": 120,
     "metadata": {},
     "output_type": "execute_result"
    }
   ],
   "source": [
    "catch_df.dtypes"
   ]
  },
  {
   "cell_type": "code",
   "execution_count": 121,
   "id": "e010b4a8-4641-478c-a5aa-375bbdaee8be",
   "metadata": {},
   "outputs": [],
   "source": [
    "sizes = [ 50, 100, 200, 300, 400]"
   ]
  },
  {
   "cell_type": "code",
   "execution_count": 122,
   "id": "cc7a8c7d-9327-4a16-98ff-cc0b462e8d78",
   "metadata": {},
   "outputs": [],
   "source": [
    "catch_df = catch_df[catch_df[\"size_ens\"].isin(sizes)]"
   ]
  },
  {
   "cell_type": "code",
   "execution_count": 202,
   "id": "ec020b5b-c412-44b8-b5de-67a5167b8210",
   "metadata": {},
   "outputs": [],
   "source": [
    "# logical_ids = [True if (float(size_ens)%100) == 0 else False for size_ens in catch_df['size_ens'].values ]"
   ]
  },
  {
   "cell_type": "code",
   "execution_count": 123,
   "id": "12ce5a36-9fdc-473d-af35-e8109dd91a97",
   "metadata": {},
   "outputs": [],
   "source": [
    "catch_df[\"size_ens\"] = catch_df[\"size_ens\"].astype(str)"
   ]
  },
  {
   "cell_type": "code",
   "execution_count": 124,
   "id": "eb0809a8-5304-4950-9669-728e2d2853bb",
   "metadata": {},
   "outputs": [
    {
     "data": {
      "text/plain": [
       "(127, 4)"
      ]
     },
     "execution_count": 124,
     "metadata": {},
     "output_type": "execute_result"
    }
   ],
   "source": [
    "catch_df.shape"
   ]
  },
  {
   "cell_type": "code",
   "execution_count": 154,
   "id": "d5606de3-5df6-4dc4-9489-df4941663d97",
   "metadata": {},
   "outputs": [],
   "source": [
    "# !pip install seaborn"
   ]
  },
  {
   "cell_type": "code",
   "execution_count": 125,
   "id": "af904d83-fa57-4f10-8e20-f2ae48cecfb1",
   "metadata": {},
   "outputs": [],
   "source": [
    "import seaborn as sns"
   ]
  },
  {
   "cell_type": "code",
   "execution_count": 129,
   "id": "b5518d6f-af49-4d43-8e43-70a9ea88a6ce",
   "metadata": {},
   "outputs": [
    {
     "data": {
      "image/png": "[encoded data removed]",
      "text/plain": [
       "<Figure size 600x400 with 1 Axes>"
      ]
     },
     "metadata": {},
     "output_type": "display_data"
    }
   ],
   "source": [
    "fig = plt.figure(figsize = (6,4))\n",
    "sns.lineplot(data=catch_df, x=\"update_iteration\", y=\"Train_RMSE\", hue=\"size_ens\", linewidth = 3)\n",
    "plt.xlabel(\"Update Iteration\", fontsize = 15, fontweight = \"bold\")\n",
    "plt.ylabel(\"Train RMSE\", fontsize = 15, fontweight = \"bold\")\n",
    "plt.xticks(fontsize = 10, fontweight = \"bold\")\n",
    "plt.yticks(fontsize = 10, fontweight = \"bold\")\n",
    "leg = plt.legend(title = \"Ensemble Size\",fontsize=10, prop =  {'weight':'bold'}, labelcolor = \"black\", \n",
    "                title_fontproperties=  {'weight':'bold'})\n",
    "for legobj in leg.legend_handles:\n",
    "    legobj.set_linewidth(3.0)\n",
    "fig.savefig('Plots/Different_Ensemble_Size.pdf', bbox_inches='tight', format = \"pdf\")\n",
    "fig.savefig('Plots/Different_Ensemble_Size.png', bbox_inches='tight')\n",
    "plt.show()"
   ]
  },
  {
   "cell_type": "code",
   "execution_count": 239,
   "id": "426ce65c-58c6-495c-8900-36d87b062123",
   "metadata": {},
   "outputs": [
    {
     "data": {
      "image/png": "[encoded data removed]",
      "text/plain": [
       "<Figure size 600x300 with 1 Axes>"
      ]
     },
     "metadata": {},
     "output_type": "display_data"
    }
   ],
   "source": [
    "plt.figure(figsize = (6,3))\n",
    "sns.lineplot(data=catch_df, x=\"update_iteration\", y=\"Test_RMSE\", hue=\"size_ens\", linewidth = 4)\n",
    "plt.xlabel(\"Update Iteration\", fontsize = 15, fontweight = \"bold\")\n",
    "plt.ylabel(\"Test RMSE\", fontsize = 15, fontweight = \"bold\")\n",
    "plt.xticks(fontsize = 10, fontweight = \"bold\")\n",
    "plt.yticks(fontsize = 10, fontweight = \"bold\")\n",
    "leg = plt.legend(title = \"Ensemble Size\",fontsize=10, prop =  {'weight':'bold'}, labelcolor = \"black\", \n",
    "                title_fontproperties=  {'weight':'bold'})\n",
    "plt.show()"
   ]
  },
  {
   "cell_type": "code",
   "execution_count": null,
   "id": "ba988f7f-d38b-44e0-a31f-9851b5f12900",
   "metadata": {},
   "outputs": [],
   "source": [
    "# catch_df['best_drugs_weight'] = 1 - catch_df['best_drugs_weight']"
   ]
  },
  {
   "cell_type": "code",
   "execution_count": null,
   "id": "1ad9fb9a-71d7-453f-9eca-84e8ee7e11a2",
   "metadata": {},
   "outputs": [],
   "source": [
    "# catch_df.mean()"
   ]
  },
  {
   "cell_type": "code",
   "execution_count": null,
   "id": "90ce27df-65b3-4d71-8230-f5d083e70c22",
   "metadata": {},
   "outputs": [],
   "source": [
    "# pca = PCA(n_components = test_omics.shape[1])\n",
    "# pca.fit(train_drugs)"
   ]
  },
  {
   "cell_type": "code",
   "execution_count": null,
   "id": "571ff7a1-4088-40c7-9fd7-a97e74c96f83",
   "metadata": {},
   "outputs": [],
   "source": [
    "# test_drugs = pca.transform(test_drugs)"
   ]
  },
  {
   "cell_type": "code",
   "execution_count": null,
   "id": "494d5ae5-5e7a-4e2b-b470-4b71b369345a",
   "metadata": {},
   "outputs": [],
   "source": [
    "# test_drugs.shape"
   ]
  },
  {
   "cell_type": "code",
   "execution_count": null,
   "id": "ad1480a7-ea4d-4046-aee7-2eb00c324076",
   "metadata": {},
   "outputs": [],
   "source": [
    "# preds_test_catch = []\n",
    "# test_catch = []\n",
    "# li_catch = []\n",
    "# ui_catch = []\n",
    "# for i in range(0,6):\n",
    "#     preds = catch[i][-2][1]\n",
    "#     actual = catch[i][-2][0]\n",
    "#     preds_test_catch.append(preds)\n",
    "#     test_catch.append(actual)\n",
    "# #     best_log_sigma_points_1 = catch[i][-3]\n",
    "# #     current_aug_state1, column_mod_11, column_mod_21, log_sigma_points_1 = get_targets_with_weights(test_omics, test_drugs, params, best_log_sigma_points_1)\n",
    "            \n",
    "# #     initial_targets_test = column_mod_11 + column_mod_21\n",
    "            \n",
    "# #     initial_targets_test = initial_targets_test.reshape(size_ens, test_omics.shape[0],1)\n",
    "            \n",
    "# #     initial_targets_test_mean = initial_targets_test.mean(0)\n",
    "    \n",
    "#     # preds_test_catch.append(preds)\n",
    "    \n",
    "#     li = catch[i][-1][0]\n",
    "#     li_catch.append(li)\n",
    "            \n",
    "#     ui = catch[i][-1][1]\n",
    "#     ui_catch.append(ui)\n",
    "            \n",
    "# #     width = ui - li\n",
    "            \n",
    "# #     avg_width = np.mean(width)"
   ]
  },
  {
   "cell_type": "code",
   "execution_count": null,
   "id": "80d409df-f7ea-457c-8328-c4a8dd2a1384",
   "metadata": {},
   "outputs": [],
   "source": [
    "# preds_test_catch = [inner for item in preds_test_catch for inner in item]"
   ]
  },
  {
   "cell_type": "code",
   "execution_count": null,
   "id": "d87e80d2-b7c8-422f-ae01-8a8090e1703c",
   "metadata": {},
   "outputs": [],
   "source": [
    "# test_catch = [inner for item in test_catch for inner in item]"
   ]
  },
  {
   "cell_type": "code",
   "execution_count": null,
   "id": "fb71411d-6e3b-44d3-94bb-7d8dc7cba206",
   "metadata": {},
   "outputs": [],
   "source": [
    "# li_catch =  [inner for item in li_catch for inner in item]"
   ]
  },
  {
   "cell_type": "code",
   "execution_count": null,
   "id": "a8dbeab3-5fd7-4b5e-b31b-b8cad9facdf1",
   "metadata": {},
   "outputs": [],
   "source": [
    "# ui_catch =  [inner for item in ui_catch for inner in item]"
   ]
  },
  {
   "cell_type": "code",
   "execution_count": null,
   "id": "37e9c72d-01e9-4e3c-a4cb-c4c398f9c399",
   "metadata": {},
   "outputs": [],
   "source": [
    "# avg_width"
   ]
  },
  {
   "cell_type": "code",
   "execution_count": null,
   "id": "8f961636-d73f-4641-8ac9-8bfdaef5fae1",
   "metadata": {},
   "outputs": [],
   "source": [
    "# y_test_preds = np.array(preds_test_catch).mean(0)"
   ]
  },
  {
   "cell_type": "code",
   "execution_count": null,
   "id": "5fd644b6-40c2-4a51-926e-6b8fca198cb0",
   "metadata": {},
   "outputs": [],
   "source": [
    "# y_test_preds.shape"
   ]
  },
  {
   "cell_type": "code",
   "execution_count": null,
   "id": "f421979d-9a9f-4b36-b1a0-b818dc5f9193",
   "metadata": {},
   "outputs": [],
   "source": [
    "# ui"
   ]
  },
  {
   "cell_type": "code",
   "execution_count": null,
   "id": "b06e776f-a5a7-4bce-81c2-31e171c3cd2b",
   "metadata": {},
   "outputs": [],
   "source": [
    "# current_aug_state1, column_mod_11, column_mod_21, log_sigma_points_1 = get_targets_with_weights(test_omics, test_drugs, best_initial_ensembles, best_log_sigma_points_1)\n",
    "            \n",
    "# initial_targets = column_mod_11 + column_mod_21\n",
    "            \n",
    "# initial_targets = initial_targets.reshape(size_ens, test_omics.shape[0],1)\n",
    "            \n",
    "# initial_targets_test = initial_targets"
   ]
  },
  {
   "cell_type": "code",
   "execution_count": null,
   "id": "cea92bf9-1992-4f0e-8b1f-62a0ed8ed4d2",
   "metadata": {},
   "outputs": [],
   "source": [
    "# # initial_targets_softmax = expit(initial_targets)    \n",
    "            \n",
    "# initial_targets_test_mean = initial_targets_test.mean(0)\n",
    "            \n",
    "# li = np.percentile(initial_targets_test, axis = 0, q = (2.5, 97.5))[0,:,:]\n",
    "            \n",
    "# ui = np.percentile(initial_targets_test, axis = 0, q = (2.5, 97.5))[1,:,:]\n",
    "            \n",
    "# width = ui - li\n",
    "            \n",
    "# avg_width = np.mean(width)\n",
    "            \n",
    "# catch_test_probs = (y_test)\n",
    "            \n",
    "# ind_test = (catch_test_probs >= li) & (catch_test_probs <= ui)\n",
    "                        \n",
    "# coverage_test = np.mean(ind_test.ravel())    \n",
    "\n",
    "            \n",
    "# test_mae = np.sqrt(mean_squared_error(catch_test_probs, initial_targets_test_mean))\n",
    "\n",
    "# stats_pearson = stats.pearsonr(catch_test_probs.reshape(catch_test_probs.shape[0],),\n",
    "#                                            initial_targets_test_mean.reshape(initial_targets_test_mean.shape[0]))"
   ]
  },
  {
   "cell_type": "code",
   "execution_count": null,
   "id": "7e03b7d8-504b-4fd2-bc7b-b8bac7a2bb00",
   "metadata": {},
   "outputs": [],
   "source": [
    "# stats_pearson"
   ]
  },
  {
   "cell_type": "code",
   "execution_count": null,
   "id": "3c950c80-c06d-42f5-938a-699658ddee4d",
   "metadata": {},
   "outputs": [],
   "source": [
    "# string = \"Real_World_EnKF_DeepCDR_\" + \"Neurons_\" + str(h1)  + \"_Gamma_\" +  str(gamma_param) +  \"_var_weights_\" + str(var_weights) + \"_num_ens_\" + str(size_ens)"
   ]
  },
  {
   "cell_type": "code",
   "execution_count": null,
   "id": "c54e559f-315e-4d51-a113-effe6695dc01",
   "metadata": {},
   "outputs": [],
   "source": [
    "# string = \"First_Three_Real_World_EnKF_DeepCDR_\" + \"Neurons_\" + str(h1)  + \"_Gamma_\" +  str(gamma_param) +  \"_var_weights_\" + str(var_weights) + \"_num_ens_\" + str(size_ens)"
   ]
  },
  {
   "cell_type": "code",
   "execution_count": null,
   "id": "4213b5a0-b128-4d90-8eaf-ef7058c2e38b",
   "metadata": {},
   "outputs": [],
   "source": [
    "# string"
   ]
  },
  {
   "cell_type": "code",
   "execution_count": null,
   "id": "01d8448d",
   "metadata": {},
   "outputs": [],
   "source": [
    "# catch_coverages = [best_train_mae, best_valid_mae, best_test_mae, best_train_coverage, best_test_coverage, best_valid_coverage, best_test_coverage, \\\n",
    "#     best_train_width, best_valid_width , best_test_width, best_drugs_weight, best_r_train, best_r_valid, best_r, exit_iter_no_thresh, time_taken, best_initial_ensembles, best_log_sigma_points_1]"
   ]
  },
  {
   "cell_type": "code",
   "execution_count": null,
   "id": "cb1027fa-cc7a-4adf-8a6a-db23a1d6323d",
   "metadata": {},
   "outputs": [],
   "source": [
    "# best_train_mae, best_valid_mae, best_test_mae, best_train_coverage, best_test_coverage, best_valid_coverage, best_test_coverage, \\\n",
    "#     best_train_width, best_valid_width , best_test_width, (1-best_drugs_weight), best_r_train, best_r_valid, best_r, exit_iter_no_thresh, time_taken, best_initial_ensembles, best_log_sigma_points_1"
   ]
  },
  {
   "cell_type": "code",
   "execution_count": null,
   "id": "3e0f11d9-de11-4880-be84-4340352ce23c",
   "metadata": {},
   "outputs": [],
   "source": [
    "# with open(\"Preds_Mutation_Methylation\" + \".pkl\", 'wb') as f:\n",
    "#     pickle.dump(catch_coverages, f)"
   ]
  },
  {
   "cell_type": "code",
   "execution_count": null,
   "id": "f80681cc-ed49-44c9-9373-52944bc8d658",
   "metadata": {},
   "outputs": [],
   "source": [
    "# fig  = plt.figure()\n",
    "# plt.scatter(y_test, initial_targets_test_mean, alpha = 0.5)\n",
    "# plt.axline((0,0), slope = 1, c = \"black\", linewidth = 3)\n",
    "# plt.xlabel(\"Observed Log IC50\", fontweight = \"bold\", fontsize = 15)\n",
    "# plt.ylabel(\"MEnKF-ANN Predicted Log IC50\", fontweight = \"bold\", fontsize = 15)\n",
    "# plt.xticks(fontsize = 15, fontweight = \"bold\")\n",
    "# plt.yticks(fontsize = 15, fontweight = \"bold\")\n",
    "# fig.savefig('Plots/Avg_Smile_Weight_Tajectory.pdf', bbox_inches='tight', format = \"pdf\")\n",
    "# fig.savefig('Plots/Avg_Smile_Weight_Tajectory.png', bbox_inches='tight')\n",
    "# plt.show()"
   ]
  },
  {
   "cell_type": "code",
   "execution_count": null,
   "id": "1e8200e5-b784-49c8-9ae9-fd7ee5a2e71d",
   "metadata": {},
   "outputs": [],
   "source": [
    "# catch_coverages"
   ]
  },
  {
   "cell_type": "code",
   "execution_count": null,
   "id": "d0f27b29",
   "metadata": {},
   "outputs": [],
   "source": [
    "# catch_coverages"
   ]
  },
  {
   "cell_type": "code",
   "execution_count": null,
   "id": "647980a7-9ae3-4c5c-b25c-2e37b6a84679",
   "metadata": {},
   "outputs": [],
   "source": [
    "# check = pd.DataFrame(catch_coverages[:10])"
   ]
  },
  {
   "cell_type": "code",
   "execution_count": null,
   "id": "e061792a-e589-486e-b8d2-336622f6bf34",
   "metadata": {},
   "outputs": [],
   "source": [
    "# check"
   ]
  },
  {
   "cell_type": "code",
   "execution_count": null,
   "id": "fa101efc-351b-4645-87a3-f008abf1ff3d",
   "metadata": {},
   "outputs": [],
   "source": [
    "# check"
   ]
  },
  {
   "cell_type": "code",
   "execution_count": null,
   "id": "77536655-0afd-4976-980a-fa7a28b55201",
   "metadata": {},
   "outputs": [],
   "source": [
    "# check.columns = [\"train_mae\", \"test_mae\", \"avg_ci_width_train\", \"avg_ci_width_test\", \"avg_lstm_weight\", \"exit_iter\", \"exit_status\"]"
   ]
  },
  {
   "cell_type": "code",
   "execution_count": null,
   "id": "cd8cefbd-9076-469e-a5dc-dc4637846308",
   "metadata": {},
   "outputs": [],
   "source": [
    "# check = check.T\n"
   ]
  },
  {
   "cell_type": "code",
   "execution_count": null,
   "id": "8596dfc5",
   "metadata": {},
   "outputs": [],
   "source": [
    "# check"
   ]
  },
  {
   "cell_type": "code",
   "execution_count": null,
   "id": "4fc1dcac-24b2-45e7-ae4c-e55eca90a6c6",
   "metadata": {},
   "outputs": [],
   "source": [
    "# check.columns = [\"train_mae\", \"test_mae\", \"train_coverage\", \"train_width\", \"test_coverage\", \"test_width\", \"exit_iter\", \"time_taken\", \"avg_width_alginate\"]"
   ]
  },
  {
   "cell_type": "code",
   "execution_count": null,
   "id": "dc699633-60c4-4774-93ef-e90160803672",
   "metadata": {},
   "outputs": [],
   "source": [
    "# check.columns = [\"train_mae\", \"test_mae\", \"train_coverage\", \"train_width\", \"test_coverage\", \"test_width\", \"drug_weight\" , \"pearson_correlation\" ,\"exit_iter\", \"time_taken\"]"
   ]
  },
  {
   "cell_type": "code",
   "execution_count": null,
   "id": "4089a2ab-43f9-4e24-a7ed-add7bdc14156",
   "metadata": {},
   "outputs": [],
   "source": [
    "# true_preds = [inner for item in true_preds for inner in item]"
   ]
  },
  {
   "cell_type": "code",
   "execution_count": null,
   "id": "65492b8d-d7e4-4375-8577-d79a633680b7",
   "metadata": {},
   "outputs": [],
   "source": [
    "# enkf_preds = [inner for item in enkf_preds for inner in item]"
   ]
  },
  {
   "cell_type": "code",
   "execution_count": null,
   "id": "19776731-14c7-43c3-bd48-163aa67e2c76",
   "metadata": {},
   "outputs": [],
   "source": [
    "# np.mean(np.abs(np.array(true_preds)-np.array(enkf_preds)))"
   ]
  },
  {
   "cell_type": "code",
   "execution_count": null,
   "id": "1ebada74-6fe8-4f58-a939-87ca7399aef8",
   "metadata": {},
   "outputs": [],
   "source": [
    "# plt.scatter(enkf_preds,true_preds, alpha=0.5)\n",
    "# plt.xlabel(\"EnKF Predictions\", fontsize = 15, fontweight = \"bold\")\n",
    "# plt.ylabel(\"LSTM Predictions\", fontsize = 15, fontweight = \"bold\")\n",
    "# plt.xticks( fontsize = 10, fontweight = \"bold\")\n",
    "# plt.yticks( fontsize = 10, fontweight = \"bold\")\n",
    "# plt.axline((0, 0), slope=1)\n",
    "# plt.show()"
   ]
  },
  {
   "cell_type": "code",
   "execution_count": null,
   "id": "dd706672-8fd1-4f54-88a2-d377f1b2d7d3",
   "metadata": {},
   "outputs": [],
   "source": [
    "# cur_idx = 0"
   ]
  },
  {
   "cell_type": "code",
   "execution_count": null,
   "id": "ead27b05-299e-49dc-bb97-236a18cd05e5",
   "metadata": {},
   "outputs": [],
   "source": [
    "# catch_preds = []\n",
    "# for i in range(0, catch_coverages[cur_idx][-1].shape[1]):\n",
    "#     enkf_preds = catch_coverages[cur_idx][-1][:,i,:]\n",
    "#     enkf_preds_df = pd.DataFrame(enkf_preds)\n",
    "#     enkf_preds_df[\"Test_Sample_ID\"] = i \n",
    "#     enkf_preds_df.columns = [\"EnKF_Preds\", \"Test_Sample_ID\"]\n",
    "#     catch_preds.append(enkf_preds_df)"
   ]
  },
  {
   "cell_type": "code",
   "execution_count": null,
   "id": "76f88a3c-8152-4b54-8eea-761701d7b7cc",
   "metadata": {},
   "outputs": [],
   "source": [
    "# catch_preds_df = pd.concat(catch_preds)"
   ]
  },
  {
   "cell_type": "code",
   "execution_count": null,
   "id": "6614c144-29c3-451d-a6c6-a624aa4096a1",
   "metadata": {},
   "outputs": [],
   "source": [
    "# import seaborn as sns"
   ]
  },
  {
   "cell_type": "code",
   "execution_count": null,
   "id": "45f52dcf-cc5b-4af0-b495-9c0601729154",
   "metadata": {},
   "outputs": [],
   "source": [
    "# filtered_df = expit(catch1[cur_idx][2])"
   ]
  },
  {
   "cell_type": "code",
   "execution_count": null,
   "id": "51405252-c830-4c95-90d8-e42cffcae59b",
   "metadata": {},
   "outputs": [],
   "source": [
    "# # plt.figure(figsize = (10,10))\n",
    "# fig = sns.boxplot(catch_preds_df, x=\"Test_Sample_ID\", y=\"EnKF_Preds\", showfliers=False)\n",
    "# plt.scatter(range(0, filtered_df.shape[0]), filtered_df, c = \"black\", s = 50)\n",
    "# plt.xlabel(\"Test Sample ID\", fontsize = 15, fontweight = \"bold\")\n",
    "# plt.ylabel(\"EnKF Predictions\", fontsize = 15, fontweight = \"bold\")\n",
    "# plt.xticks(fontsize = 10, fontweight = \"bold\")\n",
    "# plt.yticks(fontsize = 10, fontweight = \"bold\")\n",
    "# plt.show()"
   ]
  },
  {
   "cell_type": "code",
   "execution_count": null,
   "id": "ab4ef63f-a716-4006-8923-39df160647d8",
   "metadata": {},
   "outputs": [],
   "source": [
    "# ids = [i for i in range(0, filtered_df.shape[0]) if filtered_df[i] < 0.5]\n",
    "# ids_more = [i for i in range(0, filtered_df.shape[0]) if filtered_df[i] > 0.5]"
   ]
  },
  {
   "cell_type": "code",
   "execution_count": null,
   "id": "0976b8bc-6faa-4c8e-a9d1-3b666d9435e0",
   "metadata": {},
   "outputs": [],
   "source": [
    "# catch_preds_df.groupby(\"Test_Sample_ID\").quantile(q = [0.025, 0.975])"
   ]
  },
  {
   "cell_type": "code",
   "execution_count": null,
   "id": "64886e1a-d858-4ea8-9cc4-51ab0b072286",
   "metadata": {},
   "outputs": [],
   "source": [
    "# catch_preds_df_filtered = catch_preds_df[catch_preds_df[\"Test_Sample_ID\"].isin(ids_more)]"
   ]
  },
  {
   "cell_type": "code",
   "execution_count": null,
   "id": "6ecec8de-d825-4191-9f35-705382466d97",
   "metadata": {},
   "outputs": [],
   "source": [
    "# filtered_true = filtered_df[ids_more,:]"
   ]
  },
  {
   "cell_type": "code",
   "execution_count": null,
   "id": "860a9f6b-a286-4855-8530-2c2d71d08737",
   "metadata": {},
   "outputs": [],
   "source": [
    "# # plt.figure(figsize = (10,10))\n",
    "# fig = sns.boxplot(catch_preds_df_filtered, x=\"Test_Sample_ID\", y=\"EnKF_Preds\", showfliers=False)\n",
    "# plt.scatter(range(0, filtered_true.shape[0]), filtered_true, c = \"black\", s = 50)\n",
    "# plt.xlabel(\"Test Sample ID\", fontsize = 15, fontweight = \"bold\")\n",
    "# plt.ylabel(\"EnKF Predictions\", fontsize = 15, fontweight = \"bold\")\n",
    "# plt.xticks(fontsize = 10, fontweight = \"bold\")\n",
    "# plt.yticks(fontsize = 10, fontweight = \"bold\")\n",
    "# plt.show()"
   ]
  },
  {
   "cell_type": "code",
   "execution_count": null,
   "id": "ec177a9b-74aa-4458-a88e-a8b1ab1deff6",
   "metadata": {},
   "outputs": [],
   "source": [
    "# catch_preds_df_filtered = catch_preds_df[catch_preds_df[\"Test_Sample_ID\"].isin(ids)]\n",
    "# filtered_true = filtered_df[ids,:]\n",
    "# # plt.figure(figsize = (10,10))\n",
    "# fig = sns.boxplot(catch_preds_df_filtered, x=\"Test_Sample_ID\", y=\"EnKF_Preds\", showfliers=False)\n",
    "# plt.scatter(range(0, filtered_true.shape[0]), filtered_true, c = \"black\")\n",
    "# plt.xlabel(\"Test Sample ID\", fontsize = 15, fontweight = \"bold\")\n",
    "# plt.ylabel(\"EnKF Predictions\", fontsize = 15, fontweight = \"bold\")\n",
    "# plt.xticks(fontsize = 10, fontweight = \"bold\")\n",
    "# plt.yticks(fontsize = 10, fontweight = \"bold\")\n",
    "# plt.show()\n",
    "# # plt.ylim((0.9,1.0))"
   ]
  }
 ],
 "metadata": {
  "kernelspec": {
   "display_name": "enkf",
   "language": "python",
   "name": "enkf"
  },
  "language_info": {
   "codemirror_mode": {
    "name": "ipython",
    "version": 3
   },
   "file_extension": ".py",
   "mimetype": "text/x-python",
   "name": "python",
   "nbconvert_exporter": "python",
   "pygments_lexer": "ipython3",
   "version": "3.11.3"
  }
 },
 "nbformat": 4,
 "nbformat_minor": 5
}
