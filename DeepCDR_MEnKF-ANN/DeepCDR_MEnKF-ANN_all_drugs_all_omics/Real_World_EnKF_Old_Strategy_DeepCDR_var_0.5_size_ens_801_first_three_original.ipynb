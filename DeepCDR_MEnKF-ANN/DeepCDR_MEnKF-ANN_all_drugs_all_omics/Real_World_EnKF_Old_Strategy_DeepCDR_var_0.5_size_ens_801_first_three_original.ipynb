{
 "cells": [
  {
   "cell_type": "code",
   "execution_count": 2,
   "id": "d7ab5bf3",
   "metadata": {},
   "outputs": [],
   "source": [
    "import pandas as pd\n",
    "from tqdm import tqdm\n",
    "# import gensim\n",
    "import os\n",
    "os.environ['TF_CPP_MIN_LOG_LEVEL'] = '3' \n",
    "# os.chdir(r\"D://Proposal_Defense//Simulations\")\n",
    "# from Utils.Script_utils import get_data_splits, first_LSTM_training, get_data_splits_old_algo\n",
    "from joblib import Parallel, delayed\n",
    "import sys\n",
    "from scipy.stats import norm"
   ]
  },
  {
   "cell_type": "code",
   "execution_count": 3,
   "id": "36084258",
   "metadata": {},
   "outputs": [
    {
     "name": "stdout",
     "output_type": "stream",
     "text": [
      "No GPU found\n"
     ]
    }
   ],
   "source": [
    "# Seed value\n",
    "# Apparently you may use different seed values at each stage\n",
    "seed_value= 42\n",
    "\n",
    "# 1. Set the `PYTHONHASHSEED` environment variable at a fixed value\n",
    "import os\n",
    "os.environ['PYTHONHASHSEED']=str(seed_value)\n",
    "\n",
    "# 2. Set the `python` built-in pseudo-random generator at a fixed value\n",
    "import random\n",
    "random.seed(seed_value)\n",
    "\n",
    "# 3. Set the `numpy` pseudo-random generator at a fixed value\n",
    "import numpy as np\n",
    "np.random.seed(seed_value)\n",
    "\n",
    "# # 4. Set the `tensorflow` pseudo-random generator at a fixed value\n",
    "import tensorflow as tf\n",
    "os.environ['CUDA_VISIBLE_DEVICES'] = '-1'\n",
    "\n",
    "if tf.test.gpu_device_name():\n",
    "    print('GPU found')\n",
    "else:\n",
    "    print(\"No GPU found\")\n",
    "# tf.config.set_visible_devices([], 'GPU')\n",
    "\n",
    "from tqdm.notebook import tqdm\n",
    "tf.random.set_seed(seed_value)\n",
    "import multiprocessing\n",
    "# for later versions: \n",
    "# tf.compat.v1.set_random_seed(seed_value)\n",
    "\n",
    "# 5. Configure a new global `tensorflow` session\n",
    "# from keras import backend as K\n",
    "# session_conf = tf.compat.v1.ConfigProto(intra_op_parallelism_threads=1, inter_op_parallelism_threads=1)\n",
    "# sess = tf.compat.v1.Session(graph=tf.compat.v1.get_default_graph(), config=session_conf)\n",
    "# K.set_session(sess)"
   ]
  },
  {
   "cell_type": "code",
   "execution_count": 4,
   "id": "e036b858",
   "metadata": {},
   "outputs": [],
   "source": [
    "import matplotlib.pyplot as plt\n",
    "\n",
    "import pickle"
   ]
  },
  {
   "cell_type": "code",
   "execution_count": null,
   "id": "7aba28b2-8ac3-4f34-90cd-f89214f63110",
   "metadata": {},
   "outputs": [],
   "source": [
    "# data[\"high_level_substr\"].value_counts()"
   ]
  },
  {
   "cell_type": "code",
   "execution_count": null,
   "id": "a0db48ca-0165-40d8-9bdc-2dcc0bd77efe",
   "metadata": {},
   "outputs": [],
   "source": [
    "# alginate_doc2vec_vecs"
   ]
  },
  {
   "cell_type": "code",
   "execution_count": null,
   "id": "d02c4f20-faf2-4e10-86f6-9ca8a295b770",
   "metadata": {},
   "outputs": [],
   "source": [
    "# data[\"high_level_substr\"].value_counts()"
   ]
  },
  {
   "cell_type": "code",
   "execution_count": 5,
   "id": "a1221543-b1fd-4225-91c9-1f372ac315e3",
   "metadata": {},
   "outputs": [],
   "source": [
    "path = os.getcwd() + \"//dataset_1\""
   ]
  },
  {
   "cell_type": "code",
   "execution_count": 6,
   "id": "6dd7d977-20bc-4012-a710-291b706cf0a2",
   "metadata": {},
   "outputs": [],
   "source": [
    "# ## read in all the drug features\n",
    "# ## for train test and valid\n",
    "train_drugs = np.load(path + \"//\" + \"train_drug.npy\")\n",
    "# valid_drugs = np.load(path + \"//\" + \"valid_drug.npy\")\n",
    "# test_drugs = np.load(path + \"//\" + \"test_drug.npy\")"
   ]
  },
  {
   "cell_type": "code",
   "execution_count": 7,
   "id": "62c9e28e-57e1-4989-9377-779597ab9187",
   "metadata": {},
   "outputs": [],
   "source": [
    "# ## read in all the omics features\n",
    "# ## for train test and valid\n",
    "train_omics = np.load(path + \"//\" + \"train_omics.npy\")\n",
    "# valid_omics = np.load(path + \"//\" + \"valid_omics.npy\")\n",
    "# test_omics = np.load(path + \"//\" + \"test_omics.npy\")"
   ]
  },
  {
   "cell_type": "code",
   "execution_count": null,
   "id": "650a3031-0121-4457-8d37-ed9cc74ab1d4",
   "metadata": {},
   "outputs": [],
   "source": [
    "# ## read in all the labels \n",
    "# ## for train test and valid\n",
    "# y_train = np.load(path + \"//\" + \"train_y.npy\")\n",
    "# y_valid = np.load(path + \"//\" + \"valid_y.npy\")\n",
    "# y_test = np.load(path + \"//\" + \"test_y.npy\")"
   ]
  },
  {
   "cell_type": "code",
   "execution_count": null,
   "id": "16b2eaeb-68be-4fd1-83c6-e87eee1090b7",
   "metadata": {},
   "outputs": [],
   "source": [
    "# train_drugs.shape"
   ]
  },
  {
   "cell_type": "code",
   "execution_count": null,
   "id": "959e7a79-da91-43f9-9fbe-f4c3a3f4c859",
   "metadata": {},
   "outputs": [],
   "source": [
    "# valid_drugs.shape"
   ]
  },
  {
   "cell_type": "code",
   "execution_count": null,
   "id": "05b71c4c-55c5-44d2-8248-aca4318bfd8a",
   "metadata": {},
   "outputs": [],
   "source": [
    "# test_drugs.shape"
   ]
  },
  {
   "cell_type": "code",
   "execution_count": null,
   "id": "4da7a93c-628e-48cb-9d2b-215a4803423d",
   "metadata": {},
   "outputs": [],
   "source": [
    "# y_train.shape"
   ]
  },
  {
   "cell_type": "code",
   "execution_count": null,
   "id": "9fc3d495-3915-4a91-808b-a33d74336cb3",
   "metadata": {},
   "outputs": [],
   "source": [
    "# y_valid.shape"
   ]
  },
  {
   "cell_type": "code",
   "execution_count": null,
   "id": "d8454584-dc3b-47b8-8fec-edd993cca409",
   "metadata": {},
   "outputs": [],
   "source": [
    "# y_test.shape"
   ]
  },
  {
   "cell_type": "code",
   "execution_count": 8,
   "id": "76624ecc-8bb7-4e52-b95d-1a01cecacb5b",
   "metadata": {},
   "outputs": [],
   "source": [
    "def ann(hidden = 10): \n",
    "    input_layer = tf.keras.layers.Input(shape = (X_train_word2vec.shape[1]))\n",
    "    hidden_layer = tf.keras.layers.Dense(hidden)\n",
    "    hidden_output = hidden_layer(input_layer)\n",
    "    pred_layer = tf.keras.layers.Dense(1)\n",
    "    pred_output = pred_layer(hidden_output)\n",
    "#     pred_output = tf.keras.layers.Activation(\"softmax\")(pred_output)\n",
    "    model = tf.keras.models.Model(input_layer, pred_output)\n",
    "    return model"
   ]
  },
  {
   "cell_type": "code",
   "execution_count": 9,
   "id": "b8153ea5-cefc-4075-994d-c51461505e8b",
   "metadata": {},
   "outputs": [],
   "source": [
    "X_train_word2vec = train_drugs"
   ]
  },
  {
   "cell_type": "code",
   "execution_count": 10,
   "id": "95a7d5f5-e03c-4de4-8bea-d4821cc7209d",
   "metadata": {},
   "outputs": [],
   "source": [
    "h1, h2 = 16,16"
   ]
  },
  {
   "cell_type": "code",
   "execution_count": 11,
   "id": "b2ff179a-2c64-4bae-bfd5-3ce7f4b40fb5",
   "metadata": {},
   "outputs": [],
   "source": [
    "\n",
    "\n",
    "ann_15 = ann(h1)\n",
    "\n",
    "\n",
    "# In[35]:\n",
    "\n",
    "\n",
    "# ann_15.summary()\n",
    "\n",
    "\n",
    "# In[36]:\n",
    "\n"
   ]
  },
  {
   "cell_type": "code",
   "execution_count": 12,
   "id": "0bf5144e-59f2-413e-af30-39407819094c",
   "metadata": {},
   "outputs": [
    {
     "name": "stdout",
     "output_type": "stream",
     "text": [
      "Model: \"model\"\n",
      "_________________________________________________________________\n",
      " Layer (type)                Output Shape              Param #   \n",
      "=================================================================\n",
      " input_1 (InputLayer)        [(None, 90)]              0         \n",
      "                                                                 \n",
      " dense (Dense)               (None, 16)                1456      \n",
      "                                                                 \n",
      " dense_1 (Dense)             (None, 1)                 17        \n",
      "                                                                 \n",
      "=================================================================\n",
      "Total params: 1,473\n",
      "Trainable params: 1,473\n",
      "Non-trainable params: 0\n",
      "_________________________________________________________________\n"
     ]
    }
   ],
   "source": [
    "ann_15.summary()"
   ]
  },
  {
   "cell_type": "code",
   "execution_count": 13,
   "id": "a9c45b5a-9f13-4fd9-b90c-ed94e069b9cc",
   "metadata": {},
   "outputs": [],
   "source": [
    "X_train_word2vec = train_omics"
   ]
  },
  {
   "cell_type": "code",
   "execution_count": 14,
   "id": "bce5668e-a895-47b4-8f1c-6e5d1fd3c92b",
   "metadata": {},
   "outputs": [],
   "source": [
    "ann_20 = ann(h2)\n",
    "\n",
    "\n",
    "\n",
    "# ann_20.summary()\n",
    "\n"
   ]
  },
  {
   "cell_type": "code",
   "execution_count": 15,
   "id": "6a41f8b5",
   "metadata": {},
   "outputs": [],
   "source": [
    "total_weights_1 = ann_15.count_params()"
   ]
  },
  {
   "cell_type": "code",
   "execution_count": 16,
   "id": "0721ea37",
   "metadata": {},
   "outputs": [],
   "source": [
    "total_weights_2 = ann_20.count_params()"
   ]
  },
  {
   "cell_type": "code",
   "execution_count": 17,
   "id": "4b2ed894",
   "metadata": {},
   "outputs": [],
   "source": [
    "total_weights = total_weights_1 + total_weights_2 + 1 "
   ]
  },
  {
   "cell_type": "code",
   "execution_count": 18,
   "id": "999f5e96",
   "metadata": {},
   "outputs": [
    {
     "data": {
      "text/plain": [
       "2947"
      ]
     },
     "execution_count": 18,
     "metadata": {},
     "output_type": "execute_result"
    }
   ],
   "source": [
    "total_weights"
   ]
  },
  {
   "cell_type": "code",
   "execution_count": 19,
   "id": "feb2ef89",
   "metadata": {},
   "outputs": [],
   "source": [
    "## batch size\n",
    "batch_size = 128"
   ]
  },
  {
   "cell_type": "code",
   "execution_count": null,
   "id": "4eea8c8e",
   "metadata": {},
   "outputs": [],
   "source": [
    "# var_weights = 0.08\n",
    "# var_targets = 0.08"
   ]
  },
  {
   "cell_type": "code",
   "execution_count": 20,
   "id": "9b49ba9c",
   "metadata": {},
   "outputs": [],
   "source": [
    "from scipy.stats import multivariate_normal as mvn"
   ]
  },
  {
   "cell_type": "code",
   "execution_count": 21,
   "id": "7a60a350",
   "metadata": {},
   "outputs": [],
   "source": [
    "from scipy.stats import invgamma, norm"
   ]
  },
  {
   "cell_type": "code",
   "execution_count": 22,
   "id": "bd888262",
   "metadata": {},
   "outputs": [],
   "source": [
    "from tqdm.notebook import tqdm"
   ]
  },
  {
   "cell_type": "code",
   "execution_count": 23,
   "id": "c3355c48",
   "metadata": {},
   "outputs": [],
   "source": [
    "threshold = 5"
   ]
  },
  {
   "cell_type": "code",
   "execution_count": 24,
   "id": "b1ce82b7",
   "metadata": {},
   "outputs": [],
   "source": [
    "import random"
   ]
  },
  {
   "cell_type": "code",
   "execution_count": 25,
   "id": "7425ecc5",
   "metadata": {},
   "outputs": [],
   "source": [
    "lr = 0.1"
   ]
  },
  {
   "cell_type": "code",
   "execution_count": 26,
   "id": "b7959ab1",
   "metadata": {},
   "outputs": [],
   "source": [
    "import numpy as np"
   ]
  },
  {
   "cell_type": "code",
   "execution_count": 27,
   "id": "1db4063f",
   "metadata": {},
   "outputs": [],
   "source": [
    "weights_ann_1 = ann_15.get_weights()\n",
    "weights_ann_2 = ann_20.get_weights()"
   ]
  },
  {
   "cell_type": "code",
   "execution_count": 28,
   "id": "43a211df",
   "metadata": {},
   "outputs": [],
   "source": [
    "def get_targets_with_weights(batch_data, batch_data1, initial_ensembles, log_sigma_points_1): \n",
    "\n",
    "    n_hidden_1 = len(weights_ann_1[0].ravel())\n",
    "\n",
    "    hidden_weights_1 = initial_ensembles[:,:n_hidden_1].reshape( size_ens, batch_data.shape[1], h1)\n",
    "\n",
    "    \n",
    "    hidden_output_1 = np.einsum('ij,kjl->kil', batch_data, hidden_weights_1)\n",
    "\n",
    "    \n",
    "    hidden_layer_bias_1 = initial_ensembles[:,n_hidden_1:(n_hidden_1 + h1)].reshape(size_ens, 1,  h1)\n",
    "\n",
    "\n",
    "\n",
    "    hidden_output_1 = hidden_output_1 + hidden_layer_bias_1\n",
    "\n",
    "    n_pred_weights_1 = len(weights_ann_1[2].ravel())\n",
    "\n",
    "    output_weights_1 = initial_ensembles[:,(n_hidden_1 + h1):(n_hidden_1 + h1 + n_pred_weights_1) ].reshape(size_ens, h1, 1)\n",
    "\n",
    "    output_1 = np.einsum('ijk,ikl->ijl', hidden_output_1, output_weights_1)\n",
    "\n",
    "\n",
    "    output_layer_bias_1 = initial_ensembles[:,(n_hidden_1 + h1 + n_pred_weights_1):(n_hidden_1 + h1 + n_pred_weights_1 + 1)].reshape(size_ens, 1, 1)\n",
    "\n",
    "\n",
    "\n",
    "    final_output_1 = output_1 + output_layer_bias_1\n",
    "\n",
    "    n_hidden_2 = len(weights_ann_2[0].ravel())\n",
    "\n",
    "    initial_ensembles_1 = initial_ensembles.copy()[:, total_weights_1:(total_weights_1+ total_weights_2)]\n",
    "\n",
    "    hidden_weights_2 = initial_ensembles_1[:,:n_hidden_2].reshape(size_ens, batch_data1.shape[1], h2)\n",
    "\n",
    "\n",
    "\n",
    "    hidden_output_2 = np.einsum('ij,kjl->kil', batch_data1, hidden_weights_2)\n",
    "\n",
    "    hidden_layer_bias_2 = initial_ensembles[:,n_hidden_2:(n_hidden_2 + h2)].reshape(size_ens, 1,  h2)\n",
    "\n",
    "    hidden_output_2 = hidden_output_2+ hidden_layer_bias_2\n",
    "\n",
    "    n_pred_weights_2 = len(weights_ann_2[2].ravel())\n",
    "\n",
    "    output_weights_2 = initial_ensembles_1[:,(n_hidden_2 + h2):(n_hidden_2 + h2 + n_pred_weights_2) ].reshape(size_ens, h2, 1)\n",
    "\n",
    "\n",
    "    output_2 = np.einsum('ijk,ikl->ijl', hidden_output_2, output_weights_2)\n",
    "\n",
    "\n",
    "    output_layer_bias_2 = initial_ensembles_1[:,(n_hidden_2 + h2 + n_pred_weights_2):(n_hidden_2 + h2 + n_pred_weights_2 + 1)].reshape(size_ens, 1, 1)\n",
    "\n",
    "\n",
    "    final_output_2 = output_2 + output_layer_bias_2\n",
    "\n",
    "\n",
    "    weights_1 = initial_ensembles[:, :total_weights_1]\n",
    "\n",
    "    weights_2 = initial_ensembles[:, total_weights_1:(total_weights_1 + total_weights_2)]\n",
    "\n",
    "\n",
    "    avg_weights = initial_ensembles[:, -1].reshape(-1,1)\n",
    "\n",
    "    avg_weights_sig = expit(avg_weights)\n",
    "    \n",
    "    avg_weights_sig = avg_weights_sig.reshape(avg_weights_sig.shape[0], 1, avg_weights_sig.shape[1])\n",
    "    \n",
    "    complement_weights_sig = 1 - expit(avg_weights)\n",
    "    \n",
    "    complement_weights_sig = complement_weights_sig.reshape(complement_weights_sig.shape[0], 1, complement_weights_sig.shape[1])\n",
    "\n",
    "    final_output_1 = final_output_1*complement_weights_sig\n",
    "    \n",
    "    final_output_2 = final_output_2*avg_weights_sig\n",
    "    \n",
    "    output_1_ravel = final_output_1.reshape(size_ens, final_output_1.shape[1]*final_output_1.shape[2])\n",
    "\n",
    "    output_2_ravel = final_output_2.reshape(size_ens, final_output_2.shape[1]*final_output_2.shape[2])\n",
    "\n",
    "\n",
    "    output_1_ravel = output_1_ravel\n",
    "\n",
    "    output_2_ravel = output_2_ravel\n",
    "\n",
    "\n",
    "\n",
    "    weights_1_add = np.zeros((size_ens, (total_weights_2 - total_weights_1)))\n",
    "\n",
    "\n",
    "\n",
    "    weights_1 = np.hstack((weights_1, weights_1_add))\n",
    "    \n",
    "\n",
    "\n",
    "    stack_1 = np.hstack((output_1_ravel, weights_1, np.repeat(0, size_ens).reshape(-1,1), np.repeat(0, size_ens).reshape(-1,1)))\n",
    "\n",
    "\n",
    "\n",
    "    \n",
    "    stack_2 = np.hstack((output_2_ravel, weights_2, avg_weights, log_sigma_points_1))\n",
    "\n",
    "    \n",
    "    initial_aug_state = np.hstack((stack_1, stack_2)) \n",
    "    \n",
    "\n",
    "    return initial_aug_state , output_1_ravel, output_2_ravel, log_sigma_points_1\n",
    "\n"
   ]
  },
  {
   "cell_type": "code",
   "execution_count": 29,
   "id": "4e3ef6e6",
   "metadata": {},
   "outputs": [],
   "source": [
    "import time"
   ]
  },
  {
   "cell_type": "code",
   "execution_count": 30,
   "id": "0eabfdd4",
   "metadata": {},
   "outputs": [],
   "source": [
    "from scipy.stats import multivariate_normal as mvn"
   ]
  },
  {
   "cell_type": "code",
   "execution_count": 31,
   "id": "b982682f",
   "metadata": {},
   "outputs": [],
   "source": [
    "var_weights =0.5\n",
    "# var_weights_vec = 4\n",
    "# var_targets = 0.04\n",
    "# var_weights = 2"
   ]
  },
  {
   "cell_type": "code",
   "execution_count": 32,
   "id": "10d77915",
   "metadata": {},
   "outputs": [],
   "source": [
    "from scipy.stats import multivariate_normal as mvn"
   ]
  },
  {
   "cell_type": "code",
   "execution_count": 33,
   "id": "a2a6de67",
   "metadata": {},
   "outputs": [],
   "source": [
    "reduction = 4\n",
    "# reduction = 10"
   ]
  },
  {
   "cell_type": "code",
   "execution_count": 34,
   "id": "471e3306",
   "metadata": {},
   "outputs": [],
   "source": [
    "shape_needed = (total_weights + 2*batch_size*1 + 1 + (total_weights_2 - total_weights_1))//reduction"
   ]
  },
  {
   "cell_type": "code",
   "execution_count": 35,
   "id": "63796187",
   "metadata": {},
   "outputs": [],
   "source": [
    "size_ens = shape_needed"
   ]
  },
  {
   "cell_type": "code",
   "execution_count": 36,
   "id": "6aee42b8",
   "metadata": {},
   "outputs": [],
   "source": [
    "size_ens = int(size_ens)"
   ]
  },
  {
   "cell_type": "code",
   "execution_count": 37,
   "id": "bc234219",
   "metadata": {},
   "outputs": [
    {
     "data": {
      "text/plain": [
       "801"
      ]
     },
     "execution_count": 37,
     "metadata": {},
     "output_type": "execute_result"
    }
   ],
   "source": [
    "size_ens"
   ]
  },
  {
   "cell_type": "code",
   "execution_count": null,
   "id": "ebeb0869-7f0b-4f21-be63-0234896af39f",
   "metadata": {},
   "outputs": [],
   "source": [
    "# train_fudged_probs"
   ]
  },
  {
   "cell_type": "code",
   "execution_count": 38,
   "id": "23d87ffe",
   "metadata": {},
   "outputs": [],
   "source": [
    "import matplotlib.pyplot as plt"
   ]
  },
  {
   "cell_type": "code",
   "execution_count": 39,
   "id": "f5427e43",
   "metadata": {},
   "outputs": [],
   "source": [
    "from scipy.special import expit"
   ]
  },
  {
   "cell_type": "code",
   "execution_count": null,
   "id": "be0ee1ec",
   "metadata": {},
   "outputs": [],
   "source": [
    "# catch1[0][0]"
   ]
  },
  {
   "cell_type": "code",
   "execution_count": null,
   "id": "fb492324",
   "metadata": {},
   "outputs": [],
   "source": [
    "# catch_train_logits_second[0]"
   ]
  },
  {
   "cell_type": "code",
   "execution_count": 40,
   "id": "0c2dbaec-3249-404a-9971-c2fc17f68356",
   "metadata": {},
   "outputs": [],
   "source": [
    "from datetime import datetime"
   ]
  },
  {
   "cell_type": "code",
   "execution_count": 41,
   "id": "9cf12935",
   "metadata": {},
   "outputs": [],
   "source": [
    "def expit(x):\n",
    "    \"\"\"Compute softmax values for each sets of scores in x.\"\"\"\n",
    "#     e_x = np.exp(x - np.max(x))\n",
    "    return 1 / (1 + np.exp(-x))"
   ]
  },
  {
   "cell_type": "code",
   "execution_count": 42,
   "id": "ef051014",
   "metadata": {},
   "outputs": [],
   "source": [
    "from scipy.stats import gamma"
   ]
  },
  {
   "cell_type": "code",
   "execution_count": null,
   "id": "07cb7b8c-4634-46e7-ab75-e865c7116995",
   "metadata": {},
   "outputs": [],
   "source": [
    "# second_lstm[0]"
   ]
  },
  {
   "cell_type": "code",
   "execution_count": null,
   "id": "5f0e5cb1-4067-46ba-9399-ca30548a10e1",
   "metadata": {},
   "outputs": [],
   "source": [
    "# reduction = 8\n",
    "# var_weights = 1"
   ]
  },
  {
   "cell_type": "code",
   "execution_count": null,
   "id": "197043a4-b420-4e3b-beaf-699cd7c3db6b",
   "metadata": {},
   "outputs": [],
   "source": [
    "# cur_idx = 16\n",
    "# np.log(catch_test_probs[cur_idx]/(1-catch_test_probs[cur_idx]))"
   ]
  },
  {
   "cell_type": "code",
   "execution_count": null,
   "id": "5ae6c226-20d1-4a84-ab7b-5c5295748826",
   "metadata": {},
   "outputs": [],
   "source": [
    "# catch_preds_df"
   ]
  },
  {
   "cell_type": "code",
   "execution_count": null,
   "id": "75f0d45e-6b06-4e9a-8997-5217ab99ebde",
   "metadata": {},
   "outputs": [],
   "source": [
    "# ids = [i for i in range(0, catch_test_probs[cur_idx].shape[0]) if catch_test_probs[cur_idx][i] < 0.5]\n",
    "# ids_more = [i for i in range(0, catch_test_probs[cur_idx].shape[0]) if catch_test_probs[cur_idx][i] > 0.5]"
   ]
  },
  {
   "cell_type": "code",
   "execution_count": null,
   "id": "7f15dc9d-a59f-4ef8-b93a-8244896352c5",
   "metadata": {},
   "outputs": [],
   "source": [
    "# ids_more"
   ]
  },
  {
   "cell_type": "code",
   "execution_count": 45,
   "id": "1cebfd75-9077-4677-a4f7-05c09ac9f2de",
   "metadata": {},
   "outputs": [],
   "source": [
    "# import plotly.express as px"
   ]
  },
  {
   "cell_type": "code",
   "execution_count": 46,
   "id": "22ee79ea-e013-4f80-920e-10e2aeb0eb6b",
   "metadata": {},
   "outputs": [],
   "source": [
    "# import seaborn as sns"
   ]
  },
  {
   "cell_type": "code",
   "execution_count": 47,
   "id": "1969c78b-c105-482a-a957-e81329037a09",
   "metadata": {},
   "outputs": [],
   "source": [
    "use_cores = multiprocessing.cpu_count()-1"
   ]
  },
  {
   "cell_type": "code",
   "execution_count": 48,
   "id": "6a062f7f",
   "metadata": {},
   "outputs": [
    {
     "data": {
      "text/plain": [
       "47"
      ]
     },
     "execution_count": 48,
     "metadata": {},
     "output_type": "execute_result"
    }
   ],
   "source": [
    "use_cores"
   ]
  },
  {
   "cell_type": "code",
   "execution_count": null,
   "id": "e5e25a8d-c51c-4c1d-9589-5b3b01f267e7",
   "metadata": {},
   "outputs": [],
   "source": [
    "# use_cores = 15"
   ]
  },
  {
   "cell_type": "code",
   "execution_count": null,
   "id": "b9d651b2-15fa-4542-84ab-106c958569cc",
   "metadata": {},
   "outputs": [],
   "source": [
    "# with open('first_lstm_with_doc2vec_lstm_var_0.0001_real_world.pkl', 'rb') as f:\n",
    "#     first_lstm = pickle.load(f)  "
   ]
  },
  {
   "cell_type": "code",
   "execution_count": null,
   "id": "2f12bf17-643b-4c5b-a2b0-d1f59b99557e",
   "metadata": {},
   "outputs": [],
   "source": [
    "# threshold = 200\n",
    "# cutoff_threshold = 70"
   ]
  },
  {
   "cell_type": "code",
   "execution_count": null,
   "id": "407034e6-5a33-4332-b56c-f85cd2377b1c",
   "metadata": {},
   "outputs": [],
   "source": [
    "# catch1 = first_lstm"
   ]
  },
  {
   "cell_type": "code",
   "execution_count": null,
   "id": "e343ffb7-87d1-4974-a13f-d9a26c8a0530",
   "metadata": {},
   "outputs": [],
   "source": [
    "# catch1[0]"
   ]
  },
  {
   "cell_type": "code",
   "execution_count": 49,
   "id": "881d1612-f98f-4df6-89b0-90bd2e97de4f",
   "metadata": {},
   "outputs": [],
   "source": [
    "from datetime import datetime"
   ]
  },
  {
   "cell_type": "code",
   "execution_count": null,
   "id": "b48eef68-6ec3-4209-a725-e35ab84df90e",
   "metadata": {},
   "outputs": [],
   "source": [
    "# y_train.shape"
   ]
  },
  {
   "cell_type": "code",
   "execution_count": null,
   "id": "855a536b-0f7a-4066-8a38-124a19b9f591",
   "metadata": {},
   "outputs": [],
   "source": [
    "# batch_size = 64"
   ]
  },
  {
   "cell_type": "code",
   "execution_count": 50,
   "id": "ac0108fa-359e-4d88-ba02-776a6f19b906",
   "metadata": {},
   "outputs": [],
   "source": [
    "from sklearn.metrics import mean_squared_error"
   ]
  },
  {
   "cell_type": "code",
   "execution_count": 51,
   "id": "6cd29e03-d778-4eeb-98b5-de815840cb5c",
   "metadata": {},
   "outputs": [],
   "source": [
    "import random"
   ]
  },
  {
   "cell_type": "code",
   "execution_count": 52,
   "id": "fa106e5e-7f8f-4620-9a16-43194267fcdc",
   "metadata": {},
   "outputs": [],
   "source": [
    "gamma_param = 500"
   ]
  },
  {
   "cell_type": "code",
   "execution_count": 53,
   "id": "cc0be1b1",
   "metadata": {},
   "outputs": [],
   "source": [
    "from scipy import stats"
   ]
  },
  {
   "cell_type": "code",
   "execution_count": 54,
   "id": "b49d0934-faa0-428b-8dc7-e53323a26372",
   "metadata": {},
   "outputs": [],
   "source": [
    "from scipy.stats import pearsonr"
   ]
  },
  {
   "cell_type": "code",
   "execution_count": 55,
   "id": "75c12e9a-898a-45db-9ee2-eb652adfbee1",
   "metadata": {},
   "outputs": [],
   "source": [
    "def rep_one_real_world(inflation_factor = 0.2, cutoff = 100): \n",
    "    catch_1 = []\n",
    "    catch_2 = []\n",
    "    catch_3 = []\n",
    "    catch_4 = []\n",
    "    catch_5 = []\n",
    "#     from scipy.special import expit\n",
    "    patience_smaller = 0\n",
    "    patience_uns = 0\n",
    "\n",
    "    \n",
    "    best_train_width = 100000\n",
    "\n",
    "    \n",
    "    X_train_logits = y_train.reshape(-1,1)\n",
    "#     X_train_logits = catch_train_logits_second[idx]\n",
    "    \n",
    "    X_valid_logits = y_valid.reshape(-1,1)\n",
    "    X_test_logits = y_test.reshape(-1,1)\n",
    "    \n",
    "    ## create training batch chunks\n",
    "    train_idx = list(range(0, X_train_logits.shape[0]))\n",
    "    batch_chunks = [train_idx[i:i+batch_size] for i in range(0,len(train_idx),batch_size)]\n",
    "\n",
    "    ## generate some augmented variable for iteration 0\n",
    "    initial_aug_state_mean = np.repeat(0, total_weights)\n",
    "    initial_aug_state_mean = initial_aug_state_mean.reshape(-1,1)\n",
    "\n",
    "    initial_aug_state_cov = var_weights*np.identity((total_weights))\n",
    "    initial_ensembles = mvn(initial_aug_state_mean.reshape(initial_aug_state_mean.shape[0],), initial_aug_state_cov).rvs(size = size_ens)\n",
    "\n",
    "    exit_iter_no_thresh = 0\n",
    "    log_sigma_points_1 = (np.log(gamma(gamma_param, scale = 1/100).rvs(size_ens))).reshape(size_ens, 1)\n",
    "    \n",
    "\n",
    "#     y_train = catch_train_labels_second[idx]\n",
    "\n",
    "#     y_valid = catch_valid_labels_second[idx]\n",
    "\n",
    "#     y_test = catch_test_labels_second[idx]\n",
    "    \n",
    "    \n",
    "    train_lstm = train_drugs\n",
    "    valid_lstm = valid_drugs\n",
    "    # valid_word2vec = catch[idx][7].iloc[catch_valid_idxes[idx],:].reset_index(drop = True)\n",
    "    test_lstm = test_drugs\n",
    " \n",
    "\n",
    "    train_doc2vec = train_omics\n",
    "    valid_doc2vec = valid_omics\n",
    "    # valid_word2vec = catch[idx][7].iloc[catch_valid_idxes[idx],:].reset_index(drop = True)\n",
    "    test_doc2vec = test_omics\n",
    "    \n",
    "    \n",
    "\n",
    "    \n",
    "    train_valid_lstm = (train_lstm)\n",
    "    train_valid_doc2vec = (train_doc2vec)\n",
    "\n",
    "\n",
    "    \n",
    "    \n",
    "    best_coverage_train = 0\n",
    "    \n",
    "    start = datetime.now()\n",
    "    \n",
    "    for iter1 in range(0,500):\n",
    "        random_idx = random.sample(range(train_valid_lstm.shape[0]), train_valid_lstm.shape[0])\n",
    "        train_valid_lstm =train_valid_lstm[random_idx, :]\n",
    "        train_valid_doc2vec = train_valid_doc2vec[random_idx, :]\n",
    "        X_train_logits = X_train_logits[random_idx, :]\n",
    "\n",
    "        for batch_idx in tqdm(batch_chunks):\n",
    "\n",
    "            batch_data = train_valid_lstm[batch_idx,:]\n",
    "            batch_data1 = train_valid_doc2vec[batch_idx,:]\n",
    "            # print(batch_data.shape)\n",
    "            batch_targets = X_train_logits[batch_idx,:]\n",
    "            \n",
    "            # print(batch_targets.shape)\n",
    "            \n",
    "            # batch_targets = batch_targets.ravel().reshape(-1,1)\n",
    "\n",
    "            column_mod_2_shape = total_weights_2 + batch_data.shape[0]*1 + 1 + 1\n",
    "        \n",
    "            H_t = np.hstack((np.identity(batch_targets.shape[0]), np.zeros((batch_targets.shape[0], column_mod_2_shape-batch_targets.shape[0]))))\n",
    "\n",
    "            current_aug_state, column_mod_1, column_mod_2, log_sigma_points_1 = get_targets_with_weights(batch_data, batch_data1, initial_ensembles, log_sigma_points_1)\n",
    "            \n",
    "            # print(current_aug_state.shape)\n",
    "            \n",
    "            \n",
    "            var_targets_vec = np.log(1 + np.exp(log_sigma_points_1))\n",
    "            \n",
    "            var_targets_vec = var_targets_vec\n",
    "            \n",
    "            # current_aug_state_var = np.cov(current_aug_state.T) + inflation_factor*np.identity(current_aug_state.shape[1])\n",
    "            \n",
    "            current_aug_state_var = np.cov(current_aug_state.T) \n",
    "            \n",
    "            G_t = np.array([1 , 1]).reshape(-1,1)\n",
    "            \n",
    "            scirpt_H_t = np.kron(G_t.T, H_t)\n",
    "            \n",
    "            temp1 = current_aug_state_var@scirpt_H_t.T\n",
    "            \n",
    "            temp2 = scirpt_H_t@current_aug_state_var@scirpt_H_t.T\n",
    "        \n",
    "            for ensemble_idx in range(0, current_aug_state.shape[0]):\n",
    "                \n",
    "                var_targets1 = var_targets_vec[ensemble_idx,:]\n",
    "                \n",
    "                R_t = var_targets1*np.identity(batch_targets.shape[0])\n",
    "            \n",
    "                measurement_error = mvn(np.repeat(0,batch_targets.shape[0]), var_targets1*np.identity(batch_targets.shape[0])).rvs(1).reshape(-1,1)\n",
    "            \n",
    "                target_current = batch_targets + measurement_error\n",
    "                \n",
    "                # print(target_current.shape)\n",
    "                \n",
    "                K_t = temp1@np.linalg.inv(temp2 + R_t)\n",
    "                \n",
    "                # print(K_t.shape)\n",
    "\n",
    "                current_aug_state[ensemble_idx,:] = current_aug_state[ensemble_idx,:] +(K_t@(target_current -scirpt_H_t@current_aug_state[ensemble_idx,:].reshape(-1,1))).reshape(current_aug_state.shape[1],)\n",
    "        \n",
    "\n",
    "            weights_ann_1 = current_aug_state[:,batch_targets.shape[0]:(batch_targets.shape[0] + total_weights_1)]      \n",
    "\n",
    "            weights_ann_2 = current_aug_state[:,-(total_weights_2+1):-2]    \n",
    "\n",
    "            initial_ensembles = np.hstack((weights_ann_1, weights_ann_2, current_aug_state[:,-2].reshape(-1,1)))\n",
    "            \n",
    "            log_sigma_points_1 = current_aug_state[:,-1].reshape(-1,1)\n",
    "               \n",
    "            avg_betas = expit(current_aug_state[:,-2])\n",
    "        \n",
    "            complement = 1-avg_betas\n",
    "\n",
    "            current_aug_state1, column_mod_11, column_mod_21, log_sigma_points_1 = get_targets_with_weights(valid_lstm, valid_doc2vec, initial_ensembles, log_sigma_points_1)\n",
    "            \n",
    "            initial_targets = column_mod_11 + column_mod_21\n",
    "            \n",
    "            \n",
    "            initial_targets = initial_targets.reshape(size_ens, valid_lstm.shape[0],1)\n",
    "            \n",
    "            initial_targets_train = initial_targets\n",
    "            \n",
    "            initial_targets_train_mean = initial_targets_train.mean(0)\n",
    "            \n",
    "            li = np.percentile(initial_targets_train, axis = 0, q = (2.5, 97.5))[0,:,:]\n",
    "            \n",
    "            ui = np.percentile(initial_targets_train, axis = 0, q = (2.5, 97.5))[1,:,:]\n",
    "            \n",
    "            width = ui - li\n",
    "            \n",
    "            avg_width_train = np.mean(width)\n",
    "            \n",
    "            # interim = np.vstack((catch_train_probs[idx] , catch_valid_probs[idx] ))\n",
    "        \n",
    "            interim = (X_valid_logits)\n",
    "            \n",
    "            ind = (interim >= li) & (interim <= ui)\n",
    "            \n",
    "            coverage_train= np.mean(ind.ravel())  \n",
    "            \n",
    "            train_mae = np.sqrt(mean_squared_error(interim, initial_targets_train_mean))\n",
    "            # train_mae = np.sqrt(np.mean(np.abs(interim.ravel() - initial_targets_train_mean.ravel())**2))\n",
    "        \n",
    "            current_aug_state1, column_mod_11, column_mod_21, log_sigma_points_1 = get_targets_with_weights(test_lstm, test_doc2vec, initial_ensembles, log_sigma_points_1)\n",
    "            \n",
    "            initial_targets = column_mod_11 + column_mod_21\n",
    "            \n",
    "            initial_targets = initial_targets.reshape(size_ens, test_lstm.shape[0],1)\n",
    "            \n",
    "            initial_targets_test = initial_targets\n",
    "            \n",
    "            # initial_targets_softmax = expit(initial_targets)    \n",
    "            \n",
    "            initial_targets_test_mean = initial_targets_test.mean(0)\n",
    "            \n",
    "            li = np.percentile(initial_targets_test, axis = 0, q = (2.5, 97.5))[0,:,:]\n",
    "            \n",
    "            ui = np.percentile(initial_targets_test, axis = 0, q = (2.5, 97.5))[1,:,:]\n",
    "            \n",
    "            width = ui - li\n",
    "            \n",
    "            avg_width = np.mean(width)\n",
    "            \n",
    "            catch_test_probs = (X_test_logits)\n",
    "            \n",
    "            ind_test = (catch_test_probs >= li) & (catch_test_probs <= ui)\n",
    "                        \n",
    "            coverage_test = np.mean(ind_test.ravel())    \n",
    "\n",
    "            \n",
    "            test_mae = np.sqrt(mean_squared_error(catch_test_probs, initial_targets_test_mean))\n",
    "\n",
    "            stats_pearson = stats.pearsonr(catch_test_probs.reshape(catch_test_probs.shape[0],),\n",
    "                                           initial_targets_test_mean.reshape(initial_targets_test_mean.shape[0],))\n",
    "            \n",
    "\n",
    "        print(\"epoch \"+ str(iter1))\n",
    "        print(\"patience \"+ str(patience_smaller))\n",
    "        print(\"train mae is \" + str(train_mae))\n",
    "        print(\"test mae is \" + str(test_mae))\n",
    "        \n",
    "        print(\"train coverage is \"+ str(coverage_train))\n",
    "        print(\"train width is \" + str(avg_width_train))        \n",
    "        print(\"test coverage is \"+ str(coverage_test))\n",
    "        print(\"test width is \" + str(avg_width))\n",
    "        print(\"drugs weight is \" + str(np.mean(complement)))\n",
    "        print(\"pearson r is \" + str(stats_pearson[0]))\n",
    "\n",
    "              \n",
    "        \n",
    "        if iter1 == 0: \n",
    "            best_train_mae = train_mae\n",
    "            best_test_mae = test_mae\n",
    "            exit_iter_no_thresh = iter1\n",
    "            best_test_preds = initial_targets_test\n",
    "            patience_smaller = 0\n",
    "            best_train_coverage = coverage_train\n",
    "            best_test_coverage = coverage_test\n",
    "            best_train_width = avg_width_train\n",
    "            best_test_width = avg_width\n",
    "            best_drugs_weight = np.mean(complement)\n",
    "            best_r = stats_pearson[0]\n",
    "            best_initial_ensembles = initial_ensembles\n",
    "            best_log_sigma_points_1 = log_sigma_points_1\n",
    "        \n",
    "        if (avg_width_train < best_train_width) & (coverage_train > 0.75): \n",
    "\n",
    "            best_train_mae = train_mae\n",
    "            best_test_mae = test_mae\n",
    "            exit_iter_no_thresh = iter1\n",
    "            best_test_preds = initial_targets_test\n",
    "            patience_smaller = 0\n",
    "            best_train_coverage = coverage_train\n",
    "            best_test_coverage = coverage_test\n",
    "            best_train_width = avg_width_train\n",
    "            best_test_width = avg_width\n",
    "            best_drugs_weight = np.mean(complement)\n",
    "            best_r = stats_pearson[0]\n",
    "            best_initial_ensembles = initial_ensembles\n",
    "            best_log_sigma_points_1 = log_sigma_points_1            \n",
    "            # satisfactory = True\n",
    "            \n",
    "        else:\n",
    "            patience_smaller+=1\n",
    "            \n",
    "        if patience_smaller > threshold:\n",
    "            \n",
    "            break\n",
    "            \n",
    "        if (coverage_train < 0.4): \n",
    "            patience_uns+=1\n",
    "            \n",
    "        if (patience_uns > 3):            \n",
    "            \n",
    "            break\n",
    "            \n",
    "#     base_model = tf.keras.models.load_model(\"Real_World_LSTM_Models\" + \"//\" + \"Model_\" + str(idx))\n",
    "#     extract_model = tf.keras.models.Model(base_model.input, base_model.layers[-3].output)\n",
    "#     alginate_lstm_embs = extract_model(np.array(alginate_seqs))\n",
    "#     current_aug_state1, column_mod_11, column_mod_21, log_sigma_points_1 = get_targets_with_weights(alginate_lstm_embs, alginate_doc2vec_vecs, initial_ensembles, log_sigma_points_1)\n",
    "            \n",
    "#     initial_targets = column_mod_11 + column_mod_21\n",
    "            \n",
    "#     initial_targets = initial_targets.reshape(size_ens, alginate_doc2vec_vecs.shape[0],1)\n",
    "            \n",
    "#             # initial_targets_test = initial_targets\n",
    "            \n",
    "#     initial_targets_softmax = expit(initial_targets)    \n",
    "            \n",
    "#             # initial_targets_test_mean = initial_targets_softmax.mean(0)\n",
    "            \n",
    "#     li = np.percentile(initial_targets_softmax, axis = 0, q = (2.5, 97.5))[0,:,:]\n",
    "            \n",
    "#     ui = np.percentile(initial_targets_softmax, axis = 0, q = (2.5, 97.5))[1,:,:]\n",
    "            \n",
    "#     width = ui - li\n",
    "            \n",
    "#     avg_width_alginate = np.mean(width)                \n",
    "            \n",
    "            \n",
    "    print(best_test_mae, best_test_coverage, best_test_width,best_r, flush = True)\n",
    "    end = datetime.now()\n",
    "    total = (end- start)\n",
    "    time_taken = total.seconds/60.0\n",
    "    return best_train_mae, best_test_mae, best_train_coverage, best_train_width, best_test_coverage, best_test_width, best_drugs_weight,  best_r, exit_iter_no_thresh, time_taken, best_initial_ensembles, best_log_sigma_points_1\n",
    "        \n",
    "    # print(\"something went awry\", flush = True)"
   ]
  },
  {
   "cell_type": "code",
   "execution_count": 56,
   "id": "605540da-2ad3-4d18-b8a4-93dd7c052f20",
   "metadata": {},
   "outputs": [],
   "source": [
    "threshold = 30"
   ]
  },
  {
   "cell_type": "code",
   "execution_count": 57,
   "id": "138d0228-17b7-4019-9abe-458206e8a7df",
   "metadata": {},
   "outputs": [],
   "source": [
    "cutoff_threshold = 30"
   ]
  },
  {
   "cell_type": "code",
   "execution_count": 81,
   "id": "857196a6-5937-4318-97f8-d19c183afe5c",
   "metadata": {},
   "outputs": [],
   "source": [
    "# plt.hist(y_train)\n",
    "# plt.show()"
   ]
  },
  {
   "cell_type": "code",
   "execution_count": 58,
   "id": "4dcabe4b-76ae-4302-8ada-218067cc7588",
   "metadata": {},
   "outputs": [],
   "source": [
    "batch_size = 128"
   ]
  },
  {
   "cell_type": "code",
   "execution_count": 108,
   "id": "92d32533",
   "metadata": {},
   "outputs": [],
   "source": [
    "path = os.getcwd() + \"//dataset_\" + str(0 + 1) + \"/\"\n",
    "train_drugs_1 = np.load(path + \"//\" + \"train_drug.npy\")\n",
    "valid_drugs_1 = np.load(path + \"//\" + \"valid_drug.npy\")\n",
    "test_drugs_1 = np.load(path + \"//\" + \"test_drug.npy\")\n",
    "\n",
    "## read in all the omics features\n",
    "## for train test and valid\n",
    "train_omics_1 = np.load(path + \"//\" + \"train_omics.npy\")\n",
    "valid_omics_1 = np.load(path + \"//\" + \"valid_omics.npy\")\n",
    "test_omics_1 = np.load(path + \"//\" + \"test_omics.npy\")\n",
    "\n",
    "## read in all the labels \n",
    "## for train test and valid\n",
    "y_train_1 = np.load(path + \"//\" + \"train_y.npy\").reshape(-1,1)\n",
    "y_valid_1 = np.load(path + \"//\" + \"valid_y.npy\").reshape(-1,1)\n",
    "y_test_1 = np.load(path + \"//\" + \"test_y.npy\").reshape(-1,1)"
   ]
  },
  {
   "cell_type": "code",
   "execution_count": 109,
   "id": "74304c41",
   "metadata": {},
   "outputs": [],
   "source": [
    "path = os.getcwd() + \"//dataset_\" + str(1 + 1) + \"/\"\n",
    "train_drugs_2 = np.load(path + \"//\" + \"train_drug.npy\")\n",
    "valid_drugs_2 = np.load(path + \"//\" + \"valid_drug.npy\")\n",
    "test_drugs_2 = np.load(path + \"//\" + \"test_drug.npy\")\n",
    "\n",
    "## read in all the omics features\n",
    "## for train test and valid\n",
    "train_omics_2 = np.load(path + \"//\" + \"train_omics.npy\")\n",
    "valid_omics_2 = np.load(path + \"//\" + \"valid_omics.npy\")\n",
    "test_omics_2 = np.load(path + \"//\" + \"test_omics.npy\")\n",
    "\n",
    "## read in all the labels \n",
    "## for train test and valid\n",
    "y_train_2 = np.load(path + \"//\" + \"train_y.npy\").reshape(-1,1)\n",
    "y_valid_2 = np.load(path + \"//\" + \"valid_y.npy\").reshape(-1,1)\n",
    "y_test_2 = np.load(path + \"//\" + \"test_y.npy\").reshape(-1,1)"
   ]
  },
  {
   "cell_type": "code",
   "execution_count": 110,
   "id": "6c420480",
   "metadata": {},
   "outputs": [],
   "source": [
    "path = os.getcwd() + \"//dataset_\" + str(1 + 2) + \"/\"\n",
    "train_drugs_3 = np.load(path + \"//\" + \"train_drug.npy\")\n",
    "valid_drugs_3 = np.load(path + \"//\" + \"valid_drug.npy\")\n",
    "test_drugs_3 = np.load(path + \"//\" + \"test_drug.npy\")\n",
    "\n",
    "## read in all the omics features\n",
    "## for train test and valid\n",
    "train_omics_3 = np.load(path + \"//\" + \"train_omics.npy\")\n",
    "valid_omics_3 = np.load(path + \"//\" + \"valid_omics.npy\")\n",
    "test_omics_3 = np.load(path + \"//\" + \"test_omics.npy\")\n",
    "\n",
    "## read in all the labels \n",
    "## for train test and valid\n",
    "y_train_3 = np.load(path + \"//\" + \"train_y.npy\").reshape(-1,1)\n",
    "y_valid_3 = np.load(path + \"//\" + \"valid_y.npy\").reshape(-1,1)\n",
    "y_test_3 = np.load(path + \"//\" + \"test_y.npy\").reshape(-1,1)"
   ]
  },
  {
   "cell_type": "code",
   "execution_count": 111,
   "id": "f89552db",
   "metadata": {},
   "outputs": [],
   "source": [
    "train_drugs = np.vstack((train_drugs_1,train_drugs_2, train_drugs_3))"
   ]
  },
  {
   "cell_type": "code",
   "execution_count": 112,
   "id": "53a1a9dd",
   "metadata": {},
   "outputs": [],
   "source": [
    "train_omics = np.vstack((train_omics_1,train_omics_2, train_omics_3))"
   ]
  },
  {
   "cell_type": "code",
   "execution_count": 113,
   "id": "6109ef8f",
   "metadata": {},
   "outputs": [],
   "source": [
    "valid_drugs = np.vstack((valid_drugs_1,valid_drugs_2, valid_drugs_3))"
   ]
  },
  {
   "cell_type": "code",
   "execution_count": 114,
   "id": "ee6a314b",
   "metadata": {},
   "outputs": [],
   "source": [
    "valid_omics = np.vstack((valid_omics_1,valid_omics_2, valid_omics_3))"
   ]
  },
  {
   "cell_type": "code",
   "execution_count": 115,
   "id": "aa4c619e",
   "metadata": {},
   "outputs": [],
   "source": [
    "test_drugs = np.vstack((test_drugs_1,test_drugs_2, test_drugs_3))"
   ]
  },
  {
   "cell_type": "code",
   "execution_count": 116,
   "id": "7cb991db",
   "metadata": {},
   "outputs": [],
   "source": [
    "test_omics = np.vstack((test_omics_1,test_omics_2, test_omics_3))"
   ]
  },
  {
   "cell_type": "code",
   "execution_count": 117,
   "id": "61aaaf32",
   "metadata": {},
   "outputs": [],
   "source": [
    "y_train = np.vstack((y_train_1,y_train_2, y_train_3))"
   ]
  },
  {
   "cell_type": "code",
   "execution_count": 118,
   "id": "605c897e",
   "metadata": {},
   "outputs": [],
   "source": [
    "y_valid = np.vstack((y_valid_1,y_valid_2, y_valid_3))"
   ]
  },
  {
   "cell_type": "code",
   "execution_count": 119,
   "id": "3b04c7b3",
   "metadata": {},
   "outputs": [],
   "source": [
    "y_test = np.vstack((y_test_1,y_test_2, y_test_3))"
   ]
  },
  {
   "cell_type": "code",
   "execution_count": 120,
   "id": "082c026f",
   "metadata": {},
   "outputs": [
    {
     "data": {
      "application/vnd.jupyter.widget-view+json": {
       "model_id": "9f6901672a4a4032848c869650397913",
       "version_major": 2,
       "version_minor": 0
      },
      "text/plain": [
       "  0%|          | 0/12 [00:00<?, ?it/s]"
      ]
     },
     "metadata": {},
     "output_type": "display_data"
    },
    {
     "name": "stdout",
     "output_type": "stream",
     "text": [
      "epoch 0\n",
      "patience 0\n",
      "train mae is 2.664667189119568\n",
      "test mae is 2.379127381986058\n",
      "train coverage is 1.0\n",
      "train width is 18.398723793072943\n",
      "test coverage is 1.0\n",
      "test width is 17.450038370391884\n",
      "drugs weight is 0.512512842830249\n",
      "pearson r is 0.6023836501620645\n"
     ]
    },
    {
     "data": {
      "application/vnd.jupyter.widget-view+json": {
       "model_id": "22f5b362de8246869e66ac293ed0ef79",
       "version_major": 2,
       "version_minor": 0
      },
      "text/plain": [
       "  0%|          | 0/12 [00:00<?, ?it/s]"
      ]
     },
     "metadata": {},
     "output_type": "display_data"
    },
    {
     "name": "stdout",
     "output_type": "stream",
     "text": [
      "epoch 1\n",
      "patience 1\n",
      "train mae is 1.4983765630285435\n",
      "test mae is 1.3801886471368516\n",
      "train coverage is 0.9466666666666667\n",
      "train width is 6.151197277354545\n",
      "test coverage is 0.9666666666666667\n",
      "test width is 6.23000860819363\n",
      "drugs weight is 0.4736867282725573\n",
      "pearson r is 0.7600937531469834\n"
     ]
    },
    {
     "data": {
      "application/vnd.jupyter.widget-view+json": {
       "model_id": "c6db80f2927241e2b78d5269bc964714",
       "version_major": 2,
       "version_minor": 0
      },
      "text/plain": [
       "  0%|          | 0/12 [00:00<?, ?it/s]"
      ]
     },
     "metadata": {},
     "output_type": "display_data"
    },
    {
     "name": "stdout",
     "output_type": "stream",
     "text": [
      "epoch 2\n",
      "patience 0\n",
      "train mae is 1.5163551092969232\n",
      "test mae is 1.2798627718132176\n",
      "train coverage is 0.8333333333333334\n",
      "train width is 3.8690078885980603\n",
      "test coverage is 0.8533333333333334\n",
      "test width is 3.899338971170885\n",
      "drugs weight is 0.47950642785459346\n",
      "pearson r is 0.7550633360906216\n"
     ]
    },
    {
     "data": {
      "application/vnd.jupyter.widget-view+json": {
       "model_id": "31343ef083f341c9bd163cc5f75e545a",
       "version_major": 2,
       "version_minor": 0
      },
      "text/plain": [
       "  0%|          | 0/12 [00:00<?, ?it/s]"
      ]
     },
     "metadata": {},
     "output_type": "display_data"
    },
    {
     "name": "stdout",
     "output_type": "stream",
     "text": [
      "epoch 3\n",
      "patience 0\n",
      "train mae is 1.4994909112810322\n",
      "test mae is 1.2984320631259372\n",
      "train coverage is 0.5933333333333334\n",
      "train width is 2.3287022412959706\n",
      "test coverage is 0.64\n",
      "test width is 2.3158276419321338\n",
      "drugs weight is 0.47934335683865015\n",
      "pearson r is 0.7459595015240796\n"
     ]
    },
    {
     "data": {
      "application/vnd.jupyter.widget-view+json": {
       "model_id": "473a6cdf0d6e49cf9bd617cbf8786966",
       "version_major": 2,
       "version_minor": 0
      },
      "text/plain": [
       "  0%|          | 0/12 [00:00<?, ?it/s]"
      ]
     },
     "metadata": {},
     "output_type": "display_data"
    },
    {
     "name": "stdout",
     "output_type": "stream",
     "text": [
      "epoch 4\n",
      "patience 1\n",
      "train mae is 1.466406081758432\n",
      "test mae is 1.3602746641899766\n",
      "train coverage is 0.5\n",
      "train width is 1.7388553824875876\n",
      "test coverage is 0.47333333333333333\n",
      "test width is 1.7335701547907558\n",
      "drugs weight is 0.48082667768022447\n",
      "pearson r is 0.7169267367261225\n"
     ]
    },
    {
     "data": {
      "application/vnd.jupyter.widget-view+json": {
       "model_id": "882e061d958c4c55b492a0df72b54b14",
       "version_major": 2,
       "version_minor": 0
      },
      "text/plain": [
       "  0%|          | 0/12 [00:00<?, ?it/s]"
      ]
     },
     "metadata": {},
     "output_type": "display_data"
    },
    {
     "name": "stdout",
     "output_type": "stream",
     "text": [
      "epoch 5\n",
      "patience 2\n",
      "train mae is 1.4819757872548924\n",
      "test mae is 1.385449368090922\n",
      "train coverage is 0.43\n",
      "train width is 1.4296528230356371\n",
      "test coverage is 0.38333333333333336\n",
      "test width is 1.424866171873777\n",
      "drugs weight is 0.48180766479112286\n",
      "pearson r is 0.7042016542985801\n"
     ]
    },
    {
     "data": {
      "application/vnd.jupyter.widget-view+json": {
       "model_id": "e305cbc800ae471ca422e2ffa2efad89",
       "version_major": 2,
       "version_minor": 0
      },
      "text/plain": [
       "  0%|          | 0/12 [00:00<?, ?it/s]"
      ]
     },
     "metadata": {},
     "output_type": "display_data"
    },
    {
     "name": "stdout",
     "output_type": "stream",
     "text": [
      "epoch 6\n",
      "patience 3\n",
      "train mae is 1.4685038088658815\n",
      "test mae is 1.3609770060009534\n",
      "train coverage is 0.37\n",
      "train width is 1.1501448727057546\n",
      "test coverage is 0.33666666666666667\n",
      "test width is 1.157594641373113\n",
      "drugs weight is 0.48003710000142885\n",
      "pearson r is 0.7180282596971869\n"
     ]
    },
    {
     "data": {
      "application/vnd.jupyter.widget-view+json": {
       "model_id": "771dadf34c904b02bb970824a306456a",
       "version_major": 2,
       "version_minor": 0
      },
      "text/plain": [
       "  0%|          | 0/12 [00:00<?, ?it/s]"
      ]
     },
     "metadata": {},
     "output_type": "display_data"
    },
    {
     "name": "stdout",
     "output_type": "stream",
     "text": [
      "epoch 7\n",
      "patience 4\n",
      "train mae is 1.4919204914509048\n",
      "test mae is 1.3470628826611062\n",
      "train coverage is 0.33\n",
      "train width is 1.1151224885697444\n",
      "test coverage is 0.31\n",
      "test width is 1.1191671016835962\n",
      "drugs weight is 0.4775751744155906\n",
      "pearson r is 0.7242366624365825\n"
     ]
    },
    {
     "data": {
      "application/vnd.jupyter.widget-view+json": {
       "model_id": "0fbdaa6fe2b64fd7a0bfd1956565d1c3",
       "version_major": 2,
       "version_minor": 0
      },
      "text/plain": [
       "  0%|          | 0/12 [00:00<?, ?it/s]"
      ]
     },
     "metadata": {},
     "output_type": "display_data"
    },
    {
     "name": "stdout",
     "output_type": "stream",
     "text": [
      "epoch 8\n",
      "patience 5\n",
      "train mae is 1.4840888986122627\n",
      "test mae is 1.3667017923132212\n",
      "train coverage is 0.29\n",
      "train width is 1.0366694327925705\n",
      "test coverage is 0.28\n",
      "test width is 1.057448490864021\n",
      "drugs weight is 0.4750207562819446\n",
      "pearson r is 0.712815424311659\n"
     ]
    },
    {
     "data": {
      "application/vnd.jupyter.widget-view+json": {
       "model_id": "02d67acd550d4e96b015d52a51374481",
       "version_major": 2,
       "version_minor": 0
      },
      "text/plain": [
       "  0%|          | 0/12 [00:00<?, ?it/s]"
      ]
     },
     "metadata": {},
     "output_type": "display_data"
    },
    {
     "name": "stdout",
     "output_type": "stream",
     "text": [
      "epoch 9\n",
      "patience 6\n",
      "train mae is 1.5012904529893658\n",
      "test mae is 1.3062195845482125\n",
      "train coverage is 0.26666666666666666\n",
      "train width is 0.9365556090550539\n",
      "test coverage is 0.2966666666666667\n",
      "test width is 0.9504342984956755\n",
      "drugs weight is 0.4734020608566865\n",
      "pearson r is 0.7431650609943108\n",
      "1.2798627718132176 0.8533333333333334 3.899338971170885 0.7550633360906216\n"
     ]
    }
   ],
   "source": [
    "best_train_mae, best_test_mae, best_train_coverage, best_train_width, best_test_coverage, best_test_width, best_drugs_weight,  best_r, exit_iter_no_thresh, time_taken, best_initial_ensembles, best_log_sigma_points_1 = rep_one_real_world()"
   ]
  },
  {
   "cell_type": "code",
   "execution_count": null,
   "id": "1c5adbaf",
   "metadata": {},
   "outputs": [],
   "source": [
    "# y_train.shape"
   ]
  },
  {
   "cell_type": "code",
   "execution_count": null,
   "id": "99a723c6",
   "metadata": {},
   "outputs": [],
   "source": [
    "# catch_coverages = Parallel(n_jobs=3, verbose = 10, backend = \"loky\")(delayed(rep_one_real_world)(i) for i in range(0,3))"
   ]
  },
  {
   "cell_type": "code",
   "execution_count": null,
   "id": "3c950c80-c06d-42f5-938a-699658ddee4d",
   "metadata": {},
   "outputs": [],
   "source": [
    "# string = \"Real_World_EnKF_DeepCDR_\" + \"Neurons_\" + str(h1)  + \"_Gamma_\" +  str(gamma_param) +  \"_var_weights_\" + str(var_weights) + \"_num_ens_\" + str(size_ens)"
   ]
  },
  {
   "cell_type": "code",
   "execution_count": 121,
   "id": "c54e559f-315e-4d51-a113-effe6695dc01",
   "metadata": {},
   "outputs": [],
   "source": [
    "string = \"First_Three_Real_World_EnKF_DeepCDR_\" + \"Neurons_\" + str(h1)  + \"_Gamma_\" +  str(gamma_param) +  \"_var_weights_\" + str(var_weights) + \"_num_ens_\" + str(size_ens)"
   ]
  },
  {
   "cell_type": "code",
   "execution_count": 122,
   "id": "4213b5a0-b128-4d90-8eaf-ef7058c2e38b",
   "metadata": {},
   "outputs": [
    {
     "data": {
      "text/plain": [
       "'First_Three_Real_World_EnKF_DeepCDR_Neurons_16_Gamma_500_var_weights_0.5_num_ens_801'"
      ]
     },
     "execution_count": 122,
     "metadata": {},
     "output_type": "execute_result"
    }
   ],
   "source": [
    "string"
   ]
  },
  {
   "cell_type": "code",
   "execution_count": 124,
   "id": "01d8448d",
   "metadata": {},
   "outputs": [],
   "source": [
    "catch_coverages = [best_train_mae, best_test_mae, best_train_coverage, best_train_width, best_test_coverage, best_test_width, best_drugs_weight,  best_r, exit_iter_no_thresh, time_taken, best_initial_ensembles, best_log_sigma_points_1]"
   ]
  },
  {
   "cell_type": "code",
   "execution_count": 125,
   "id": "3e0f11d9-de11-4880-be84-4340352ce23c",
   "metadata": {},
   "outputs": [],
   "source": [
    "with open(string + \".pkl\", 'wb') as f:\n",
    "    pickle.dump(catch_coverages, f)"
   ]
  },
  {
   "cell_type": "code",
   "execution_count": null,
   "id": "1e8200e5-b784-49c8-9ae9-fd7ee5a2e71d",
   "metadata": {},
   "outputs": [],
   "source": [
    "# catch_coverages"
   ]
  },
  {
   "cell_type": "code",
   "execution_count": 128,
   "id": "d0f27b29",
   "metadata": {},
   "outputs": [
    {
     "data": {
      "text/plain": [
       "[1.5163551092969232,\n",
       " 1.2798627718132176,\n",
       " 0.8333333333333334,\n",
       " 3.8690078885980603,\n",
       " 0.8533333333333334,\n",
       " 3.899338971170885,\n",
       " 0.47950642785459346,\n",
       " 0.7550633360906216,\n",
       " 2,\n",
       " 14.3,\n",
       " array([[-0.17338557, -0.2492892 ,  0.77111412, ...,  0.06323123,\n",
       "          0.06323123,  0.06323123],\n",
       "        [-0.49247281,  0.15346893, -0.36023818, ...,  0.07481547,\n",
       "          0.07481547,  0.07481547],\n",
       "        [-0.16481653, -0.25086903, -0.59402144, ...,  0.07371764,\n",
       "          0.07371764,  0.07371764],\n",
       "        ...,\n",
       "        [-0.75367159, -0.16475093,  0.74540634, ...,  0.05421394,\n",
       "          0.05421394,  0.05421394],\n",
       "        [-0.11397835, -0.63875287,  0.51740628, ...,  0.0847558 ,\n",
       "          0.0847558 ,  0.0847558 ],\n",
       "        [-1.3006111 ,  0.12263186, -0.11014224, ...,  0.07617028,\n",
       "          0.07617028,  0.07617028]]),\n",
       " array([[1.64484128],\n",
       "        [1.67239345],\n",
       "        [1.56960843],\n",
       "        [1.6939219 ],\n",
       "        [1.65415841],\n",
       "        [1.65323958],\n",
       "        [1.64139946],\n",
       "        [1.59681928],\n",
       "        [1.69705787],\n",
       "        [1.65886771],\n",
       "        [1.61729676],\n",
       "        [1.60244606],\n",
       "        [1.59576487],\n",
       "        [1.60470118],\n",
       "        [1.61545521],\n",
       "        [1.63156352],\n",
       "        [1.65972914],\n",
       "        [1.61319776],\n",
       "        [1.56889027],\n",
       "        [1.6583434 ],\n",
       "        [1.59659635],\n",
       "        [1.65644904],\n",
       "        [1.65402858],\n",
       "        [1.60928522],\n",
       "        [1.58410142],\n",
       "        [1.66991452],\n",
       "        [1.65789579],\n",
       "        [1.68418575],\n",
       "        [1.62546922],\n",
       "        [1.63813339],\n",
       "        [1.60393302],\n",
       "        [1.58602735],\n",
       "        [1.61151087],\n",
       "        [1.60317746],\n",
       "        [1.60262634],\n",
       "        [1.64524366],\n",
       "        [1.61204978],\n",
       "        [1.57374178],\n",
       "        [1.63028062],\n",
       "        [1.65316852],\n",
       "        [1.66758656],\n",
       "        [1.6093018 ],\n",
       "        [1.62173826],\n",
       "        [1.61050429],\n",
       "        [1.57308263],\n",
       "        [1.64334947],\n",
       "        [1.61947352],\n",
       "        [1.63093038],\n",
       "        [1.60467248],\n",
       "        [1.63069947],\n",
       "        [1.63794866],\n",
       "        [1.71867291],\n",
       "        [1.67009601],\n",
       "        [1.66648044],\n",
       "        [1.62501261],\n",
       "        [1.56283236],\n",
       "        [1.64932949],\n",
       "        [1.60627524],\n",
       "        [1.6291542 ],\n",
       "        [1.65529874],\n",
       "        [1.65019994],\n",
       "        [1.61103446],\n",
       "        [1.54786683],\n",
       "        [1.61153763],\n",
       "        [1.61390083],\n",
       "        [1.59423855],\n",
       "        [1.63941806],\n",
       "        [1.56342945],\n",
       "        [1.6268335 ],\n",
       "        [1.62880122],\n",
       "        [1.57595571],\n",
       "        [1.62560577],\n",
       "        [1.56330709],\n",
       "        [1.61156047],\n",
       "        [1.62333639],\n",
       "        [1.67779546],\n",
       "        [1.61038486],\n",
       "        [1.71321837],\n",
       "        [1.62026302],\n",
       "        [1.57916258],\n",
       "        [1.64246724],\n",
       "        [1.6139892 ],\n",
       "        [1.64077493],\n",
       "        [1.65432374],\n",
       "        [1.62624854],\n",
       "        [1.60548611],\n",
       "        [1.60175076],\n",
       "        [1.61734939],\n",
       "        [1.63346572],\n",
       "        [1.60496968],\n",
       "        [1.69119022],\n",
       "        [1.58648057],\n",
       "        [1.63129512],\n",
       "        [1.60668559],\n",
       "        [1.58978985],\n",
       "        [1.67704554],\n",
       "        [1.68614234],\n",
       "        [1.63890274],\n",
       "        [1.57839158],\n",
       "        [1.64620804],\n",
       "        [1.64722157],\n",
       "        [1.62833705],\n",
       "        [1.58828201],\n",
       "        [1.62056646],\n",
       "        [1.62237311],\n",
       "        [1.64076965],\n",
       "        [1.61555774],\n",
       "        [1.59976744],\n",
       "        [1.61097261],\n",
       "        [1.62064028],\n",
       "        [1.66805547],\n",
       "        [1.68801089],\n",
       "        [1.60927019],\n",
       "        [1.6177405 ],\n",
       "        [1.54823765],\n",
       "        [1.62940345],\n",
       "        [1.6406816 ],\n",
       "        [1.60308659],\n",
       "        [1.62488838],\n",
       "        [1.63344273],\n",
       "        [1.58006553],\n",
       "        [1.58461319],\n",
       "        [1.68053839],\n",
       "        [1.62547004],\n",
       "        [1.59319646],\n",
       "        [1.62020868],\n",
       "        [1.62910339],\n",
       "        [1.58230565],\n",
       "        [1.64340794],\n",
       "        [1.67078306],\n",
       "        [1.61346689],\n",
       "        [1.61387867],\n",
       "        [1.66933934],\n",
       "        [1.65709028],\n",
       "        [1.65173259],\n",
       "        [1.59101053],\n",
       "        [1.63138825],\n",
       "        [1.63860164],\n",
       "        [1.65775893],\n",
       "        [1.67048153],\n",
       "        [1.60156106],\n",
       "        [1.64348084],\n",
       "        [1.63829171],\n",
       "        [1.64125551],\n",
       "        [1.66111015],\n",
       "        [1.67868539],\n",
       "        [1.65911144],\n",
       "        [1.61171022],\n",
       "        [1.67098406],\n",
       "        [1.63691618],\n",
       "        [1.70370593],\n",
       "        [1.65976064],\n",
       "        [1.61969063],\n",
       "        [1.64157937],\n",
       "        [1.62052695],\n",
       "        [1.59220254],\n",
       "        [1.6740934 ],\n",
       "        [1.64424411],\n",
       "        [1.62055405],\n",
       "        [1.59122069],\n",
       "        [1.66784259],\n",
       "        [1.59980707],\n",
       "        [1.69225495],\n",
       "        [1.68276246],\n",
       "        [1.61679813],\n",
       "        [1.62340947],\n",
       "        [1.6240682 ],\n",
       "        [1.60029469],\n",
       "        [1.60061355],\n",
       "        [1.59759302],\n",
       "        [1.64528757],\n",
       "        [1.65314685],\n",
       "        [1.6252763 ],\n",
       "        [1.6438412 ],\n",
       "        [1.64331812],\n",
       "        [1.6770257 ],\n",
       "        [1.58755563],\n",
       "        [1.63333125],\n",
       "        [1.62695675],\n",
       "        [1.65824648],\n",
       "        [1.65639852],\n",
       "        [1.65149312],\n",
       "        [1.66462021],\n",
       "        [1.51763499],\n",
       "        [1.60672304],\n",
       "        [1.7044413 ],\n",
       "        [1.65893247],\n",
       "        [1.61444231],\n",
       "        [1.59704003],\n",
       "        [1.58980455],\n",
       "        [1.64044738],\n",
       "        [1.64744921],\n",
       "        [1.6528814 ],\n",
       "        [1.61152728],\n",
       "        [1.64778422],\n",
       "        [1.59732895],\n",
       "        [1.69552626],\n",
       "        [1.61302587],\n",
       "        [1.58222148],\n",
       "        [1.64936946],\n",
       "        [1.58059468],\n",
       "        [1.64551694],\n",
       "        [1.59320903],\n",
       "        [1.6314827 ],\n",
       "        [1.64757247],\n",
       "        [1.62814058],\n",
       "        [1.67875922],\n",
       "        [1.67421082],\n",
       "        [1.6560813 ],\n",
       "        [1.62455961],\n",
       "        [1.6441728 ],\n",
       "        [1.64811324],\n",
       "        [1.57144735],\n",
       "        [1.67898665],\n",
       "        [1.5886321 ],\n",
       "        [1.66964972],\n",
       "        [1.59588852],\n",
       "        [1.67956111],\n",
       "        [1.6156442 ],\n",
       "        [1.61129154],\n",
       "        [1.58855605],\n",
       "        [1.59722917],\n",
       "        [1.62705239],\n",
       "        [1.59265694],\n",
       "        [1.61191289],\n",
       "        [1.6170515 ],\n",
       "        [1.70262734],\n",
       "        [1.59491855],\n",
       "        [1.577514  ],\n",
       "        [1.64537482],\n",
       "        [1.57294352],\n",
       "        [1.65675426],\n",
       "        [1.70010018],\n",
       "        [1.6656361 ],\n",
       "        [1.59050598],\n",
       "        [1.59535294],\n",
       "        [1.59889092],\n",
       "        [1.59320776],\n",
       "        [1.64039293],\n",
       "        [1.63194135],\n",
       "        [1.67074099],\n",
       "        [1.63416775],\n",
       "        [1.60303823],\n",
       "        [1.61896683],\n",
       "        [1.62800236],\n",
       "        [1.68257832],\n",
       "        [1.63017896],\n",
       "        [1.65863291],\n",
       "        [1.62761273],\n",
       "        [1.64145138],\n",
       "        [1.58055569],\n",
       "        [1.60414804],\n",
       "        [1.64810802],\n",
       "        [1.57935368],\n",
       "        [1.61031752],\n",
       "        [1.58668244],\n",
       "        [1.64619502],\n",
       "        [1.63918207],\n",
       "        [1.64607016],\n",
       "        [1.58448862],\n",
       "        [1.57138679],\n",
       "        [1.6324465 ],\n",
       "        [1.6702964 ],\n",
       "        [1.60327071],\n",
       "        [1.60993141],\n",
       "        [1.61974993],\n",
       "        [1.63796864],\n",
       "        [1.61745584],\n",
       "        [1.59621011],\n",
       "        [1.61719866],\n",
       "        [1.66417462],\n",
       "        [1.60647314],\n",
       "        [1.64708583],\n",
       "        [1.56219079],\n",
       "        [1.67160999],\n",
       "        [1.67116313],\n",
       "        [1.6679194 ],\n",
       "        [1.62115728],\n",
       "        [1.62385749],\n",
       "        [1.6420292 ],\n",
       "        [1.60505274],\n",
       "        [1.61900226],\n",
       "        [1.66314688],\n",
       "        [1.571997  ],\n",
       "        [1.64286347],\n",
       "        [1.58663452],\n",
       "        [1.64390342],\n",
       "        [1.6624196 ],\n",
       "        [1.65489314],\n",
       "        [1.61274113],\n",
       "        [1.6383085 ],\n",
       "        [1.64623098],\n",
       "        [1.59936877],\n",
       "        [1.65604471],\n",
       "        [1.60967355],\n",
       "        [1.60255208],\n",
       "        [1.62325885],\n",
       "        [1.56099724],\n",
       "        [1.57282237],\n",
       "        [1.62328766],\n",
       "        [1.61276347],\n",
       "        [1.67838104],\n",
       "        [1.6351161 ],\n",
       "        [1.66335808],\n",
       "        [1.67913274],\n",
       "        [1.64620037],\n",
       "        [1.55816973],\n",
       "        [1.65549582],\n",
       "        [1.597689  ],\n",
       "        [1.66129076],\n",
       "        [1.65945359],\n",
       "        [1.66900818],\n",
       "        [1.63488588],\n",
       "        [1.5951558 ],\n",
       "        [1.64833226],\n",
       "        [1.60771821],\n",
       "        [1.65459512],\n",
       "        [1.6288185 ],\n",
       "        [1.59945738],\n",
       "        [1.7161545 ],\n",
       "        [1.64603667],\n",
       "        [1.64093268],\n",
       "        [1.62687919],\n",
       "        [1.65617388],\n",
       "        [1.6192789 ],\n",
       "        [1.64343912],\n",
       "        [1.616151  ],\n",
       "        [1.65652339],\n",
       "        [1.60210758],\n",
       "        [1.66013733],\n",
       "        [1.64414604],\n",
       "        [1.66050254],\n",
       "        [1.66453645],\n",
       "        [1.58416404],\n",
       "        [1.61213728],\n",
       "        [1.61173266],\n",
       "        [1.62375786],\n",
       "        [1.64359417],\n",
       "        [1.55868994],\n",
       "        [1.62810429],\n",
       "        [1.70376917],\n",
       "        [1.64350906],\n",
       "        [1.62682368],\n",
       "        [1.65799043],\n",
       "        [1.5600861 ],\n",
       "        [1.62666202],\n",
       "        [1.61400786],\n",
       "        [1.60914136],\n",
       "        [1.60805285],\n",
       "        [1.65253586],\n",
       "        [1.6366856 ],\n",
       "        [1.64744297],\n",
       "        [1.65052529],\n",
       "        [1.6339292 ],\n",
       "        [1.66039112],\n",
       "        [1.61214145],\n",
       "        [1.64660914],\n",
       "        [1.64952636],\n",
       "        [1.64042739],\n",
       "        [1.65860499],\n",
       "        [1.61140776],\n",
       "        [1.61716525],\n",
       "        [1.61047902],\n",
       "        [1.60793146],\n",
       "        [1.61690063],\n",
       "        [1.64318695],\n",
       "        [1.59764082],\n",
       "        [1.69282291],\n",
       "        [1.58179821],\n",
       "        [1.68775552],\n",
       "        [1.64249021],\n",
       "        [1.62547833],\n",
       "        [1.63860318],\n",
       "        [1.58118132],\n",
       "        [1.57425085],\n",
       "        [1.62133354],\n",
       "        [1.54820084],\n",
       "        [1.60400095],\n",
       "        [1.70292762],\n",
       "        [1.6285229 ],\n",
       "        [1.57440199],\n",
       "        [1.57549956],\n",
       "        [1.65399023],\n",
       "        [1.70322059],\n",
       "        [1.65621718],\n",
       "        [1.65490295],\n",
       "        [1.66040831],\n",
       "        [1.64101126],\n",
       "        [1.63918462],\n",
       "        [1.6782718 ],\n",
       "        [1.62576022],\n",
       "        [1.65637638],\n",
       "        [1.6876715 ],\n",
       "        [1.58218295],\n",
       "        [1.60691313],\n",
       "        [1.6655538 ],\n",
       "        [1.61894724],\n",
       "        [1.64487884],\n",
       "        [1.62467084],\n",
       "        [1.65247875],\n",
       "        [1.62068447],\n",
       "        [1.58445784],\n",
       "        [1.65939331],\n",
       "        [1.62142588],\n",
       "        [1.64872234],\n",
       "        [1.64877153],\n",
       "        [1.68368494],\n",
       "        [1.60825901],\n",
       "        [1.60233829],\n",
       "        [1.60256898],\n",
       "        [1.64259484],\n",
       "        [1.67791113],\n",
       "        [1.6347663 ],\n",
       "        [1.61935868],\n",
       "        [1.57092087],\n",
       "        [1.59231161],\n",
       "        [1.608754  ],\n",
       "        [1.58224368],\n",
       "        [1.59077354],\n",
       "        [1.64886621],\n",
       "        [1.6515895 ],\n",
       "        [1.60639306],\n",
       "        [1.65376313],\n",
       "        [1.63647816],\n",
       "        [1.60562068],\n",
       "        [1.66527483],\n",
       "        [1.62608449],\n",
       "        [1.60392939],\n",
       "        [1.63051583],\n",
       "        [1.62459797],\n",
       "        [1.61724586],\n",
       "        [1.68791922],\n",
       "        [1.64523631],\n",
       "        [1.58674624],\n",
       "        [1.60256276],\n",
       "        [1.53786099],\n",
       "        [1.59566258],\n",
       "        [1.58626401],\n",
       "        [1.63027167],\n",
       "        [1.58338604],\n",
       "        [1.61707109],\n",
       "        [1.61768366],\n",
       "        [1.65657868],\n",
       "        [1.61636383],\n",
       "        [1.61621073],\n",
       "        [1.65815438],\n",
       "        [1.59952262],\n",
       "        [1.59795533],\n",
       "        [1.60497652],\n",
       "        [1.61030965],\n",
       "        [1.68792486],\n",
       "        [1.6318211 ],\n",
       "        [1.64927446],\n",
       "        [1.62405959],\n",
       "        [1.60290655],\n",
       "        [1.64013608],\n",
       "        [1.66787938],\n",
       "        [1.57244513],\n",
       "        [1.66770927],\n",
       "        [1.59436908],\n",
       "        [1.58893346],\n",
       "        [1.63868918],\n",
       "        [1.65635513],\n",
       "        [1.62838056],\n",
       "        [1.58828519],\n",
       "        [1.66531683],\n",
       "        [1.6864308 ],\n",
       "        [1.63884924],\n",
       "        [1.58575419],\n",
       "        [1.64202464],\n",
       "        [1.67382563],\n",
       "        [1.62199173],\n",
       "        [1.67157223],\n",
       "        [1.61098764],\n",
       "        [1.61785616],\n",
       "        [1.6192967 ],\n",
       "        [1.61498916],\n",
       "        [1.65611007],\n",
       "        [1.5494208 ],\n",
       "        [1.66014899],\n",
       "        [1.63212934],\n",
       "        [1.60554015],\n",
       "        [1.64262476],\n",
       "        [1.64523572],\n",
       "        [1.58965918],\n",
       "        [1.61228483],\n",
       "        [1.65332435],\n",
       "        [1.57224706],\n",
       "        [1.64197994],\n",
       "        [1.63163369],\n",
       "        [1.63400804],\n",
       "        [1.64484469],\n",
       "        [1.57276456],\n",
       "        [1.64181895],\n",
       "        [1.5538247 ],\n",
       "        [1.64507511],\n",
       "        [1.6214563 ],\n",
       "        [1.60890688],\n",
       "        [1.66765855],\n",
       "        [1.59757107],\n",
       "        [1.65896862],\n",
       "        [1.67980096],\n",
       "        [1.55352179],\n",
       "        [1.63777353],\n",
       "        [1.65849882],\n",
       "        [1.63303728],\n",
       "        [1.60851009],\n",
       "        [1.61632564],\n",
       "        [1.68339475],\n",
       "        [1.58363527],\n",
       "        [1.67416955],\n",
       "        [1.58993515],\n",
       "        [1.60291842],\n",
       "        [1.69005827],\n",
       "        [1.64359421],\n",
       "        [1.67825745],\n",
       "        [1.63792814],\n",
       "        [1.59137958],\n",
       "        [1.5957245 ],\n",
       "        [1.6191794 ],\n",
       "        [1.57631145],\n",
       "        [1.61181368],\n",
       "        [1.61457159],\n",
       "        [1.6194481 ],\n",
       "        [1.58411519],\n",
       "        [1.59713156],\n",
       "        [1.64624569],\n",
       "        [1.65918261],\n",
       "        [1.64081422],\n",
       "        [1.66075074],\n",
       "        [1.58117655],\n",
       "        [1.621518  ],\n",
       "        [1.71937011],\n",
       "        [1.56709289],\n",
       "        [1.60464684],\n",
       "        [1.64764777],\n",
       "        [1.64650198],\n",
       "        [1.67126476],\n",
       "        [1.61623382],\n",
       "        [1.65863562],\n",
       "        [1.63908876],\n",
       "        [1.59721271],\n",
       "        [1.66341893],\n",
       "        [1.6165378 ],\n",
       "        [1.61520952],\n",
       "        [1.62551709],\n",
       "        [1.63306768],\n",
       "        [1.6108756 ],\n",
       "        [1.65573025],\n",
       "        [1.61931261],\n",
       "        [1.62018749],\n",
       "        [1.63373899],\n",
       "        [1.60376629],\n",
       "        [1.59542852],\n",
       "        [1.63853799],\n",
       "        [1.61156474],\n",
       "        [1.62316796],\n",
       "        [1.57275985],\n",
       "        [1.62662808],\n",
       "        [1.65156573],\n",
       "        [1.65675627],\n",
       "        [1.62231645],\n",
       "        [1.67699159],\n",
       "        [1.6419192 ],\n",
       "        [1.6436329 ],\n",
       "        [1.64990658],\n",
       "        [1.58831098],\n",
       "        [1.66593007],\n",
       "        [1.58322373],\n",
       "        [1.6023111 ],\n",
       "        [1.65458466],\n",
       "        [1.67580023],\n",
       "        [1.63606735],\n",
       "        [1.59907069],\n",
       "        [1.56976283],\n",
       "        [1.64117875],\n",
       "        [1.62870664],\n",
       "        [1.58304725],\n",
       "        [1.58628059],\n",
       "        [1.5674334 ],\n",
       "        [1.57157232],\n",
       "        [1.60282309],\n",
       "        [1.66443995],\n",
       "        [1.69737586],\n",
       "        [1.60147975],\n",
       "        [1.66435154],\n",
       "        [1.61748186],\n",
       "        [1.60525009],\n",
       "        [1.62905232],\n",
       "        [1.63755792],\n",
       "        [1.58977223],\n",
       "        [1.67630553],\n",
       "        [1.67721732],\n",
       "        [1.63400846],\n",
       "        [1.68245002],\n",
       "        [1.6604342 ],\n",
       "        [1.65905803],\n",
       "        [1.61882462],\n",
       "        [1.60870448],\n",
       "        [1.62779976],\n",
       "        [1.58964138],\n",
       "        [1.61051318],\n",
       "        [1.62222953],\n",
       "        [1.62903923],\n",
       "        [1.66089341],\n",
       "        [1.61182312],\n",
       "        [1.60128845],\n",
       "        [1.6332848 ],\n",
       "        [1.63925516],\n",
       "        [1.57836614],\n",
       "        [1.60881491],\n",
       "        [1.69476372],\n",
       "        [1.61540331],\n",
       "        [1.67542444],\n",
       "        [1.63277644],\n",
       "        [1.6216855 ],\n",
       "        [1.62419503],\n",
       "        [1.59831369],\n",
       "        [1.62470023],\n",
       "        [1.65564103],\n",
       "        [1.67214709],\n",
       "        [1.63347075],\n",
       "        [1.69305934],\n",
       "        [1.62986037],\n",
       "        [1.64576742],\n",
       "        [1.62963633],\n",
       "        [1.56757763],\n",
       "        [1.62761163],\n",
       "        [1.65641542],\n",
       "        [1.58395042],\n",
       "        [1.61724298],\n",
       "        [1.60932926],\n",
       "        [1.65682094],\n",
       "        [1.65120941],\n",
       "        [1.63392327],\n",
       "        [1.60096674],\n",
       "        [1.60836528],\n",
       "        [1.63011739],\n",
       "        [1.53547135],\n",
       "        [1.66170991],\n",
       "        [1.56878484],\n",
       "        [1.59189377],\n",
       "        [1.60429635],\n",
       "        [1.57278382],\n",
       "        [1.65980896],\n",
       "        [1.642594  ],\n",
       "        [1.65905373],\n",
       "        [1.6634502 ],\n",
       "        [1.60914561],\n",
       "        [1.60754412],\n",
       "        [1.63467537],\n",
       "        [1.62072982],\n",
       "        [1.62889186],\n",
       "        [1.6030755 ],\n",
       "        [1.66840044],\n",
       "        [1.66816105],\n",
       "        [1.66940463],\n",
       "        [1.53507508],\n",
       "        [1.6500138 ],\n",
       "        [1.61282884],\n",
       "        [1.65975298],\n",
       "        [1.64084782],\n",
       "        [1.70158383],\n",
       "        [1.68930156],\n",
       "        [1.61781623],\n",
       "        [1.64266191],\n",
       "        [1.63256981],\n",
       "        [1.62100483],\n",
       "        [1.64811637],\n",
       "        [1.64460095],\n",
       "        [1.61827751],\n",
       "        [1.57181187],\n",
       "        [1.57531097],\n",
       "        [1.65689153],\n",
       "        [1.62603651],\n",
       "        [1.62009603],\n",
       "        [1.64824217],\n",
       "        [1.57088969],\n",
       "        [1.62246897],\n",
       "        [1.65661104],\n",
       "        [1.64814512],\n",
       "        [1.64320675],\n",
       "        [1.63454931],\n",
       "        [1.60300963],\n",
       "        [1.65789317],\n",
       "        [1.66968222],\n",
       "        [1.59819325],\n",
       "        [1.65003839],\n",
       "        [1.64324162],\n",
       "        [1.69850646],\n",
       "        [1.60774992],\n",
       "        [1.68901029],\n",
       "        [1.62169307],\n",
       "        [1.56831166],\n",
       "        [1.60632389],\n",
       "        [1.61740149],\n",
       "        [1.63291809],\n",
       "        [1.58358211],\n",
       "        [1.58916611],\n",
       "        [1.61781144],\n",
       "        [1.66017005],\n",
       "        [1.64902129],\n",
       "        [1.68476117],\n",
       "        [1.62584529],\n",
       "        [1.60507483],\n",
       "        [1.6337216 ],\n",
       "        [1.66099231],\n",
       "        [1.66831435],\n",
       "        [1.66541354],\n",
       "        [1.59921046],\n",
       "        [1.62024653],\n",
       "        [1.58197361],\n",
       "        [1.60271649],\n",
       "        [1.65190026],\n",
       "        [1.6911425 ],\n",
       "        [1.59323939],\n",
       "        [1.66557418],\n",
       "        [1.63324622],\n",
       "        [1.63338196],\n",
       "        [1.67354249],\n",
       "        [1.64524854],\n",
       "        [1.65620656],\n",
       "        [1.64311802],\n",
       "        [1.6455554 ],\n",
       "        [1.62811585],\n",
       "        [1.67652799],\n",
       "        [1.62092219],\n",
       "        [1.66194313],\n",
       "        [1.60280072],\n",
       "        [1.64247807],\n",
       "        [1.60276853],\n",
       "        [1.67664412],\n",
       "        [1.62289657],\n",
       "        [1.61860928],\n",
       "        [1.63151369],\n",
       "        [1.62688702],\n",
       "        [1.67441906],\n",
       "        [1.59995343],\n",
       "        [1.63430898],\n",
       "        [1.62431727],\n",
       "        [1.61788524],\n",
       "        [1.62791099],\n",
       "        [1.57202024],\n",
       "        [1.62833156],\n",
       "        [1.66189019],\n",
       "        [1.59636623],\n",
       "        [1.55300777],\n",
       "        [1.63772693],\n",
       "        [1.63629683],\n",
       "        [1.58140418],\n",
       "        [1.66716103],\n",
       "        [1.65256501],\n",
       "        [1.66672323],\n",
       "        [1.62533678],\n",
       "        [1.58978561],\n",
       "        [1.60791929],\n",
       "        [1.67883468],\n",
       "        [1.57618773],\n",
       "        [1.61769318],\n",
       "        [1.64651669],\n",
       "        [1.61046165],\n",
       "        [1.6343148 ],\n",
       "        [1.58971064],\n",
       "        [1.66875224],\n",
       "        [1.61795022],\n",
       "        [1.62999645],\n",
       "        [1.60372142],\n",
       "        [1.57082077],\n",
       "        [1.63841945],\n",
       "        [1.63217636],\n",
       "        [1.56782229],\n",
       "        [1.64580144],\n",
       "        [1.58723609],\n",
       "        [1.65766204],\n",
       "        [1.61904587],\n",
       "        [1.59496393],\n",
       "        [1.63712413],\n",
       "        [1.70278512],\n",
       "        [1.59138934],\n",
       "        [1.67602344],\n",
       "        [1.63374355],\n",
       "        [1.60628105],\n",
       "        [1.6469584 ],\n",
       "        [1.60512802],\n",
       "        [1.59550117],\n",
       "        [1.59677163],\n",
       "        [1.6412398 ],\n",
       "        [1.54087978],\n",
       "        [1.67877694],\n",
       "        [1.62228681],\n",
       "        [1.58103276],\n",
       "        [1.63054551],\n",
       "        [1.64792209],\n",
       "        [1.65173485],\n",
       "        [1.57963899],\n",
       "        [1.5949637 ],\n",
       "        [1.63380709],\n",
       "        [1.61921895],\n",
       "        [1.60244368],\n",
       "        [1.60395023],\n",
       "        [1.67946239]])]"
      ]
     },
     "execution_count": 128,
     "metadata": {},
     "output_type": "execute_result"
    }
   ],
   "source": [
    "catch_coverages"
   ]
  },
  {
   "cell_type": "code",
   "execution_count": 131,
   "id": "647980a7-9ae3-4c5c-b25c-2e37b6a84679",
   "metadata": {},
   "outputs": [],
   "source": [
    "check = pd.DataFrame(catch_coverages[:10])"
   ]
  },
  {
   "cell_type": "code",
   "execution_count": null,
   "id": "e061792a-e589-486e-b8d2-336622f6bf34",
   "metadata": {},
   "outputs": [],
   "source": [
    "# check"
   ]
  },
  {
   "cell_type": "code",
   "execution_count": null,
   "id": "fa101efc-351b-4645-87a3-f008abf1ff3d",
   "metadata": {},
   "outputs": [],
   "source": [
    "# check"
   ]
  },
  {
   "cell_type": "code",
   "execution_count": null,
   "id": "77536655-0afd-4976-980a-fa7a28b55201",
   "metadata": {},
   "outputs": [],
   "source": [
    "# check.columns = [\"train_mae\", \"test_mae\", \"avg_ci_width_train\", \"avg_ci_width_test\", \"avg_lstm_weight\", \"exit_iter\", \"exit_status\"]"
   ]
  },
  {
   "cell_type": "code",
   "execution_count": 133,
   "id": "cd8cefbd-9076-469e-a5dc-dc4637846308",
   "metadata": {},
   "outputs": [],
   "source": [
    "check = check.T"
   ]
  },
  {
   "cell_type": "code",
   "execution_count": 134,
   "id": "8596dfc5",
   "metadata": {},
   "outputs": [
    {
     "data": {
      "text/html": [
       "<div>\n",
       "<style scoped>\n",
       "    .dataframe tbody tr th:only-of-type {\n",
       "        vertical-align: middle;\n",
       "    }\n",
       "\n",
       "    .dataframe tbody tr th {\n",
       "        vertical-align: top;\n",
       "    }\n",
       "\n",
       "    .dataframe thead th {\n",
       "        text-align: right;\n",
       "    }\n",
       "</style>\n",
       "<table border=\"1\" class=\"dataframe\">\n",
       "  <thead>\n",
       "    <tr style=\"text-align: right;\">\n",
       "      <th></th>\n",
       "      <th>0</th>\n",
       "      <th>1</th>\n",
       "      <th>2</th>\n",
       "      <th>3</th>\n",
       "      <th>4</th>\n",
       "      <th>5</th>\n",
       "      <th>6</th>\n",
       "      <th>7</th>\n",
       "      <th>8</th>\n",
       "      <th>9</th>\n",
       "    </tr>\n",
       "  </thead>\n",
       "  <tbody>\n",
       "    <tr>\n",
       "      <th>0</th>\n",
       "      <td>1.516355</td>\n",
       "      <td>1.279863</td>\n",
       "      <td>0.833333</td>\n",
       "      <td>3.869008</td>\n",
       "      <td>0.853333</td>\n",
       "      <td>3.899339</td>\n",
       "      <td>0.479506</td>\n",
       "      <td>0.755063</td>\n",
       "      <td>2.0</td>\n",
       "      <td>14.3</td>\n",
       "    </tr>\n",
       "  </tbody>\n",
       "</table>\n",
       "</div>"
      ],
      "text/plain": [
       "          0         1         2         3         4         5         6  \\\n",
       "0  1.516355  1.279863  0.833333  3.869008  0.853333  3.899339  0.479506   \n",
       "\n",
       "          7    8     9  \n",
       "0  0.755063  2.0  14.3  "
      ]
     },
     "execution_count": 134,
     "metadata": {},
     "output_type": "execute_result"
    }
   ],
   "source": [
    "check"
   ]
  },
  {
   "cell_type": "code",
   "execution_count": null,
   "id": "4fc1dcac-24b2-45e7-ae4c-e55eca90a6c6",
   "metadata": {},
   "outputs": [],
   "source": [
    "# check.columns = [\"train_mae\", \"test_mae\", \"train_coverage\", \"train_width\", \"test_coverage\", \"test_width\", \"exit_iter\", \"time_taken\", \"avg_width_alginate\"]"
   ]
  },
  {
   "cell_type": "code",
   "execution_count": 135,
   "id": "dc699633-60c4-4774-93ef-e90160803672",
   "metadata": {},
   "outputs": [],
   "source": [
    "check.columns = [\"train_mae\", \"test_mae\", \"train_coverage\", \"train_width\", \"test_coverage\", \"test_width\", \"drug_weight\" , \"pearson_correlation\" ,\"exit_iter\", \"time_taken\"]"
   ]
  },
  {
   "cell_type": "code",
   "execution_count": 136,
   "id": "0166a00a",
   "metadata": {},
   "outputs": [
    {
     "data": {
      "text/html": [
       "<div>\n",
       "<style scoped>\n",
       "    .dataframe tbody tr th:only-of-type {\n",
       "        vertical-align: middle;\n",
       "    }\n",
       "\n",
       "    .dataframe tbody tr th {\n",
       "        vertical-align: top;\n",
       "    }\n",
       "\n",
       "    .dataframe thead th {\n",
       "        text-align: right;\n",
       "    }\n",
       "</style>\n",
       "<table border=\"1\" class=\"dataframe\">\n",
       "  <thead>\n",
       "    <tr style=\"text-align: right;\">\n",
       "      <th></th>\n",
       "      <th>train_mae</th>\n",
       "      <th>test_mae</th>\n",
       "      <th>train_coverage</th>\n",
       "      <th>train_width</th>\n",
       "      <th>test_coverage</th>\n",
       "      <th>test_width</th>\n",
       "      <th>drug_weight</th>\n",
       "      <th>pearson_correlation</th>\n",
       "      <th>exit_iter</th>\n",
       "      <th>time_taken</th>\n",
       "    </tr>\n",
       "  </thead>\n",
       "  <tbody>\n",
       "    <tr>\n",
       "      <th>0</th>\n",
       "      <td>1.516355</td>\n",
       "      <td>1.279863</td>\n",
       "      <td>0.833333</td>\n",
       "      <td>3.869008</td>\n",
       "      <td>0.853333</td>\n",
       "      <td>3.899339</td>\n",
       "      <td>0.479506</td>\n",
       "      <td>0.755063</td>\n",
       "      <td>2.0</td>\n",
       "      <td>14.3</td>\n",
       "    </tr>\n",
       "  </tbody>\n",
       "</table>\n",
       "</div>"
      ],
      "text/plain": [
       "   train_mae  test_mae  train_coverage  train_width  test_coverage  \\\n",
       "0   1.516355  1.279863        0.833333     3.869008       0.853333   \n",
       "\n",
       "   test_width  drug_weight  pearson_correlation  exit_iter  time_taken  \n",
       "0    3.899339     0.479506             0.755063        2.0        14.3  "
      ]
     },
     "execution_count": 136,
     "metadata": {},
     "output_type": "execute_result"
    }
   ],
   "source": [
    "check"
   ]
  },
  {
   "cell_type": "code",
   "execution_count": null,
   "id": "103b1436-15fd-4e1f-800f-700817b41ead",
   "metadata": {},
   "outputs": [],
   "source": [
    "check.mean()"
   ]
  },
  {
   "cell_type": "code",
   "execution_count": null,
   "id": "2a69771d-fd51-41a0-a90f-e012604617e1",
   "metadata": {},
   "outputs": [],
   "source": [
    "check.median()"
   ]
  },
  {
   "cell_type": "code",
   "execution_count": null,
   "id": "fcf483cf-1d09-4d5d-8c7c-7db62473a356",
   "metadata": {},
   "outputs": [],
   "source": [
    "check.mean()"
   ]
  },
  {
   "cell_type": "code",
   "execution_count": null,
   "id": "35a4171e-96bc-46c1-82d6-4f8e73f99dad",
   "metadata": {},
   "outputs": [],
   "source": [
    "check_mean = check.mean().reset_index()"
   ]
  },
  {
   "cell_type": "code",
   "execution_count": null,
   "id": "b4303826-48ff-4077-ae66-d048f1ee8a6c",
   "metadata": {},
   "outputs": [],
   "source": [
    "check_mean.to_csv(\"Mean_Metrics_\" +  string +  \".csv\", index = False)"
   ]
  },
  {
   "cell_type": "code",
   "execution_count": null,
   "id": "9b520f45-ad8d-453c-80e7-7a6bb711692f",
   "metadata": {},
   "outputs": [],
   "source": [
    "check.std()"
   ]
  },
  {
   "cell_type": "code",
   "execution_count": null,
   "id": "6fca625b-cf9b-4fac-865e-79dfb96918af",
   "metadata": {},
   "outputs": [],
   "source": [
    "check_std = check.std().reset_index()"
   ]
  },
  {
   "cell_type": "code",
   "execution_count": null,
   "id": "a644ab46-27f8-472c-912e-de07bbd1223e",
   "metadata": {},
   "outputs": [],
   "source": [
    "check_std.to_csv(\"Std_Metrics_\" + string +  \".csv\", index = False)"
   ]
  },
  {
   "cell_type": "code",
   "execution_count": null,
   "id": "e3e43629-3a74-4d41-acaf-dea297a3840c",
   "metadata": {},
   "outputs": [],
   "source": [
    "check.std()/10"
   ]
  },
  {
   "cell_type": "code",
   "execution_count": null,
   "id": "a83c3d12-b2f0-44b8-9904-7b10c4f513bd",
   "metadata": {},
   "outputs": [],
   "source": [
    "# true_preds = []\n",
    "# enkf_preds = []\n",
    "# for i in range(0,reps):\n",
    "#     all_preds = catch_coverages[i][-1]\n",
    "#     all_preds = all_preds.mean(0)\n",
    "#     catch_test_probs = expit(catch1[i][2])\n",
    "#     true_probs = catch_test_probs.ravel().tolist()\n",
    "#     true_preds.append(true_probs)\n",
    "#     enkf_preds.append(all_preds.ravel().tolist())\n",
    "#     # plt.scatter(true_probs, all_preds.ravel().tolist())\n",
    "#     # plt.show()"
   ]
  },
  {
   "cell_type": "code",
   "execution_count": null,
   "id": "4089a2ab-43f9-4e24-a7ed-add7bdc14156",
   "metadata": {},
   "outputs": [],
   "source": [
    "# true_preds = [inner for item in true_preds for inner in item]"
   ]
  },
  {
   "cell_type": "code",
   "execution_count": null,
   "id": "65492b8d-d7e4-4375-8577-d79a633680b7",
   "metadata": {},
   "outputs": [],
   "source": [
    "# enkf_preds = [inner for item in enkf_preds for inner in item]"
   ]
  },
  {
   "cell_type": "code",
   "execution_count": null,
   "id": "19776731-14c7-43c3-bd48-163aa67e2c76",
   "metadata": {},
   "outputs": [],
   "source": [
    "# np.mean(np.abs(np.array(true_preds)-np.array(enkf_preds)))"
   ]
  },
  {
   "cell_type": "code",
   "execution_count": null,
   "id": "1ebada74-6fe8-4f58-a939-87ca7399aef8",
   "metadata": {},
   "outputs": [],
   "source": [
    "# plt.scatter(enkf_preds,true_preds, alpha=0.5)\n",
    "# plt.xlabel(\"EnKF Predictions\", fontsize = 15, fontweight = \"bold\")\n",
    "# plt.ylabel(\"LSTM Predictions\", fontsize = 15, fontweight = \"bold\")\n",
    "# plt.xticks( fontsize = 10, fontweight = \"bold\")\n",
    "# plt.yticks( fontsize = 10, fontweight = \"bold\")\n",
    "# plt.axline((0, 0), slope=1)\n",
    "# plt.show()"
   ]
  },
  {
   "cell_type": "code",
   "execution_count": null,
   "id": "dd706672-8fd1-4f54-88a2-d377f1b2d7d3",
   "metadata": {},
   "outputs": [],
   "source": [
    "# cur_idx = 0"
   ]
  },
  {
   "cell_type": "code",
   "execution_count": null,
   "id": "ead27b05-299e-49dc-bb97-236a18cd05e5",
   "metadata": {},
   "outputs": [],
   "source": [
    "# catch_preds = []\n",
    "# for i in range(0, catch_coverages[cur_idx][-1].shape[1]):\n",
    "#     enkf_preds = catch_coverages[cur_idx][-1][:,i,:]\n",
    "#     enkf_preds_df = pd.DataFrame(enkf_preds)\n",
    "#     enkf_preds_df[\"Test_Sample_ID\"] = i \n",
    "#     enkf_preds_df.columns = [\"EnKF_Preds\", \"Test_Sample_ID\"]\n",
    "#     catch_preds.append(enkf_preds_df)"
   ]
  },
  {
   "cell_type": "code",
   "execution_count": null,
   "id": "76f88a3c-8152-4b54-8eea-761701d7b7cc",
   "metadata": {},
   "outputs": [],
   "source": [
    "# catch_preds_df = pd.concat(catch_preds)"
   ]
  },
  {
   "cell_type": "code",
   "execution_count": null,
   "id": "6614c144-29c3-451d-a6c6-a624aa4096a1",
   "metadata": {},
   "outputs": [],
   "source": [
    "# import seaborn as sns"
   ]
  },
  {
   "cell_type": "code",
   "execution_count": null,
   "id": "45f52dcf-cc5b-4af0-b495-9c0601729154",
   "metadata": {},
   "outputs": [],
   "source": [
    "# filtered_df = expit(catch1[cur_idx][2])"
   ]
  },
  {
   "cell_type": "code",
   "execution_count": null,
   "id": "51405252-c830-4c95-90d8-e42cffcae59b",
   "metadata": {},
   "outputs": [],
   "source": [
    "# # plt.figure(figsize = (10,10))\n",
    "# fig = sns.boxplot(catch_preds_df, x=\"Test_Sample_ID\", y=\"EnKF_Preds\", showfliers=False)\n",
    "# plt.scatter(range(0, filtered_df.shape[0]), filtered_df, c = \"black\", s = 50)\n",
    "# plt.xlabel(\"Test Sample ID\", fontsize = 15, fontweight = \"bold\")\n",
    "# plt.ylabel(\"EnKF Predictions\", fontsize = 15, fontweight = \"bold\")\n",
    "# plt.xticks(fontsize = 10, fontweight = \"bold\")\n",
    "# plt.yticks(fontsize = 10, fontweight = \"bold\")\n",
    "# plt.show()"
   ]
  },
  {
   "cell_type": "code",
   "execution_count": null,
   "id": "ab4ef63f-a716-4006-8923-39df160647d8",
   "metadata": {},
   "outputs": [],
   "source": [
    "# ids = [i for i in range(0, filtered_df.shape[0]) if filtered_df[i] < 0.5]\n",
    "# ids_more = [i for i in range(0, filtered_df.shape[0]) if filtered_df[i] > 0.5]"
   ]
  },
  {
   "cell_type": "code",
   "execution_count": null,
   "id": "0976b8bc-6faa-4c8e-a9d1-3b666d9435e0",
   "metadata": {},
   "outputs": [],
   "source": [
    "# catch_preds_df.groupby(\"Test_Sample_ID\").quantile(q = [0.025, 0.975])"
   ]
  },
  {
   "cell_type": "code",
   "execution_count": null,
   "id": "64886e1a-d858-4ea8-9cc4-51ab0b072286",
   "metadata": {},
   "outputs": [],
   "source": [
    "# catch_preds_df_filtered = catch_preds_df[catch_preds_df[\"Test_Sample_ID\"].isin(ids_more)]"
   ]
  },
  {
   "cell_type": "code",
   "execution_count": null,
   "id": "6ecec8de-d825-4191-9f35-705382466d97",
   "metadata": {},
   "outputs": [],
   "source": [
    "# filtered_true = filtered_df[ids_more,:]"
   ]
  },
  {
   "cell_type": "code",
   "execution_count": null,
   "id": "860a9f6b-a286-4855-8530-2c2d71d08737",
   "metadata": {},
   "outputs": [],
   "source": [
    "# # plt.figure(figsize = (10,10))\n",
    "# fig = sns.boxplot(catch_preds_df_filtered, x=\"Test_Sample_ID\", y=\"EnKF_Preds\", showfliers=False)\n",
    "# plt.scatter(range(0, filtered_true.shape[0]), filtered_true, c = \"black\", s = 50)\n",
    "# plt.xlabel(\"Test Sample ID\", fontsize = 15, fontweight = \"bold\")\n",
    "# plt.ylabel(\"EnKF Predictions\", fontsize = 15, fontweight = \"bold\")\n",
    "# plt.xticks(fontsize = 10, fontweight = \"bold\")\n",
    "# plt.yticks(fontsize = 10, fontweight = \"bold\")\n",
    "# plt.show()"
   ]
  },
  {
   "cell_type": "code",
   "execution_count": null,
   "id": "ec177a9b-74aa-4458-a88e-a8b1ab1deff6",
   "metadata": {},
   "outputs": [],
   "source": [
    "# catch_preds_df_filtered = catch_preds_df[catch_preds_df[\"Test_Sample_ID\"].isin(ids)]\n",
    "# filtered_true = filtered_df[ids,:]\n",
    "# # plt.figure(figsize = (10,10))\n",
    "# fig = sns.boxplot(catch_preds_df_filtered, x=\"Test_Sample_ID\", y=\"EnKF_Preds\", showfliers=False)\n",
    "# plt.scatter(range(0, filtered_true.shape[0]), filtered_true, c = \"black\")\n",
    "# plt.xlabel(\"Test Sample ID\", fontsize = 15, fontweight = \"bold\")\n",
    "# plt.ylabel(\"EnKF Predictions\", fontsize = 15, fontweight = \"bold\")\n",
    "# plt.xticks(fontsize = 10, fontweight = \"bold\")\n",
    "# plt.yticks(fontsize = 10, fontweight = \"bold\")\n",
    "# plt.show()\n",
    "# # plt.ylim((0.9,1.0))"
   ]
  }
 ],
 "metadata": {
  "kernelspec": {
   "display_name": "enkf",
   "language": "python",
   "name": "enkf"
  },
  "language_info": {
   "codemirror_mode": {
    "name": "ipython",
    "version": 3
   },
   "file_extension": ".py",
   "mimetype": "text/x-python",
   "name": "python",
   "nbconvert_exporter": "python",
   "pygments_lexer": "ipython3",
   "version": "3.11.3"
  }
 },
 "nbformat": 4,
 "nbformat_minor": 5
}
