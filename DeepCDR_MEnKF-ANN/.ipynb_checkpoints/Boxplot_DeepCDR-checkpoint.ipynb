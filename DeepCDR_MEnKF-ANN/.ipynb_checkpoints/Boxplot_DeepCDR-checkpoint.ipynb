{
 "cells": [
  {
   "cell_type": "code",
   "execution_count": 45,
   "id": "4d982bc9-3334-4b21-bd67-162a820e7f9f",
   "metadata": {},
   "outputs": [],
   "source": [
    "import pickle"
   ]
  },
  {
   "cell_type": "code",
   "execution_count": 46,
   "id": "5c7eff21-ccad-414c-b1dc-78c1399e3c6a",
   "metadata": {},
   "outputs": [],
   "source": [
    "import os"
   ]
  },
  {
   "cell_type": "code",
   "execution_count": 47,
   "id": "58fa68c6-b4a1-4a37-bded-680583ae04db",
   "metadata": {},
   "outputs": [],
   "source": [
    "og_path = os.getcwd()"
   ]
  },
  {
   "cell_type": "code",
   "execution_count": 48,
   "id": "85e7c1d3-1876-481e-9b32-7976e680b81b",
   "metadata": {},
   "outputs": [
    {
     "data": {
      "text/plain": [
       "'/lustre/work/statgrads/vpiyush2/DeepCDR_MEnKF-ANN'"
      ]
     },
     "execution_count": 48,
     "metadata": {},
     "output_type": "execute_result"
    }
   ],
   "source": [
    "og_path"
   ]
  },
  {
   "cell_type": "code",
   "execution_count": 4,
   "id": "651a7c08-a762-4c9f-9071-2a52de291310",
   "metadata": {},
   "outputs": [],
   "source": [
    "# DeepCDR_MEnKF-ANN/DeepCDR_MEnKF-ANN_all_drugs_all_omics"
   ]
  },
  {
   "cell_type": "code",
   "execution_count": 49,
   "id": "b8e5a61d-0956-4193-b600-777db1b4752f",
   "metadata": {},
   "outputs": [],
   "source": [
    "path_hit = os.path.join(og_path, 'DeepCDR_MEnKF-ANN_all_drugs_all_omics')"
   ]
  },
  {
   "cell_type": "code",
   "execution_count": 50,
   "id": "2e70a9a7-ac95-41a6-8dff-c72a379cd9ae",
   "metadata": {},
   "outputs": [
    {
     "data": {
      "text/plain": [
       "'/lustre/work/statgrads/vpiyush2/DeepCDR_MEnKF-ANN/DeepCDR_MEnKF-ANN_all_drugs_all_omics'"
      ]
     },
     "execution_count": 50,
     "metadata": {},
     "output_type": "execute_result"
    }
   ],
   "source": [
    "path_hit"
   ]
  },
  {
   "cell_type": "code",
   "execution_count": 8,
   "id": "368acb39-c41d-41cf-bdaf-75ac683bef63",
   "metadata": {},
   "outputs": [],
   "source": [
    "# os.chdir(path_hit)"
   ]
  },
  {
   "cell_type": "code",
   "execution_count": 57,
   "id": "3679b9b0-8237-4407-9d1e-b1f68fa8a8e0",
   "metadata": {},
   "outputs": [],
   "source": [
    "# path_hit + \"//\" + 'Real_World_EnKF_DeepCDR_Neurons_16_Gamma_500_var_weights_1_num_ens_801.pkl'"
   ]
  },
  {
   "cell_type": "code",
   "execution_count": 58,
   "id": "1cdfc270-ff91-4d72-ba18-d4f389e513c4",
   "metadata": {},
   "outputs": [],
   "source": [
    "with open(path_hit + \"//\" + 'Real_World_EnKF_DeepCDR_Neurons_16_Gamma_500_var_weights_0.5_num_ens_801.pkl', 'rb') as f:\n",
    "    deepcdr= pickle.load(f)  "
   ]
  },
  {
   "cell_type": "code",
   "execution_count": 59,
   "id": "e56cfd5a-cc86-4a46-a06f-f9d1b1e13bb9",
   "metadata": {},
   "outputs": [],
   "source": [
    "import matplotlib.pyplot as plt"
   ]
  },
  {
   "cell_type": "code",
   "execution_count": 63,
   "id": "9d9fad9d-acdd-4af4-93cc-b5cbd8771f40",
   "metadata": {},
   "outputs": [],
   "source": [
    "cur_idx = 1"
   ]
  },
  {
   "cell_type": "code",
   "execution_count": 64,
   "id": "b746a583-2287-440d-9291-b06d3e7c5de8",
   "metadata": {},
   "outputs": [],
   "source": [
    "import numpy as np"
   ]
  },
  {
   "cell_type": "code",
   "execution_count": 66,
   "id": "682e58dd-724a-466c-aeca-b092a74e70db",
   "metadata": {},
   "outputs": [],
   "source": [
    "# deepcdr[cur_idx-1]"
   ]
  },
  {
   "cell_type": "code",
   "execution_count": 67,
   "id": "4bbc7cbe-426a-4b9e-aab7-f4fb0e726b0e",
   "metadata": {},
   "outputs": [],
   "source": [
    "# deepcdr[cur_idx-1]"
   ]
  },
  {
   "cell_type": "code",
   "execution_count": 68,
   "id": "6f56de8e-4f48-4aa2-8541-1a05fe2c1a07",
   "metadata": {},
   "outputs": [],
   "source": [
    "# path = r\"/lustre/work/statgrads/vpiyush2/enkf_simulations/Old_Strategy_EnKF_LSTM_Doc2Vec_Simulations/DeepCDR/dataset_\" + str(cur_idx) + \"/\"\n",
    "\n",
    "## read in all the labels \n",
    "## for train test and valid\n",
    "# y_train = np.load(path + \"//\" + \"train_y.npy\")\n",
    "# y_valid = np.load(path + \"//\" + \"valid_y.npy\")\n",
    "y_test = np.load('DeepCDR_MEnKF-ANN_all_drugs_all_omics/dataset_' + str(cur_idx) + \"//\" + \"test_y.npy\")\n",
    "    "
   ]
  },
  {
   "cell_type": "code",
   "execution_count": 108,
   "id": "b2f15add-144c-4c82-9636-ad402564852f",
   "metadata": {},
   "outputs": [],
   "source": [
    "# y_test"
   ]
  },
  {
   "cell_type": "code",
   "execution_count": 86,
   "id": "b1f77bfa-7690-41a7-a056-d15a5cbdd724",
   "metadata": {},
   "outputs": [],
   "source": [
    "from sklearn.metrics import mean_squared_error"
   ]
  },
  {
   "cell_type": "code",
   "execution_count": 95,
   "id": "f310661a-c5ef-42bf-a113-e26e5be6946b",
   "metadata": {},
   "outputs": [],
   "source": [
    "import seaborn as sns\n",
    "import random"
   ]
  },
  {
   "cell_type": "code",
   "execution_count": 96,
   "id": "58066953-bf6e-41e6-98f5-d8696daa6881",
   "metadata": {},
   "outputs": [],
   "source": [
    "idx = np.sort(random.sample(range(0, y_test.shape[0]), k = 7))"
   ]
  },
  {
   "cell_type": "code",
   "execution_count": 97,
   "id": "efda8477-9de9-4f50-9ccf-da081851e54f",
   "metadata": {},
   "outputs": [
    {
     "data": {
      "text/plain": [
       "array([18, 24, 48, 50, 70, 94, 97])"
      ]
     },
     "execution_count": 97,
     "metadata": {},
     "output_type": "execute_result"
    }
   ],
   "source": [
    "idx"
   ]
  },
  {
   "cell_type": "code",
   "execution_count": 98,
   "id": "e8511d0b-6829-40c6-890b-5b40f364ba8e",
   "metadata": {},
   "outputs": [],
   "source": [
    "to_compare = y_test.reshape(-1,1)[idx,:]"
   ]
  },
  {
   "cell_type": "code",
   "execution_count": 99,
   "id": "8d671133-7a4f-407a-8c5f-b37e4b9df0ee",
   "metadata": {},
   "outputs": [],
   "source": [
    "import pandas as pd"
   ]
  },
  {
   "cell_type": "code",
   "execution_count": 100,
   "id": "66b4518f-3ebf-443d-8496-be13d2828820",
   "metadata": {},
   "outputs": [],
   "source": [
    "catch = []\n",
    "for i in idx: \n",
    "    preds = deepcdr[cur_idx-1][-1][:,i,:]\n",
    "    preds_df = pd.DataFrame(preds)\n",
    "    preds_df.columns = [\"EnKF_Preds\"]\n",
    "    preds_df[\"idx\"] = i\n",
    "    catch.append(preds_df)"
   ]
  },
  {
   "cell_type": "code",
   "execution_count": 101,
   "id": "d5a88d08-713d-4fc6-9d13-eb5052f7f2e6",
   "metadata": {},
   "outputs": [],
   "source": [
    "all_df = pd.concat(catch)"
   ]
  },
  {
   "cell_type": "code",
   "execution_count": 102,
   "id": "d0c1eb3d-2d7b-4f55-b83c-8eece7c3b95a",
   "metadata": {},
   "outputs": [
    {
     "data": {
      "image/png": "[encoded data removed]",
      "text/plain": [
       "<Figure size 640x480 with 1 Axes>"
      ]
     },
     "metadata": {},
     "output_type": "display_data"
    }
   ],
   "source": [
    "sns.boxplot(data=all_df, x=\"idx\", y=\"EnKF_Preds\", showfliers = False)\n",
    "plt.scatter(range(0, len(idx)), to_compare, s = 50, c = \"black\")\n",
    "plt.xlabel(\"Sample ID\", fontweight = \"bold\", fontsize = 15)\n",
    "plt.ylabel(\"MEnKF-ANN Predictions\", fontweight = \"bold\", fontsize = 15)\n",
    "plt.xticks(fontweight = \"bold\", fontsize = 10)\n",
    "plt.yticks(fontweight = \"bold\", fontsize = 10)\n",
    "plt.show()"
   ]
  }
 ],
 "metadata": {
  "kernelspec": {
   "display_name": "enkf",
   "language": "python",
   "name": "enkf"
  },
  "language_info": {
   "codemirror_mode": {
    "name": "ipython",
    "version": 3
   },
   "file_extension": ".py",
   "mimetype": "text/x-python",
   "name": "python",
   "nbconvert_exporter": "python",
   "pygments_lexer": "ipython3",
   "version": "3.10.8"
  }
 },
 "nbformat": 4,
 "nbformat_minor": 5
}
