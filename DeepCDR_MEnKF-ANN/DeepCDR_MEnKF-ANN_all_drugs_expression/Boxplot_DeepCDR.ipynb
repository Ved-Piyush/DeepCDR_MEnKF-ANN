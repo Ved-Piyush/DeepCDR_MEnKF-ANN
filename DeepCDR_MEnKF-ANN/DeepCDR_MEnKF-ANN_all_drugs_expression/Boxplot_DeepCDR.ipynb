{
 "cells": [
  {
   "cell_type": "code",
   "execution_count": 1,
   "id": "4d982bc9-3334-4b21-bd67-162a820e7f9f",
   "metadata": {},
   "outputs": [],
   "source": [
    "import pickle"
   ]
  },
  {
   "cell_type": "code",
   "execution_count": 2,
   "id": "5c7eff21-ccad-414c-b1dc-78c1399e3c6a",
   "metadata": {},
   "outputs": [],
   "source": [
    "import os"
   ]
  },
  {
   "cell_type": "code",
   "execution_count": 3,
   "id": "58fa68c6-b4a1-4a37-bded-680583ae04db",
   "metadata": {},
   "outputs": [
    {
     "data": {
      "text/plain": [
       "'/lustre/work/statgrads/vpiyush2/DeepCDR_MEnKF-ANN'"
      ]
     },
     "execution_count": 3,
     "metadata": {},
     "output_type": "execute_result"
    }
   ],
   "source": [
    "os.getcwd()"
   ]
  },
  {
   "cell_type": "code",
   "execution_count": 112,
   "id": "1cdfc270-ff91-4d72-ba18-d4f389e513c4",
   "metadata": {},
   "outputs": [],
   "source": [
    "with open('Real_World_EnKF_DeepCDR_Neurons_16_Gamma_500_var_weights_1_num_ens_801.pkl', 'rb') as f:\n",
    "    deepcdr= pickle.load(f)  "
   ]
  },
  {
   "cell_type": "code",
   "execution_count": 173,
   "id": "e56cfd5a-cc86-4a46-a06f-f9d1b1e13bb9",
   "metadata": {},
   "outputs": [],
   "source": [
    "import matplotlib.pyplot as plt"
   ]
  },
  {
   "cell_type": "code",
   "execution_count": 174,
   "id": "9d9fad9d-acdd-4af4-93cc-b5cbd8771f40",
   "metadata": {},
   "outputs": [],
   "source": [
    "cur_idx = 9"
   ]
  },
  {
   "cell_type": "code",
   "execution_count": 175,
   "id": "b746a583-2287-440d-9291-b06d3e7c5de8",
   "metadata": {},
   "outputs": [],
   "source": [
    "import numpy as np"
   ]
  },
  {
   "cell_type": "code",
   "execution_count": 176,
   "id": "4bbc7cbe-426a-4b9e-aab7-f4fb0e726b0e",
   "metadata": {},
   "outputs": [],
   "source": [
    "# deepcdr[cur_idx-1]"
   ]
  },
  {
   "cell_type": "code",
   "execution_count": 177,
   "id": "6f56de8e-4f48-4aa2-8541-1a05fe2c1a07",
   "metadata": {},
   "outputs": [],
   "source": [
    "path = os.getcwd() + \"//dataset_\" + str(cur_idx) + \"/\"\n",
    "\n",
    "## read in all the labels \n",
    "## for train test and valid\n",
    "# y_train = np.load(path + \"//\" + \"train_y.npy\")\n",
    "# y_valid = np.load(path + \"//\" + \"valid_y.npy\")\n",
    "y_test = np.load(path + \"//\" + \"test_y.npy\")\n",
    "    "
   ]
  },
  {
   "cell_type": "code",
   "execution_count": 178,
   "id": "b2f15add-144c-4c82-9636-ad402564852f",
   "metadata": {},
   "outputs": [],
   "source": [
    "# y_test"
   ]
  },
  {
   "cell_type": "code",
   "execution_count": 179,
   "id": "b1f77bfa-7690-41a7-a056-d15a5cbdd724",
   "metadata": {},
   "outputs": [],
   "source": [
    "from sklearn.metrics import mean_squared_error"
   ]
  },
  {
   "cell_type": "code",
   "execution_count": 180,
   "id": "f310661a-c5ef-42bf-a113-e26e5be6946b",
   "metadata": {},
   "outputs": [],
   "source": [
    "import seaborn as sns\n",
    "import random"
   ]
  },
  {
   "cell_type": "code",
   "execution_count": 181,
   "id": "58066953-bf6e-41e6-98f5-d8696daa6881",
   "metadata": {},
   "outputs": [],
   "source": [
    "idx = np.sort(random.sample(range(0, y_test.shape[0]), k = 7))"
   ]
  },
  {
   "cell_type": "code",
   "execution_count": 182,
   "id": "efda8477-9de9-4f50-9ccf-da081851e54f",
   "metadata": {},
   "outputs": [
    {
     "data": {
      "text/plain": [
       "array([ 8, 28, 62, 64, 69, 91, 92])"
      ]
     },
     "execution_count": 182,
     "metadata": {},
     "output_type": "execute_result"
    }
   ],
   "source": [
    "idx"
   ]
  },
  {
   "cell_type": "code",
   "execution_count": 183,
   "id": "e8511d0b-6829-40c6-890b-5b40f364ba8e",
   "metadata": {},
   "outputs": [],
   "source": [
    "to_compare = y_test.reshape(-1,1)[idx,:]"
   ]
  },
  {
   "cell_type": "code",
   "execution_count": 184,
   "id": "8d671133-7a4f-407a-8c5f-b37e4b9df0ee",
   "metadata": {},
   "outputs": [],
   "source": [
    "import pandas as pd"
   ]
  },
  {
   "cell_type": "code",
   "execution_count": 185,
   "id": "66b4518f-3ebf-443d-8496-be13d2828820",
   "metadata": {},
   "outputs": [],
   "source": [
    "catch = []\n",
    "for i in idx: \n",
    "    preds = deepcdr[cur_idx-1][-1][:,i,:]\n",
    "    preds_df = pd.DataFrame(preds)\n",
    "    preds_df.columns = [\"EnKF_Preds\"]\n",
    "    preds_df[\"idx\"] = i\n",
    "    catch.append(preds_df)"
   ]
  },
  {
   "cell_type": "code",
   "execution_count": 186,
   "id": "d5a88d08-713d-4fc6-9d13-eb5052f7f2e6",
   "metadata": {},
   "outputs": [],
   "source": [
    "all_df = pd.concat(catch)"
   ]
  },
  {
   "cell_type": "code",
   "execution_count": 187,
   "id": "d0c1eb3d-2d7b-4f55-b83c-8eece7c3b95a",
   "metadata": {},
   "outputs": [
    {
     "data": {
      "image/png": "[encoded data removed]",
      "text/plain": [
       "<Figure size 640x480 with 1 Axes>"
      ]
     },
     "metadata": {},
     "output_type": "display_data"
    }
   ],
   "source": [
    "sns.boxplot(data=all_df, x=\"idx\", y=\"EnKF_Preds\", showfliers = False)\n",
    "plt.scatter(range(0, len(idx)), to_compare, s = 50, c = \"black\")\n",
    "plt.xlabel(\"Sample ID\", fontweight = \"bold\", fontsize = 15)\n",
    "plt.ylabel(\"MEnKF-ANN Predictions\", fontweight = \"bold\", fontsize = 15)\n",
    "plt.xticks(fontweight = \"bold\", fontsize = 10)\n",
    "plt.yticks(fontweight = \"bold\", fontsize = 10)\n",
    "plt.show()"
   ]
  }
 ],
 "metadata": {
  "kernelspec": {
   "display_name": "enkf",
   "language": "python",
   "name": "enkf"
  },
  "language_info": {
   "codemirror_mode": {
    "name": "ipython",
    "version": 3
   },
   "file_extension": ".py",
   "mimetype": "text/x-python",
   "name": "python",
   "nbconvert_exporter": "python",
   "pygments_lexer": "ipython3",
   "version": "3.10.8"
  }
 },
 "nbformat": 4,
 "nbformat_minor": 5
}
