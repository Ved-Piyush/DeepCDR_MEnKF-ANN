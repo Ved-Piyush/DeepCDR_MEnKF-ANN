{
 "cells": [
  {
   "cell_type": "code",
   "execution_count": 10,
   "id": "e3204b98-f31b-4fd5-bdff-7326c20f0fee",
   "metadata": {},
   "outputs": [],
   "source": [
    "import pandas as pd"
   ]
  },
  {
   "cell_type": "code",
   "execution_count": 11,
   "id": "689282d1-2508-4d18-a8fc-49faeeaace03",
   "metadata": {},
   "outputs": [],
   "source": [
    "import os"
   ]
  },
  {
   "cell_type": "code",
   "execution_count": 12,
   "id": "9562b468-340b-454b-853a-849da5e15703",
   "metadata": {},
   "outputs": [],
   "source": [
    "files = [file for file in os.listdir() if \"Mean\" in file]"
   ]
  },
  {
   "cell_type": "code",
   "execution_count": 13,
   "id": "e556f312-4e14-4294-bd71-a29e97933d9f",
   "metadata": {},
   "outputs": [],
   "source": [
    "# 5, 7, 10, 13"
   ]
  },
  {
   "cell_type": "code",
   "execution_count": 14,
   "id": "d5b0680d-d8bc-49c2-b28d-1c19abbdfaeb",
   "metadata": {},
   "outputs": [],
   "source": [
    "# file.split(\".csv\")[0].split(\"_\")"
   ]
  },
  {
   "cell_type": "code",
   "execution_count": 15,
   "id": "9e4369af-ce2a-4cdf-91dc-aac347bc3ddc",
   "metadata": {},
   "outputs": [
    {
     "data": {
      "text/plain": [
       "['Mean_Metrics_Real_World_EnKF_DeepCDR_Neurons_16_Gamma_500_var_weights_0.5_num_ens_801.csv',\n",
       " 'Mean_Metrics_Real_World_EnKF_DeepCDR_Neurons_16_Gamma_500_var_weights_1_num_ens_534.csv',\n",
       " 'Mean_Metrics_Real_World_EnKF_DeepCDR_Neurons_16_Gamma_500_var_weights_1_num_ens_801.csv',\n",
       " 'Mean_Metrics_Real_World_EnKF_DeepCDR_Neurons_16_Gamma_500_var_weights_0.5_num_ens_534.csv']"
      ]
     },
     "execution_count": 15,
     "metadata": {},
     "output_type": "execute_result"
    }
   ],
   "source": [
    "files"
   ]
  },
  {
   "cell_type": "code",
   "execution_count": 16,
   "id": "95be2e5a-cb7a-4eac-8ea5-0e0e779c0ba9",
   "metadata": {},
   "outputs": [],
   "source": [
    "catch = []\n",
    "\n",
    "for file in files:\n",
    "    split = file.split(\".csv\")[0].split(\"_\")\n",
    "    neurons, gamma, var_weights, num_ens = split[7], split[9], split[12], split[15]\n",
    "    file_df = pd.read_csv( file)\n",
    "    file_df = file_df.T\n",
    "    names = file_df.iloc[0,:]\n",
    "    file_df.columns = names\n",
    "    file_df[\"neurons\"] = neurons\n",
    "    file_df[\"gamma\"] = gamma\n",
    "    file_df[\"var_weights\"] = var_weights\n",
    "    file_df[\"num_ens\"] = num_ens\n",
    "    names = file_df.columns\n",
    "    # vals = file_df.iloc[1,:]\n",
    "    file_df = file_df.iloc[1,:].reset_index()\n",
    "    file_df = file_df.iloc[:,1]\n",
    "    file_df = file_df.T\n",
    "    file_df = pd.DataFrame(file_df)\n",
    "    file_df = file_df.T\n",
    "    file_df.columns = names\n",
    "    catch.append(file_df)\n",
    "    # file_df = file_df.drop([\"index\"],1)"
   ]
  },
  {
   "cell_type": "code",
   "execution_count": 17,
   "id": "c5fa0209-744c-46f2-921b-123dd853fe10",
   "metadata": {},
   "outputs": [
    {
     "data": {
      "text/html": [
       "<div>\n",
       "<style scoped>\n",
       "    .dataframe tbody tr th:only-of-type {\n",
       "        vertical-align: middle;\n",
       "    }\n",
       "\n",
       "    .dataframe tbody tr th {\n",
       "        vertical-align: top;\n",
       "    }\n",
       "\n",
       "    .dataframe thead th {\n",
       "        text-align: right;\n",
       "    }\n",
       "</style>\n",
       "<table border=\"1\" class=\"dataframe\">\n",
       "  <thead>\n",
       "    <tr style=\"text-align: right;\">\n",
       "      <th>index</th>\n",
       "      <th>train_mae</th>\n",
       "      <th>test_mae</th>\n",
       "      <th>train_coverage</th>\n",
       "      <th>train_width</th>\n",
       "      <th>test_coverage</th>\n",
       "      <th>test_width</th>\n",
       "      <th>drug_weight</th>\n",
       "      <th>exit_iter</th>\n",
       "      <th>time_taken</th>\n",
       "      <th>neurons</th>\n",
       "      <th>gamma</th>\n",
       "      <th>var_weights</th>\n",
       "      <th>num_ens</th>\n",
       "      <th>drugs_weight</th>\n",
       "    </tr>\n",
       "  </thead>\n",
       "  <tbody>\n",
       "    <tr>\n",
       "      <th>0</th>\n",
       "      <td>2.243547</td>\n",
       "      <td>2.301868</td>\n",
       "      <td>0.832</td>\n",
       "      <td>6.725234</td>\n",
       "      <td>0.75</td>\n",
       "      <td>7.691591</td>\n",
       "      <td>NaN</td>\n",
       "      <td>2.7</td>\n",
       "      <td>3.843333</td>\n",
       "      <td>16</td>\n",
       "      <td>500</td>\n",
       "      <td>0.5</td>\n",
       "      <td>534</td>\n",
       "      <td>0.48887</td>\n",
       "    </tr>\n",
       "    <tr>\n",
       "      <th>0</th>\n",
       "      <td>2.3251</td>\n",
       "      <td>2.368972</td>\n",
       "      <td>0.845</td>\n",
       "      <td>7.25231</td>\n",
       "      <td>0.772</td>\n",
       "      <td>8.293608</td>\n",
       "      <td>0.496801</td>\n",
       "      <td>3.6</td>\n",
       "      <td>7.403333</td>\n",
       "      <td>16</td>\n",
       "      <td>500</td>\n",
       "      <td>0.5</td>\n",
       "      <td>801</td>\n",
       "      <td>NaN</td>\n",
       "    </tr>\n",
       "    <tr>\n",
       "      <th>0</th>\n",
       "      <td>2.292575</td>\n",
       "      <td>2.46265</td>\n",
       "      <td>0.845</td>\n",
       "      <td>8.545556</td>\n",
       "      <td>0.764</td>\n",
       "      <td>11.667118</td>\n",
       "      <td>NaN</td>\n",
       "      <td>7.7</td>\n",
       "      <td>7.735</td>\n",
       "      <td>16</td>\n",
       "      <td>500</td>\n",
       "      <td>1</td>\n",
       "      <td>534</td>\n",
       "      <td>0.506711</td>\n",
       "    </tr>\n",
       "    <tr>\n",
       "      <th>0</th>\n",
       "      <td>2.243253</td>\n",
       "      <td>2.380965</td>\n",
       "      <td>0.88</td>\n",
       "      <td>9.684544</td>\n",
       "      <td>0.78</td>\n",
       "      <td>11.958888</td>\n",
       "      <td>0.497548</td>\n",
       "      <td>11.0</td>\n",
       "      <td>13.811667</td>\n",
       "      <td>16</td>\n",
       "      <td>500</td>\n",
       "      <td>1</td>\n",
       "      <td>801</td>\n",
       "      <td>NaN</td>\n",
       "    </tr>\n",
       "  </tbody>\n",
       "</table>\n",
       "</div>"
      ],
      "text/plain": [
       "index train_mae  test_mae train_coverage train_width test_coverage test_width  \\\n",
       "0      2.243547  2.301868          0.832    6.725234          0.75   7.691591   \n",
       "0        2.3251  2.368972          0.845     7.25231         0.772   8.293608   \n",
       "0      2.292575   2.46265          0.845    8.545556         0.764  11.667118   \n",
       "0      2.243253  2.380965           0.88    9.684544          0.78  11.958888   \n",
       "\n",
       "index drug_weight exit_iter time_taken neurons gamma var_weights num_ens  \\\n",
       "0             NaN       2.7   3.843333      16   500         0.5     534   \n",
       "0        0.496801       3.6   7.403333      16   500         0.5     801   \n",
       "0             NaN       7.7      7.735      16   500           1     534   \n",
       "0        0.497548      11.0  13.811667      16   500           1     801   \n",
       "\n",
       "index drugs_weight  \n",
       "0          0.48887  \n",
       "0              NaN  \n",
       "0         0.506711  \n",
       "0              NaN  "
      ]
     },
     "execution_count": 17,
     "metadata": {},
     "output_type": "execute_result"
    }
   ],
   "source": [
    "pd.concat(catch).sort_values([\"test_width\"])"
   ]
  },
  {
   "cell_type": "code",
   "execution_count": 18,
   "id": "1cdc4e5d-1917-4922-ab1e-844d8b92cc46",
   "metadata": {},
   "outputs": [],
   "source": [
    "# pd.DataFrame(vals).reset_index()"
   ]
  }
 ],
 "metadata": {
  "kernelspec": {
   "display_name": "enkf",
   "language": "python",
   "name": "enkf"
  },
  "language_info": {
   "codemirror_mode": {
    "name": "ipython",
    "version": 3
   },
   "file_extension": ".py",
   "mimetype": "text/x-python",
   "name": "python",
   "nbconvert_exporter": "python",
   "pygments_lexer": "ipython3",
   "version": "3.10.8"
  }
 },
 "nbformat": 4,
 "nbformat_minor": 5
}
